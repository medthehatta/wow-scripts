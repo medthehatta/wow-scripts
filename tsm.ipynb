{
 "cells": [
  {
   "cell_type": "code",
   "execution_count": 1,
   "id": "1d210c4d-bf48-4ec4-8c35-7ac9f0628b71",
   "metadata": {},
   "outputs": [],
   "source": [
    "from importlib import reload\n",
    "def reload_all():\n",
    "    import tsm; reload(tsm)\n",
    "    import _keys; reload(_keys)\n",
    "    import blizzard; reload(blizzard)\n",
    "    import config; reload(config)\n",
    "    import kvstore; reload(kvstore)\n",
    "    import snapshot; reload(snapshot)\n",
    "    import elemental_arbitrage; reload(elemental_arbitrage)\n",
    "    import bliz_tsm_join; reload(bliz_tsm_join)\n",
    "    import crafting; reload(crafting)\n",
    "    import kvstore; reload(kvstore)\n",
    "    import crafting; reload(crafting)\n",
    "    import procurement; reload(procurement)\n",
    "reload_all()\n",
    "from itables import show"
   ]
  },
  {
   "cell_type": "code",
   "execution_count": 2,
   "id": "51f1c1c4-c910-4c41-80f0-35987a1e4f01",
   "metadata": {},
   "outputs": [],
   "source": [
    "from snapshot import SnapshotProcessor\n",
    "from tsm import auction_house_snapshot\n",
    "from config import tsm_region_id\n",
    "from config import tsm_realm_id\n",
    "from config import tsm_ah_id\n",
    "from config import tsm_cache_dir\n",
    "\n",
    "def tsm_ah_snapper():\n",
    "    return auction_house_snapshot(tsm_region_id, tsm_realm_id, tsm_ah_id)\n",
    "\n",
    "tsm_ah_snap = SnapshotProcessor(tsm_ah_snapper, cache_dir=tsm_cache_dir)\n",
    "tsm_ah = tsm_ah_snap.get(max_age_seconds=3000)"
   ]
  },
  {
   "cell_type": "code",
   "execution_count": 3,
   "id": "3a780b13-30a3-4f1e-8e33-9a03b0165f2c",
   "metadata": {},
   "outputs": [],
   "source": [
    "from snapshot import SnapshotProcessor\n",
    "from blizzard import auction_data\n",
    "from blizzard import auction_summary\n",
    "from config import blizzard_realm_id\n",
    "from config import blizzard_ah_id\n",
    "from config import blizzard_cache_dir\n",
    "\n",
    "def bliz_ah_snapper():\n",
    "    return auction_data(blizzard_realm_id, blizzard_ah_id)\n",
    "\n",
    "bliz_ah_snap = SnapshotProcessor(bliz_ah_snapper, cache_dir=blizzard_cache_dir)\n",
    "bliz_ah = bliz_ah_snap.get(max_age_seconds=3000)"
   ]
  },
  {
   "cell_type": "code",
   "execution_count": 4,
   "id": "b5d2b47b-0b5f-4a80-9a7e-438f254c7c6f",
   "metadata": {},
   "outputs": [],
   "source": [
    "from kvstore import InefficientKVStore\n",
    "from blizzard import ItemLookup\n",
    "from blizzard import collapse_languages\n",
    "from config import blizzard_item_cache\n",
    "from config import blizzard_item_reverse_cache\n",
    "\n",
    "items = ItemLookup(\n",
    "    InefficientKVStore(blizzard_item_cache),\n",
    "    InefficientKVStore(blizzard_item_reverse_cache),\n",
    ")"
   ]
  },
  {
   "cell_type": "code",
   "execution_count": 5,
   "id": "0ac0b9a9-1a5d-4784-a2b0-42cdf5787ab7",
   "metadata": {},
   "outputs": [],
   "source": [
    "from bliz_tsm_join import item_info_getter\n",
    "item_info = item_info_getter(items, bliz_ah_snap, tsm_ah_snap, max_age_seconds=3000)\n",
    "item_info_current = item_info_getter(items, bliz_ah_snap, tsm_ah_snap, max_age_seconds=0)"
   ]
  },
  {
   "cell_type": "code",
   "execution_count": 6,
   "id": "2eeacf23-c2d1-4bce-93ad-3c97cbeb4660",
   "metadata": {
    "tags": []
   },
   "outputs": [
    {
     "name": "stderr",
     "output_type": "stream",
     "text": [
      "<ipython-input-6-e5b0eba07282>:14: UserWarning: DataFrame columns are not unique, some columns will be omitted.\n",
      "  entries = list(df_all.transpose().to_dict().values())\n"
     ]
    },
    {
     "data": {
      "text/html": [
       "<style>.itables table td {\n",
       "    text-overflow: ellipsis;\n",
       "    overflow: hidden;\n",
       "}\n",
       "\n",
       ".itables table th {\n",
       "    text-overflow: ellipsis;\n",
       "    overflow: hidden;\n",
       "}\n",
       "\n",
       ".itables thead input {\n",
       "    width: 100%;\n",
       "    padding: 3px;\n",
       "    box-sizing: border-box;\n",
       "}\n",
       "\n",
       ".itables tfoot input {\n",
       "    width: 100%;\n",
       "    padding: 3px;\n",
       "    box-sizing: border-box;\n",
       "}\n",
       "</style>\n",
       "<div class=\"itables\">\n",
       "<table id=\"13b847a0-aa92-4b55-967d-aac391a61c91\" class=\"display nowrap\"style=\"table-layout:auto;width:auto;margin:auto;caption-side:bottom\"><thead>\n",
       "    <tr style=\"text-align: right;\">\n",
       "      \n",
       "      <th>name</th>\n",
       "      <th>net</th>\n",
       "      <th>rate</th>\n",
       "      <th>num</th>\n",
       "    </tr>\n",
       "  </thead><tbody><tr><td>Loading... (need <a href=https://mwouts.github.io/itables/troubleshooting.html>help</a>?)</td></tr></tbody></table>\n",
       "<link rel=\"stylesheet\" type=\"text/css\" href=\"https://cdn.datatables.net/1.13.1/css/jquery.dataTables.min.css\">\n",
       "<script type=\"module\">\n",
       "    // Import jquery and DataTable\n",
       "    import 'https://code.jquery.com/jquery-3.6.0.min.js';\n",
       "    import dt from 'https://cdn.datatables.net/1.12.1/js/jquery.dataTables.mjs';\n",
       "    dt($);\n",
       "\n",
       "    // Define the table data\n",
       "    const data = [[\"Flask of Stoneblood\", 16508350.0, 0.851852, 29], [\"Flask of Endless Rage\", 15702470.0, 0.916667, 24], [\"Flask of the Frost Wyrm\", 12762849.0, 0.785714, 28], [\"Arcane Dust\", 11819367.0, 0.609756, 41], [\"Lesser Cosmic Essence\", 6886448.0, 0.25, 12], [\"Eternal Life\", 6279440.0, 0.571429, 7], [\"Skyflare Diamond\", 5600486.0, 0.5625, 17], [\"Indestructible Potion\", 3816498.0, 0.555556, 18], [\"Crystallized Water\", 1971650.0, 0.583333, 24], [\"Infinite Dust\", 1708703.0, 0.625, 16], [\"Potion of Speed\", 1313153.0, 0.714286, 7], [\"Crystallized Life\", 902990.0, 0.357143, 14], [\"Arcanite Bar\", 885235.0, 0.172414, 29], [\"Bolt of Woolen Cloth\", 853138.0, 0.5, 26], [\"Truesilver Bar\", 845443.0, 0.8, 5], [\"Tiger Lily\", 795754.0, 0.391304, 23], [\"Runic Healing Potion\", 754914.0, 0.5, 8], [\"Firebloom\", 696688.0, 0.3, 10], [\"Khadgar's Whisker\", 667800.0, 0.285714, 7], [\"Runic Mana Potion\", 655806.0, 0.454545, 11], [\"Elixir of Lightning Speed\", 490533.0, 0.666667, 6], [\"Greater Cosmic Essence\", 360994.0, 0.333333, 6], [\"Saronite Bomb\", 337610.0, 0.4, 10], [\"Gold Bar\", 307740.0, 0.8, 5], [\"Rhino Dogs\", 305693.0, 0.307692, 13], [\"Strange Dust\", 304017.0, 0.6, 5], [\"Greater Planar Essence\", 287880.0, 0.4, 5], [\"Mageroyal\", 267298.0, 0.416667, 15], [\"Explosive Sheep\", 234595.0, 0.428571, 7], [\"Solid Stone\", 132574.0, 0.8, 5], [\"Black Jelly\", 124175.0, 0.2, 10], [\"Kingsblood\", 114771.0, 0.25, 8], [\"Refreshing Spring Water\", 96370.0, 0.333333, 6], [\"Bolt of Linen Cloth\", 48660.0, 0.25, 12], [\"Linen Cloth\", 48529.0, 1.0, 6], [\"Thorium Widget\", 31190.0, 0.25, 8], [\"Crystallized Air\", -235166.0, 1.0, 15], [\"Chalcedony\", -674459.0, 0.75, 9], [\"Saronite Bar\", -1126302.0, 1.0, 6], [\"Eternal Air\", -2875676.0, 1.0, 9]];\n",
       "\n",
       "    // Define the dt_args\n",
       "    let dt_args = {\"order\": []};\n",
       "    dt_args[\"data\"] = data;\n",
       "\n",
       "    $(document).ready(function () {\n",
       "        \n",
       "        $('#13b847a0-aa92-4b55-967d-aac391a61c91').DataTable(dt_args);\n",
       "    });\n",
       "</script>\n",
       "</div>\n"
      ],
      "text/plain": [
       "<IPython.core.display.HTML object>"
      ]
     },
     "metadata": {},
     "output_type": "display_data"
    }
   ],
   "source": [
    "from cytoolz import groupby\n",
    "import pandas as pd\n",
    "\n",
    "df_sales = pd.read_csv(\"Accounting_Earthfury_sales.csv\")\n",
    "df_sales[\"mode\"] = \"sold\"\n",
    "df_purchases = pd.read_csv(\"Accounting_Earthfury_purchases.csv\")\n",
    "df_purchases[\"mode\"] = \"purchased\"\n",
    "df_expired = pd.read_csv(\"Accounting_Earthfury_expired.csv\")\n",
    "df_expired[\"mode\"] = \"expired\"\n",
    "df_canceled = pd.read_csv(\"Accounting_Earthfury_canceled.csv\")\n",
    "df_canceled[\"mode\"] = \"canceled\"\n",
    "df_all = pd.concat([df_sales, df_purchases, df_expired, df_canceled])\n",
    "\n",
    "entries = list(df_all.transpose().to_dict().values())\n",
    "grouped = groupby(lambda entry: entry[\"itemString\"], entries)\n",
    "names = {entry[\"itemString\"]: entry[\"itemName\"] for entry in entries}\n",
    "nets = {\n",
    "    k: sum(\n",
    "        (\n",
    "            vv[\"price\"]*vv[\"quantity\"] if vv[\"mode\"] == \"sold\" else\n",
    "            -vv[\"price\"]*vv[\"quantity\"] if vv[\"mode\"] == \"purchased\" else\n",
    "            0\n",
    "        ) for vv in v\n",
    "    )\n",
    "    for (k, v) in grouped.items()\n",
    "}\n",
    "ah_events = {k: [vv[\"mode\"] for vv in v if vv[\"source\"] != \"Vendor\"] for (k, v) in grouped.items()}\n",
    "sale_rate = {\n",
    "    k: v.count(\"sold\") / (v.count(\"sold\") + v.count(\"expired\") + v.count(\"canceled\"))\n",
    "    for (k, v) in ah_events.items()\n",
    "    if v.count(\"sold\") > 1\n",
    "}\n",
    "agg = {k: {\"name\": names[k], \"net\": nets[k], \"rate\": sale_rate[k], \"num\": len(ah_events[k])} for k in sale_rate}\n",
    "show(pd.DataFrame(sorted(\n",
    "    [v for v in agg.values() if v[\"num\"] > 4],\n",
    "    key=lambda entry: entry[\"net\"],\n",
    "    reverse=True,\n",
    ")))"
   ]
  },
  {
   "cell_type": "code",
   "execution_count": 7,
   "id": "fe1f1466-a912-4317-8179-61cf81343e04",
   "metadata": {},
   "outputs": [],
   "source": [
    "import pickle\n",
    "from cytoolz import get as pick_from_dict\n",
    "from cytoolz import sliding_window\n",
    "import glob\n",
    "import itertools\n",
    "from blizzard import auction_summary\n",
    "import re\n",
    "import numpy as np\n",
    "import datetime\n",
    "np.set_printoptions(suppress=True)\n",
    "\n",
    "_names = \"\"\"\n",
    "flask of the frost wyrm\n",
    "flask of endless rage\n",
    "flask of stoneblood\n",
    "titanium bar\n",
    "indestructible potion\n",
    "eternal shadow\n",
    "oily blackmouth\n",
    "elixir of mighty thoughts\n",
    "frostweave cloth\n",
    "wildvine\n",
    "felcloth\n",
    "lesser healing potion\n",
    "runic mana potion\n",
    "greater planar essence\n",
    "netherweave cloth\n",
    "greater healing potion\n",
    "crystallized water\n",
    "purple lotus\n",
    "bruiseweed\n",
    "arcane dust\n",
    "tiger lily\n",
    "crystallized fire\n",
    "major healing potion\n",
    "potion of speed\n",
    "potion of wild magic\n",
    "lichbloom\n",
    "pygmy oil\n",
    "adder's tongue\n",
    "imbued vial\n",
    "icethorn\n",
    "frost lotus\n",
    "enchanted vial\n",
    "goldclover\n",
    "crystallized life\n",
    "eternal life\n",
    "deadnettle\n",
    "elixir of accuracy\n",
    "lesser planar essence\n",
    "eternal fire\n",
    "eternal water\n",
    "chaotic skyflare diamond\n",
    "skyflare diamond\n",
    "potent monarch topaz\n",
    "monarch topaz\n",
    "runed scarlet ruby\n",
    "scarlet ruby\n",
    "purified twilight opal\n",
    "twilight opal\n",
    "potion of speed\n",
    "potion of wild magic\n",
    "lichbloom\n",
    "frostweave cloth\n",
    "infinite dust\n",
    "greater cosmic essence\n",
    "dream shard\n",
    "eternal belt buckle\n",
    "titansteel bar\n",
    "titansteel spellblade\n",
    "mageweave cloth\n",
    "rough stone\n",
    "copper bar\n",
    "coarse stone\n",
    "linen cloth\n",
    "bronze bar\n",
    "heavy stone\n",
    "moss agate\n",
    "wool cloth\n",
    "medium leather\n",
    "steel bar\n",
    "solid stone\n",
    "mithril bar\n",
    "mageweave cloth\n",
    "dense stone\n",
    "thorium bar\n",
    "runecloth\n",
    "fel iron bar\n",
    "mote of earth\n",
    "mote of fire\n",
    "netherweave cloth\n",
    "adamantite bar\n",
    "cobalt bar\n",
    "frostweave cloth\n",
    "crystallized water\n",
    "crystallized earth\n",
    "crystallized fire\n",
    "borean leather\n",
    "eternal shadow\n",
    "saronite bar\n",
    "liferoot\n",
    "blackmouth oil\n",
    "briarthorn\n",
    "bruiseweed\n",
    "elixir of greater defense\n",
    "fadeleaf\n",
    "goldclover\n",
    "goldthorn\n",
    "greater healing potion\n",
    "imbued vial\n",
    "kingsblood\n",
    "lesser invisibility potion\n",
    "lichbloom\n",
    "liferoot\n",
    "major troll's blood elixir\n",
    "nature protection potion\n",
    "oily blackmouth\n",
    "runic mana potion\n",
    "stranglekelp\n",
    "swiftness potion\n",
    "swiftthistle\n",
    "swim speed potion\n",
    "wild steelbloom\n",
    "elixir of water walking\n",
    "elixir of mighty thoughts\n",
    "\"\"\".strip().splitlines()\n",
    "\n",
    "desired_names = list(set(_names))\n",
    "desired_ids = [items.get_id(name) for name in desired_names if not name.startswith(\"#\")]\n",
    "\n",
    "\n",
    "date_re = re.compile(r\"202.-..-..T..-..-..\")\n",
    "def _timestamp_from_name(name):\n",
    "    cap = date_re.search(name).group(0)\n",
    "    return datetime.datetime.strptime(cap, \"%Y-%m-%dT%H-%M-%S\").timestamp()\n",
    "\n",
    "\n",
    "by_item = {}\n",
    "timeseries = []\n",
    "\n",
    "for snapshot in sorted(glob.glob(\"bliz-ah/*\")):\n",
    "    with open(snapshot, \"rb\") as f:\n",
    "        entries = pickle.load(f).values()\n",
    "        timeseries.extend(\n",
    "            [\n",
    "                {\"timestamp\": _timestamp_from_name(snapshot), \"item_name\": items.get_name(item_id), **auction_summary(item_data)}\n",
    "                for (item_id, item_data) in zip(desired_ids, entries)\n",
    "            ]\n",
    "        )\n",
    "        for (item_id, item_data) in zip(desired_ids, entries):\n",
    "            name = items.get_name(item_id)\n",
    "            by_item[name] = by_item.get(name, []) + [{\"timestamp\": date_re.search(snapshot).group(0), \"item_name\": items.get_name(item_id), **auction_summary(item_data)}]\n",
    "\n",
    "def timeseries_of(key, default=np.nan):\n",
    "    def _timeseries_of(item_name):\n",
    "        return np.array([v.get(key, default) for v in by_item[item_name]])\n",
    "    return _timeseries_of\n",
    "\n",
    "def omit_outliers(series, sigma=2, window=5):\n",
    "    mavg = [np.average(w) for w in sliding_window(window, series)]\n",
    "    std = np.std(mavg)\n",
    "    return np.array([x if np.abs(x) < sigma*std else np.nan for x in mavg])\n",
    "\n",
    "def avg_finite(arr):\n",
    "    return np.average(arr[np.isfinite(arr)])\n",
    "\n",
    "def min_series(x):\n",
    "    return omit_outliers(timeseries_of(\"avg_sell\")(x), sigma=0.5, window=10)"
   ]
  },
  {
   "cell_type": "code",
   "execution_count": 8,
   "id": "81d62533-0dd5-4148-bfc2-4bad4c40f8a8",
   "metadata": {},
   "outputs": [],
   "source": [
    "import plotly.express as px\n",
    "for yvalue in [\"num\", \"min\", \"p50\", \"d_num\", \"d_min\", \"d_p50\"]:\n",
    "    df = pd.DataFrame(timeseries)\n",
    "    df = df.sort_values(by=\"timestamp\")\n",
    "\n",
    "    if yvalue.startswith(\"d_\"):\n",
    "        dfg = df.pivot(index=\"timestamp\", columns=\"item_name\", values=yvalue[2:])\n",
    "        dfg = dfg.diff().div(dfg.index.to_series().diff(), axis=0)\n",
    "    else:\n",
    "        dfg = df.pivot(index=\"timestamp\", columns=\"item_name\", values=yvalue)\n",
    "\n",
    "    fig = px.scatter(dfg, title=yvalue, log_y=False)\n",
    "    fig.write_html(f\"{yvalue}.html\")"
   ]
  },
  {
   "cell_type": "code",
   "execution_count": 9,
   "id": "d4a1788a-10cf-45ad-b5e8-80aeee9f2a6a",
   "metadata": {},
   "outputs": [],
   "source": [
    "def item_infos(items):\n",
    "    return pd.DataFrame([item_info(i) for i in items])"
   ]
  },
  {
   "cell_type": "code",
   "execution_count": 10,
   "id": "01e07bbf-7a8f-4a32-a005-40951c05f54f",
   "metadata": {
    "tags": []
   },
   "outputs": [
    {
     "data": {
      "text/html": [
       "<style>.itables table td {\n",
       "    text-overflow: ellipsis;\n",
       "    overflow: hidden;\n",
       "}\n",
       "\n",
       ".itables table th {\n",
       "    text-overflow: ellipsis;\n",
       "    overflow: hidden;\n",
       "}\n",
       "\n",
       ".itables thead input {\n",
       "    width: 100%;\n",
       "    padding: 3px;\n",
       "    box-sizing: border-box;\n",
       "}\n",
       "\n",
       ".itables tfoot input {\n",
       "    width: 100%;\n",
       "    padding: 3px;\n",
       "    box-sizing: border-box;\n",
       "}\n",
       "</style>\n",
       "<div class=\"itables\">\n",
       "<table id=\"7d5103b3-a435-464c-98ee-f9659c4578bf\" class=\"display nowrap\"style=\"table-layout:auto;width:auto;margin:auto;caption-side:bottom\"><thead>\n",
       "    <tr style=\"text-align: right;\">\n",
       "      \n",
       "      <th>id</th>\n",
       "      <th>name</th>\n",
       "      <th>num_auctions</th>\n",
       "      <th>quantity</th>\n",
       "      <th>weight_sell</th>\n",
       "      <th>avg_sell</th>\n",
       "      <th>max</th>\n",
       "      <th>p80</th>\n",
       "      <th>p50</th>\n",
       "      <th>p20</th>\n",
       "      <th>wp80</th>\n",
       "      <th>wp50</th>\n",
       "      <th>wp20</th>\n",
       "      <th>min</th>\n",
       "      <th>realm_market_value</th>\n",
       "      <th>realm_historical</th>\n",
       "      <th>region_historical</th>\n",
       "      <th>region_avg_sale_price</th>\n",
       "      <th>sale_pct</th>\n",
       "      <th>sold_per_day</th>\n",
       "      <th>headroom</th>\n",
       "      <th>market_skew_pct</th>\n",
       "      <th>auction_skew_pct</th>\n",
       "    </tr>\n",
       "  </thead><tbody><tr><td>Loading... (need <a href=https://mwouts.github.io/itables/troubleshooting.html>help</a>?)</td></tr></tbody></table>\n",
       "<link rel=\"stylesheet\" type=\"text/css\" href=\"https://cdn.datatables.net/1.13.1/css/jquery.dataTables.min.css\">\n",
       "<script type=\"module\">\n",
       "    // Import jquery and DataTable\n",
       "    import 'https://code.jquery.com/jquery-3.6.0.min.js';\n",
       "    import dt from 'https://cdn.datatables.net/1.12.1/js/jquery.dataTables.mjs';\n",
       "    dt($);\n",
       "\n",
       "    // Define the table data\n",
       "    const data = [[46376, \"flask of the frost wyrm\", 38, 101, 118.056185, 34.952139, 260.0, 26.4998, 26.4998, 13.2497, 260.0, 26.4998, 26.4998, 13.22, 13.0743, 12.4998, 9.7084, 8.1994, 54.9, 2078, 3684, 4.6, -99.99], [46377, \"flask of endless rage\", 58, 550, 221.593933, 117.714645, 250.974, 250.0, 59.999, 14.0, 250.974, 250.0, 240.0, 11.9999, 12.3916, 12.9998, 9.8798, 8.4523, 58.6, 2704, 4064, -4.68, -99.99], [46379, \"flask of stoneblood\", 54, 62, 16.780877, 14.974507, 35.0266, 12.5399, 12.5399, 12.5398, 28.1092, 12.5399, 12.5398, 12.5397, 13.5173, 14.0, 11.3434, 9.0792, 49.5, 1136, 2232, -3.45, -99.99], [41163, \"titanium bar\", 78, 260, 159.507497, 48.977179, 294.996, 73.749, 14.75, 14.7498, 294.996, 73.75, 44.2494, 14.7498, 9.9826, 8.9998, 8.1518, 5.8651, 51.7, 1791, 3204, 10.92, -99.99], [40093, \"indestructible potion\", 34, 159, 40.889838, 22.079976, 47.998, 47.998, 4.4999, 4.4998, 47.998, 47.998, 44.997, 4.4998, 4.6237, 4.3545, 2.8844, 2.2934, 49.2, 2509, 4940, 6.18, -99.99], [35627, \"eternal shadow\", 100, 348, 19.681361, 7.3076, 43.972, 14.959, 2.1371, 2.1369, 35.1744, 19.7865, 4.2394, 2.09, 3.1735, 3.999, 2.8732, 1.7096, 59.7, 3648, 5762, -20.64, -99.99], [6358, \"oily blackmouth\", 1, 12, 3.0, 3.0, 3.0, 3.0, 3.0, 3.0, 3.0, 3.0, 3.0, 3.0, 0.444, 0.511, 0.5916, 1.4241, 53.4, 550, 1017, -13.11, -99.93], [44332, \"elixir of mighty thoughts\", 4, 18, 74.0134, 29.54895, 92.3958, 92.3958, 12.9, 6.4, 92.3958, 92.3958, 12.9, 6.4, 4.0096, 2.65, 2.9996, 2.4831, 52.2, 298, 552, 51.31, -99.98], [33470, \"frostweave cloth\", 73, 1123, 26.174238, 24.840303, 46.0, 45.0, 20.302, 11.0, 45.0, 25.0, 14.0, 0.0, 0.6661, 0.5, 0.4386, 0.3659, 85.0, 32887, 37567, 33.22, -100.0], [8153, \"wildvine\", 1, 1, 0.3332, 0.3332, 0.3332, 0.3332, 0.3332, 0.3332, 0.3332, 0.3332, 0.3332, 0.3332, 1.5091, 1.1666, 0.7484, 0.6553, 48.8, 220, 449, 29.36, -100.0], [14256, \"felcloth\", 4, 7, 26.999757, 17.249875, 39.9996, 39.9996, 10.0, 8.9999, 39.9996, 39.9996, 10.0, 8.9999, 6.5387, 3.2382, 2.2948, 1.4342, 35.2, 77, 211, 101.92, -99.99], [858, \"lesser healing potion\", 2, 6, 0.86665, 0.59995, 1.0, 1.0, 1.0, 0.1999, 1.0, 1.0, 1.0, 0.1999, 0.0933, 0.0713, 0.0407, 0.0653, 39.6, 242, 605, 30.86, -99.98], [33448, \"runic mana potion\", 12, 82, 22.463093, 12.914942, 25.9999, 25.9999, 9.0, 4.9999, 25.9999, 25.9999, 20.0, 3.98, 1.4465, 1.2499, 1.1008, 1.3219, 78.6, 2955, 3677, 15.73, -99.97], [22446, \"greater planar essence\", 166, 371, 159.794097, 62.916361, 284.0, 55.98, 28.3999, 27.99, 279.9, 142.0, 28.3999, 27.8, 16.1691, 10.4398, 8.391, 5.2948, 51.5, 1231, 2019, 54.88, -99.98], [21877, \"netherweave cloth\", 204, 3227, 18.826895, 15.174599, 50.0, 29.992, 11.062, 0.4499, 29.992, 14.626, 8.992, 0.0, 0.3386, 0.2245, 0.2002, 0.1629, 83.8, 21889, 22893, 50.82, -100.0], [1710, \"greater healing potion\", 4, 16, 6.762756, 5.468825, 8.8728, 8.8728, 7.394, 1.4789, 8.8728, 7.394, 4.1296, 1.4789, 1.0379, 0.7426, 0.5054, 0.5964, 63.3, 386, 593, 39.77, -99.99], [37705, \"crystallized water\", 161, 504, 11.687008, 4.111255, 24.799, 3.7079, 0.5298, 0.5298, 24.799, 4.799, 0.5298, 0.0, 0.7536, 0.7908, 0.4761, 0.3064, 66.8, 2098, 2636, -4.7, -100.0], [8831, \"purple lotus\", 2, 7, 16.0453, 10.62455, 18.2136, 18.2136, 18.2136, 3.0355, 18.2136, 18.2136, 18.2136, 3.0355, 1.7962, 1.6883, 1.0473, 0.637, 55.1, 1295, 2343, 6.39, -99.98], [2453, \"bruiseweed\", 5, 31, 5.04161, 2.20966, 7.75, 7.75, 1.0, 0.2998, 7.75, 7.75, 1.7486, 0.2499, 0.3799, 0.4899, 0.3862, 0.2388, 50.2, 1378, 2714, -22.45, -99.99], [22445, \"arcane dust\", 299, 2285, 56.548926, 30.057385, 100.0, 72.4, 20.0, 3.64, 80.0, 72.4, 20.0, 3.62, 2.6833, 2.0074, 1.6081, 1.0927, 60.3, 8665, 12084, 33.67, -99.99], [36904, \"tiger lily\", 29, 480, 1.998539, 1.931493, 5.0, 3.0, 1.498, 1.498, 3.33, 1.498, 1.498, 0.33, 0.2601, 0.4086, 0.3519, 0.2946, 79.4, 32741, 40755, -36.34, -99.99], [37702, \"crystallized fire\", 20, 58, 26.384988, 14.275895, 42.589, 25.674, 8.0808, 8.0808, 42.589, 25.674, 8.0808, 4.259, 3.2314, 2.8854, 2.259, 1.7315, 55.2, 983, 1722, 11.99, -99.99], [13446, \"major healing potion\", 6, 41, 32.573924, 17.03635, 50.0, 22.32, 14.9988, 2.4999, 50.0, 22.32, 14.9988, 2.4798, 0.9203, 0.5262, 0.3999, 0.3789, 50.9, 417, 778, 74.9, -99.97], [40211, \"potion of speed\", 50, 238, 104.983421, 41.483674, 179.986, 44.9935, 33.5392, 8.9989, 171.998, 167.694, 43.0, 8.9989, 9.1338, 4.8691, 4.6921, 3.977, 70.2, 7841, 10931, 87.59, -99.99], [40212, \"potion of wild magic\", 15, 90, 72.514141, 62.82538, 122.3976, 84.7984, 52.9985, 52.9985, 101.999, 52.9985, 52.9985, 20.3998, 10.2432, 7.3499, 6.1757, 5.5132, 57.9, 2559, 4329, 39.37, -99.98], [36905, \"lichbloom\", 102, 1915, 35.153162, 33.470118, 49.492, 35.544, 35.542, 35.292, 35.544, 35.542, 35.292, 2.4745, 1.8727, 1.2499, 1.587, 1.5125, 71.3, 24745, 32790, 49.83, -99.99], [40195, \"pygmy oil\", 1, 10, 29.999, 29.999, 29.999, 29.999, 29.999, 29.999, 29.999, 29.999, 29.999, 29.999, 2.5085, 1.9522, 1.8881, 1.8506, 65.0, 3942, 6054, 28.5, -99.88], [36903, \"adder's tongue\", 140, 2713, 13.384171, 13.062302, 13.598, 13.596, 13.4, 13.396, 13.596, 13.4, 13.397, 0.6899, 0.7951, 0.9006, 0.7923, 0.7192, 78.1, 72305, 89867, -11.71, -99.99], [18256, \"imbued vial\", 3, 22, 21.014982, 18.816533, 25.8, 25.8, 20.4328, 10.2168, 25.8, 20.4328, 20.4328, 10.2168, 2.4625, 2.2637, 1.8485, 0.7601, 22.3, 194, 847, 8.78, -99.96], [36906, \"icethorn\", 91, 1682, 14.304445, 13.487148, 14.674, 14.668, 14.499, 14.496, 14.668, 14.499, 14.496, 0.7248, 0.8731, 0.9184, 0.8368, 0.6714, 68.9, 31570, 44138, -4.93, -99.99], [36908, \"frost lotus\", 3, 36, 17.453828, 12.798933, 19.998, 19.998, 14.9985, 3.4003, 19.998, 19.998, 14.9985, 3.4003, 6.178, 4.6597, 1.6081, 1.4379, 49.9, 4486, 8953, 32.58, -99.99], [40411, \"enchanted vial\", 9999, 9999, 5.0, 5.0, 5.0, 5.0, 5.0, 5.0, 5.0, 5.0, 5.0, 5.0, 27.0588, 2.9, 3.9997, 1.5204, 22.6, 5, -9976, 833.06, -100.0], [36901, \"goldclover\", 13, 194, 1.450511, 1.323692, 1.498, 1.498, 1.498, 1.11, 1.498, 1.498, 1.498, 0.5236, 0.3524, 0.5804, 0.39, 0.3173, 78.6, 38451, 48725, -39.28, -99.99], [37704, \"crystallized life\", 22, 130, 4.041008, 3.07445, 6.8, 4.997, 2.9998, 0.9994, 4.999, 4.898, 2.94, 0.1198, 0.8546, 1.2499, 1.2723, 1.0175, 40.6, 1981, 4749, -31.63, -100.0], [35625, \"eternal life\", 101, 785, 114.726462, 49.940658, 139.798, 126.6, 6.3331, 6.3331, 126.662, 126.6, 125.0, 6.3331, 9.5329, 13.42, 12.0908, 9.818, 58.3, 5509, 8664, -28.96, -99.99], [37921, \"deadnettle\", 85, 1502, 4.721584, 4.534072, 9.947, 5.164, 4.598, 4.591, 5.164, 4.598, 4.592, 0.6888, 0.3357, 0.5066, 0.3705, 0.3032, 73.6, 19806, 25408, -33.73, -99.98], [44325, \"elixir of accuracy\", 9999, 9999, 2.0, 2.0, 2.0, 2.0, 2.0, 2.0, 2.0, 2.0, 2.0, 2.0, 4.1035, 2.8967, 1.9338, 1.4125, 44.5, 200, -9549, 41.66, -100.0], [22447, \"lesser planar essence\", 7, 7, 9.466771, 9.466771, 9.4668, 9.4668, 9.4668, 9.4667, 9.4668, 9.4668, 9.4667, 9.4667, 5.243, 4.0197, 3.0541, 1.8099, 37.2, 331, 882, 30.43, -99.98], [36860, \"eternal fire\", 40, 64, 233.493064, 50.369803, 630.0, 32.0, 31.9997, 31.4999, 630.0, 32.0, 31.4999, 29.2918, 26.6778, 23.3999, 19.9167, 15.6413, 43.7, 2043, 4611, 14.01, -99.99], [35622, \"eternal water\", 88, 134, 9.221701, 7.691927, 19.9995, 10.25, 5.2741, 5.2741, 10.4998, 10.0998, 5.2741, 3.9998, 4.4271, 2.4063, 2.3214, 1.3305, 55.9, 1711, 2926, 83.98, -99.99], [41285, \"chaotic skyflare diamond\", 24, 24, 50.755758, 50.755758, 59.9999, 58.9999, 46.3078, 43.0, 58.9999, 46.3078, 43.0, 42.0, 61.9376, 49.9999, 34.4677, 20.304, 49.5, 153, 285, 23.88, -99.99], [41266, \"skyflare diamond\", 10, 10, 24.69995, 24.69995, 25.0, 25.0, 24.9999, 24.0, 25.0, 24.9999, 24.0, 24.0, 27.3415, 16.9931, 17.6294, 11.5161, 45.0, 313, 685, 60.9, -99.99], [40048, \"potent monarch topaz\", 18, 18, 48.266594, 48.266594, 49.96, 49.9599, 48.9999, 46.0, 49.9599, 48.9999, 46.0, 45.9999, 38.4467, 42.0, 22.0578, 16.0815, 24.4, 39, 141, -8.46, -99.99], [36930, \"monarch topaz\", 28, 40, 64.528717, 56.469596, 999.9999, 14.2999, 13.9999, 13.9, 75.0, 14.0, 13.9499, 12.9999, 15.5153, 15.696, 11.2998, 7.7761, 59.6, 614, 990, -1.15, -99.99], [39998, \"runed scarlet ruby\", 22, 22, 120.083268, 120.083268, 121.0, 120.9993, 120.9993, 118.9999, 120.9993, 120.9993, 118.9999, 118.9597, 122.6681, 122.4998, 92.9663, 77.8824, 57.9, 266, 437, 0.14, -99.99], [36918, \"scarlet ruby\", 28, 39, 305.450423, 155.020575, 999.9999, 95.9949, 89.8, 87.4573, 800.0, 95.035, 89.6998, 87.3999, 83.313, 81.3828, 73.8798, 61.3884, 59.9, 431, 680, 2.37, -99.99], [40026, \"purified twilight opal\", 26, 26, 42.207554, 42.207554, 42.9793, 42.92, 41.9998, 41.98, 42.92, 41.9998, 41.98, 41.9798, 42.6279, 26.9998, 27.4985, 18.3516, 48.8, 161, 303, 57.88, -99.99], [36927, \"twilight opal\", 18, 43, 80.117274, 35.835711, 200.0, 50.0, 13.1604, 13.1, 200.0, 50.0, 13.1603, 7.5008, 10.072, 8.291, 7.9073, 6.1932, 57.8, 610, 1012, 21.48, -99.99], [40211, \"potion of speed\", 50, 238, 104.983421, 41.483674, 179.986, 44.9935, 33.5392, 8.9989, 171.998, 167.694, 43.0, 8.9989, 9.1338, 4.8691, 4.6921, 3.977, 70.2, 7841, 10931, 87.59, -99.99], [40212, \"potion of wild magic\", 15, 90, 72.514141, 62.82538, 122.3976, 84.7984, 52.9985, 52.9985, 101.999, 52.9985, 52.9985, 20.3998, 10.2432, 7.3499, 6.1757, 5.5132, 57.9, 2559, 4329, 39.37, -99.98], [36905, \"lichbloom\", 102, 1915, 35.153162, 33.470118, 49.492, 35.544, 35.542, 35.292, 35.544, 35.542, 35.292, 2.4745, 1.8727, 1.2499, 1.587, 1.5125, 71.3, 24745, 32790, 49.83, -99.99], [33470, \"frostweave cloth\", 73, 1123, 26.174238, 24.840303, 46.0, 45.0, 20.302, 11.0, 45.0, 25.0, 14.0, 0.0, 0.6661, 0.5, 0.4386, 0.3659, 85.0, 32887, 37567, 33.22, -100.0], [34054, \"infinite dust\", 405, 4047, 33.271154, 17.899605, 37.046, 35.54, 9.0, 1.7775, 36.764, 35.538, 35.2, 1.76, 1.7055, 1.8493, 1.5921, 1.2181, 62.6, 27798, 40358, -7.78, -99.99], [34055, \"greater cosmic essence\", 189, 212, 35.91529, 27.873384, 124.9975, 24.7999, 24.5, 24.4, 26.0, 24.5, 24.4998, 24.4, 25.0245, 19.8147, 15.9546, 13.7108, 52.5, 2767, 5058, 26.29, -99.99], [34052, \"dream shard\", 41, 105, 80.464741, 54.228659, 114.4995, 114.4995, 39.8996, 19.8999, 114.4995, 98.998, 39.8996, 19.7998, 20.8484, 21.3986, 17.0243, 14.0663, 49.4, 1625, 3184, -2.57, -99.99], [41611, \"eternal belt buckle\", 23, 24, 74.166596, 72.173865, 119.9994, 70.0, 70.0, 69.9999, 70.0, 70.0, 69.9999, 69.9999, 71.457, 64.9998, 41.6216, 30.1909, 58.2, 358, 591, 9.93, -99.99], [37663, \"titansteel bar\", 9, 9, 138.111056, 138.111056, 150.0, 149.9999, 145.9999, 125.0, 149.9999, 145.9999, 125.0, 124.9999, 141.954, 137.1537, 115.8698, 104.2159, 73.6, 633, 851, 3.5, -99.99], [45085, \"titansteel spellblade\", 2, 2, 1474.9999, 1474.9999, 1699.9999, 1699.9999, 1699.9999, 1249.9999, 1699.9999, 1699.9999, 1249.9999, 1249.9999, 1440.3903, 1599.9998, 1201.3725, 925.6667, 25.8, 13, 48, -9.98, -99.99], [4338, \"mageweave cloth\", 154, 1638, 16.25407, 9.608734, 50.0, 14.6969, 3.1665, 0.6333, 14.6969, 14.69, 12.662, 0.6333, 0.5847, 0.614, 0.4906, 0.4366, 68.4, 12127, 16091, -4.77, -99.99], [2835, \"rough stone\", 157, 2711, 2.761069, 2.454514, 4.8692, 4.868, 1.0, 0.766, 4.868, 1.0, 0.948, 0.169, 0.0946, 0.0439, 0.0102, 0.0279, 54.5, 7851, 11694, 115.49, -99.98], [2840, \"copper bar\", 32, 575, 10.813638, 10.216597, 20.0, 20.0, 8.0, 3.0, 20.0, 8.0, 5.0, 1.0, 0.6528, 0.4993, 0.4999, 0.6609, 62.6, 9005, 13809, 30.74, -99.98], [2836, \"coarse stone\", 12, 101, 20.125891, 8.613883, 50.0, 0.924, 0.42, 0.0986, 50.0, 0.924, 0.42, 0.0463, 0.1046, 0.1419, 0.0985, 0.1645, 64.5, 5708, 8748, -26.29, -100.0], [2589, \"linen cloth\", 236, 4649, 3.915435, 3.879354, 6.3172, 3.998, 3.998, 3.998, 3.998, 3.998, 3.998, 0.0, 0.103, 0.0495, 0.0248, 0.0807, 59.7, 11379, 14411, 108.08, -100.0], [2841, \"bronze bar\", 42, 373, 64.310095, 37.776186, 110.0, 54.999, 22.499, 3.0, 109.996, 54.999, 22.499, 3.0, 1.615, 1.25, 1.087, 1.2657, 63.7, 5265, 7892, 29.2, -99.98], [2838, \"heavy stone\", 6, 106, 6.411079, 6.718133, 25.992, 10.3968, 1.0, 1.0, 10.3968, 1.0, 1.0, 0.92, 0.7479, 0.425, 0.3526, 0.3565, 57.5, 6055, 10424, 75.98, -99.99], [1206, \"moss agate\", 23, 41, 109.106732, 63.612, 218.5, 55.8888, 55.8888, 55.8888, 218.5, 55.8888, 55.8888, 13.8888, 15.6028, 14.9999, 9.9999, 9.6916, 45.8, 499, 1048, 4.02, -99.99], [2592, \"wool cloth\", 47, 620, 10.98101, 8.215828, 50.0, 14.2481, 6.0, 0.84, 15.0, 8.392, 5.878, 0.4199, 0.3942, 0.3157, 0.441, 0.6024, 75.2, 11543, 14729, 24.87, -99.99], [2319, \"medium leather\", 8, 127, 23.833051, 19.699912, 30.0, 30.0, 20.0, 3.9996, 30.0, 20.0, 20.0, 3.5997, 0.599, 0.4077, 0.2791, 0.4403, 55.1, 4243, 7573, 46.92, -99.94], [3859, \"steel bar\", 4, 80, 61.818, 61.818, 61.818, 61.818, 61.818, 61.818, 61.818, 61.818, 61.818, 61.818, 2.5171, 2.0613, 1.3843, 1.0578, 41.9, 2380, 5600, 22.11, -99.75], [7912, \"solid stone\", 43, 547, 5.48886, 4.068165, 10.0, 6.0, 1.7988, 1.75, 10.0, 5.992, 1.763, 0.2961, 0.3259, 0.1822, 0.1174, 0.1345, 62.2, 7638, 11732, 78.87, -99.99], [3860, \"mithril bar\", 157, 3032, 88.524555, 86.17132, 129.0, 129.0, 74.4, 60.8079, 129.0, 74.4, 60.8079, 4.7995, 3.0402, 3.9599, 3.0329, 2.8348, 69.5, 7075, 7147, -23.23, -99.98], [4338, \"mageweave cloth\", 154, 1638, 16.25407, 9.608734, 50.0, 14.6969, 3.1665, 0.6333, 14.6969, 14.69, 12.662, 0.6333, 0.5847, 0.614, 0.4906, 0.4366, 68.4, 12127, 16091, -4.77, -99.99], [12365, \"dense stone\", 97, 1829, 2.741858, 2.708113, 50.0, 1.132, 1.132, 1.118, 1.132, 1.132, 1.118, 0.2244, 0.1242, 0.0601, 0.0541, 0.0744, 42.5, 4288, 8260, 106.66, -99.98], [12359, \"thorium bar\", 60, 996, 37.17866, 31.689477, 46.0, 44.096, 44.096, 20.808, 44.096, 44.096, 24.998, 2.2998, 1.2079, 1.0893, 1.1519, 0.8969, 67.6, 9545, 13123, 10.89, -99.98], [14047, \"runecloth\", 354, 6965, 12.151258, 12.004677, 40.0, 11.6969, 10.3506, 10.0913, 11.6969, 10.3506, 10.0913, 0.9584, 0.4612, 0.3291, 0.1792, 0.1499, 77.3, 31577, 33884, 40.14, -99.98], [23445, \"fel iron bar\", 118, 929, 48.115348, 28.097844, 102.4, 57.0, 16.929, 16.929, 79.798, 57.0, 16.929, 3.9899, 3.8459, 3.8797, 3.5084, 4.1579, 65.2, 3619, 4621, -0.87, -99.99], [22573, \"mote of earth\", 47, 440, 4.258458, 4.069747, 5.897, 5.897, 3.495, 2.995, 5.897, 3.495, 2.995, 0.2964, 0.2004, 0.1999, 0.2744, 0.3375, 48.5, 2503, 4720, 0.25, -99.99], [22574, \"mote of fire\", 57, 457, 7.534512, 6.234246, 15.0, 9.598, 7.0, 1.9748, 9.598, 9.598, 4.497, 0.4497, 0.9156, 0.7777, 1.2197, 1.3474, 57.6, 996, 1272, 17.73, -100.0], [21877, \"netherweave cloth\", 204, 3227, 18.826895, 15.174599, 50.0, 29.992, 11.062, 0.4499, 29.992, 14.626, 8.992, 0.0, 0.3386, 0.2245, 0.2002, 0.1629, 83.8, 21889, 22893, 50.82, -100.0], [23446, \"adamantite bar\", 2, 10, 38.72996, 37.27495, 44.55, 44.55, 44.55, 29.9999, 44.55, 44.55, 29.9999, 29.9999, 4.2784, 2.924, 2.6216, 2.2051, 57.6, 2776, 4809, 46.32, -99.93], [36916, \"cobalt bar\", 94, 1243, 29.002212, 24.520338, 45.0, 42.546, 16.099, 16.099, 42.546, 32.0, 16.099, 1.6098, 1.6274, 1.5387, 1.445, 1.2806, 74.6, 16378, 20711, 5.76, -99.99], [33470, \"frostweave cloth\", 73, 1123, 26.174238, 24.840303, 46.0, 45.0, 20.302, 11.0, 45.0, 25.0, 14.0, 0.0, 0.6661, 0.5, 0.4386, 0.3659, 85.0, 32887, 37567, 33.22, -100.0], [37705, \"crystallized water\", 161, 504, 11.687008, 4.111255, 24.799, 3.7079, 0.5298, 0.5298, 24.799, 4.799, 0.5298, 0.0, 0.7536, 0.7908, 0.4761, 0.3064, 66.8, 2098, 2636, -4.7, -100.0], [37701, \"crystallized earth\", 32, 190, 6.871479, 5.053209, 10.0, 8.2875, 4.8955, 1.6574, 9.792, 8.287, 3.9172, 0.0, 0.9887, 0.8995, 0.734, 0.6837, 60.3, 1706, 2639, 9.92, -100.0], [37702, \"crystallized fire\", 20, 58, 26.384988, 14.275895, 42.589, 25.674, 8.0808, 8.0808, 42.589, 25.674, 8.0808, 4.259, 3.2314, 2.8854, 2.259, 1.7315, 55.2, 983, 1722, 11.99, -99.99], [33568, \"borean leather\", 57, 1032, 12.645041, 11.914556, 15.9999, 15.998, 15.998, 7.0, 15.998, 15.998, 7.0, 0.88, 0.3845, 0.3888, 0.4391, 0.4148, 79.0, 10835, 12683, -1.11, -99.98], [35627, \"eternal shadow\", 100, 348, 19.681361, 7.3076, 43.972, 14.959, 2.1371, 2.1369, 35.1744, 19.7865, 4.2394, 2.09, 3.1735, 3.999, 2.8732, 1.7096, 59.7, 3648, 5762, -20.64, -99.99], [36913, \"saronite bar\", 177, 1704, 40.107956, 21.389386, 49.998, 47.6969, 9.801, 1.9497, 49.998, 47.6969, 38.952, 1.9496, 2.2592, 1.9708, 1.7003, 1.7337, 71.1, 12844, 16360, 14.63, -99.99], [3357, \"liferoot\", 5, 20, 5.194935, 4.3399, 7.7, 7.7, 4.0, 2.9997, 7.7, 5.0, 2.9997, 1.9998, 0.4176, 0.7, 0.3903, 0.2839, 46.6, 1193, 2540, -40.34, -99.95], [6370, \"blackmouth oil\", 10, 136, 42.755457, 34.72176, 50.0, 49.6, 45.0, 24.5, 49.6, 45.0, 37.5, 3.4999, 2.1944, 3.783, 1.9687, 2.6881, 17.3, 33, 54, -41.99, -99.98], [2450, \"briarthorn\", 24, 249, 11.791635, 6.951542, 17.51, 12.09, 6.5956, 0.5998, 15.0, 12.0, 11.992, 0.5997, 0.9822, 0.9767, 0.6127, 0.4245, 59.4, 1803, 2786, 0.56, -99.99], [2453, \"bruiseweed\", 5, 31, 5.04161, 2.20966, 7.75, 7.75, 1.0, 0.2998, 7.75, 7.75, 1.7486, 0.2499, 0.3799, 0.4899, 0.3862, 0.2388, 50.2, 1378, 2714, -22.45, -99.99], [8951, \"elixir of greater defense\", 9999, 9999, 0.08, 0.08, 0.08, 0.08, 0.08, 0.08, 0.08, 0.08, 0.08, 0.08, 7.0368, 1.75, 1.1378, 0.8271, 27.6, 39, -9857, 302.1, -100.0], [3818, \"fadeleaf\", 49, 762, 8.617274, 6.944849, 8.942, 8.942, 8.942, 1.3494, 8.942, 8.942, 8.942, 0.4296, 0.7327, 0.8182, 0.5909, 0.3757, 39.6, 709, 1028, -10.45, -99.99], [36901, \"goldclover\", 13, 194, 1.450511, 1.323692, 1.498, 1.498, 1.498, 1.11, 1.498, 1.498, 1.498, 0.5236, 0.3524, 0.5804, 0.39, 0.3173, 78.6, 38451, 48725, -39.28, -99.99], [3821, \"goldthorn\", 2, 14, 14.464371, 12.2199, 17.457, 17.457, 17.457, 6.9828, 17.457, 17.457, 6.9828, 6.9828, 0.928, 1.2198, 0.8023, 0.3685, 42.0, 1273, 3016, -23.92, -99.92], [1710, \"greater healing potion\", 4, 16, 6.762756, 5.468825, 8.8728, 8.8728, 7.394, 1.4789, 8.8728, 7.394, 4.1296, 1.4789, 1.0379, 0.7426, 0.5054, 0.5964, 63.3, 386, 593, 39.77, -99.99], [18256, \"imbued vial\", 3, 22, 21.014982, 18.816533, 25.8, 25.8, 20.4328, 10.2168, 25.8, 20.4328, 20.4328, 10.2168, 2.4625, 2.2637, 1.8485, 0.7601, 22.3, 194, 847, 8.78, -99.96], [3356, \"kingsblood\", 47, 865, 8.140481, 7.746438, 8.48, 8.48, 8.48, 7.996, 8.48, 8.48, 8.48, 1.1997, 0.4217, 0.4448, 0.3114, 0.1915, 48.9, 2707, 4670, -5.19, -99.97], [3823, \"lesser invisibility potion\", 3, 22, 124.54445, 90.332633, 164.9989, 164.9989, 90.999, 15.0, 164.9989, 164.9989, 90.999, 15.0, 1.3636, 1.4599, 1.4008, 1.6015, 31.8, 76, 216, -6.6, -99.89], [36905, \"lichbloom\", 102, 1915, 35.153162, 33.470118, 49.492, 35.544, 35.542, 35.292, 35.544, 35.542, 35.292, 2.4745, 1.8727, 1.2499, 1.587, 1.5125, 71.3, 24745, 32790, 49.83, -99.99], [3357, \"liferoot\", 5, 20, 5.194935, 4.3399, 7.7, 7.7, 4.0, 2.9997, 7.7, 5.0, 2.9997, 1.9998, 0.4176, 0.7, 0.3903, 0.2839, 46.6, 1193, 2540, -40.34, -99.95], [3826, \"major troll's blood elixir\", 9999, 9999, 0.042, 0.042, 0.042, 0.042, 0.042, 0.042, 0.042, 0.042, 0.042, 0.042, 2.0, 2.0, 2.5984, 1.9454, 12.5, 0, -9999, 0.0, -100.0], [6052, \"nature protection potion\", 2, 19, 28.05, 27.975, 29.4, 29.4, 29.4, 26.55, 29.4, 29.4, 26.55, 26.55, 2.1521, 2.95, 1.0, 0.9205, 1.8, 1, 36, -27.05, -99.88], [6358, \"oily blackmouth\", 1, 12, 3.0, 3.0, 3.0, 3.0, 3.0, 3.0, 3.0, 3.0, 3.0, 3.0, 0.444, 0.511, 0.5916, 1.4241, 53.4, 550, 1017, -13.11, -99.93], [33448, \"runic mana potion\", 12, 82, 22.463093, 12.914942, 25.9999, 25.9999, 9.0, 4.9999, 25.9999, 25.9999, 20.0, 3.98, 1.4465, 1.2499, 1.1008, 1.3219, 78.6, 2955, 3677, 15.73, -99.97], [3820, \"stranglekelp\", 13, 126, 25.275789, 16.338015, 65.0, 21.1554, 13.14, 4.38, 28.8, 18.808, 13.14, 2.9196, 2.5014, 0.95, 0.9188, 0.9676, 54.8, 1063, 1813, 163.31, -99.99], [2459, \"swiftness potion\", 6, 9, 22.166144, 14.249617, 37.9992, 9.4997, 9.4997, 9.4997, 37.9992, 9.4997, 9.4997, 9.4997, 8.3093, 4.9999, 4.9387, 5.8067, 33.8, 91, 260, 66.19, -99.99], [2452, \"swiftthistle\", 15, 37, 6.893135, 5.129813, 14.5692, 5.6678, 3.4999, 3.4999, 14.5688, 5.6678, 3.4999, 3.4999, 2.3325, 1.5, 1.9077, 3.8618, 57.7, 767, 1292, 55.5, -99.98], [6372, \"swim speed potion\", 6, 6, 0.7999, 0.7999, 0.7999, 0.7999, 0.7999, 0.7999, 0.7999, 0.7999, 0.7999, 0.7999, 0.89, 2.0, 1.7104, 1.838, 16.5, 10, 54, -55.5, -99.99], [3355, \"wild steelbloom\", 4, 13, 3.405054, 3.062225, 4.6995, 4.6995, 2.8497, 1.88, 4.6995, 2.8497, 2.8197, 1.88, 0.7587, 0.8775, 0.4834, 0.2356, 40.5, 1260, 3098, -13.54, -99.98], [8827, \"elixir of water walking\", 5, 12, 5.123058, 4.2957, 6.6664, 6.6664, 4.9995, 2.4063, 6.6664, 5.0, 4.9995, 2.4063, 1.9131, 1.3149, 0.4905, 0.3202, 37.8, 227, 588, 45.49, -99.99], [44332, \"elixir of mighty thoughts\", 4, 18, 74.0134, 29.54895, 92.3958, 92.3958, 12.9, 6.4, 92.3958, 92.3958, 12.9, 6.4, 4.0096, 2.65, 2.9996, 2.4831, 52.2, 298, 552, 51.31, -99.98]];\n",
       "\n",
       "    // Define the dt_args\n",
       "    let dt_args = {\"order\": []};\n",
       "    dt_args[\"data\"] = data;\n",
       "\n",
       "    $(document).ready(function () {\n",
       "        \n",
       "        $('#7d5103b3-a435-464c-98ee-f9659c4578bf').DataTable(dt_args);\n",
       "    });\n",
       "</script>\n",
       "</div>\n"
      ],
      "text/plain": [
       "<IPython.core.display.HTML object>"
      ]
     },
     "metadata": {},
     "output_type": "display_data"
    }
   ],
   "source": [
    "ii = item_infos(_names)\n",
    "show(ii)"
   ]
  },
  {
   "cell_type": "code",
   "execution_count": 11,
   "id": "d1a86d6b-9ebc-4129-9da2-09695301f688",
   "metadata": {},
   "outputs": [],
   "source": [
    "from crafting import Recipes\n",
    "from crafting import purchase_price\n",
    "from crafting import crafting_price\n",
    "from crafting import gold\n",
    "\n",
    "\n",
    "r = Recipes(items)\n",
    "i = r.ingredients\n",
    "\n",
    "def buy(item, price_method=gold(\"realm_market_value\")):\n",
    "    return purchase_price(item_info, item, price_method)\n",
    "\n",
    "\n",
    "def buy_now(item):\n",
    "    return buy(item, price_method=gold(\"min\"))\n",
    "\n",
    "\n",
    "def buy_market(item):\n",
    "    return buy(item, price_method=gold(\"realm_market_value\"))\n",
    "\n",
    "\n",
    "recipe_listing = \"\"\"\n",
    "2 flask of the frost wyrm\n",
    "5 icethorn + 5 lichbloom + frost lotus + enchanted vial\n",
    "\n",
    "2 flask of endless rage\n",
    "7 lichbloom + 3 goldclover + frost lotus + enchanted vial\n",
    "\n",
    "2 flask of stoneblood\n",
    "7 lichbloom + 3 crystallized life + frost lotus + enchanted vial\n",
    "\n",
    "firecracker salmon\n",
    "glacial salmon + northern spices\n",
    "\n",
    "elixir of greater agility\n",
    "sungrass + goldthorn + crystal vial\n",
    "\n",
    "titanium bar\n",
    "8 saronite bar\n",
    "\n",
    "titanium bar\n",
    "2 titanium ore\n",
    "\n",
    "titansteel bar\n",
    "3 titanium bar + eternal fire + eternal earth + eternal shadow\n",
    "\n",
    "indestructible potion\n",
    "2 icethorn + imbued vial\n",
    "\n",
    "saronite bar\n",
    "2 saronite ore\n",
    "\n",
    "potion of speed\n",
    "2 adder's tongue + pygmy oil + imbued vial\n",
    "\n",
    "potion of wild magic\n",
    "2 lichbloom + pygmy oil + imbued vial\n",
    "\n",
    "titansteel spellblade\n",
    "6 titansteel bar + 6 infinite dust + 2 frozen orb\n",
    "\n",
    "titansteel bar\n",
    "3 titanium bar + eternal fire + eternal earth + eternal shadow\n",
    "\n",
    "glyph of wild growth\n",
    "resilient parchment + ethereal ink\n",
    "\n",
    "spellweave robe\n",
    "8 spellweave + 6 bolt of imbued frostweave + eternium thread + frozen orb\n",
    "\n",
    "spellweave\n",
    "bolt of imbued frostweave + 2 eternal fire\n",
    "\n",
    "bolt of imbued frostweave\n",
    "2 bolt of frostweave + 2 infinite dust\n",
    "\n",
    "bolt of frostweave\n",
    "5 frostweave cloth\n",
    "\n",
    "earthsiege diamond\n",
    "dark jade + huge citrine + eternal fire\n",
    "\n",
    "skyflare diamond\n",
    "bloodstone + chalcedony + eternal air\n",
    "\n",
    "noise machine\n",
    "2 froststeel tube + 2 overcharged capacitor + 8 handful of cobalt bolts\n",
    "\n",
    "froststeel tube\n",
    "8 cobalt bar + crystallized water\n",
    "\n",
    "overcharged capacitor\n",
    "4 cobalt bar + crystallized earth\n",
    "\n",
    "handful of cobalt bolts\n",
    "2 cobalt bar\n",
    "\n",
    "cobalt bar\n",
    "cobalt ore\n",
    "\n",
    "mechanized snow goggles\n",
    "8 saronite bar + 2 borean leather + eternal shadow\n",
    "\n",
    "saronite bar\n",
    "2 saronite ore\n",
    "\n",
    "wormhole generator: northrend\n",
    "8 titanium bar + 2 eternal shadow + 2 eternal fire + 2 eternal water + 2 eternal air\n",
    "\n",
    "pygmy oil\n",
    "pygmy suckerfish\n",
    "\n",
    "runic mana potion\n",
    "2 lichbloom + goldclover + imbued vial\n",
    "\n",
    "greater healing potion\n",
    "liferoot + kingsblood + leaded vial\n",
    "\n",
    "major troll's blood elixir\n",
    "liferoot + bruiseweed + leaded vial\n",
    "\n",
    "nature protection potion\n",
    "liferoot + stranglekelp + leaded vial\n",
    "\n",
    "swiftness potion\n",
    "swiftthistle + briarthorn + leaded vial\n",
    "\n",
    "swim speed potion\n",
    "swiftthistle + blackmouth oil + leaded vial\n",
    "\n",
    "blackmouth oil\n",
    "2 oily blackmouth\n",
    "\n",
    "elixir of greater defense\n",
    "wild steelbloom + goldthorn + leaded vial\n",
    "\n",
    "lesser invisibility potion\n",
    "wild steelbloom + fadeleaf + leaded vial\n",
    "\n",
    "great feast\n",
    "chunk o' mammoth + shoveltusk flank + worm meat + 2 chilled meat\n",
    "\n",
    "fish feast\n",
    "2 musselback sculpin + 2 glacial salmon + 2 nettlefish + northern spices\n",
    "\n",
    "2 flask of pure mojo\n",
    "7 icethorn + 3 pygmy oil + frost lotus + enchanted vial\n",
    "\n",
    "scroll of enchant weapon - mighty spellpower\n",
    "30 infinite dust + 6 dream shard + 6 abyss crystal\n",
    "\n",
    "barbaric bracers\n",
    "8 heavy leather + 2 cured heavy hide + 4 small lustrous pearl + raptor hide + 4 large fang\n",
    "\n",
    "earthen leg armor\n",
    "2 arctic fur + 4 eternal earth + frozen orb\n",
    "\n",
    "frosthide leg armor\n",
    "2 arctic fur + 2 nerubian chitin + frozen orb\n",
    "\n",
    "2 flask of relentless assault\n",
    "7 terocone + 3 mana thistle + fel lotus + imbued vial\n",
    "\n",
    "glacial bag\n",
    "4 moonshroud + 4 ebonweave + eternium thread\n",
    "\n",
    "#moonshroud\n",
    "#bolt of imbued frostweave + 2 eternal life\n",
    "\n",
    "#ebonweave\n",
    "#bolt of imbued frostweave + 2 eternal shadow\n",
    "\n",
    "frostweave bag\n",
    "6 bolt of imbued frostweave + 2 eternium thread\n",
    "\n",
    "primal might\n",
    "primal earth + primal water + primal fire + primal air + primal mana\n",
    "\n",
    "primal earth\n",
    "10 mote of earth\n",
    "\n",
    "primal life\n",
    "10 mote of life\n",
    "\n",
    "primal water\n",
    "10 mote of water\n",
    "\n",
    "primal air\n",
    "10 mote of air\n",
    "\n",
    "primal fire\n",
    "10 mote of fire\n",
    "\n",
    "primal mana\n",
    "10 mote of mana\n",
    "\n",
    "primal shadow\n",
    "10 mote of shadow\n",
    "\"\"\"\n",
    "\n",
    "reversible_recipes = \"\"\"\n",
    "eternal shadow\n",
    "10 crystallized shadow\n",
    "\n",
    "eternal water\n",
    "10 crystallized water\n",
    "\n",
    "eternal fire\n",
    "10 crystallized fire\n",
    "\n",
    "eternal air\n",
    "10 crystallized air\n",
    "\n",
    "eternal life\n",
    "10 crystallized life\n",
    "\n",
    "greater planar essence\n",
    "3 lesser planar essence\n",
    "\n",
    "greater cosmic essence\n",
    "3 lesser cosmic essence\n",
    "\"\"\"\n",
    "\n",
    "vendor = {\n",
    "    \"wild spineleaf\": 0.45,\n",
    "    \"enchanted vial\": 0.90,\n",
    "    \"imbued vial\": 0.36,\n",
    "    \"leaded vial\": 0.016,\n",
    "}\n",
    "\n",
    "\n",
    "r_out = None\n",
    "for line in recipe_listing.splitlines():\n",
    "    if line.strip() and not line.strip().startswith(\"#\"):\n",
    "        if r_out:\n",
    "            r.recipe_from_strings(r_out, line.strip())\n",
    "            r_out = None\n",
    "        else:\n",
    "            r_out = line.strip()\n",
    "\n",
    "            \n",
    "r_out = None\n",
    "for line in reversible_recipes.splitlines():\n",
    "    if line.strip() and not line.strip().startswith(\"#\"):\n",
    "        if r_out:\n",
    "            r.recipe_from_strings(r_out, line.strip())\n",
    "            r.recipe_from_strings(line.strip(), r_out)\n",
    "            r_out = None\n",
    "        else:\n",
    "            r_out = line.strip()\n",
    "\n",
    "\n",
    "from procurement import ProcurementPlanner\n",
    "from procurement import topk_procurements\n",
    "import procurement\n",
    "from cytoolz import groupby\n",
    "from cytoolz import valmap\n",
    "pp = ProcurementPlanner(items, item_info, r, vendor, approaches=[\"ah_buy_now\", \"craft\", \"vendor\"])\n",
    "pp_market = ProcurementPlanner(items, item_info, r, vendor, approaches=[\"ah_buy_market\", \"craft\", \"vendor\"])"
   ]
  },
  {
   "cell_type": "code",
   "execution_count": 12,
   "id": "82499d4d-f36a-4eb0-bf1c-8e973401c59d",
   "metadata": {},
   "outputs": [],
   "source": [
    "everybody = \"\"\"\n",
    "20 indestructible potion\n",
    "20 potion of speed\n",
    "20 potion of wild magic\n",
    "20 flask of stoneblood\n",
    "20 flask of the frost wyrm\n",
    "20 flask of pure mojo\n",
    "20 flask of endless rage\n",
    "20 skyflare diamond\n",
    "20 earthsiege diamond\n",
    "\"\"\".strip().splitlines()\n",
    "best_procurements_market = procurement.And.flat(\n",
    "    min(procurement.dnf(pp_market.obtain(i(x.strip()))), key=procurement.cost)\n",
    "    for x in everybody\n",
    ")\n",
    "best_procurements_now = procurement.And.flat(\n",
    "    min(procurement.dnf(pp.obtain(i(x.strip()))), key=procurement.cost)\n",
    "    for x in everybody\n",
    ")"
   ]
  },
  {
   "cell_type": "code",
   "execution_count": 13,
   "id": "49a0b709-9001-4a2d-aab5-8f59e6dac022",
   "metadata": {},
   "outputs": [
    {
     "data": {
      "text/plain": [
       "{procurement.Craft: [Craft(item=20*indestructible potion, ingredients=20.0*imbued vial + 40.0*icethorn),\n",
       "  Craft(item=20*potion of speed, ingredients=40.0*adder's tongue + 20.0*imbued vial + 20.0*pygmy oil),\n",
       "  Craft(item=70.0*pygmy oil, ingredients=70.0*pygmy suckerfish),\n",
       "  Craft(item=20*potion of wild magic, ingredients=20.0*imbued vial + 20.0*pygmy oil + 40.0*lichbloom),\n",
       "  Craft(item=20*flask of stoneblood, ingredients=30.0*crystallized life + 10.0*enchanted vial + 10.0*frost lotus + 70.0*lichbloom),\n",
       "  Craft(item=20*flask of the frost wyrm, ingredients=10.0*frost lotus + 10.0*enchanted vial + 50.0*icethorn + 50.0*lichbloom),\n",
       "  Craft(item=20*flask of pure mojo, ingredients=10.0*frost lotus + 30.0*pygmy oil + 10.0*enchanted vial + 70.0*icethorn),\n",
       "  Craft(item=20*flask of endless rage, ingredients=10.0*frost lotus + 30.0*goldclover + 10.0*enchanted vial + 70.0*lichbloom),\n",
       "  Craft(item=20*skyflare diamond, ingredients=20.0*eternal air + 20.0*chalcedony + 20.0*bloodstone),\n",
       "  Craft(item=20.0*eternal air, ingredients=200.0*crystallized air),\n",
       "  Craft(item=20*earthsiege diamond, ingredients=20.0*eternal fire + 20.0*dark jade + 20.0*huge citrine)],\n",
       " procurement.VendorBuy: [VendorBuy(item=60.0*imbued vial, who='vendor', where='somewhere', gold=1.08),\n",
       "  VendorBuy(item=40.0*enchanted vial, who='vendor', where='somewhere', gold=3.6)],\n",
       " procurement.AHBuyNow: [AHBuyNow(item=160.0*icethorn, gold=115.96799999999999),\n",
       "  AHBuyNow(item=40.0*adder's tongue, gold=27.595999999999997),\n",
       "  AHBuyNow(item=70.0*pygmy suckerfish, gold=238.875),\n",
       "  AHBuyNow(item=230.0*lichbloom, gold=569.135),\n",
       "  AHBuyNow(item=30.0*crystallized life, gold=3.5940000000000003),\n",
       "  AHBuyNow(item=40.0*frost lotus, gold=136.012),\n",
       "  AHBuyNow(item=30.0*goldclover, gold=15.707999999999998),\n",
       "  AHBuyNow(item=200.0*crystallized air, gold=0.0),\n",
       "  AHBuyNow(item=20.0*chalcedony, gold=24.0),\n",
       "  AHBuyNow(item=20.0*bloodstone, gold=18.108),\n",
       "  AHBuyNow(item=20.0*eternal fire, gold=585.836),\n",
       "  AHBuyNow(item=20.0*dark jade, gold=19.954),\n",
       "  AHBuyNow(item=20.0*huge citrine, gold=39.8)]}"
      ]
     },
     "execution_count": 13,
     "metadata": {},
     "output_type": "execute_result"
    }
   ],
   "source": [
    "best_procurements = best_procurements_now\n",
    "groupby(\n",
    "    lambda x: type(x),\n",
    "    [\n",
    "        op.sum(v)\n",
    "        for ((op, name), v)\n",
    "        in groupby(\n",
    "            lambda y: (type(y), y.item.pure()[0]),\n",
    "            best_procurements\n",
    "        ).items()\n",
    "    ],\n",
    ")"
   ]
  },
  {
   "cell_type": "code",
   "execution_count": 14,
   "id": "3ffc86ff-2a92-4fb2-b492-8abded9a30ad",
   "metadata": {},
   "outputs": [
    {
     "data": {
      "text/plain": [
       "[(8.3093, And(AHBuyMarket(item=swiftness potion, gold=8.3093),)),\n",
       " (3.3307,\n",
       "  And(Craft(item=swiftness potion, ingredients=leaded vial + briarthorn + swiftthistle), VendorBuy(item=leaded vial, who='vendor', where='somewhere', gold=0.016), AHBuyMarket(item=briarthorn, gold=0.9822), AHBuyMarket(item=swiftthistle, gold=2.3325)))]"
      ]
     },
     "execution_count": 14,
     "metadata": {},
     "output_type": "execute_result"
    }
   ],
   "source": [
    "[(procurement.cost(x), x) for x in procurement.dnf(pp_market.obtain(i(\"swiftness potion\")))]"
   ]
  },
  {
   "cell_type": "code",
   "execution_count": 15,
   "id": "ef7d4975-924f-4690-8e82-745e3675fb40",
   "metadata": {},
   "outputs": [
    {
     "data": {
      "text/plain": [
       "[(0.89, And(AHBuyMarket(item=swim speed potion, gold=0.89),)),\n",
       " (4.5428999999999995,\n",
       "  And(Craft(item=swim speed potion, ingredients=leaded vial + swiftthistle + blackmouth oil), VendorBuy(item=leaded vial, who='vendor', where='somewhere', gold=0.016), AHBuyMarket(item=swiftthistle, gold=2.3325), AHBuyMarket(item=blackmouth oil, gold=2.1944))),\n",
       " (3.2365,\n",
       "  And(Craft(item=swim speed potion, ingredients=leaded vial + swiftthistle + blackmouth oil), VendorBuy(item=leaded vial, who='vendor', where='somewhere', gold=0.016), AHBuyMarket(item=swiftthistle, gold=2.3325), Craft(item=blackmouth oil, ingredients=2.0*oily blackmouth), AHBuyMarket(item=2.0*oily blackmouth, gold=0.888)))]"
      ]
     },
     "execution_count": 15,
     "metadata": {},
     "output_type": "execute_result"
    }
   ],
   "source": [
    "[(procurement.cost(x), x) for x in procurement.dnf(pp_market.obtain(i(\"swim speed potion\")))]"
   ]
  },
  {
   "cell_type": "code",
   "execution_count": 16,
   "id": "0b9d79fa-84e7-4d8f-b945-65e4e727b2c2",
   "metadata": {},
   "outputs": [
    {
     "data": {
      "text/plain": [
       "[(1.9131, And(AHBuyMarket(item=elixir of water walking, gold=1.9131),))]"
      ]
     },
     "execution_count": 16,
     "metadata": {},
     "output_type": "execute_result"
    }
   ],
   "source": [
    "sorted([(procurement.cost(x), x) for x in procurement.dnf(pp_market.obtain(i(\"elixir of water walking\")))])"
   ]
  },
  {
   "cell_type": "code",
   "execution_count": 17,
   "id": "4b049f00-9990-47e7-9d56-bcc939c0fdfe",
   "metadata": {},
   "outputs": [
    {
     "data": {
      "text/plain": [
       "[(10.8076,\n",
       "  And(Craft(item=flask of pure mojo, ingredients=0.5*enchanted vial + 0.5*frost lotus + 1.5*pygmy oil + 3.5*icethorn), VendorBuy(item=0.5*enchanted vial, who='vendor', where='somewhere', gold=0.9), AHBuyMarket(item=0.5*frost lotus, gold=3.089), AHBuyMarket(item=1.5*pygmy oil, gold=3.7627500000000005), AHBuyMarket(item=3.5*icethorn, gold=3.05585))),\n",
       " (11.605,\n",
       "  And(Craft(item=flask of pure mojo, ingredients=0.5*enchanted vial + 0.5*frost lotus + 1.5*pygmy oil + 3.5*icethorn), VendorBuy(item=0.5*enchanted vial, who='vendor', where='somewhere', gold=0.9), AHBuyMarket(item=0.5*frost lotus, gold=3.089), Craft(item=1.5*pygmy oil, ingredients=1.5*pygmy suckerfish), AHBuyMarket(item=1.5*pygmy suckerfish, gold=4.56015), AHBuyMarket(item=3.5*icethorn, gold=3.05585))),\n",
       " (12.6014, And(AHBuyMarket(item=flask of pure mojo, gold=12.6014),)),\n",
       " (23.437,\n",
       "  And(Craft(item=flask of pure mojo, ingredients=0.5*enchanted vial + 0.5*frost lotus + 1.5*pygmy oil + 3.5*icethorn), AHBuyMarket(item=0.5*enchanted vial, gold=13.5294), AHBuyMarket(item=0.5*frost lotus, gold=3.089), AHBuyMarket(item=1.5*pygmy oil, gold=3.7627500000000005), AHBuyMarket(item=3.5*icethorn, gold=3.05585))),\n",
       " (24.2344,\n",
       "  And(Craft(item=flask of pure mojo, ingredients=0.5*enchanted vial + 0.5*frost lotus + 1.5*pygmy oil + 3.5*icethorn), AHBuyMarket(item=0.5*enchanted vial, gold=13.5294), AHBuyMarket(item=0.5*frost lotus, gold=3.089), Craft(item=1.5*pygmy oil, ingredients=1.5*pygmy suckerfish), AHBuyMarket(item=1.5*pygmy suckerfish, gold=4.56015), AHBuyMarket(item=3.5*icethorn, gold=3.05585)))]"
      ]
     },
     "execution_count": 17,
     "metadata": {},
     "output_type": "execute_result"
    }
   ],
   "source": [
    "sorted([(procurement.cost(x), x) for x in procurement.dnf(pp_market.obtain(i(\"flask of pure mojo\")))])"
   ]
  },
  {
   "cell_type": "code",
   "execution_count": 18,
   "id": "ee7b2002-c84c-4424-85e3-052dcd5c4374",
   "metadata": {},
   "outputs": [
    {
     "data": {
      "text/plain": [
       "[(1217.5884,\n",
       "  And(Craft(item=scroll of enchant weapon - mighty spellpower, ingredients=30.0*infinite dust + 6.0*dream shard + 6.0*abyss crystal), AHBuyMarket(item=30.0*infinite dust, gold=51.165), AHBuyMarket(item=6.0*dream shard, gold=125.09040000000002), AHBuyMarket(item=6.0*abyss crystal, gold=1041.333))),\n",
       " (1712.1391,\n",
       "  And(AHBuyMarket(item=scroll of enchant weapon - mighty spellpower, gold=1712.1391),))]"
      ]
     },
     "execution_count": 18,
     "metadata": {},
     "output_type": "execute_result"
    }
   ],
   "source": [
    "sorted([(procurement.cost(x), x) for x in procurement.dnf(pp_market.obtain(i(\"scroll of enchant weapon - mighty spellpower\")))])"
   ]
  },
  {
   "cell_type": "code",
   "execution_count": 19,
   "id": "02e2079e-40fb-498d-bf5e-8c3619a41794",
   "metadata": {},
   "outputs": [],
   "source": [
    "hodir_badges_needed = (21000-4425)/50"
   ]
  },
  {
   "cell_type": "code",
   "execution_count": 20,
   "id": "ba6e199c-3ead-4aef-aaa2-34a8f5af915c",
   "metadata": {},
   "outputs": [
    {
     "data": {
      "text/plain": [
       "331.5"
      ]
     },
     "execution_count": 20,
     "metadata": {},
     "output_type": "execute_result"
    }
   ],
   "source": [
    "hodir_badges_needed"
   ]
  },
  {
   "cell_type": "code",
   "execution_count": 21,
   "id": "79d48574-0b84-42d5-a6ad-8ae8ec9e49ef",
   "metadata": {},
   "outputs": [
    {
     "data": {
      "text/plain": [
       "{'id': 18948,\n",
       " 'name': 'barbaric bracers',\n",
       " 'num_auctions': 9999,\n",
       " 'quantity': 9999,\n",
       " 'weight_sell': 0.7945,\n",
       " 'avg_sell': 0.7945,\n",
       " 'max': 0.7945,\n",
       " 'p80': 0.7945,\n",
       " 'p50': 0.7945,\n",
       " 'p20': 0.7945,\n",
       " 'wp80': 0.7945,\n",
       " 'wp50': 0.7945,\n",
       " 'wp20': 0.7945,\n",
       " 'min': 0.7945,\n",
       " 'realm_market_value': 127.3891,\n",
       " 'realm_historical': 237.0,\n",
       " 'region_historical': 53.3284,\n",
       " 'region_avg_sale_price': 69.7007,\n",
       " 'sale_pct': 29.7,\n",
       " 'sold_per_day': 6,\n",
       " 'headroom': -9978,\n",
       " 'market_skew_pct': -46.25,\n",
       " 'auction_skew_pct': -100.0}"
      ]
     },
     "execution_count": 21,
     "metadata": {},
     "output_type": "execute_result"
    }
   ],
   "source": [
    "item_info(\"barbaric bracers\")"
   ]
  },
  {
   "cell_type": "code",
   "execution_count": 22,
   "id": "4f7f151a-3642-40f0-bdb1-36d0806986bc",
   "metadata": {},
   "outputs": [
    {
     "data": {
      "text/plain": [
       "[(30.9794,\n",
       "  And(Craft(item=barbaric bracers, ingredients=4.0*large fang + 2.0*cured heavy hide + 4.0*small lustrous pearl + raptor hide + 8.0*heavy leather), AHBuyMarket(item=4.0*large fang, gold=12.0068), AHBuyMarket(item=2.0*cured heavy hide, gold=4.1768), AHBuyMarket(item=4.0*small lustrous pearl, gold=10.2868), AHBuyMarket(item=raptor hide, gold=0.0298), AHBuyMarket(item=8.0*heavy leather, gold=4.4792))),\n",
       " (127.3891, And(AHBuyMarket(item=barbaric bracers, gold=127.3891),))]"
      ]
     },
     "execution_count": 22,
     "metadata": {},
     "output_type": "execute_result"
    }
   ],
   "source": [
    "sorted([(procurement.cost(x), x) for x in procurement.dnf(pp_market.obtain(i(\"barbaric bracers\")))])"
   ]
  },
  {
   "cell_type": "code",
   "execution_count": 23,
   "id": "a23b109a-b274-4ddc-808d-99d072e9891a",
   "metadata": {},
   "outputs": [
    {
     "data": {
      "text/plain": [
       "[(166.24790000000002,\n",
       "  And(Craft(item=earthen leg armor, ingredients=4.0*eternal earth + 2.0*arctic fur + frozen orb), AHBuyMarket(item=4.0*eternal earth, gold=38.2232), AHBuyMarket(item=2.0*arctic fur, gold=53.1754), AHBuyMarket(item=frozen orb, gold=74.8493))),\n",
       " (298.6705, And(AHBuyMarket(item=earthen leg armor, gold=298.6705),))]"
      ]
     },
     "execution_count": 23,
     "metadata": {},
     "output_type": "execute_result"
    }
   ],
   "source": [
    "sorted([(procurement.cost(x), x) for x in procurement.dnf(pp_market.obtain(i(\"earthen leg armor\")))])"
   ]
  },
  {
   "cell_type": "code",
   "execution_count": 24,
   "id": "b373a97d-a111-400b-8e1d-879425baf913",
   "metadata": {},
   "outputs": [
    {
     "data": {
      "text/plain": [
       "[(130.7841,\n",
       "  And(Craft(item=frosthide leg armor, ingredients=2.0*arctic fur + 2.0*nerubian chitin + frozen orb), AHBuyMarket(item=2.0*arctic fur, gold=53.1754), AHBuyMarket(item=2.0*nerubian chitin, gold=2.7594), AHBuyMarket(item=frozen orb, gold=74.8493))),\n",
       " (211.9681, And(AHBuyMarket(item=frosthide leg armor, gold=211.9681),))]"
      ]
     },
     "execution_count": 24,
     "metadata": {},
     "output_type": "execute_result"
    }
   ],
   "source": [
    "sorted([(procurement.cost(x), x) for x in procurement.dnf(pp_market.obtain(i(\"frosthide leg armor\")))])"
   ]
  },
  {
   "cell_type": "code",
   "execution_count": 25,
   "id": "f08b2c55-915c-46ed-9e1f-d37683f01f33",
   "metadata": {},
   "outputs": [
    {
     "data": {
      "text/plain": [
       "26040"
      ]
     },
     "execution_count": 25,
     "metadata": {},
     "output_type": "execute_result"
    }
   ],
   "source": [
    "# hateful PVP gear\n",
    "sum(\n",
    "[\n",
    "    4520, # gloves\n",
    "    7700, # helm\n",
    "    6110, # spaulders\n",
    "    7700, # legguards\n",
    "    7700, # robes\n",
    "    3990, # idol\n",
    "]\n",
    ")\n",
    "\n",
    "\n",
    "sum(\n",
    "[\n",
    "    10850, # belt\n",
    "    #10850, # boots\n",
    "    6895, # armwraps\n",
    "    8295, # pendant\n",
    "    #8295, # cloak\n",
    "    #8295, # band\n",
    "]\n",
    ")"
   ]
  },
  {
   "cell_type": "code",
   "execution_count": 26,
   "id": "8f131ecf-45cb-4668-b9c2-1c56bbfb00ca",
   "metadata": {},
   "outputs": [
    {
     "data": {
      "text/plain": [
       "(1402.2626,\n",
       " [Craft(item=glacial bag, ingredients=4.0*ebonweave + 4.0*moonshroud + eternium thread),\n",
       "  AHBuyMarket(item=4.0*ebonweave, gold=728.3392),\n",
       "  AHBuyMarket(item=4.0*moonshroud, gold=670.4236),\n",
       "  AHBuyMarket(item=eternium thread, gold=3.4998)])"
      ]
     },
     "execution_count": 26,
     "metadata": {},
     "output_type": "execute_result"
    }
   ],
   "source": [
    "options = procurement.dnf(pp_market.obtain(i(\"glacial bag\")))\n",
    "(c_, r_) = min([(procurement.cost(x), x) for x in options], key=lambda x: x[0])\n",
    "(c_, list(r_))"
   ]
  },
  {
   "cell_type": "code",
   "execution_count": 27,
   "id": "9d348841-08bd-490a-8636-e77fcad9a408",
   "metadata": {},
   "outputs": [
    {
     "data": {
      "text/plain": [
       "(1402.2626,\n",
       " [Craft(item=glacial bag, ingredients=4.0*ebonweave + 4.0*moonshroud + eternium thread),\n",
       "  AHBuyMarket(item=4.0*ebonweave, gold=728.3392),\n",
       "  AHBuyMarket(item=4.0*moonshroud, gold=670.4236),\n",
       "  AHBuyMarket(item=eternium thread, gold=3.4998)])"
      ]
     },
     "execution_count": 27,
     "metadata": {},
     "output_type": "execute_result"
    }
   ],
   "source": [
    "options = procurement.dnf(pp_market.obtain(i(\"glacial bag\")))\n",
    "(c_, r_) = min([(procurement.cost(x), x) for x in options], key=lambda x: x[0])\n",
    "(c_, list(r_))"
   ]
  },
  {
   "cell_type": "code",
   "execution_count": 28,
   "id": "dc4877e2-a8b9-4fb7-8d5c-d1fc167f9977",
   "metadata": {},
   "outputs": [
    {
     "data": {
      "text/plain": [
       "(269.7264,\n",
       " [Craft(item=4*frostweave bag, ingredients=24.0*bolt of imbued frostweave + 8.0*eternium thread),\n",
       "  Craft(item=24.0*bolt of imbued frostweave, ingredients=48.0*infinite dust + 48.0*bolt of frostweave),\n",
       "  AHBuyMarket(item=48.0*infinite dust, gold=81.864),\n",
       "  Craft(item=48.0*bolt of frostweave, ingredients=240.0*frostweave cloth),\n",
       "  AHBuyMarket(item=240.0*frostweave cloth, gold=159.864),\n",
       "  AHBuyMarket(item=8.0*eternium thread, gold=27.9984)])"
      ]
     },
     "execution_count": 28,
     "metadata": {},
     "output_type": "execute_result"
    }
   ],
   "source": [
    "options = procurement.dnf(pp_market.obtain(i(\"4 frostweave bag\")))\n",
    "(c_, r_) = min([(procurement.cost(x), x) for x in options], key=lambda x: x[0])\n",
    "(c_, list(r_))"
   ]
  },
  {
   "cell_type": "code",
   "execution_count": 29,
   "id": "0679301c-f137-4860-8d7b-83c92af03003",
   "metadata": {},
   "outputs": [
    {
     "data": {
      "text/plain": [
       "(52.2975,\n",
       " [Craft(item=primal might, ingredients=primal air + primal water + primal fire + primal mana + primal earth),\n",
       "  Craft(item=primal air, ingredients=10.0*mote of air),\n",
       "  AHBuyMarket(item=10.0*mote of air, gold=12.238),\n",
       "  AHBuyMarket(item=primal water, gold=16.7955),\n",
       "  AHBuyMarket(item=primal fire, gold=4.1164),\n",
       "  AHBuyMarket(item=primal mana, gold=18.1442),\n",
       "  AHBuyMarket(item=primal earth, gold=1.0034)])"
      ]
     },
     "execution_count": 29,
     "metadata": {},
     "output_type": "execute_result"
    }
   ],
   "source": [
    "options = procurement.dnf(pp_market.obtain(i(\"primal might\")))\n",
    "(c_, r_) = min([(procurement.cost(x), x) for x in options], key=lambda x: x[0])\n",
    "(c_, list(r_))"
   ]
  },
  {
   "cell_type": "code",
   "execution_count": 30,
   "id": "53cc8bc7-60bb-44b2-84a0-a269d1d1d03a",
   "metadata": {},
   "outputs": [
    {
     "data": {
      "text/plain": [
       "'Tukui:Profile:fA1smTX1A4X2KeGCrbWxiQ6gPyDlfUcfLIneAuvv8WGnm0Idw2MKI7TPZX2hyg8WCMCMXgiTsXcvv11ErFSd5k1nDtf7URYiu23PSOBdkkBAxDfsTQnTW0ZJXJH0kfVW(4Z57)13)35FMqJ28oaSgOKo06Z2FbdlBGUoWwdzmSukKburkJMv5rnJwOw1AAP3YeI1GgLHsaC8e5sN9V7GeUNxkdQo8th5i2HZuM6pYbtwCpPLkuyPm5wyE5c7S8czbyOHTBVYo3QXBjq(il2DOVyxYcZHyMohQCnRca8Aq75WGnGflXDG7fD7t2PsYt2LzKrJWoccHoQJn(ONn9TlKohb9LiOvIsbj7O96E0f4mAgABamlUtHLYYYicUbKD6w4(Su5rEN89XeecB(pzUDr4Q2Pa2GcWTSLqBvSfptwm9Cu7Ikl(V8oMNnxr4Me7eCpxr3OSJs65n2J888Kf1EYZPH2CaMlZcTd4MI5ANcdj7SyJEpK6kNr9(rIDEpLbpVnGtWfL8J6LRqQRvomeX5hZXKrRmgLbAuRO7LyLT41f(irAzloQWaXOXUFgWttQTHEFZWSk35EcHi)2L5WNc6zmyiEE(GyNVbZG3trGwx8CyreQnUlttszXQoH4DxL(fEcPEEbDXufD7LaKid26Zz8JSyxD9VPfU7f6WHNChohwTr4ybnBPARUQmeubIl6oaV)HJjW7ZVQ3XKfcVqWIx0TpU8X(BdDixZf5)DvIRnh8uL7SalBkv3UuR5eIxQLs(7D0AbEnrBVkk(WFLld6oCfNok5CARPEg9t7sUStxkm8ZjCn6c)SiRoyBioil87qccB5WYIIj)dkJUhpl0HyBRIji6ycSrKfJE8xY8PJ6hCmDXoCUcSwGJQJojgdXcp63OiAXdkaBVDrmXp(cSXKfVPh)sMZ9If(jbAX5XOAM0gDr3X4428784XSQJWUDQJciKUTM5mgLvr4askQNeNKsj0hnpAY5iGwLanZve6MRzs1qGY8hS8cPXye2)QT7i8sLOupK1THIrOYIdAFZ6msBh7yxGlkw3mcl743atbl93iGMic7gJtMh()BeqY3vRcrw0oUovtEssQC0jFsVD)RQSB0w4q0SRWakEnHWh2r3IS4fs8afMTG)Le9SmcCVaozQjcy5)Jq3ESWoP3plgCJRGkgc4cf)0B9R(lpHHlU3p1OZT(ziZBbTJRF5ApH)T(1tYMl6dLlapllAIoH3J)Vp65KumsZ2cAR6eKK5)vSgx5cnNvfGbLTH4XvoxU5RPPxzCLisZJO)2xP8BBzd3yCLEKkOTbCCLl1myO14kx8iIX2SllYAvQanuKOBmCZSilnk3AvVelNMSoMRPI7o2GVBOwlyTSrfu5QWkQ(hKWDSsYqQNEw3dUsOCKgOT6ixHB(u1DNXnkXqxjf3zjSBkzXL98OZdgCLECt)4b5LE84uGJXaQYbY8MB62E6gVmat)YaK4Vaqw89FOFUi7CtbM(Vd(4DY9t5WEOaAfiaT6DNcKMqvnJ1gnr26z7L8v6En7)UiSELmaZ28zqVDKN9vKwAyzXrE2hsuwH3jp02MyT1x721DEABZsBqFvbvZ(xQ06qsSQdzrbIvnhkLMLjr0WVOKfTjetYd1wZuZgLdAc0WQ7txNhQR)21mQQINhAaXa9H33)jX5ld0HF8)WDXFWS)BJWBa0LQzBJmYR9a4nkjJSFh42kMdqhIZpWkleNdT5RygLSh5o)z2nYb(wBcktQJiMdKFtn7YQeOlzWFwQAR8QatyEvTvTvzoEYZ64DykrY(8Wo1lew6Ejo7Ey67jqn4GG8HL(sKPVwdxYN)CV10TyUMjkF8GLweTwgWwPU6ECPpt2wPNCSbYJ6UMYtLj7Ot3DwKoc)MHYEUjU(eVr8iTw2qJpRZ6tAXE1NzQHbwQs0jmQhSSHUMrv)hJOqEtNc8J3JF9M(4tlslIowGFqtQD8L5yBRkrhbnTRUFmNAYiT45hTUQ2Kvb0LFJerFyn6b(nZzriCflLJ8)BBXOsoMZNEpwO5K2RT)S6allTY0bcyLMZqTGkov(Zp'"
      ]
     },
     "execution_count": 30,
     "metadata": {},
     "output_type": "execute_result"
    }
   ],
   "source": [
    "# drpannkoeken\n",
    "\"Tukui:Profile:fA1smTX1A4X2KeGCrbWxiQ6gPyDlfUcfLIneAuvv8WGnm0Idw2MKI7TPZX2hyg8WCMCMXgiTsXcvv11ErFSd5k1nDtf7URYiu23PSOBdkkBAxDfsTQnTW0ZJXJH0kfVW(4Z57)13)35FMqJ28oaSgOKo06Z2FbdlBGUoWwdzmSukKburkJMv5rnJwOw1AAP3YeI1GgLHsaC8e5sN9V7GeUNxkdQo8th5i2HZuM6pYbtwCpPLkuyPm5wyE5c7S8czbyOHTBVYo3QXBjq(il2DOVyxYcZHyMohQCnRca8Aq75WGnGflXDG7fD7t2PsYt2LzKrJWoccHoQJn(ONn9TlKohb9LiOvIsbj7O96E0f4mAgABamlUtHLYYYicUbKD6w4(Su5rEN89XeecB(pzUDr4Q2Pa2GcWTSLqBvSfptwm9Cu7Ikl(V8oMNnxr4Me7eCpxr3OSJs65n2J888Kf1EYZPH2CaMlZcTd4MI5ANcdj7SyJEpK6kNr9(rIDEpLbpVnGtWfL8J6LRqQRvomeX5hZXKrRmgLbAuRO7LyLT41f(irAzloQWaXOXUFgWttQTHEFZWSk35EcHi)2L5WNc6zmyiEE(GyNVbZG3trGwx8CyreQnUlttszXQoH4DxL(fEcPEEbDXufD7LaKid26Zz8JSyxD9VPfU7f6WHNChohwTr4ybnBPARUQmeubIl6oaV)HJjW7ZVQ3XKfcVqWIx0TpU8X(BdDixZf5)DvIRnh8uL7SalBkv3UuR5eIxQLs(7D0AbEnrBVkk(WFLld6oCfNok5CARPEg9t7sUStxkm8ZjCn6c)SiRoyBioil87qccB5WYIIj)dkJUhpl0HyBRIji6ycSrKfJE8xY8PJ6hCmDXoCUcSwGJQJojgdXcp63OiAXdkaBVDrmXp(cSXKfVPh)sMZ9If(jbAX5XOAM0gDr3X4428784XSQJWUDQJciKUTM5mgLvr4askQNeNKsj0hnpAY5iGwLanZve6MRzs1qGY8hS8cPXye2)QT7i8sLOupK1THIrOYIdAFZ6msBh7yxGlkw3mcl743atbl93iGMic7gJtMh()BeqY3vRcrw0oUovtEssQC0jFsVD)RQSB0w4q0SRWakEnHWh2r3IS4fs8afMTG)Le9SmcCVaozQjcy5)Jq3ESWoP3plgCJRGkgc4cf)0B9R(lpHHlU3p1OZT(ziZBbTJRF5ApH)T(1tYMl6dLlapllAIoH3J)Vp65KumsZ2cAR6eKK5)vSgx5cnNvfGbLTH4XvoxU5RPPxzCLisZJO)2xP8BBzd3yCLEKkOTbCCLl1myO14kx8iIX2SllYAvQanuKOBmCZSilnk3AvVelNMSoMRPI7o2GVBOwlyTSrfu5QWkQ(hKWDSsYqQNEw3dUsOCKgOT6ixHB(u1DNXnkXqxjf3zjSBkzXL98OZdgCLECt)4b5LE84uGJXaQYbY8MB62E6gVmat)YaK4Vaqw89FOFUi7CtbM(Vd(4DY9t5WEOaAfiaT6DNcKMqvnJ1gnr26z7L8v6En7)UiSELmaZ28zqVDKN9vKwAyzXrE2hsuwH3jp02MyT1x721DEABZsBqFvbvZ(xQ06qsSQdzrbIvnhkLMLjr0WVOKfTjetYd1wZuZgLdAc0WQ7txNhQR)21mQQINhAaXa9H33)jX5ld0HF8)WDXFWS)BJWBa0LQzBJmYR9a4nkjJSFh42kMdqhIZpWkleNdT5RygLSh5o)z2nYb(wBcktQJiMdKFtn7YQeOlzWFwQAR8QatyEvTvTvzoEYZ64DykrY(8Wo1lew6Ejo7Ey67jqn4GG8HL(sKPVwdxYN)CV10TyUMjkF8GLweTwgWwPU6ECPpt2wPNCSbYJ6UMYtLj7Ot3DwKoc)MHYEUjU(eVr8iTw2qJpRZ6tAXE1NzQHbwQs0jmQhSSHUMrv)hJOqEtNc8J3JF9M(4tlslIowGFqtQD8L5yBRkrhbnTRUFmNAYiT45hTUQ2Kvb0LFJerFyn6b(nZzriCflLJ8)BBXOsoMZNEpwO5K2RT)S6allTY0bcyLMZqTGkov(Zp\""
   ]
  },
  {
   "cell_type": "code",
   "execution_count": null,
   "id": "bca6bf04-e5a5-4e74-863f-6a4ce0588441",
   "metadata": {},
   "outputs": [],
   "source": []
  }
 ],
 "metadata": {
  "kernelspec": {
   "display_name": "Python 3",
   "language": "python",
   "name": "python3"
  },
  "language_info": {
   "codemirror_mode": {
    "name": "ipython",
    "version": 3
   },
   "file_extension": ".py",
   "mimetype": "text/x-python",
   "name": "python",
   "nbconvert_exporter": "python",
   "pygments_lexer": "ipython3",
   "version": "3.8.8"
  }
 },
 "nbformat": 4,
 "nbformat_minor": 5
}
