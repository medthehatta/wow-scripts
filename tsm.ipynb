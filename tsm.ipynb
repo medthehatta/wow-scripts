{
 "cells": [
  {
   "cell_type": "code",
   "execution_count": 1,
   "id": "1d210c4d-bf48-4ec4-8c35-7ac9f0628b71",
   "metadata": {},
   "outputs": [],
   "source": [
    "from importlib import reload\n",
    "def reload_all():\n",
    "    import tsm; reload(tsm)\n",
    "    import _keys; reload(_keys)\n",
    "    import blizzard; reload(blizzard)\n",
    "    import config; reload(config)\n",
    "    import kvstore; reload(kvstore)\n",
    "    import snapshot; reload(snapshot)\n",
    "    import elemental_arbitrage; reload(elemental_arbitrage)\n",
    "    import bliz_tsm_join; reload(bliz_tsm_join)\n",
    "    import crafting; reload(crafting)\n",
    "    import kvstore; reload(kvstore)\n",
    "    import crafting; reload(crafting)\n",
    "    import procurement; reload(procurement)\n",
    "reload_all()\n",
    "from itables import show"
   ]
  },
  {
   "cell_type": "code",
   "execution_count": 2,
   "id": "51f1c1c4-c910-4c41-80f0-35987a1e4f01",
   "metadata": {},
   "outputs": [
    {
     "name": "stderr",
     "output_type": "stream",
     "text": [
      "WARNING:snapshot:Could not fetch data with 'tsm_ah_snapper', falling back to cached 'ah\\snap-2023-01-18T08-20-59' from '2023-01-18 08:20:59' as requested.  Error info (next line)\n",
      "429 Client Error: Too Many Requests for url: https://pricing-api.tradeskillmaster.com/region/13\n"
     ]
    }
   ],
   "source": [
    "from snapshot import SnapshotProcessor\n",
    "from tsm import auction_house_snapshot\n",
    "from config import tsm_region_id\n",
    "from config import tsm_realm_id\n",
    "from config import tsm_ah_id\n",
    "from config import tsm_cache_dir\n",
    "\n",
    "def tsm_ah_snapper():\n",
    "    return auction_house_snapshot(tsm_region_id, tsm_realm_id, tsm_ah_id)\n",
    "\n",
    "tsm_ah_snap = SnapshotProcessor(tsm_ah_snapper, cache_dir=tsm_cache_dir)\n",
    "tsm_ah = tsm_ah_snap.get(max_age_seconds=3000)"
   ]
  },
  {
   "cell_type": "code",
   "execution_count": 3,
   "id": "3a780b13-30a3-4f1e-8e33-9a03b0165f2c",
   "metadata": {},
   "outputs": [],
   "source": [
    "from snapshot import SnapshotProcessor\n",
    "from blizzard import auction_data\n",
    "from blizzard import auction_summary\n",
    "from config import blizzard_realm_id\n",
    "from config import blizzard_ah_id\n",
    "from config import blizzard_cache_dir\n",
    "\n",
    "def bliz_ah_snapper():\n",
    "    return auction_data(blizzard_realm_id, blizzard_ah_id)\n",
    "\n",
    "bliz_ah_snap = SnapshotProcessor(bliz_ah_snapper, cache_dir=blizzard_cache_dir)\n",
    "bliz_ah = bliz_ah_snap.get(max_age_seconds=3000)"
   ]
  },
  {
   "cell_type": "code",
   "execution_count": 4,
   "id": "b5d2b47b-0b5f-4a80-9a7e-438f254c7c6f",
   "metadata": {},
   "outputs": [],
   "source": [
    "from kvstore import InefficientKVStore\n",
    "from blizzard import ItemLookup\n",
    "from blizzard import collapse_languages\n",
    "from config import blizzard_item_cache\n",
    "from config import blizzard_item_reverse_cache\n",
    "\n",
    "items = ItemLookup(\n",
    "    InefficientKVStore(blizzard_item_cache),\n",
    "    InefficientKVStore(blizzard_item_reverse_cache),\n",
    ")"
   ]
  },
  {
   "cell_type": "code",
   "execution_count": 5,
   "id": "0ac0b9a9-1a5d-4784-a2b0-42cdf5787ab7",
   "metadata": {},
   "outputs": [],
   "source": [
    "from bliz_tsm_join import item_info_getter\n",
    "item_info = item_info_getter(items, bliz_ah_snap, tsm_ah_snap, max_age_seconds=3000)\n",
    "item_info_current = item_info_getter(items, bliz_ah_snap, tsm_ah_snap, max_age_seconds=0)"
   ]
  },
  {
   "cell_type": "code",
   "execution_count": 6,
   "id": "2eeacf23-c2d1-4bce-93ad-3c97cbeb4660",
   "metadata": {
    "tags": []
   },
   "outputs": [
    {
     "name": "stderr",
     "output_type": "stream",
     "text": [
      "<ipython-input-6-e5b0eba07282>:14: UserWarning: DataFrame columns are not unique, some columns will be omitted.\n",
      "  entries = list(df_all.transpose().to_dict().values())\n"
     ]
    },
    {
     "data": {
      "text/html": [
       "<style>.itables table td {\n",
       "    text-overflow: ellipsis;\n",
       "    overflow: hidden;\n",
       "}\n",
       "\n",
       ".itables table th {\n",
       "    text-overflow: ellipsis;\n",
       "    overflow: hidden;\n",
       "}\n",
       "\n",
       ".itables thead input {\n",
       "    width: 100%;\n",
       "    padding: 3px;\n",
       "    box-sizing: border-box;\n",
       "}\n",
       "\n",
       ".itables tfoot input {\n",
       "    width: 100%;\n",
       "    padding: 3px;\n",
       "    box-sizing: border-box;\n",
       "}\n",
       "</style>\n",
       "<div class=\"itables\">\n",
       "<table id=\"e1101a9a-69b2-417c-ab2d-9045eb25d632\" class=\"display nowrap\"style=\"table-layout:auto;width:auto;margin:auto;caption-side:bottom\"><thead>\n",
       "    <tr style=\"text-align: right;\">\n",
       "      \n",
       "      <th>name</th>\n",
       "      <th>net</th>\n",
       "      <th>rate</th>\n",
       "      <th>num</th>\n",
       "    </tr>\n",
       "  </thead><tbody><tr><td>Loading... (need <a href=https://mwouts.github.io/itables/troubleshooting.html>help</a>?)</td></tr></tbody></table>\n",
       "<link rel=\"stylesheet\" type=\"text/css\" href=\"https://cdn.datatables.net/1.13.1/css/jquery.dataTables.min.css\">\n",
       "<script type=\"module\">\n",
       "    // Import jquery and DataTable\n",
       "    import 'https://code.jquery.com/jquery-3.6.0.min.js';\n",
       "    import dt from 'https://cdn.datatables.net/1.12.1/js/jquery.dataTables.mjs';\n",
       "    dt($);\n",
       "\n",
       "    // Define the table data\n",
       "    const data = [[\"Flask of Stoneblood\", 16508350.0, 0.851852, 29], [\"Flask of Endless Rage\", 15702470.0, 0.916667, 24], [\"Flask of the Frost Wyrm\", 12762849.0, 0.785714, 28], [\"Arcane Dust\", 11819367.0, 0.609756, 41], [\"Lesser Cosmic Essence\", 6886448.0, 0.25, 12], [\"Eternal Life\", 6279440.0, 0.571429, 7], [\"Skyflare Diamond\", 5600486.0, 0.5625, 17], [\"Indestructible Potion\", 3816498.0, 0.555556, 18], [\"Crystallized Water\", 1971650.0, 0.583333, 24], [\"Infinite Dust\", 1708703.0, 0.625, 16], [\"Potion of Speed\", 1313153.0, 0.714286, 7], [\"Crystallized Life\", 902990.0, 0.357143, 14], [\"Arcanite Bar\", 885235.0, 0.172414, 29], [\"Bolt of Woolen Cloth\", 853138.0, 0.5, 26], [\"Truesilver Bar\", 845443.0, 0.8, 5], [\"Tiger Lily\", 795754.0, 0.391304, 23], [\"Runic Healing Potion\", 754914.0, 0.5, 8], [\"Firebloom\", 696688.0, 0.3, 10], [\"Khadgar's Whisker\", 667800.0, 0.285714, 7], [\"Runic Mana Potion\", 655806.0, 0.454545, 11], [\"Elixir of Lightning Speed\", 490533.0, 0.666667, 6], [\"Greater Cosmic Essence\", 360994.0, 0.333333, 6], [\"Saronite Bomb\", 337610.0, 0.4, 10], [\"Gold Bar\", 307740.0, 0.8, 5], [\"Rhino Dogs\", 305693.0, 0.307692, 13], [\"Strange Dust\", 304017.0, 0.6, 5], [\"Greater Planar Essence\", 287880.0, 0.4, 5], [\"Mageroyal\", 267298.0, 0.416667, 15], [\"Explosive Sheep\", 234595.0, 0.428571, 7], [\"Solid Stone\", 132574.0, 0.8, 5], [\"Black Jelly\", 124175.0, 0.2, 10], [\"Kingsblood\", 114771.0, 0.25, 8], [\"Refreshing Spring Water\", 96370.0, 0.333333, 6], [\"Bolt of Linen Cloth\", 48660.0, 0.25, 12], [\"Linen Cloth\", 48529.0, 1.0, 6], [\"Thorium Widget\", 31190.0, 0.25, 8], [\"Crystallized Air\", -235166.0, 1.0, 15], [\"Chalcedony\", -674459.0, 0.75, 9], [\"Saronite Bar\", -1126302.0, 1.0, 6], [\"Eternal Air\", -2875676.0, 1.0, 9]];\n",
       "\n",
       "    // Define the dt_args\n",
       "    let dt_args = {\"order\": []};\n",
       "    dt_args[\"data\"] = data;\n",
       "\n",
       "    $(document).ready(function () {\n",
       "        \n",
       "        $('#e1101a9a-69b2-417c-ab2d-9045eb25d632').DataTable(dt_args);\n",
       "    });\n",
       "</script>\n",
       "</div>\n"
      ],
      "text/plain": [
       "<IPython.core.display.HTML object>"
      ]
     },
     "metadata": {},
     "output_type": "display_data"
    }
   ],
   "source": [
    "from cytoolz import groupby\n",
    "import pandas as pd\n",
    "\n",
    "df_sales = pd.read_csv(\"Accounting_Earthfury_sales.csv\")\n",
    "df_sales[\"mode\"] = \"sold\"\n",
    "df_purchases = pd.read_csv(\"Accounting_Earthfury_purchases.csv\")\n",
    "df_purchases[\"mode\"] = \"purchased\"\n",
    "df_expired = pd.read_csv(\"Accounting_Earthfury_expired.csv\")\n",
    "df_expired[\"mode\"] = \"expired\"\n",
    "df_canceled = pd.read_csv(\"Accounting_Earthfury_canceled.csv\")\n",
    "df_canceled[\"mode\"] = \"canceled\"\n",
    "df_all = pd.concat([df_sales, df_purchases, df_expired, df_canceled])\n",
    "\n",
    "entries = list(df_all.transpose().to_dict().values())\n",
    "grouped = groupby(lambda entry: entry[\"itemString\"], entries)\n",
    "names = {entry[\"itemString\"]: entry[\"itemName\"] for entry in entries}\n",
    "nets = {\n",
    "    k: sum(\n",
    "        (\n",
    "            vv[\"price\"]*vv[\"quantity\"] if vv[\"mode\"] == \"sold\" else\n",
    "            -vv[\"price\"]*vv[\"quantity\"] if vv[\"mode\"] == \"purchased\" else\n",
    "            0\n",
    "        ) for vv in v\n",
    "    )\n",
    "    for (k, v) in grouped.items()\n",
    "}\n",
    "ah_events = {k: [vv[\"mode\"] for vv in v if vv[\"source\"] != \"Vendor\"] for (k, v) in grouped.items()}\n",
    "sale_rate = {\n",
    "    k: v.count(\"sold\") / (v.count(\"sold\") + v.count(\"expired\") + v.count(\"canceled\"))\n",
    "    for (k, v) in ah_events.items()\n",
    "    if v.count(\"sold\") > 1\n",
    "}\n",
    "agg = {k: {\"name\": names[k], \"net\": nets[k], \"rate\": sale_rate[k], \"num\": len(ah_events[k])} for k in sale_rate}\n",
    "show(pd.DataFrame(sorted(\n",
    "    [v for v in agg.values() if v[\"num\"] > 4],\n",
    "    key=lambda entry: entry[\"net\"],\n",
    "    reverse=True,\n",
    ")))"
   ]
  },
  {
   "cell_type": "code",
   "execution_count": 7,
   "id": "fe1f1466-a912-4317-8179-61cf81343e04",
   "metadata": {},
   "outputs": [],
   "source": [
    "import pickle\n",
    "from cytoolz import get as pick_from_dict\n",
    "from cytoolz import sliding_window\n",
    "import glob\n",
    "import itertools\n",
    "from blizzard import auction_summary\n",
    "import re\n",
    "import numpy as np\n",
    "import datetime\n",
    "np.set_printoptions(suppress=True)\n",
    "\n",
    "_names = \"\"\"\n",
    "flask of the frost wyrm\n",
    "flask of endless rage\n",
    "flask of stoneblood\n",
    "titanium bar\n",
    "indestructible potion\n",
    "eternal shadow\n",
    "oily blackmouth\n",
    "elixir of mighty thoughts\n",
    "frostweave cloth\n",
    "wildvine\n",
    "felcloth\n",
    "lesser healing potion\n",
    "runic mana potion\n",
    "greater planar essence\n",
    "netherweave cloth\n",
    "greater healing potion\n",
    "crystallized water\n",
    "purple lotus\n",
    "bruiseweed\n",
    "arcane dust\n",
    "tiger lily\n",
    "crystallized fire\n",
    "major healing potion\n",
    "potion of speed\n",
    "potion of wild magic\n",
    "lichbloom\n",
    "pygmy oil\n",
    "adder's tongue\n",
    "imbued vial\n",
    "icethorn\n",
    "frost lotus\n",
    "enchanted vial\n",
    "goldclover\n",
    "crystallized life\n",
    "eternal life\n",
    "deadnettle\n",
    "elixir of accuracy\n",
    "lesser planar essence\n",
    "eternal fire\n",
    "eternal water\n",
    "chaotic skyflare diamond\n",
    "skyflare diamond\n",
    "potent monarch topaz\n",
    "monarch topaz\n",
    "runed scarlet ruby\n",
    "scarlet ruby\n",
    "purified twilight opal\n",
    "twilight opal\n",
    "potion of speed\n",
    "potion of wild magic\n",
    "lichbloom\n",
    "frostweave cloth\n",
    "infinite dust\n",
    "greater cosmic essence\n",
    "dream shard\n",
    "eternal belt buckle\n",
    "titansteel bar\n",
    "titansteel spellblade\n",
    "mageweave cloth\n",
    "rough stone\n",
    "copper bar\n",
    "coarse stone\n",
    "linen cloth\n",
    "bronze bar\n",
    "heavy stone\n",
    "moss agate\n",
    "wool cloth\n",
    "medium leather\n",
    "steel bar\n",
    "solid stone\n",
    "mithril bar\n",
    "mageweave cloth\n",
    "dense stone\n",
    "thorium bar\n",
    "runecloth\n",
    "fel iron bar\n",
    "mote of earth\n",
    "mote of fire\n",
    "netherweave cloth\n",
    "adamantite bar\n",
    "cobalt bar\n",
    "frostweave cloth\n",
    "crystallized water\n",
    "crystallized earth\n",
    "crystallized fire\n",
    "borean leather\n",
    "eternal shadow\n",
    "saronite bar\n",
    "liferoot\n",
    "blackmouth oil\n",
    "briarthorn\n",
    "bruiseweed\n",
    "elixir of greater defense\n",
    "fadeleaf\n",
    "goldclover\n",
    "goldthorn\n",
    "greater healing potion\n",
    "imbued vial\n",
    "kingsblood\n",
    "lesser invisibility potion\n",
    "lichbloom\n",
    "liferoot\n",
    "major troll's blood elixir\n",
    "nature protection potion\n",
    "oily blackmouth\n",
    "runic mana potion\n",
    "stranglekelp\n",
    "swiftness potion\n",
    "swiftthistle\n",
    "swim speed potion\n",
    "wild steelbloom\n",
    "elixir of water walking\n",
    "elixir of mighty thoughts\n",
    "\"\"\".strip().splitlines()\n",
    "\n",
    "desired_names = list(set(_names))\n",
    "desired_ids = [items.get_id(name) for name in desired_names if not name.startswith(\"#\")]\n",
    "\n",
    "\n",
    "date_re = re.compile(r\"202.-..-..T..-..-..\")\n",
    "def _timestamp_from_name(name):\n",
    "    cap = date_re.search(name).group(0)\n",
    "    return datetime.datetime.strptime(cap, \"%Y-%m-%dT%H-%M-%S\").timestamp()\n",
    "\n",
    "\n",
    "by_item = {}\n",
    "timeseries = []\n",
    "\n",
    "for snapshot in sorted(glob.glob(\"bliz-ah/*\")):\n",
    "    with open(snapshot, \"rb\") as f:\n",
    "        entries = pickle.load(f).values()\n",
    "        timeseries.extend(\n",
    "            [\n",
    "                {\"timestamp\": _timestamp_from_name(snapshot), \"item_name\": items.get_name(item_id), **auction_summary(item_data)}\n",
    "                for (item_id, item_data) in zip(desired_ids, entries)\n",
    "            ]\n",
    "        )\n",
    "        for (item_id, item_data) in zip(desired_ids, entries):\n",
    "            name = items.get_name(item_id)\n",
    "            by_item[name] = by_item.get(name, []) + [{\"timestamp\": date_re.search(snapshot).group(0), \"item_name\": items.get_name(item_id), **auction_summary(item_data)}]\n",
    "\n",
    "def timeseries_of(key, default=np.nan):\n",
    "    def _timeseries_of(item_name):\n",
    "        return np.array([v.get(key, default) for v in by_item[item_name]])\n",
    "    return _timeseries_of\n",
    "\n",
    "def omit_outliers(series, sigma=2, window=5):\n",
    "    mavg = [np.average(w) for w in sliding_window(window, series)]\n",
    "    std = np.std(mavg)\n",
    "    return np.array([x if np.abs(x) < sigma*std else np.nan for x in mavg])\n",
    "\n",
    "def avg_finite(arr):\n",
    "    return np.average(arr[np.isfinite(arr)])\n",
    "\n",
    "def min_series(x):\n",
    "    return omit_outliers(timeseries_of(\"avg_sell\")(x), sigma=0.5, window=10)"
   ]
  },
  {
   "cell_type": "code",
   "execution_count": 8,
   "id": "81d62533-0dd5-4148-bfc2-4bad4c40f8a8",
   "metadata": {},
   "outputs": [],
   "source": [
    "import plotly.express as px\n",
    "for yvalue in [\"num\", \"min\", \"p50\", \"d_num\", \"d_min\", \"d_p50\"]:\n",
    "    df = pd.DataFrame(timeseries)\n",
    "    df = df.sort_values(by=\"timestamp\")\n",
    "\n",
    "    if yvalue.startswith(\"d_\"):\n",
    "        dfg = df.pivot(index=\"timestamp\", columns=\"item_name\", values=yvalue[2:])\n",
    "        dfg = dfg.diff().div(dfg.index.to_series().diff(), axis=0)\n",
    "    else:\n",
    "        dfg = df.pivot(index=\"timestamp\", columns=\"item_name\", values=yvalue)\n",
    "\n",
    "    fig = px.scatter(dfg, title=yvalue, log_y=False)\n",
    "    fig.write_html(f\"{yvalue}.html\")"
   ]
  },
  {
   "cell_type": "code",
   "execution_count": 9,
   "id": "d4a1788a-10cf-45ad-b5e8-80aeee9f2a6a",
   "metadata": {},
   "outputs": [],
   "source": [
    "def item_infos(items):\n",
    "    return pd.DataFrame([item_info(i) for i in items])"
   ]
  },
  {
   "cell_type": "code",
   "execution_count": 10,
   "id": "01e07bbf-7a8f-4a32-a005-40951c05f54f",
   "metadata": {
    "tags": []
   },
   "outputs": [
    {
     "data": {
      "text/html": [
       "<style>.itables table td {\n",
       "    text-overflow: ellipsis;\n",
       "    overflow: hidden;\n",
       "}\n",
       "\n",
       ".itables table th {\n",
       "    text-overflow: ellipsis;\n",
       "    overflow: hidden;\n",
       "}\n",
       "\n",
       ".itables thead input {\n",
       "    width: 100%;\n",
       "    padding: 3px;\n",
       "    box-sizing: border-box;\n",
       "}\n",
       "\n",
       ".itables tfoot input {\n",
       "    width: 100%;\n",
       "    padding: 3px;\n",
       "    box-sizing: border-box;\n",
       "}\n",
       "</style>\n",
       "<div class=\"itables\">\n",
       "<table id=\"d891e949-69fd-472e-93df-56b02d2107fc\" class=\"display nowrap\"style=\"table-layout:auto;width:auto;margin:auto;caption-side:bottom\"><thead>\n",
       "    <tr style=\"text-align: right;\">\n",
       "      \n",
       "      <th>id</th>\n",
       "      <th>name</th>\n",
       "      <th>num_auctions</th>\n",
       "      <th>quantity</th>\n",
       "      <th>weight_sell</th>\n",
       "      <th>avg_sell</th>\n",
       "      <th>max</th>\n",
       "      <th>p80</th>\n",
       "      <th>p50</th>\n",
       "      <th>p20</th>\n",
       "      <th>wp80</th>\n",
       "      <th>wp50</th>\n",
       "      <th>wp20</th>\n",
       "      <th>min</th>\n",
       "      <th>realm_market_value</th>\n",
       "      <th>realm_historical</th>\n",
       "      <th>region_historical</th>\n",
       "      <th>region_avg_sale_price</th>\n",
       "      <th>sale_pct</th>\n",
       "      <th>sold_per_day</th>\n",
       "      <th>headroom</th>\n",
       "      <th>market_skew_pct</th>\n",
       "      <th>auction_skew_pct</th>\n",
       "    </tr>\n",
       "  </thead><tbody><tr><td>Loading... (need <a href=https://mwouts.github.io/itables/troubleshooting.html>help</a>?)</td></tr></tbody></table>\n",
       "<link rel=\"stylesheet\" type=\"text/css\" href=\"https://cdn.datatables.net/1.13.1/css/jquery.dataTables.min.css\">\n",
       "<script type=\"module\">\n",
       "    // Import jquery and DataTable\n",
       "    import 'https://code.jquery.com/jquery-3.6.0.min.js';\n",
       "    import dt from 'https://cdn.datatables.net/1.12.1/js/jquery.dataTables.mjs';\n",
       "    dt($);\n",
       "\n",
       "    // Define the table data\n",
       "    const data = [[46376, \"flask of the frost wyrm\", 70, 431, 322.488711, 112.751921, 375.0, 350.0, 20.0, 18.5599, 375.0, 350.0, 350.0, 18.5598, 12.7664, 12.6497, 9.7288, 8.6012, 54.2, 1667, 2644, 0.92, -99.99], [46377, \"flask of endless rage\", 55, 397, 349.731407, 138.044229, 400.998, 369.996, 18.4997, 18.4996, 400.998, 369.996, 369.996, 18.4996, 12.1124, 12.7035, 9.9545, 8.8372, 58.1, 2051, 3133, -4.65, -99.98], [46379, \"flask of stoneblood\", 81, 141, 94.9427, 25.119201, 271.586, 27.1578, 13.5792, 13.579, 271.586, 27.1578, 13.5792, 13.579, 13.3908, 14.0, 11.5607, 9.4917, 49.7, 654, 1174, -4.35, -99.99], [41163, \"titanium bar\", 34, 157, 140.727272, 56.271791, 264.998, 107.0, 12.2499, 12.2499, 245.0, 107.0, 66.2495, 12.2498, 12.5425, 9.4996, 8.4557, 6.0056, 52.7, 1144, 2013, 32.03, -99.99], [40093, \"indestructible potion\", 1, 3, 10.95, 10.95, 10.95, 10.95, 10.95, 10.95, 10.95, 10.95, 10.95, 10.95, 4.2044, 4.3498, 2.8685, 2.3484, 49.5, 1846, 3726, -3.34, -99.97], [35627, \"eternal shadow\", 14, 114, 74.023076, 47.688136, 210.0, 55.0, 24.6591, 2.7398, 55.0, 54.798, 39.2, 2.7398, 3.9339, 3.9245, 2.9163, 1.7404, 58.9, 2403, 3965, 0.24, -99.99], [6358, \"oily blackmouth\", 2, 9, 2.232011, 2.09445, 3.3325, 3.3325, 3.3325, 0.8564, 3.3325, 3.3325, 0.8564, 0.8564, 0.394, 0.5, 0.579, 1.4152, 53.4, 742, 1380, -21.2, -99.98], [44332, \"elixir of mighty thoughts\", 4, 18, 67.269789, 26.93475, 83.9398, 83.9398, 11.8998, 5.9497, 83.9398, 83.9398, 11.8998, 5.9497, 5.2114, 2.9351, 2.9999, 2.5358, 52.6, 231, 421, 77.55, -99.99], [33470, \"frostweave cloth\", 145, 2055, 23.582279, 17.847029, 50.0, 25.0, 17.998, 1.48, 35.0, 19.0, 17.998, 0.0, 0.7242, 0.5012, 0.4539, 0.3761, 83.5, 23363, 25924, 44.49, -100.0], [8153, \"wildvine\", 2, 3, 19.999867, 17.9999, 23.9998, 23.9998, 23.9998, 12.0, 23.9998, 23.9998, 12.0, 12.0, 1.7003, 1.4659, 0.7433, 0.6564, 50.4, 212, 417, 15.99, -99.93], [14256, \"felcloth\", 15, 18, 10.928061, 9.913767, 17.9994, 9.8, 9.7997, 9.7997, 11.9998, 9.8, 9.7997, 5.9996, 8.2648, 3.779, 2.3482, 1.466, 35.5, 41, 97, 118.7, -99.99], [858, \"lesser healing potion\", 2, 13, 0.597754, 0.4633, 0.713, 0.713, 0.713, 0.2136, 0.713, 0.713, 0.2136, 0.2136, 0.1123, 0.0743, 0.0398, 0.063, 39.0, 133, 328, 51.14, -99.98], [33448, \"runic mana potion\", 18, 29, 11.447431, 6.443861, 23.9976, 7.999, 3.9998, 3.9993, 23.9976, 7.999, 3.9993, 3.9993, 1.5831, 1.2916, 1.1432, 1.4123, 78.0, 1396, 1760, 22.57, -99.97], [22446, \"greater planar essence\", 87, 363, 179.304164, 90.297867, 250.0, 250.0, 25.0, 25.0, 250.0, 250.0, 84.9975, 15.998, 15.7902, 11.0271, 8.5137, 5.2328, 51.2, 883, 1361, 43.19, -99.99], [21877, \"netherweave cloth\", 129, 2398, 6.641921, 6.270834, 22.996, 10.54, 4.45, 2.4, 10.54, 4.45, 2.4, 0.0, 0.2835, 0.2267, 0.1995, 0.1677, 82.8, 16473, 17496, 25.06, -100.0], [1710, \"greater healing potion\", 9999, 9999, 0.05, 0.05, 0.05, 0.05, 0.05, 0.05, 0.05, 0.05, 0.05, 0.05, 0.8931, 0.7455, 0.5295, 0.617, 64.9, 182, -9718, 19.8, -100.0], [37705, \"crystallized water\", 39, 245, 16.763866, 13.206536, 20.202, 20.191, 11.5995, 4.0396, 20.191, 20.191, 11.5995, 1.9999, 0.6958, 0.7852, 0.4866, 0.3136, 65.1, 2275, 3249, -11.39, -99.97], [8831, \"purple lotus\", 4, 19, 29.742353, 12.420375, 38.99, 38.99, 4.2768, 2.1383, 38.99, 38.99, 4.2768, 2.1383, 2.1973, 1.7497, 1.1198, 0.6991, 54.1, 1152, 2110, 25.58, -99.99], [2453, \"bruiseweed\", 4, 56, 11.8312, 10.5316, 13.996, 13.996, 12.7386, 4.1982, 13.996, 12.7386, 11.1936, 4.1982, 0.4795, 0.4899, 0.3929, 0.2314, 50.1, 1010, 1959, -2.12, -99.91], [22445, \"arcane dust\", 312, 2418, 35.395427, 20.678977, 99.998, 24.792, 12.396, 4.9999, 49.584, 24.792, 12.396, 2.3977, 2.5154, 2.2113, 1.592, 1.0891, 61.3, 5995, 7361, 13.75, -99.99], [36904, \"tiger lily\", 28, 499, 8.704198, 7.910039, 9.388, 8.758, 8.748, 8.748, 9.388, 8.748, 8.748, 0.4377, 0.3358, 0.426, 0.3501, 0.3095, 78.4, 8804, 10730, -21.17, -99.99], [37702, \"crystallized fire\", 12, 47, 24.009374, 16.81175, 44.297, 22.1495, 12.3297, 8.8592, 44.297, 20.55, 8.8592, 8.8, 3.9076, 2.9358, 2.3429, 1.7637, 56.5, 455, 758, 33.1, -99.98], [13446, \"major healing potion\", 9, 25, 6.363168, 2.976067, 10.808, 4.9125, 1.3, 1.2998, 10.808, 4.9125, 1.9648, 1.2997, 1.0977, 0.5521, 0.4255, 0.3804, 52.4, 252, 455, 98.82, -99.99], [40211, \"potion of speed\", 34, 260, 138.999779, 96.117309, 220.0, 78.9995, 78.9995, 58.9995, 220.0, 78.9995, 59.0, 54.9995, 9.0652, 4.9183, 4.8142, 4.0999, 69.4, 8758, 12359, 84.32, -99.94], [40212, \"potion of wild magic\", 1, 20, 249.9999, 249.9999, 249.9999, 249.9999, 249.9999, 249.9999, 249.9999, 249.9999, 249.9999, 249.9999, 10.0629, 7.4899, 6.2233, 5.8138, 58.2, 2124, 3629, 34.35, -99.75], [36905, \"lichbloom\", 71, 664, 79.478184, 47.772845, 112.098, 100.0, 53.527, 4.9999, 100.5, 100.0, 53.527, 0.0, 2.6339, 1.2894, 1.6399, 1.6037, 70.9, 10883, 14685, 104.27, -100.0], [40195, \"pygmy oil\", 11, 14, 5.857143, 5.272727, 8.0, 5.0, 5.0, 5.0, 8.0, 5.0, 5.0, 5.0, 2.6466, 1.9594, 1.9215, 1.9099, 62.8, 3558, 5651, 35.07, -99.98], [36903, \"adder's tongue\", 36, 701, 24.422881, 23.81005, 25.0, 25.0, 23.998, 23.998, 25.0, 23.998, 23.998, 1.1998, 0.8817, 0.9262, 0.8146, 0.7408, 75.7, 19356, 24868, -4.8, -99.99], [18256, \"imbued vial\", 2, 18, 23.506311, 23.2196, 25.8, 25.8, 25.8, 20.6392, 25.8, 25.8, 20.6392, 20.6392, 2.5201, 2.3, 1.8833, 0.7469, 18.6, 141, 740, 9.57, -99.92], [36906, \"icethorn\", 56, 509, 54.684574, 31.329129, 80.0, 60.5, 34.999, 3.4997, 75.0, 60.5, 34.999, 0.0, 1.931, 0.9155, 0.8624, 0.693, 68.5, 17279, 24715, 110.92, -100.0], [36908, \"frost lotus\", 37, 437, 87.291694, 57.552446, 125.9, 89.998, 75.568, 9.0, 98.2, 89.998, 75.568, 7.5568, 6.1356, 4.8112, 1.628, 1.4732, 50.9, 1782, 3063, 27.53, -99.99], [40411, \"enchanted vial\", 9999, 9999, 5.0, 5.0, 5.0, 5.0, 5.0, 5.0, 5.0, 5.0, 5.0, 5.0, 35.0, 2.9, 4.0886, 1.5554, 21.4, 39, -9816, 1106.9, -100.0], [36901, \"goldclover\", 44, 478, 12.345965, 8.172048, 16.3, 16.298, 10.302, 3.0, 16.3, 10.302, 10.302, 3.0, 0.3935, 0.5521, 0.3955, 0.3309, 77.2, 10939, 13691, -28.73, -99.92], [37704, \"crystallized life\", 10, 63, 11.070963, 8.03309, 12.448, 12.448, 12.448, 2.4898, 12.448, 12.448, 10.0, 1.1111, 0.9822, 1.1931, 1.2036, 0.9737, 38.7, 724, 1807, -17.68, -99.99], [35625, \"eternal life\", 49, 59, 54.133573, 24.181241, 200.9, 20.4996, 20.4996, 20.4996, 20.4996, 20.4996, 20.4996, 20.4996, 7.5718, 12.9765, 11.5525, 9.3702, 58.3, 2242, 3786, -41.65, -99.97], [37921, \"deadnettle\", 10, 167, 11.928105, 10.62625, 15.002, 15.0, 10.004, 8.0032, 15.0, 10.004, 10.004, 1.5002, 0.372, 0.501, 0.3686, 0.3188, 72.6, 7521, 10192, -25.75, -99.96], [44325, \"elixir of accuracy\", 2, 6, 3.249983, 2.24995, 3.75, 3.75, 3.75, 0.7499, 3.75, 3.75, 3.75, 0.7499, 3.5793, 2.9897, 1.9498, 1.4112, 43.4, 132, 298, 19.72, -100.0], [22447, \"lesser planar essence\", 11, 15, 16.216407, 9.4771, 34.7495, 6.95, 6.9498, 6.9498, 34.7495, 6.95, 6.9498, 6.9498, 6.4314, 4.2559, 3.0093, 1.7298, 38.0, 236, 606, 51.12, -99.99], [36860, \"eternal fire\", 29, 60, 290.59271, 60.606145, 585.0, 30.5497, 29.6969, 29.2498, 585.0, 380.2487, 29.2498, 24.0, 28.5504, 23.7639, 20.0, 15.8014, 59.6, 1514, 2480, 20.14, -99.99], [35622, \"eternal water\", 56, 101, 31.765589, 21.828234, 150.05, 25.0, 14.0996, 12.0, 35.2475, 14.0996, 14.0996, 7.9998, 3.7491, 2.443, 2.2885, 1.3017, 56.1, 1080, 1824, 53.46, -99.98], [41285, \"chaotic skyflare diamond\", 6, 6, 94.16665, 94.16665, 100.0, 100.0, 100.0, 88.0, 100.0, 100.0, 88.0, 88.0, 66.5106, 51.4999, 34.7335, 20.6772, 48.7, 136, 273, 29.15, -99.99], [41266, \"skyflare diamond\", 20, 39, 205.893149, 40.51444, 379.976, 23.8636, 22.0, 21.9999, 379.976, 379.976, 21.9999, 21.9999, 24.5404, 17.9249, 17.8739, 10.9971, 44.6, 210, 431, 36.91, -99.99], [40048, \"potent monarch topaz\", 3, 3, 50.0, 50.0, 50.0, 50.0, 50.0, 50.0, 50.0, 50.0, 50.0, 50.0, 40.0303, 42.25, 24.2141, 16.3042, 24.9, 41, 161, -5.25, -99.99], [36930, \"monarch topaz\", 65, 77, 47.938296, 33.71152, 125.0, 30.5196, 30.5193, 23.9999, 40.0, 30.5193, 24.9998, 22.9996, 18.0703, 16.4915, 11.5102, 8.0031, 58.4, 380, 573, 9.57, -99.99], [39998, \"runed scarlet ruby\", 9, 9, 150.699778, 150.699778, 150.6998, 150.6998, 150.6998, 150.6997, 150.6998, 150.6998, 150.6997, 150.6997, 121.0486, 120.9744, 93.618, 78.9145, 57.0, 251, 431, 0.06, -99.99], [36918, \"scarlet ruby\", 28, 37, 187.527105, 113.267918, 450.0, 88.9997, 83.5007, 83.0, 450.0, 87.9996, 83.0, 74.5, 86.6252, 81.678, 73.853, 62.0779, 60.2, 226, 338, 6.06, -99.99], [40026, \"purified twilight opal\", 23, 23, 34.485843, 34.485843, 34.9998, 34.9998, 34.8884, 33.9, 34.9998, 34.8884, 33.9, 33.9, 40.3899, 31.9997, 28.5264, 18.3921, 49.1, 142, 266, 26.22, -99.99], [36927, \"twilight opal\", 57, 66, 25.604406, 18.664754, 75.0, 18.5002, 18.4995, 12.0, 22.9996, 18.4997, 12.9997, 10.8997, 11.1412, 8.0241, 8.0371, 6.3956, 57.0, 299, 458, 38.85, -99.99], [40211, \"potion of speed\", 34, 260, 138.999779, 96.117309, 220.0, 78.9995, 78.9995, 58.9995, 220.0, 78.9995, 59.0, 54.9995, 9.0652, 4.9183, 4.8142, 4.0999, 69.4, 8758, 12359, 84.32, -99.94], [40212, \"potion of wild magic\", 1, 20, 249.9999, 249.9999, 249.9999, 249.9999, 249.9999, 249.9999, 249.9999, 249.9999, 249.9999, 249.9999, 10.0629, 7.4899, 6.2233, 5.8138, 58.2, 2124, 3629, 34.35, -99.75], [36905, \"lichbloom\", 71, 664, 79.478184, 47.772845, 112.098, 100.0, 53.527, 4.9999, 100.5, 100.0, 53.527, 0.0, 2.6339, 1.2894, 1.6399, 1.6037, 70.9, 10883, 14685, 104.27, -100.0], [33470, \"frostweave cloth\", 145, 2055, 23.582279, 17.847029, 50.0, 25.0, 17.998, 1.48, 35.0, 19.0, 17.998, 0.0, 0.7242, 0.5012, 0.4539, 0.3761, 83.5, 23363, 25924, 44.49, -100.0], [34054, \"infinite dust\", 73, 523, 32.966938, 13.43634, 39.99, 35.99, 2.9999, 1.7989, 35.998, 35.99, 35.978, 1.7986, 1.6531, 1.8283, 1.6482, 1.2323, 61.4, 21033, 33732, -9.58, -99.99], [34055, \"greater cosmic essence\", 16, 17, 23.470929, 22.45165, 39.7794, 21.9998, 21.9998, 19.8898, 21.9998, 21.9998, 19.8898, 19.8898, 23.0521, 19.8937, 15.9913, 13.7441, 51.9, 1853, 3553, 15.88, -99.99], [34052, \"dream shard\", 5, 9, 56.494189, 37.7257, 94.0, 94.0, 18.9498, 18.9498, 94.0, 37.8192, 18.9498, 18.9097, 20.3691, 20.9932, 17.1834, 14.2041, 49.5, 1916, 3861, -2.97, -99.99], [41611, \"eternal belt buckle\", 23, 23, 44.1634, 44.1634, 44.9999, 44.0, 44.0, 43.9699, 44.0, 44.0, 43.9699, 43.9697, 59.5678, 63.1398, 41.7191, 29.1009, 60.9, 256, 397, -5.66, -99.99], [37663, \"titansteel bar\", 19, 20, 149.20966, 142.957547, 267.9998, 139.3549, 139.3549, 134.0, 139.355, 139.3549, 134.9998, 124.9999, 136.4591, 134.865, 116.0104, 105.8171, 73.1, 592, 789, 1.18, -99.99], [45085, \"titansteel spellblade\", 1, 1, 1499.9999, 1499.9999, 1499.9999, 1499.9999, 1499.9999, 1499.9999, 1499.9999, 1499.9999, 1499.9999, 1499.9999, 1404.3307, 1571.907, 1199.4998, 926.8101, 26.1, 8, 29, -10.66, -99.99], [4338, \"mageweave cloth\", 49, 647, 11.820514, 8.739673, 15.976, 13.986, 9.848, 2.0958, 14.16, 13.96, 8.2544, 0.4999, 0.6087, 0.6282, 0.4934, 0.449, 68.5, 6809, 9293, -3.1, -99.99], [2835, \"rough stone\", 210, 4088, 3.86928, 3.801662, 4.994, 3.964, 3.964, 3.964, 3.964, 3.964, 3.964, 0.5691, 0.1533, 0.0445, 0.0099, 0.0336, 49.9, 3580, 3086, 244.49, -99.96], [2840, \"copper bar\", 83, 596, 30.321678, 13.542, 40.0, 35.0, 10.0, 2.0, 39.998, 35.0, 10.0, 2.0, 0.5916, 0.5113, 0.5096, 0.6672, 64.1, 4253, 6038, 15.71, -99.97], [2836, \"coarse stone\", 19, 221, 1.816027, 1.323984, 3.5, 1.978, 1.2636, 0.3908, 1.978, 1.8735, 0.8802, 0.0973, 0.1148, 0.1388, 0.0989, 0.1742, 63.5, 3753, 5689, -17.29, -99.99], [2589, \"linen cloth\", 281, 5458, 2.58093, 2.519113, 3.9, 2.96, 2.96, 1.8, 2.96, 2.96, 1.998, 0.0457, 0.1019, 0.0516, 0.0261, 0.1118, 57.6, 7880, 8222, 97.48, -100.0], [2841, \"bronze bar\", 6, 116, 31.206897, 31.016667, 60.6, 27.0, 25.0, 24.5, 27.0, 25.0, 24.5, 24.0, 1.8735, 1.3932, 1.1081, 1.2587, 65.7, 6090, 9153, 34.47, -99.87], [2838, \"heavy stone\", 23, 237, 31.792789, 18.91577, 75.1, 30.0, 7.0607, 3.0, 51.0, 30.0, 7.0607, 0.7598, 0.7433, 0.4121, 0.3472, 0.3633, 57.9, 4942, 8298, 80.37, -99.99], [1206, \"moss agate\", 44, 48, 31.218473, 31.079243, 55.7499, 55.7499, 18.7499, 10.25, 55.7499, 28.0, 10.25, 7.0, 15.7929, 14.9999, 9.9999, 9.7161, 50.0, 420, 792, 5.29, -100.0], [2592, \"wool cloth\", 71, 787, 18.399051, 11.017449, 78.0, 14.896, 6.8888, 0.9457, 20.099, 9.038, 8.792, 0.4, 0.3845, 0.3308, 0.4466, 0.6265, 72.2, 7743, 9937, 16.23, -99.99], [2319, \"medium leather\", 28, 408, 6.440325, 4.993107, 12.0, 10.0, 3.9, 1.0, 10.0, 4.0, 3.0, 0.2119, 0.5267, 0.4086, 0.29, 0.4394, 54.5, 2589, 4342, 28.9, -100.0], [3859, \"steel bar\", 5, 59, 26.6542, 16.81596, 50.08, 50.08, 11.0, 2.9999, 50.08, 19.9999, 11.0, 0.0, 2.3303, 2.2362, 1.4307, 1.1045, 42.2, 1097, 2540, 4.21, -100.0], [7912, \"solid stone\", 16, 267, 23.050354, 22.008875, 46.15, 30.0, 16.1532, 14.598, 39.2258, 16.0, 14.598, 2.9196, 0.5734, 0.1872, 0.1187, 0.144, 62.5, 4875, 7533, 206.3, -99.95], [3860, \"mithril bar\", 614, 5643, 612.274413, 282.891199, 2584.064, 130.4, 2.6469, 2.6469, 2584.064, 130.4, 69.02, 0.0, 3.2323, 3.8534, 3.0893, 2.9005, 66.9, 7178, 5086, -16.12, -100.0], [4338, \"mageweave cloth\", 49, 647, 11.820514, 8.739673, 15.976, 13.986, 9.848, 2.0958, 14.16, 13.96, 8.2544, 0.4999, 0.6087, 0.6282, 0.4934, 0.449, 68.5, 6809, 9293, -3.1, -99.99], [12365, \"dense stone\", 45, 843, 32.523521, 31.545076, 49.996, 40.0, 28.998, 19.9999, 40.0, 29.0, 19.9999, 11.9992, 0.0926, 0.0531, 0.0547, 0.0788, 39.3, 3525, 8126, 74.39, -98.7], [12359, \"thorium bar\", 11, 173, 35.253364, 29.257527, 40.0, 39.0, 35.198, 15.5992, 39.0, 36.8, 35.198, 2.0, 1.3651, 1.0845, 1.1356, 0.9291, 66.1, 6246, 9276, 25.87, -99.99], [14047, \"runecloth\", 411, 8081, 9.554147, 9.428728, 45.008, 10.5313, 9.6911, 8.3811, 10.5313, 9.6969, 8.3811, 0.5334, 0.4451, 0.3397, 0.1832, 0.1627, 77.5, 20297, 18108, 31.03, -99.99], [23445, \"fel iron bar\", 155, 1036, 55.262471, 30.443275, 95.214, 23.803, 22.6125, 22.6125, 90.446, 23.803, 22.6125, 4.5221, 3.7624, 3.8973, 3.5147, 4.1399, 65.7, 2635, 2974, -3.46, -99.99], [22573, \"mote of earth\", 5, 32, 1.407241, 1.27538, 1.992, 1.992, 1.197, 0.997, 1.992, 1.3937, 0.997, 0.7972, 0.2178, 0.2052, 0.287, 0.3506, 49.4, 1329, 2658, 6.14, -99.96], [22574, \"mote of fire\", 9, 51, 2.149447, 1.420733, 2.994, 2.994, 0.6664, 0.3196, 2.994, 2.994, 0.6664, 0.3196, 0.4724, 0.7441, 1.2619, 1.4374, 57.3, 742, 1243, -36.51, -99.99], [21877, \"netherweave cloth\", 129, 2398, 6.641921, 6.270834, 22.996, 10.54, 4.45, 2.4, 10.54, 4.45, 2.4, 0.0, 0.2835, 0.2267, 0.1995, 0.1677, 82.8, 16473, 17496, 25.06, -100.0], [23446, \"adamantite bar\", 105, 314, 81.022906, 21.756119, 150.0, 35.0, 6.9999, 6.9999, 150.0, 62.4, 6.9999, 6.0, 5.3733, 3.0515, 2.8448, 2.2141, 56.9, 2373, 3856, 76.09, -99.99], [36916, \"cobalt bar\", 19, 210, 17.935667, 16.665737, 30.0, 15.097, 15.097, 15.097, 15.097, 15.097, 15.097, 15.097, 1.537, 1.5342, 1.4451, 1.3005, 74.0, 10612, 14130, 0.18, -99.9], [33470, \"frostweave cloth\", 145, 2055, 23.582279, 17.847029, 50.0, 25.0, 17.998, 1.48, 35.0, 19.0, 17.998, 0.0, 0.7242, 0.5012, 0.4539, 0.3761, 83.5, 23363, 25924, 44.49, -100.0], [37705, \"crystallized water\", 39, 245, 16.763866, 13.206536, 20.202, 20.191, 11.5995, 4.0396, 20.191, 20.191, 11.5995, 1.9999, 0.6958, 0.7852, 0.4866, 0.3136, 65.1, 2275, 3249, -11.39, -99.97], [37701, \"crystallized earth\", 9, 45, 11.210753, 7.2217, 14.695, 14.695, 4.4444, 1.67, 14.695, 14.695, 4.4444, 1.57, 0.996, 0.8984, 0.7405, 0.6871, 55.6, 751, 1305, 10.86, -99.98], [37702, \"crystallized fire\", 12, 47, 24.009374, 16.81175, 44.297, 22.1495, 12.3297, 8.8592, 44.297, 20.55, 8.8592, 8.8, 3.9076, 2.9358, 2.3429, 1.7637, 56.5, 455, 758, 33.1, -99.98], [33568, \"borean leather\", 29, 428, 11.788177, 9.351707, 13.638, 13.638, 13.638, 2.507, 13.638, 13.638, 13.638, 0.0, 0.5188, 0.3857, 0.4494, 0.4232, 78.3, 8135, 9961, 34.51, -100.0], [35627, \"eternal shadow\", 14, 114, 74.023076, 47.688136, 210.0, 55.0, 24.6591, 2.7398, 55.0, 54.798, 39.2, 2.7398, 3.9339, 3.9245, 2.9163, 1.7404, 58.9, 2403, 3965, 0.24, -99.99], [36913, \"saronite bar\", 43, 737, 42.595772, 37.876619, 52.0, 52.0, 40.0, 30.6476, 52.0, 45.0, 39.75, 9.0145, 2.1971, 1.9864, 1.7319, 1.7863, 71.7, 8349, 10907, 10.61, -99.96], [3357, \"liferoot\", 1, 1, 0.3125, 0.3125, 0.3125, 0.3125, 0.3125, 0.3125, 0.3125, 0.3125, 0.3125, 0.3125, 0.4599, 0.699, 0.3949, 0.2941, 45.3, 904, 1994, -34.21, -99.99], [6370, \"blackmouth oil\", 1, 1, 2.4999, 2.4999, 2.4999, 2.4999, 2.4999, 2.4999, 2.4999, 2.4999, 2.4999, 2.4999, 2.3119, 3.6414, 2.0247, 2.6706, 16.8, 15, 88, -36.51, -99.99], [2450, \"briarthorn\", 13, 187, 13.332622, 9.951862, 13.796, 13.796, 13.796, 1.8552, 13.796, 13.796, 13.796, 0.5, 0.769, 0.8998, 0.6102, 0.4289, 60.1, 1424, 2182, -14.54, -99.99], [2453, \"bruiseweed\", 4, 56, 11.8312, 10.5316, 13.996, 13.996, 12.7386, 4.1982, 13.996, 12.7386, 11.1936, 4.1982, 0.4795, 0.4899, 0.3929, 0.2314, 50.1, 1010, 1959, -2.12, -99.91], [8951, \"elixir of greater defense\", 9999, 9999, 0.08, 0.08, 0.08, 0.08, 0.08, 0.08, 0.08, 0.08, 0.08, 0.08, 6.9937, 1.75, 1.0975, 0.8317, 28.7, 32, -9887, 299.64, -100.0], [3818, \"fadeleaf\", 4, 17, 2.459571, 2.368475, 2.815, 2.815, 2.7545, 1.6524, 2.815, 2.7545, 2.252, 1.6524, 0.5682, 0.8081, 0.6011, 0.3808, 39.7, 318, 784, -29.69, -99.97], [36901, \"goldclover\", 44, 478, 12.345965, 8.172048, 16.3, 16.298, 10.302, 3.0, 16.3, 10.302, 10.302, 3.0, 0.3935, 0.5521, 0.3955, 0.3309, 77.2, 10939, 13691, -28.73, -99.92], [3821, \"goldthorn\", 12, 119, 25.180818, 15.362242, 32.0, 32.0, 14.85, 1.5798, 32.0, 32.0, 14.85, 1.3796, 1.2471, 1.2374, 0.8089, 0.3827, 40.8, 902, 2091, 0.78, -99.99], [1710, \"greater healing potion\", 9999, 9999, 0.05, 0.05, 0.05, 0.05, 0.05, 0.05, 0.05, 0.05, 0.05, 0.05, 0.8931, 0.7455, 0.5295, 0.617, 64.9, 182, -9718, 19.8, -100.0], [18256, \"imbued vial\", 2, 18, 23.506311, 23.2196, 25.8, 25.8, 25.8, 20.6392, 25.8, 25.8, 20.6392, 20.6392, 2.5201, 2.3, 1.8833, 0.7469, 18.6, 141, 740, 9.57, -99.92], [3356, \"kingsblood\", 9, 98, 3.968485, 3.075567, 5.5, 5.5, 2.999, 0.8997, 5.5, 3.6387, 2.999, 0.8343, 0.367, 0.4253, 0.2899, 0.2169, 47.8, 2017, 4121, -13.71, -99.98], [3823, \"lesser invisibility potion\", 4, 4, 3.9997, 3.9997, 3.9997, 3.9997, 3.9997, 3.9997, 3.9997, 3.9997, 3.9997, 3.9997, 3.1436, 1.4999, 1.3677, 1.6026, 29.0, 78, 264, 109.59, -99.99], [36905, \"lichbloom\", 71, 664, 79.478184, 47.772845, 112.098, 100.0, 53.527, 4.9999, 100.5, 100.0, 53.527, 0.0, 2.6339, 1.2894, 1.6399, 1.6037, 70.9, 10883, 14685, 104.27, -100.0], [3357, \"liferoot\", 1, 1, 0.3125, 0.3125, 0.3125, 0.3125, 0.3125, 0.3125, 0.3125, 0.3125, 0.3125, 0.3125, 0.4599, 0.699, 0.3949, 0.2941, 45.3, 904, 1994, -34.21, -99.99], [3826, \"major troll's blood elixir\", 9999, 9999, 0.042, 0.042, 0.042, 0.042, 0.042, 0.042, 0.042, 0.042, 0.042, 0.042, 2.0, 2.0, 2.6949, 1.6719, 13.5, 3, -9976, 0.0, -100.0], [6052, \"nature protection potion\", 2, 21, 31.606457, 30.9744, 35.3988, 35.3988, 35.3988, 26.55, 35.3988, 35.3988, 26.55, 26.55, 2.5506, 2.95, 1.0, 0.9844, 2.0, 0, -21, -13.54, -99.9], [6358, \"oily blackmouth\", 2, 9, 2.232011, 2.09445, 3.3325, 3.3325, 3.3325, 0.8564, 3.3325, 3.3325, 0.8564, 0.8564, 0.394, 0.5, 0.579, 1.4152, 53.4, 742, 1380, -21.2, -99.98], [33448, \"runic mana potion\", 18, 29, 11.447431, 6.443861, 23.9976, 7.999, 3.9998, 3.9993, 23.9976, 7.999, 3.9993, 3.9993, 1.5831, 1.2916, 1.1432, 1.4123, 78.0, 1396, 1760, 22.57, -99.97], [3820, \"stranglekelp\", 4, 54, 23.5166, 22.67685, 30.2346, 30.2346, 20.1576, 20.1576, 30.2346, 20.1576, 20.1576, 20.1576, 1.7219, 0.9998, 0.9115, 1.0025, 54.1, 660, 1165, 72.22, -99.88], [2459, \"swiftness potion\", 9999, 9999, 0.01, 0.01, 0.01, 0.01, 0.01, 0.01, 0.01, 0.01, 0.01, 0.01, 8.7616, 4.9999, 4.9998, 5.933, 33.2, 53, -9839, 75.24, -100.0], [2452, \"swiftthistle\", 1, 1, 4.0076, 4.0076, 4.0076, 4.0076, 4.0076, 4.0076, 4.0076, 4.0076, 4.0076, 4.0076, 2.4197, 1.5766, 1.9376, 3.9287, 56.6, 331, 583, 53.48, -99.98], [6372, \"swim speed potion\", 9999, 9999, 0.014, 0.014, 0.014, 0.014, 0.014, 0.014, 0.014, 0.014, 0.014, 0.014, 0.8443, 2.0, 1.629, 1.6936, 15.1, 5, -9965, -57.78, -100.0], [3355, \"wild steelbloom\", 8, 37, 4.995508, 3.485025, 7.198, 7.0, 3.598, 1.439, 7.198, 4.3164, 2.1597, 0.7299, 0.8218, 0.8665, 0.4873, 0.2405, 39.8, 991, 2452, -5.16, -99.99], [8827, \"elixir of water walking\", 1, 4, 4.0248, 4.0248, 4.0248, 4.0248, 4.0248, 4.0248, 4.0248, 4.0248, 4.0248, 4.0248, 1.6621, 1.4368, 0.4794, 0.3213, 37.7, 217, 571, 15.68, -99.98], [44332, \"elixir of mighty thoughts\", 4, 18, 67.269789, 26.93475, 83.9398, 83.9398, 11.8998, 5.9497, 83.9398, 83.9398, 11.8998, 5.9497, 5.2114, 2.9351, 2.9999, 2.5358, 52.6, 231, 421, 77.55, -99.99]];\n",
       "\n",
       "    // Define the dt_args\n",
       "    let dt_args = {\"order\": []};\n",
       "    dt_args[\"data\"] = data;\n",
       "\n",
       "    $(document).ready(function () {\n",
       "        \n",
       "        $('#d891e949-69fd-472e-93df-56b02d2107fc').DataTable(dt_args);\n",
       "    });\n",
       "</script>\n",
       "</div>\n"
      ],
      "text/plain": [
       "<IPython.core.display.HTML object>"
      ]
     },
     "metadata": {},
     "output_type": "display_data"
    }
   ],
   "source": [
    "ii = item_infos(_names)\n",
    "show(ii)"
   ]
  },
  {
   "cell_type": "code",
   "execution_count": 11,
   "id": "d1a86d6b-9ebc-4129-9da2-09695301f688",
   "metadata": {},
   "outputs": [],
   "source": [
    "from crafting import Recipes\n",
    "from crafting import purchase_price\n",
    "from crafting import crafting_price\n",
    "from crafting import gold\n",
    "\n",
    "\n",
    "r = Recipes(items)\n",
    "i = r.ingredients\n",
    "\n",
    "def buy(item, price_method=gold(\"realm_market_value\")):\n",
    "    return purchase_price(item_info, item, price_method)\n",
    "\n",
    "\n",
    "def buy_now(item):\n",
    "    return buy(item, price_method=gold(\"min\"))\n",
    "\n",
    "\n",
    "def buy_market(item):\n",
    "    return buy(item, price_method=gold(\"realm_market_value\"))\n",
    "\n",
    "\n",
    "recipe_listing = \"\"\"\n",
    "eternal shadow\n",
    "10 crystallized shadow\n",
    "\n",
    "eternal water\n",
    "10 crystallized water\n",
    "\n",
    "eternal fire\n",
    "10 crystallized fire\n",
    "\n",
    "eternal air\n",
    "10 crystallized air\n",
    "\n",
    "eternal life\n",
    "10 crystallized life\n",
    "\n",
    "greater planar essence\n",
    "3 lesser planar essence\n",
    "\n",
    "greater cosmic essence\n",
    "3 lesser cosmic essence\n",
    "\n",
    "10 crystallized shadow\n",
    "eternal shadow\n",
    "\n",
    "10 crystallized water\n",
    "eternal water\n",
    "\n",
    "10 crystallized fire\n",
    "eternal fire\n",
    "\n",
    "10 crystallized air\n",
    "eternal air\n",
    "\n",
    "10 crystallized life\n",
    "eternal life\n",
    "\n",
    "3 lesser planar essence\n",
    "greater planar essence\n",
    "\n",
    "3 lesser cosmic essence\n",
    "greater cosmic essence\n",
    "\n",
    "2 flask of the frost wyrm\n",
    "5 icethorn + 5 lichbloom + frost lotus + enchanted vial\n",
    "\n",
    "2 flask of endless rage\n",
    "7 lichbloom + 3 goldclover + frost lotus + enchanted vial\n",
    "\n",
    "2 flask of stoneblood\n",
    "7 lichbloom + 3 crystallized life + frost lotus + enchanted vial\n",
    "\n",
    "firecracker salmon\n",
    "glacial salmon + northern spices\n",
    "\n",
    "elixir of greater agility\n",
    "sungrass + goldthorn + crystal vial\n",
    "\n",
    "titanium bar\n",
    "8 saronite bar\n",
    "\n",
    "titanium bar\n",
    "2 titanium ore\n",
    "\n",
    "titansteel bar\n",
    "3 titanium bar + eternal fire + eternal earth + eternal shadow\n",
    "\n",
    "indestructible potion\n",
    "2 icethorn + imbued vial\n",
    "\n",
    "saronite bar\n",
    "2 saronite ore\n",
    "\n",
    "potion of speed\n",
    "2 adder's tongue + pygmy oil + imbued vial\n",
    "\n",
    "potion of wild magic\n",
    "2 lichbloom + pygmy oil + imbued vial\n",
    "\n",
    "titansteel spellblade\n",
    "6 titansteel bar + 6 infinite dust + 2 frozen orb\n",
    "\n",
    "titansteel bar\n",
    "3 titanium bar + eternal fire + eternal earth + eternal shadow\n",
    "\n",
    "glyph of wild growth\n",
    "resilient parchment + ethereal ink\n",
    "\n",
    "spellweave robe\n",
    "8 spellweave + 6 bolt of imbued frostweave + eternium thread + frozen orb\n",
    "\n",
    "spellweave\n",
    "bolt of imbued frostweave + 2 eternal fire\n",
    "\n",
    "bolt of imbued frostweave\n",
    "2 bolt of frostweave + 2 infinite dust\n",
    "\n",
    "bolt of frostweave\n",
    "5 frostweave cloth\n",
    "\n",
    "earthsiege diamond\n",
    "dark jade + huge citrine + eternal fire\n",
    "\n",
    "skyflare diamond\n",
    "bloodstone + chalcedony + eternal air\n",
    "\n",
    "noise machine\n",
    "2 froststeel tube + 2 overcharged capacitor + 8 handful of cobalt bolts\n",
    "\n",
    "froststeel tube\n",
    "8 cobalt bar + crystallized water\n",
    "\n",
    "overcharged capacitor\n",
    "4 cobalt bar + crystallized earth\n",
    "\n",
    "handful of cobalt bolts\n",
    "2 cobalt bar\n",
    "\n",
    "cobalt bar\n",
    "cobalt ore\n",
    "\n",
    "mechanized snow goggles\n",
    "8 saronite bar + 2 borean leather + eternal shadow\n",
    "\n",
    "saronite bar\n",
    "2 saronite ore\n",
    "\n",
    "wormhole generator: northrend\n",
    "8 titanium bar + 2 eternal shadow + 2 eternal fire + 2 eternal water + 2 eternal air\n",
    "\n",
    "pygmy oil\n",
    "pygmy suckerfish\n",
    "\n",
    "runic mana potion\n",
    "2 lichbloom + goldclover + imbued vial\n",
    "\n",
    "greater healing potion\n",
    "liferoot + kingsblood + leaded vial\n",
    "\n",
    "major troll's blood elixir\n",
    "liferoot + bruiseweed + leaded vial\n",
    "\n",
    "nature protection potion\n",
    "liferoot + stranglekelp + leaded vial\n",
    "\n",
    "swiftness potion\n",
    "swiftthistle + briarthorn + leaded vial\n",
    "\n",
    "swim speed potion\n",
    "swiftthistle + blackmouth oil + leaded vial\n",
    "\n",
    "blackmouth oil\n",
    "2 oily blackmouth\n",
    "\n",
    "elixir of greater defense\n",
    "wild steelbloom + goldthorn + leaded vial\n",
    "\n",
    "lesser invisibility potion\n",
    "wild steelbloom + fadeleaf + leaded vial\n",
    "\n",
    "great feast\n",
    "chunk o' mammoth + shoveltusk flank + worm meat + 2 chilled meat\n",
    "\n",
    "fish feast\n",
    "2 musselback sculpin + 2 glacial salmon + 2 nettlefish + northern spices\n",
    "\n",
    "2 flask of pure mojo\n",
    "7 icethorn + 3 pygmy oil + frost lotus + enchanted vial\n",
    "\n",
    "scroll of enchant weapon - mighty spellpower\n",
    "30 infinite dust + 6 dream shard + 6 abyss crystal\n",
    "\n",
    "barbaric bracers\n",
    "8 heavy leather + 2 cured heavy hide + 4 small lustrous pearl + raptor hide + 4 large fang\n",
    "\n",
    "earthen leg armor\n",
    "2 arctic fur + 4 eternal earth + frozen orb\n",
    "\n",
    "frosthide leg armor\n",
    "2 arctic fur + 2 nerubian chitin + frozen orb\n",
    "\n",
    "2 flask of relentless assault\n",
    "7 terocone + 3 mana thistle + fel lotus + imbued vial\n",
    "\n",
    "glacial bag\n",
    "4 moonshroud + 4 ebonweave + eternium thread\n",
    "\n",
    "#moonshroud\n",
    "#bolt of imbued frostweave + 2 eternal life\n",
    "\n",
    "#ebonweave\n",
    "#bolt of imbued frostweave + 2 eternal shadow\n",
    "\n",
    "frostweave bag\n",
    "6 bolt of imbued frostweave + 2 eternium thread\n",
    "\n",
    "primal might\n",
    "primal earth + primal water + primal fire + primal air + primal mana\n",
    "\n",
    "primal earth\n",
    "10 mote of earth\n",
    "\n",
    "primal life\n",
    "10 mote of life\n",
    "\n",
    "primal water\n",
    "10 mote of water\n",
    "\n",
    "primal air\n",
    "10 mote of air\n",
    "\n",
    "primal fire\n",
    "10 mote of fire\n",
    "\n",
    "primal mana\n",
    "10 mote of mana\n",
    "\n",
    "primal shadow\n",
    "10 mote of shadow\n",
    "\n",
    "elixir of mighty defense\n",
    "2 icethorn + crystallized life + imbued vial\n",
    "\n",
    "practice lock\n",
    "bronze bar + 2 handful of copper bolts + weak flux\n",
    "\n",
    "bronze bar\n",
    "copper bar + tin bar\n",
    "\n",
    "copper bar\n",
    "copper ore\n",
    "\n",
    "tin bar\n",
    "tin ore\n",
    "\n",
    "handful of copper bolts\n",
    "copper bar\n",
    "\n",
    "glyph of pick lock\n",
    "lion's ink + light parchment\n",
    "\n",
    "lion's ink\n",
    "2 golden pigment\n",
    "\n",
    "elixir of the mongoose\n",
    "2 mountain silversage + 2 plaguebloom + crystal vial\n",
    "\n",
    "elixir of major agility\n",
    "terocone + 2 felweed + imbued vial\n",
    "\n",
    "boots of wintry endurance\n",
    "3 arctic fur + 20 icy dragonscale + 6 runed orb\n",
    "\n",
    "arctic fur\n",
    "10 heavy borean leather\n",
    "\n",
    "heavy borean leather\n",
    "6 borean leather\n",
    "\n",
    "\n",
    "\"\"\"\n",
    "\n",
    "r_out = None\n",
    "for line in recipe_listing.splitlines():\n",
    "    if line.strip() and not line.strip().startswith(\"#\"):\n",
    "        if r_out:\n",
    "            r.recipe_from_strings(r_out, line.strip())\n",
    "            r_out = None\n",
    "        else:\n",
    "            r_out = line.strip()\n",
    "\n",
    "\n",
    "vendor = {\n",
    "    \"wild spineleaf\": 0.45,\n",
    "    \"enchanted vial\": 0.90,\n",
    "    \"imbued vial\": 0.36,\n",
    "    \"leaded vial\": 0.016,\n",
    "    \"weak flux\": 0.01,\n",
    "    \"light parchment\": 0.01,\n",
    "}\n",
    "\n",
    "\n",
    "from procurement import ProcurementPlanner\n",
    "from procurement import topk_procurements\n",
    "import procurement\n",
    "from cytoolz import groupby\n",
    "from cytoolz import valmap\n",
    "from cytoolz import topk\n",
    "pp = ProcurementPlanner(items, item_info, r, vendor, approaches=[\"ah_buy_now\", \"craft\", \"vendor\"])\n",
    "pp_market = ProcurementPlanner(items, item_info, r, vendor, approaches=[\"ah_buy_market\", \"craft\", \"vendor\"])\n",
    "\n",
    "def topn_market(item, n=3):\n",
    "   return topk(\n",
    "       n,\n",
    "       [\n",
    "           (procurement.cost(x), x) for x in procurement.dnf(pp_market.obtain(item))\n",
    "       ],\n",
    "       lambda x: -procurement.cost(x),\n",
    "   )"
   ]
  },
  {
   "cell_type": "code",
   "execution_count": 12,
   "id": "82499d4d-f36a-4eb0-bf1c-8e973401c59d",
   "metadata": {},
   "outputs": [],
   "source": [
    "everybody = \"\"\"\n",
    "20 indestructible potion\n",
    "20 potion of speed\n",
    "20 potion of wild magic\n",
    "20 flask of stoneblood\n",
    "20 flask of the frost wyrm\n",
    "20 flask of pure mojo\n",
    "20 flask of endless rage\n",
    "20 skyflare diamond\n",
    "20 earthsiege diamond\n",
    "\"\"\".strip().splitlines()\n",
    "best_procurements_market = procurement.And.flat(\n",
    "    min(procurement.dnf(pp_market.obtain(i(x.strip()))), key=procurement.cost)\n",
    "    for x in everybody\n",
    ")\n",
    "best_procurements_now = procurement.And.flat(\n",
    "    min(procurement.dnf(pp.obtain(i(x.strip()))), key=procurement.cost)\n",
    "    for x in everybody\n",
    ")"
   ]
  },
  {
   "cell_type": "code",
   "execution_count": 13,
   "id": "49a0b709-9001-4a2d-aab5-8f59e6dac022",
   "metadata": {},
   "outputs": [
    {
     "data": {
      "text/plain": [
       "{procurement.Craft: [Craft(item=20*indestructible potion, ingredients=40.0*icethorn + 20.0*imbued vial),\n",
       "  Craft(item=20*potion of speed, ingredients=40.0*adder's tongue + 20.0*pygmy oil + 20.0*imbued vial),\n",
       "  Craft(item=20*potion of wild magic, ingredients=40.0*lichbloom + 20.0*pygmy oil + 20.0*imbued vial),\n",
       "  Craft(item=20*flask of stoneblood, ingredients=70.0*lichbloom + 10.0*enchanted vial + 10.0*frost lotus + 30.0*crystallized life),\n",
       "  Craft(item=20*flask of the frost wyrm, ingredients=50.0*lichbloom + 10.0*enchanted vial + 10.0*frost lotus + 50.0*icethorn),\n",
       "  Craft(item=20*flask of pure mojo, ingredients=10.0*frost lotus + 10.0*enchanted vial + 30.0*pygmy oil + 70.0*icethorn),\n",
       "  Craft(item=20*flask of endless rage, ingredients=70.0*lichbloom + 10.0*enchanted vial + 10.0*frost lotus + 30.0*goldclover),\n",
       "  Craft(item=20*skyflare diamond, ingredients=20.0*bloodstone + 20.0*eternal air + 20.0*chalcedony)],\n",
       " procurement.AHBuyNow: [AHBuyNow(item=160.0*icethorn, gold=0.0),\n",
       "  AHBuyNow(item=40.0*adder's tongue, gold=47.992),\n",
       "  AHBuyNow(item=70.0*pygmy oil, gold=350.0),\n",
       "  AHBuyNow(item=230.0*lichbloom, gold=0.0),\n",
       "  AHBuyNow(item=40.0*frost lotus, gold=302.272),\n",
       "  AHBuyNow(item=30.0*crystallized life, gold=33.333),\n",
       "  AHBuyNow(item=30.0*goldclover, gold=90.0),\n",
       "  AHBuyNow(item=20.0*bloodstone, gold=30.992),\n",
       "  AHBuyNow(item=20.0*eternal air, gold=209.99400000000003),\n",
       "  AHBuyNow(item=20.0*chalcedony, gold=0.0),\n",
       "  AHBuyNow(item=20*earthsiege diamond, gold=902.2860000000001)],\n",
       " procurement.VendorBuy: [VendorBuy(item=60.0*imbued vial, who='vendor', where='somewhere', gold=1.08),\n",
       "  VendorBuy(item=40.0*enchanted vial, who='vendor', where='somewhere', gold=3.6)]}"
      ]
     },
     "execution_count": 13,
     "metadata": {},
     "output_type": "execute_result"
    }
   ],
   "source": [
    "best_procurements = best_procurements_now\n",
    "groupby(\n",
    "    lambda x: type(x),\n",
    "    [\n",
    "        op.sum(v)\n",
    "        for ((op, name), v)\n",
    "        in groupby(\n",
    "            lambda y: (type(y), y.item.pure()[0]),\n",
    "            best_procurements\n",
    "        ).items()\n",
    "    ],\n",
    ")"
   ]
  },
  {
   "cell_type": "code",
   "execution_count": 14,
   "id": "3ffc86ff-2a92-4fb2-b492-8abded9a30ad",
   "metadata": {},
   "outputs": [
    {
     "data": {
      "text/plain": [
       "[(8.7616, And(AHBuyMarket(item=swiftness potion, gold=8.7616),)),\n",
       " (3.2047000000000003,\n",
       "  And(Craft(item=swiftness potion, ingredients=briarthorn + swiftthistle + leaded vial), AHBuyMarket(item=briarthorn, gold=0.769), AHBuyMarket(item=swiftthistle, gold=2.4197), VendorBuy(item=leaded vial, who='vendor', where='somewhere', gold=0.016)))]"
      ]
     },
     "execution_count": 14,
     "metadata": {},
     "output_type": "execute_result"
    }
   ],
   "source": [
    "[(procurement.cost(x), x) for x in procurement.dnf(pp_market.obtain(i(\"swiftness potion\")))]"
   ]
  },
  {
   "cell_type": "code",
   "execution_count": 15,
   "id": "ef7d4975-924f-4690-8e82-745e3675fb40",
   "metadata": {},
   "outputs": [
    {
     "data": {
      "text/plain": [
       "[(0.8443, And(AHBuyMarket(item=swim speed potion, gold=0.8443),)),\n",
       " (4.7476,\n",
       "  And(Craft(item=swim speed potion, ingredients=leaded vial + swiftthistle + blackmouth oil), VendorBuy(item=leaded vial, who='vendor', where='somewhere', gold=0.016), AHBuyMarket(item=swiftthistle, gold=2.4197), AHBuyMarket(item=blackmouth oil, gold=2.3119))),\n",
       " (3.2237,\n",
       "  And(Craft(item=swim speed potion, ingredients=leaded vial + swiftthistle + blackmouth oil), VendorBuy(item=leaded vial, who='vendor', where='somewhere', gold=0.016), AHBuyMarket(item=swiftthistle, gold=2.4197), Craft(item=blackmouth oil, ingredients=2.0*oily blackmouth), AHBuyMarket(item=2.0*oily blackmouth, gold=0.788)))]"
      ]
     },
     "execution_count": 15,
     "metadata": {},
     "output_type": "execute_result"
    }
   ],
   "source": [
    "[(procurement.cost(x), x) for x in procurement.dnf(pp_market.obtain(i(\"swim speed potion\")))]"
   ]
  },
  {
   "cell_type": "code",
   "execution_count": 16,
   "id": "0b9d79fa-84e7-4d8f-b945-65e4e727b2c2",
   "metadata": {},
   "outputs": [
    {
     "data": {
      "text/plain": [
       "((1.6621, And(AHBuyMarket(item=elixir of water walking, gold=1.6621),)),)"
      ]
     },
     "execution_count": 16,
     "metadata": {},
     "output_type": "execute_result"
    }
   ],
   "source": [
    "topk(3, [(procurement.cost(x), x) for x in procurement.dnf(pp_market.obtain(i(\"elixir of water walking\")))], lambda x: -procurement.cost(x))"
   ]
  },
  {
   "cell_type": "code",
   "execution_count": 17,
   "id": "4b049f00-9990-47e7-9d56-bcc939c0fdfe",
   "metadata": {},
   "outputs": [
    {
     "data": {
      "text/plain": [
       "[(12.7961, And(AHBuyMarket(item=flask of pure mojo, gold=12.7961),)),\n",
       " (14.696200000000001,\n",
       "  And(Craft(item=flask of pure mojo, ingredients=1.5*pygmy oil + 0.5*enchanted vial + 0.5*frost lotus + 3.5*icethorn), AHBuyMarket(item=1.5*pygmy oil, gold=3.9699), VendorBuy(item=0.5*enchanted vial, who='vendor', where='somewhere', gold=0.9), AHBuyMarket(item=0.5*frost lotus, gold=3.0678), AHBuyMarket(item=3.5*icethorn, gold=6.7585))),\n",
       " (15.39955,\n",
       "  And(Craft(item=flask of pure mojo, ingredients=1.5*pygmy oil + 0.5*enchanted vial + 0.5*frost lotus + 3.5*icethorn), Craft(item=1.5*pygmy oil, ingredients=1.5*pygmy suckerfish), AHBuyMarket(item=1.5*pygmy suckerfish, gold=4.6732499999999995), VendorBuy(item=0.5*enchanted vial, who='vendor', where='somewhere', gold=0.9), AHBuyMarket(item=0.5*frost lotus, gold=3.0678), AHBuyMarket(item=3.5*icethorn, gold=6.7585))),\n",
       " (31.2962,\n",
       "  And(Craft(item=flask of pure mojo, ingredients=1.5*pygmy oil + 0.5*enchanted vial + 0.5*frost lotus + 3.5*icethorn), AHBuyMarket(item=1.5*pygmy oil, gold=3.9699), AHBuyMarket(item=0.5*enchanted vial, gold=17.5), AHBuyMarket(item=0.5*frost lotus, gold=3.0678), AHBuyMarket(item=3.5*icethorn, gold=6.7585))),\n",
       " (31.99955,\n",
       "  And(Craft(item=flask of pure mojo, ingredients=1.5*pygmy oil + 0.5*enchanted vial + 0.5*frost lotus + 3.5*icethorn), Craft(item=1.5*pygmy oil, ingredients=1.5*pygmy suckerfish), AHBuyMarket(item=1.5*pygmy suckerfish, gold=4.6732499999999995), AHBuyMarket(item=0.5*enchanted vial, gold=17.5), AHBuyMarket(item=0.5*frost lotus, gold=3.0678), AHBuyMarket(item=3.5*icethorn, gold=6.7585)))]"
      ]
     },
     "execution_count": 17,
     "metadata": {},
     "output_type": "execute_result"
    }
   ],
   "source": [
    "sorted([(procurement.cost(x), x) for x in procurement.dnf(pp_market.obtain(i(\"flask of pure mojo\")))])"
   ]
  },
  {
   "cell_type": "code",
   "execution_count": 18,
   "id": "ee7b2002-c84c-4424-85e3-052dcd5c4374",
   "metadata": {},
   "outputs": [
    {
     "data": {
      "text/plain": [
       "[(1196.3076,\n",
       "  And(Craft(item=scroll of enchant weapon - mighty spellpower, ingredients=6.0*abyss crystal + 30.0*infinite dust + 6.0*dream shard), AHBuyMarket(item=6.0*abyss crystal, gold=1024.5), AHBuyMarket(item=30.0*infinite dust, gold=49.593), AHBuyMarket(item=6.0*dream shard, gold=122.21459999999999))),\n",
       " (1577.4546,\n",
       "  And(AHBuyMarket(item=scroll of enchant weapon - mighty spellpower, gold=1577.4546),))]"
      ]
     },
     "execution_count": 18,
     "metadata": {},
     "output_type": "execute_result"
    }
   ],
   "source": [
    "sorted([(procurement.cost(x), x) for x in procurement.dnf(pp_market.obtain(i(\"scroll of enchant weapon - mighty spellpower\")))])"
   ]
  },
  {
   "cell_type": "code",
   "execution_count": 19,
   "id": "02e2079e-40fb-498d-bf5e-8c3619a41794",
   "metadata": {},
   "outputs": [],
   "source": [
    "hodir_badges_needed = (21000-4425)/50"
   ]
  },
  {
   "cell_type": "code",
   "execution_count": 20,
   "id": "ba6e199c-3ead-4aef-aaa2-34a8f5af915c",
   "metadata": {},
   "outputs": [
    {
     "data": {
      "text/plain": [
       "331.5"
      ]
     },
     "execution_count": 20,
     "metadata": {},
     "output_type": "execute_result"
    }
   ],
   "source": [
    "hodir_badges_needed"
   ]
  },
  {
   "cell_type": "code",
   "execution_count": 21,
   "id": "79d48574-0b84-42d5-a6ad-8ae8ec9e49ef",
   "metadata": {},
   "outputs": [
    {
     "data": {
      "text/plain": [
       "{'id': 18948,\n",
       " 'name': 'barbaric bracers',\n",
       " 'num_auctions': 9999,\n",
       " 'quantity': 9999,\n",
       " 'weight_sell': 0.7945,\n",
       " 'avg_sell': 0.7945,\n",
       " 'max': 0.7945,\n",
       " 'p80': 0.7945,\n",
       " 'p50': 0.7945,\n",
       " 'p20': 0.7945,\n",
       " 'wp80': 0.7945,\n",
       " 'wp50': 0.7945,\n",
       " 'wp20': 0.7945,\n",
       " 'min': 0.7945,\n",
       " 'realm_market_value': 99.0,\n",
       " 'realm_historical': 237.0,\n",
       " 'region_historical': 57.4997,\n",
       " 'region_avg_sale_price': 71.1401,\n",
       " 'sale_pct': 30.8,\n",
       " 'sold_per_day': 3,\n",
       " 'headroom': -9989,\n",
       " 'market_skew_pct': -58.23,\n",
       " 'auction_skew_pct': -100.0}"
      ]
     },
     "execution_count": 21,
     "metadata": {},
     "output_type": "execute_result"
    }
   ],
   "source": [
    "item_info(\"barbaric bracers\")"
   ]
  },
  {
   "cell_type": "code",
   "execution_count": 22,
   "id": "4f7f151a-3642-40f0-bdb1-36d0806986bc",
   "metadata": {},
   "outputs": [
    {
     "data": {
      "text/plain": [
       "[(30.392100000000003,\n",
       "  And(Craft(item=barbaric bracers, ingredients=4.0*large fang + 2.0*cured heavy hide + 4.0*small lustrous pearl + 8.0*heavy leather + raptor hide), AHBuyMarket(item=4.0*large fang, gold=11.17), AHBuyMarket(item=2.0*cured heavy hide, gold=4.9152), AHBuyMarket(item=4.0*small lustrous pearl, gold=10.8592), AHBuyMarket(item=8.0*heavy leather, gold=3.42), AHBuyMarket(item=raptor hide, gold=0.0277))),\n",
       " (99.0, And(AHBuyMarket(item=barbaric bracers, gold=99.0),))]"
      ]
     },
     "execution_count": 22,
     "metadata": {},
     "output_type": "execute_result"
    }
   ],
   "source": [
    "sorted([(procurement.cost(x), x) for x in procurement.dnf(pp_market.obtain(i(\"barbaric bracers\")))])"
   ]
  },
  {
   "cell_type": "code",
   "execution_count": 23,
   "id": "a23b109a-b274-4ddc-808d-99d072e9891a",
   "metadata": {},
   "outputs": [
    {
     "data": {
      "text/plain": [
       "[(171.5737,\n",
       "  And(Craft(item=earthen leg armor, ingredients=2.0*arctic fur + frozen orb + 4.0*eternal earth), AHBuyMarket(item=2.0*arctic fur, gold=60.1086), AHBuyMarket(item=frozen orb, gold=75.3863), AHBuyMarket(item=4.0*eternal earth, gold=36.0788))),\n",
       " (173.7211,\n",
       "  And(Craft(item=earthen leg armor, ingredients=2.0*arctic fur + frozen orb + 4.0*eternal earth), Craft(item=2.0*arctic fur, ingredients=20.0*heavy borean leather), Craft(item=20.0*heavy borean leather, ingredients=120.0*borean leather), AHBuyMarket(item=120.0*borean leather, gold=62.25600000000001), AHBuyMarket(item=frozen orb, gold=75.3863), AHBuyMarket(item=4.0*eternal earth, gold=36.0788))),\n",
       " (238.19910000000002,\n",
       "  And(Craft(item=earthen leg armor, ingredients=2.0*arctic fur + frozen orb + 4.0*eternal earth), Craft(item=2.0*arctic fur, ingredients=20.0*heavy borean leather), AHBuyMarket(item=20.0*heavy borean leather, gold=126.73400000000001), AHBuyMarket(item=frozen orb, gold=75.3863), AHBuyMarket(item=4.0*eternal earth, gold=36.0788))),\n",
       " (261.1885, And(AHBuyMarket(item=earthen leg armor, gold=261.1885),))]"
      ]
     },
     "execution_count": 23,
     "metadata": {},
     "output_type": "execute_result"
    }
   ],
   "source": [
    "sorted([(procurement.cost(x), x) for x in procurement.dnf(pp_market.obtain(i(\"earthen leg armor\")))])"
   ]
  },
  {
   "cell_type": "code",
   "execution_count": 24,
   "id": "b373a97d-a111-400b-8e1d-879425baf913",
   "metadata": {},
   "outputs": [
    {
     "data": {
      "text/plain": [
       "[(140.37890000000002,\n",
       "  And(Craft(item=frosthide leg armor, ingredients=2.0*arctic fur + 2.0*nerubian chitin + frozen orb), AHBuyMarket(item=2.0*arctic fur, gold=60.1086), AHBuyMarket(item=2.0*nerubian chitin, gold=4.884), AHBuyMarket(item=frozen orb, gold=75.3863))),\n",
       " (142.52630000000002,\n",
       "  And(Craft(item=frosthide leg armor, ingredients=2.0*arctic fur + 2.0*nerubian chitin + frozen orb), Craft(item=2.0*arctic fur, ingredients=20.0*heavy borean leather), Craft(item=20.0*heavy borean leather, ingredients=120.0*borean leather), AHBuyMarket(item=120.0*borean leather, gold=62.25600000000001), AHBuyMarket(item=2.0*nerubian chitin, gold=4.884), AHBuyMarket(item=frozen orb, gold=75.3863))),\n",
       " (181.3761, And(AHBuyMarket(item=frosthide leg armor, gold=181.3761),)),\n",
       " (207.0043,\n",
       "  And(Craft(item=frosthide leg armor, ingredients=2.0*arctic fur + 2.0*nerubian chitin + frozen orb), Craft(item=2.0*arctic fur, ingredients=20.0*heavy borean leather), AHBuyMarket(item=20.0*heavy borean leather, gold=126.73400000000001), AHBuyMarket(item=2.0*nerubian chitin, gold=4.884), AHBuyMarket(item=frozen orb, gold=75.3863)))]"
      ]
     },
     "execution_count": 24,
     "metadata": {},
     "output_type": "execute_result"
    }
   ],
   "source": [
    "sorted([(procurement.cost(x), x) for x in procurement.dnf(pp_market.obtain(i(\"frosthide leg armor\")))])"
   ]
  },
  {
   "cell_type": "code",
   "execution_count": 25,
   "id": "f08b2c55-915c-46ed-9e1f-d37683f01f33",
   "metadata": {},
   "outputs": [
    {
     "data": {
      "text/plain": [
       "26040"
      ]
     },
     "execution_count": 25,
     "metadata": {},
     "output_type": "execute_result"
    }
   ],
   "source": [
    "# hateful PVP gear\n",
    "sum(\n",
    "[\n",
    "    4520, # gloves\n",
    "    7700, # helm\n",
    "    6110, # spaulders\n",
    "    7700, # legguards\n",
    "    7700, # robes\n",
    "    3990, # idol\n",
    "]\n",
    ")\n",
    "\n",
    "\n",
    "sum(\n",
    "[\n",
    "    10850, # belt\n",
    "    #10850, # boots\n",
    "    6895, # armwraps\n",
    "    8295, # pendant\n",
    "    #8295, # cloak\n",
    "    #8295, # band\n",
    "]\n",
    ")"
   ]
  },
  {
   "cell_type": "code",
   "execution_count": 26,
   "id": "8f131ecf-45cb-4668-b9c2-1c56bbfb00ca",
   "metadata": {},
   "outputs": [
    {
     "data": {
      "text/plain": [
       "(1410.1313,\n",
       " [Craft(item=glacial bag, ingredients=4.0*moonshroud + eternium thread + 4.0*ebonweave),\n",
       "  AHBuyMarket(item=4.0*moonshroud, gold=703.8332),\n",
       "  AHBuyMarket(item=eternium thread, gold=5.2465),\n",
       "  AHBuyMarket(item=4.0*ebonweave, gold=701.0516)])"
      ]
     },
     "execution_count": 26,
     "metadata": {},
     "output_type": "execute_result"
    }
   ],
   "source": [
    "options = procurement.dnf(pp_market.obtain(i(\"glacial bag\")))\n",
    "(c_, r_) = min([(procurement.cost(x), x) for x in options], key=lambda x: x[0])\n",
    "(c_, list(r_))"
   ]
  },
  {
   "cell_type": "code",
   "execution_count": 27,
   "id": "9d348841-08bd-490a-8636-e77fcad9a408",
   "metadata": {},
   "outputs": [
    {
     "data": {
      "text/plain": [
       "(1410.1313,\n",
       " [Craft(item=glacial bag, ingredients=4.0*moonshroud + eternium thread + 4.0*ebonweave),\n",
       "  AHBuyMarket(item=4.0*moonshroud, gold=703.8332),\n",
       "  AHBuyMarket(item=eternium thread, gold=5.2465),\n",
       "  AHBuyMarket(item=4.0*ebonweave, gold=701.0516)])"
      ]
     },
     "execution_count": 27,
     "metadata": {},
     "output_type": "execute_result"
    }
   ],
   "source": [
    "options = procurement.dnf(pp_market.obtain(i(\"glacial bag\")))\n",
    "(c_, r_) = min([(procurement.cost(x), x) for x in options], key=lambda x: x[0])\n",
    "(c_, list(r_))"
   ]
  },
  {
   "cell_type": "code",
   "execution_count": 28,
   "id": "dc4877e2-a8b9-4fb7-8d5c-d1fc167f9977",
   "metadata": {},
   "outputs": [
    {
     "data": {
      "text/plain": [
       "(295.12879999999996,\n",
       " [Craft(item=4*frostweave bag, ingredients=24.0*bolt of imbued frostweave + 8.0*eternium thread),\n",
       "  Craft(item=24.0*bolt of imbued frostweave, ingredients=48.0*infinite dust + 48.0*bolt of frostweave),\n",
       "  AHBuyMarket(item=48.0*infinite dust, gold=79.3488),\n",
       "  Craft(item=48.0*bolt of frostweave, ingredients=240.0*frostweave cloth),\n",
       "  AHBuyMarket(item=240.0*frostweave cloth, gold=173.808),\n",
       "  AHBuyMarket(item=8.0*eternium thread, gold=41.972)])"
      ]
     },
     "execution_count": 28,
     "metadata": {},
     "output_type": "execute_result"
    }
   ],
   "source": [
    "options = procurement.dnf(pp_market.obtain(i(\"4 frostweave bag\")))\n",
    "(c_, r_) = min([(procurement.cost(x), x) for x in options], key=lambda x: x[0])\n",
    "(c_, list(r_))"
   ]
  },
  {
   "cell_type": "code",
   "execution_count": 29,
   "id": "0679301c-f137-4860-8d7b-83c92af03003",
   "metadata": {},
   "outputs": [
    {
     "data": {
      "text/plain": [
       "(46.229400000000005,\n",
       " [Craft(item=primal might, ingredients=primal earth + primal fire + primal mana + primal water + primal air),\n",
       "  AHBuyMarket(item=primal earth, gold=1.1787),\n",
       "  AHBuyMarket(item=primal fire, gold=3.8232),\n",
       "  AHBuyMarket(item=primal mana, gold=13.8385),\n",
       "  Craft(item=primal water, ingredients=10.0*mote of water),\n",
       "  AHBuyMarket(item=10.0*mote of water, gold=16.283),\n",
       "  Craft(item=primal air, ingredients=10.0*mote of air),\n",
       "  AHBuyMarket(item=10.0*mote of air, gold=11.106)])"
      ]
     },
     "execution_count": 29,
     "metadata": {},
     "output_type": "execute_result"
    }
   ],
   "source": [
    "options = procurement.dnf(pp_market.obtain(i(\"primal might\")))\n",
    "(c_, r_) = min([(procurement.cost(x), x) for x in options], key=lambda x: x[0])\n",
    "(c_, list(r_))"
   ]
  },
  {
   "cell_type": "code",
   "execution_count": 30,
   "id": "53cc8bc7-60bb-44b2-84a0-a269d1d1d03a",
   "metadata": {},
   "outputs": [
    {
     "data": {
      "text/plain": [
       "'Tukui:Profile:Tz1smTX1A4X2KecPOa4crv3ibQLYfHIsbdHg1wfpmyddn4GLTjT4EB7CSNdmdEyotpZyEKgPyHQQ6AVOp2HCL6MUPID3vmc19DUS4UnOOSPDvfsTQnTW0ZJXJJtIxyF8589)67)7)mtKrQFxawhuYaA)LhUGPTdWWa4OJmhqkfYeQiLr3U8iwXluTsv90BBbX6qZYqjaEIe5sN9fDqcVZlLbTj8lg(e2HZuM6pYbtwCFPLkuyPm5wyE5c7U8czbyOPJxxYU3Q27iq(il2zKVEpYcR(zMohQCv7ca8AqN5WGnGflXDG3L86w2vn5z7XmYSwuxbHiN0YMa0ZM(ofsNJG(Ye0kXPGKD1FdF6cCgDt9nawf3TWszzzebxVYUDk8jSu5a)Z(Fdjie16LzUDr4QoPaoGcWTDKqBxSbptwm9Cu7Ill(V8pLNnxv4Me7e8oxrV4SJs67)VpW33xwu)HpHgAREzUml0jKBkMRzk0VS7I166yQRChX)Nj25)ig88oaobxukiQxrLuxRCCeIZpLJjJEzmkd0SArVlZkBXRlCFrAzloIqVdrJDpmGpnP2e6NyfLv5UFKqeYVDynWtbTnd6NNN3BOZxJzWhOiqRlEoSic1e3vOjPSyf3i8URspcpKuppJUyQIEDrasKbB)vm(rwSJoEvAH7DHwC4z3LZHvQfDOWMTu1vxvgcuH4IE9Y7F4He495xZ)uYcHNjytu0RBU8X5hICmxZf7)oiX1w99uL7SaBhkv3SuR6gHxQLs(xT0AHEnrtVkk(G)Gld6mQQBlLCo910At)0SKl72Hcd)CcxJUiilYAa2bIdZIGoKGW2USSOyY)MYO7ZZcdi2XUycIoMaByzX4N(nmF6Q9XNsxSlNRaRf6OnrNnedXch8Nuen4bfGD2jSR92((jzmU6G(KApkV7opgv1I2IlIjXlqioQS4w)KppMvCf2RvDuaHmC0TMXSSgchssX9L4KukHUP5rDohb0vdJ(vf6KRzsvtGY8hT8cPXyeoy02ByEPsuQhZ62qXyuzXrnNSAtA76m0f4II1TIXYo(eykyPxGaA8ySjg3mp4xRfsYVNUkrw0mUUvsEgJCCZN0FVNxLDJMchIMDfolEnHOh3s3IS5fYeHkmhHGHeJSmcC)qozQXl6nkNLhvOtFwyN0)3edN4kOHHaUqji9wFWF)HmCt4)l1An1pd5(wqZ4guUoJhm1VEs29Ibq5cW2zrl0z8E8)5GNqsXy1BkOT3KGKC)VQ9ykxO(SAamOSdepMY5YnFvDd1XuIjnpI(B3LYVJTdCJXuUOub9nGJPC56HxAnMYLoHySdByrwxvfAQir3yG6zr26uU1E1sSCAYnXCn1eEJ237hPXc2lBQIkxbQQfCqcVrljdPE6XD23krYrAGoAdFvU5tTP3mEXjg6jP4nlHDtrbDrV0YI3NP2f44Ubf3OmCATWfXlDthnDiaYwue0tjGi45as8CEqw8dFGp9MN(wr29Mcm1DlhorRmtRTmB4R2iuEz31UfiuCfDZ1gjr2nZ2f5R0Dz1Z7HWgQzawnzRWo3Wp(BjnSOYId)4pLOBIUBEOJdXA7VZRJ7(OMML2K(IaAw9SuP1HKyTjKffiwZQ)u62wejbFmilAliMKhAnMPQdkh0cOJ1oKUop0W4DRAwrdpp0eIbgdCyWZzZxgya)SxY72)FREUdcVbWqQQJdYmV(9G3OKmY52WDuS6LEfn)a7SqCo0wVIvCYEKj622n2rbwBbktQJyw9MFlDNYAeOlzYFsPwJ8AalyEn9vD0yoEY2D8UmDgzFEyN6zclDVeTVhM(waudokmFyPVe5Uv7bkfWFE3A6gmxZKC)yFLweTwgW2PgCFUWMjkvVyo21TJ4TQYJKj7yq3DwKbc)wrYEUXV(4V5eXASSPo)Mm7pVb7fBMPkgyRjrV)q7OLnn0nRe8qcfY7XuGF8(8Hx6dhTjTi6qp)G6u74lZX2wtIEbZ0EvcI5utgRbp)O1vL6SkGU87Li6d7rokOzolcHvTvoj4VnfJk5yoF69zHMtAV(HZAaST1lth3Xk1NHAbvCQ8pd'"
      ]
     },
     "execution_count": 30,
     "metadata": {},
     "output_type": "execute_result"
    }
   ],
   "source": [
    "# drpannkoeken\n",
    "\"Tukui:Profile:fA1smTX1A4X2KeGCrbWxiQ6gPyDlfUcfLIneAuvv8WGnm0Idw2MKI7TPZX2hyg8WCMCMXgiTsXcvv11ErFSd5k1nDtf7URYiu23PSOBdkkBAxDfsTQnTW0ZJXJH0kfVW(4Z57)13)35FMqJ28oaSgOKo06Z2FbdlBGUoWwdzmSukKburkJMv5rnJwOw1AAP3YeI1GgLHsaC8e5sN9V7GeUNxkdQo8th5i2HZuM6pYbtwCpPLkuyPm5wyE5c7S8czbyOHTBVYo3QXBjq(il2DOVyxYcZHyMohQCnRca8Aq75WGnGflXDG7fD7t2PsYt2LzKrJWoccHoQJn(ONn9TlKohb9LiOvIsbj7O96E0f4mAgABamlUtHLYYYicUbKD6w4(Su5rEN89XeecB(pzUDr4Q2Pa2GcWTSLqBvSfptwm9Cu7Ikl(V8oMNnxr4Me7eCpxr3OSJs65n2J888Kf1EYZPH2CaMlZcTd4MI5ANcdj7SyJEpK6kNr9(rIDEpLbpVnGtWfL8J6LRqQRvomeX5hZXKrRmgLbAuRO7LyLT41f(irAzloQWaXOXUFgWttQTHEFZWSk35EcHi)2L5WNc6zmyiEE(GyNVbZG3trGwx8CyreQnUlttszXQoH4DxL(fEcPEEbDXufD7LaKid26Zz8JSyxD9VPfU7f6WHNChohwTr4ybnBPARUQmeubIl6oaV)HJjW7ZVQ3XKfcVqWIx0TpU8X(BdDixZf5)DvIRnh8uL7SalBkv3UuR5eIxQLs(7D0AbEnrBVkk(WFLld6oCfNok5CARPEg9t7sUStxkm8ZjCn6c)SiRoyBioil87qccB5WYIIj)dkJUhpl0HyBRIji6ycSrKfJE8xY8PJ6hCmDXoCUcSwGJQJojgdXcp63OiAXdkaBVDrmXp(cSXKfVPh)sMZ9If(jbAX5XOAM0gDr3X4428784XSQJWUDQJciKUTM5mgLvr4askQNeNKsj0hnpAY5iGwLanZve6MRzs1qGY8hS8cPXye2)QT7i8sLOupK1THIrOYIdAFZ6msBh7yxGlkw3mcl743atbl93iGMic7gJtMh()BeqY3vRcrw0oUovtEssQC0jFsVD)RQSB0w4q0SRWakEnHWh2r3IS4fs8afMTG)Le9SmcCVaozQjcy5)Jq3ESWoP3plgCJRGkgc4cf)0B9R(lpHHlU3p1OZT(ziZBbTJRF5ApH)T(1tYMl6dLlapllAIoH3J)Vp65KumsZ2cAR6eKK5)vSgx5cnNvfGbLTH4XvoxU5RPPxzCLisZJO)2xP8BBzd3yCLEKkOTbCCLl1myO14kx8iIX2SllYAvQanuKOBmCZSilnk3AvVelNMSoMRPI7o2GVBOwlyTSrfu5QWkQ(hKWDSsYqQNEw3dUsOCKgOT6ixHB(u1DNXnkXqxjf3zjSBkzXL98OZdgCLECt)4b5LE84uGJXaQYbY8MB62E6gVmat)YaK4Vaqw89FOFUi7CtbM(Vd(4DY9t5WEOaAfiaT6DNcKMqvnJ1gnr26z7L8v6En7)UiSELmaZ28zqVDKN9vKwAyzXrE2hsuwH3jp02MyT1x721DEABZsBqFvbvZ(xQ06qsSQdzrbIvnhkLMLjr0WVOKfTjetYd1wZuZgLdAc0WQ7txNhQR)21mQQINhAaXa9H33)jX5ld0HF8)WDXFWS)BJWBa0LQzBJmYR9a4nkjJSFh42kMdqhIZpWkleNdT5RygLSh5o)z2nYb(wBcktQJiMdKFtn7YQeOlzWFwQAR8QatyEvTvTvzoEYZ64DykrY(8Wo1lew6Ejo7Ey67jqn4GG8HL(sKPVwdxYN)CV10TyUMjkF8GLweTwgWwPU6ECPpt2wPNCSbYJ6UMYtLj7Ot3DwKoc)MHYEUjU(eVr8iTw2qJpRZ6tAXE1NzQHbwQs0jmQhSSHUMrv)hJOqEtNc8J3JF9M(4tlslIowGFqtQD8L5yBRkrhbnTRUFmNAYiT45hTUQ2Kvb0LFJerFyn6b(nZzriCflLJ8)BBXOsoMZNEpwO5K2RT)S6allTY0bcyLMZqTGkov(Zp\"\n",
    "# trowel\n",
    "\"Tukui:Profile:Tz1smTX1A4X2KecPOa4crv3ibQLYfHIsbdHg1wfpmyddn4GLTjT4EB7CSNdmdEyotpZyEKgPyHQQ6AVOp2HCL6MUPID3vmc19DUS4UnOOSPDvfsTQnTW0ZJXJJtIxyF8589)67)7)mtKrQFxawhuYaA)LhUGPTdWWa4OJmhqkfYeQiLr3U8iwXluTsv90BBbX6qZYqjaEIe5sN9fDqcVZlLbTj8lg(e2HZuM6pYbtwCFPLkuyPm5wyE5c7U8czbyOPJxxYU3Q27iq(il2zKVEpYcR(zMohQCv7ca8AqN5WGnGflXDG3L86w2vn5z7XmYSwuxbHiN0YMa0ZM(ofsNJG(Ye0kXPGKD1FdF6cCgDt9nawf3TWszzzebxVYUDk8jSu5a)Z(Fdjie16LzUDr4QoPaoGcWTDKqBxSbptwm9Cu7Ill(V8pLNnxv4Me7e8oxrV4SJs67)VpW33xwu)HpHgAREzUml0jKBkMRzk0VS7I166yQRChX)Nj25)ig88oaobxukiQxrLuxRCCeIZpLJjJEzmkd0SArVlZkBXRlCFrAzloIqVdrJDpmGpnP2e6NyfLv5UFKqeYVDynWtbTnd6NNN3BOZxJzWhOiqRlEoSic1e3vOjPSyf3i8URspcpKuppJUyQIEDrasKbB)vm(rwSJoEvAH7DHwC4z3LZHvQfDOWMTu1vxvgcuH4IE9Y7F4He495xZ)uYcHNjytu0RBU8X5hICmxZf7)oiX1w99uL7SaBhkv3SuR6gHxQLs(xT0AHEnrtVkk(G)Gld6mQQBlLCo910At)0SKl72Hcd)CcxJUiilYAa2bIdZIGoKGW2USSOyY)MYO7ZZcdi2XUycIoMaByzX4N(nmF6Q9XNsxSlNRaRf6OnrNnedXch8Nuen4bfGD2jSR92((jzmU6G(KApkV7opgv1I2IlIjXlqioQS4w)KppMvCf2RvDuaHmC0TMXSSgchssX9L4KukHUP5rDohb0vdJ(vf6KRzsvtGY8hT8cPXyeoy02ByEPsuQhZ62qXyuzXrnNSAtA76m0f4II1TIXYo(eykyPxGaA8ySjg3mp4xRfsYVNUkrw0mUUvsEgJCCZN0FVNxLDJMchIMDfolEnHOh3s3IS5fYeHkmhHGHeJSmcC)qozQXl6nkNLhvOtFwyN0)3edN4kOHHaUqji9wFWF)HmCt4)l1An1pd5(wqZ4guUoJhm1VEs29Ibq5cW2zrl0z8E8)5GNqsXy1BkOT3KGKC)VQ9ykxO(SAamOSdepMY5YnFvDd1XuIjnpI(B3LYVJTdCJXuUOub9nGJPC56HxAnMYLoHySdByrwxvfAQir3yG6zr26uU1E1sSCAYnXCn1eEJ237hPXc2lBQIkxbQQfCqcVrljdPE6XD23krYrAGoAdFvU5tTP3mEXjg6jP4nlHDtrbDrV0YI3NP2f44Ubf3OmCATWfXlDthnDiaYwue0tjGi45as8CEqw8dFGp9MN(wr29Mcm1DlhorRmtRTmB4R2iuEz31UfiuCfDZ1gjr2nZ2f5R0Dz1Z7HWgQzawnzRWo3Wp(BjnSOYId)4pLOBIUBEOJdXA7VZRJ7(OMML2K(IaAw9SuP1HKyTjKffiwZQ)u62wejbFmilAliMKhAnMPQdkh0cOJ1oKUop0W4DRAwrdpp0eIbgdCyWZzZxgya)SxY72)FREUdcVbWqQQJdYmV(9G3OKmY52WDuS6LEfn)a7SqCo0wVIvCYEKj622n2rbwBbktQJyw9MFlDNYAeOlzYFsPwJ8AalyEn9vD0yoEY2D8UmDgzFEyN6zclDVeTVhM(waudokmFyPVe5Uv7bkfWFE3A6gmxZKC)yFLweTwgW2PgCFUWMjkvVyo21TJ4TQYJKj7yq3DwKbc)wrYEUXV(4V5eXASSPo)Mm7pVb7fBMPkgyRjrV)q7OLnn0nRe8qcfY7XuGF8(8Hx6dhTjTi6qp)G6u74lZX2wtIEbZ0EvcI5utgRbp)O1vL6SkGU87Li6d7rokOzolcHvTvoj4VnfJk5yoF69zHMtAV(HZAaST1lth3Xk1NHAbvCQ8pd\""
   ]
  },
  {
   "cell_type": "code",
   "execution_count": 31,
   "id": "082e9d4c-0366-4750-9113-26929c40b2d0",
   "metadata": {},
   "outputs": [
    {
     "data": {
      "text/plain": [
       "[(9.6154,\n",
       "  And(Craft(item=titanium bar, ingredients=2.0*titanium ore), AHBuyMarket(item=2.0*titanium ore, gold=9.6154))),\n",
       " (12.5425, And(AHBuyMarket(item=titanium bar, gold=12.5425),)),\n",
       " (13.064,\n",
       "  And(Craft(item=titanium bar, ingredients=8.0*saronite bar), Craft(item=8.0*saronite bar, ingredients=16.0*saronite ore), AHBuyMarket(item=16.0*saronite ore, gold=13.064))),\n",
       " (13.064,\n",
       "  And(Craft(item=titanium bar, ingredients=8.0*saronite bar), Craft(item=8.0*saronite bar, ingredients=16.0*saronite ore), AHBuyMarket(item=16.0*saronite ore, gold=13.064))),\n",
       " (17.5768,\n",
       "  And(Craft(item=titanium bar, ingredients=8.0*saronite bar), AHBuyMarket(item=8.0*saronite bar, gold=17.5768)))]"
      ]
     },
     "execution_count": 31,
     "metadata": {},
     "output_type": "execute_result"
    }
   ],
   "source": [
    "options = procurement.dnf(pp_market.obtain(i(\"titanium bar\")))\n",
    "sorted([(procurement.cost(x), x) for x in options], key=lambda x:x[0])"
   ]
  },
  {
   "cell_type": "code",
   "execution_count": 32,
   "id": "62795260-bcc3-4ff6-8b9a-271da537eb4c",
   "metadata": {},
   "outputs": [
    {
     "data": {
      "text/plain": [
       "[(35.861000000000004,\n",
       "  And(AHBuyMarket(item=10*elixir of mighty defense, gold=35.861000000000004),)),\n",
       " (46.5518,\n",
       "  And(Craft(item=10*elixir of mighty defense, ingredients=10.0*imbued vial + 20.0*icethorn + 10.0*crystallized life), VendorBuy(item=10.0*imbued vial, who='vendor', where='somewhere', gold=0.36), AHBuyMarket(item=20.0*icethorn, gold=38.620000000000005), Craft(item=10.0*crystallized life, ingredients=eternal life), AHBuyMarket(item=eternal life, gold=7.5718))),\n",
       " (48.80200000000001,\n",
       "  And(Craft(item=10*elixir of mighty defense, ingredients=10.0*imbued vial + 20.0*icethorn + 10.0*crystallized life), VendorBuy(item=10.0*imbued vial, who='vendor', where='somewhere', gold=0.36), AHBuyMarket(item=20.0*icethorn, gold=38.620000000000005), AHBuyMarket(item=10.0*crystallized life, gold=9.822))),\n",
       " (48.80200000000001,\n",
       "  And(Craft(item=10*elixir of mighty defense, ingredients=10.0*imbued vial + 20.0*icethorn + 10.0*crystallized life), VendorBuy(item=10.0*imbued vial, who='vendor', where='somewhere', gold=0.36), AHBuyMarket(item=20.0*icethorn, gold=38.620000000000005), Craft(item=10.0*crystallized life, ingredients=eternal life), Craft(item=eternal life, ingredients=10.0*crystallized life), AHBuyMarket(item=10.0*crystallized life, gold=9.822))),\n",
       " (71.3928,\n",
       "  And(Craft(item=10*elixir of mighty defense, ingredients=10.0*imbued vial + 20.0*icethorn + 10.0*crystallized life), AHBuyMarket(item=10.0*imbued vial, gold=25.200999999999997), AHBuyMarket(item=20.0*icethorn, gold=38.620000000000005), Craft(item=10.0*crystallized life, ingredients=eternal life), AHBuyMarket(item=eternal life, gold=7.5718))),\n",
       " (73.643,\n",
       "  And(Craft(item=10*elixir of mighty defense, ingredients=10.0*imbued vial + 20.0*icethorn + 10.0*crystallized life), AHBuyMarket(item=10.0*imbued vial, gold=25.200999999999997), AHBuyMarket(item=20.0*icethorn, gold=38.620000000000005), AHBuyMarket(item=10.0*crystallized life, gold=9.822))),\n",
       " (73.643,\n",
       "  And(Craft(item=10*elixir of mighty defense, ingredients=10.0*imbued vial + 20.0*icethorn + 10.0*crystallized life), AHBuyMarket(item=10.0*imbued vial, gold=25.200999999999997), AHBuyMarket(item=20.0*icethorn, gold=38.620000000000005), Craft(item=10.0*crystallized life, ingredients=eternal life), Craft(item=eternal life, ingredients=10.0*crystallized life), AHBuyMarket(item=10.0*crystallized life, gold=9.822)))]"
      ]
     },
     "execution_count": 32,
     "metadata": {},
     "output_type": "execute_result"
    }
   ],
   "source": [
    "options = procurement.dnf(pp_market.obtain(i(\"10 elixir of mighty defense\")))\n",
    "sorted([(procurement.cost(x), x) for x in options], key=lambda x:x[0])"
   ]
  },
  {
   "cell_type": "code",
   "execution_count": 33,
   "id": "5c15ba42-8951-41d5-a078-85365d625595",
   "metadata": {},
   "outputs": [
    {
     "data": {
      "text/plain": [
       "[(30.576999999999998,\n",
       "  And(Craft(item=10*practice lock, ingredients=20.0*handful of copper bolts + 10.0*weak flux + 10.0*bronze bar), Craft(item=20.0*handful of copper bolts, ingredients=20.0*copper bar), AHBuyMarket(item=20.0*copper bar, gold=11.832), VendorBuy(item=10.0*weak flux, who='vendor', where='somewhere', gold=0.01), AHBuyMarket(item=10.0*bronze bar, gold=18.735))),\n",
       " (30.853,\n",
       "  And(Craft(item=10*practice lock, ingredients=20.0*handful of copper bolts + 10.0*weak flux + 10.0*bronze bar), Craft(item=20.0*handful of copper bolts, ingredients=20.0*copper bar), Craft(item=20.0*copper bar, ingredients=20.0*copper ore), AHBuyMarket(item=20.0*copper ore, gold=12.108), VendorBuy(item=10.0*weak flux, who='vendor', where='somewhere', gold=0.01), AHBuyMarket(item=10.0*bronze bar, gold=18.735))),\n",
       " (31.439000000000004,\n",
       "  And(Craft(item=10*practice lock, ingredients=20.0*handful of copper bolts + 10.0*weak flux + 10.0*bronze bar), Craft(item=20.0*handful of copper bolts, ingredients=20.0*copper bar), AHBuyMarket(item=20.0*copper bar, gold=11.832), VendorBuy(item=10.0*weak flux, who='vendor', where='somewhere', gold=0.01), Craft(item=10.0*bronze bar, ingredients=10.0*copper bar + 10.0*tin bar), AHBuyMarket(item=10.0*copper bar, gold=5.916), AHBuyMarket(item=10.0*tin bar, gold=13.681000000000001))),\n",
       " (31.577,\n",
       "  And(Craft(item=10*practice lock, ingredients=20.0*handful of copper bolts + 10.0*weak flux + 10.0*bronze bar), Craft(item=20.0*handful of copper bolts, ingredients=20.0*copper bar), AHBuyMarket(item=20.0*copper bar, gold=11.832), VendorBuy(item=10.0*weak flux, who='vendor', where='somewhere', gold=0.01), Craft(item=10.0*bronze bar, ingredients=10.0*copper bar + 10.0*tin bar), Craft(item=10.0*copper bar, ingredients=10.0*copper ore), AHBuyMarket(item=10.0*copper ore, gold=6.054), AHBuyMarket(item=10.0*tin bar, gold=13.681000000000001))),\n",
       " (31.715,\n",
       "  And(Craft(item=10*practice lock, ingredients=20.0*handful of copper bolts + 10.0*weak flux + 10.0*bronze bar), Craft(item=20.0*handful of copper bolts, ingredients=20.0*copper bar), Craft(item=20.0*copper bar, ingredients=20.0*copper ore), AHBuyMarket(item=20.0*copper ore, gold=12.108), VendorBuy(item=10.0*weak flux, who='vendor', where='somewhere', gold=0.01), Craft(item=10.0*bronze bar, ingredients=10.0*copper bar + 10.0*tin bar), AHBuyMarket(item=10.0*copper bar, gold=5.916), AHBuyMarket(item=10.0*tin bar, gold=13.681000000000001))),\n",
       " (31.853,\n",
       "  And(Craft(item=10*practice lock, ingredients=20.0*handful of copper bolts + 10.0*weak flux + 10.0*bronze bar), Craft(item=20.0*handful of copper bolts, ingredients=20.0*copper bar), Craft(item=20.0*copper bar, ingredients=20.0*copper ore), AHBuyMarket(item=20.0*copper ore, gold=12.108), VendorBuy(item=10.0*weak flux, who='vendor', where='somewhere', gold=0.01), Craft(item=10.0*bronze bar, ingredients=10.0*copper bar + 10.0*tin bar), Craft(item=10.0*copper bar, ingredients=10.0*copper ore), AHBuyMarket(item=10.0*copper ore, gold=6.054), AHBuyMarket(item=10.0*tin bar, gold=13.681000000000001))),\n",
       " (32.567,\n",
       "  And(Craft(item=10*practice lock, ingredients=20.0*handful of copper bolts + 10.0*weak flux + 10.0*bronze bar), Craft(item=20.0*handful of copper bolts, ingredients=20.0*copper bar), AHBuyMarket(item=20.0*copper bar, gold=11.832), AHBuyMarket(item=10.0*weak flux, gold=2.0), AHBuyMarket(item=10.0*bronze bar, gold=18.735))),\n",
       " (32.843,\n",
       "  And(Craft(item=10*practice lock, ingredients=20.0*handful of copper bolts + 10.0*weak flux + 10.0*bronze bar), Craft(item=20.0*handful of copper bolts, ingredients=20.0*copper bar), Craft(item=20.0*copper bar, ingredients=20.0*copper ore), AHBuyMarket(item=20.0*copper ore, gold=12.108), AHBuyMarket(item=10.0*weak flux, gold=2.0), AHBuyMarket(item=10.0*bronze bar, gold=18.735))),\n",
       " (33.429,\n",
       "  And(Craft(item=10*practice lock, ingredients=20.0*handful of copper bolts + 10.0*weak flux + 10.0*bronze bar), Craft(item=20.0*handful of copper bolts, ingredients=20.0*copper bar), AHBuyMarket(item=20.0*copper bar, gold=11.832), AHBuyMarket(item=10.0*weak flux, gold=2.0), Craft(item=10.0*bronze bar, ingredients=10.0*copper bar + 10.0*tin bar), AHBuyMarket(item=10.0*copper bar, gold=5.916), AHBuyMarket(item=10.0*tin bar, gold=13.681000000000001))),\n",
       " (33.56700000000001,\n",
       "  And(Craft(item=10*practice lock, ingredients=20.0*handful of copper bolts + 10.0*weak flux + 10.0*bronze bar), Craft(item=20.0*handful of copper bolts, ingredients=20.0*copper bar), AHBuyMarket(item=20.0*copper bar, gold=11.832), AHBuyMarket(item=10.0*weak flux, gold=2.0), Craft(item=10.0*bronze bar, ingredients=10.0*copper bar + 10.0*tin bar), Craft(item=10.0*copper bar, ingredients=10.0*copper ore), AHBuyMarket(item=10.0*copper ore, gold=6.054), AHBuyMarket(item=10.0*tin bar, gold=13.681000000000001))),\n",
       " (33.705,\n",
       "  And(Craft(item=10*practice lock, ingredients=20.0*handful of copper bolts + 10.0*weak flux + 10.0*bronze bar), Craft(item=20.0*handful of copper bolts, ingredients=20.0*copper bar), Craft(item=20.0*copper bar, ingredients=20.0*copper ore), AHBuyMarket(item=20.0*copper ore, gold=12.108), AHBuyMarket(item=10.0*weak flux, gold=2.0), Craft(item=10.0*bronze bar, ingredients=10.0*copper bar + 10.0*tin bar), AHBuyMarket(item=10.0*copper bar, gold=5.916), AHBuyMarket(item=10.0*tin bar, gold=13.681000000000001))),\n",
       " (33.843,\n",
       "  And(Craft(item=10*practice lock, ingredients=20.0*handful of copper bolts + 10.0*weak flux + 10.0*bronze bar), Craft(item=20.0*handful of copper bolts, ingredients=20.0*copper bar), Craft(item=20.0*copper bar, ingredients=20.0*copper ore), AHBuyMarket(item=20.0*copper ore, gold=12.108), AHBuyMarket(item=10.0*weak flux, gold=2.0), Craft(item=10.0*bronze bar, ingredients=10.0*copper bar + 10.0*tin bar), Craft(item=10.0*copper bar, ingredients=10.0*copper ore), AHBuyMarket(item=10.0*copper ore, gold=6.054), AHBuyMarket(item=10.0*tin bar, gold=13.681000000000001))),\n",
       " (37.498000000000005,\n",
       "  And(Craft(item=10*practice lock, ingredients=20.0*handful of copper bolts + 10.0*weak flux + 10.0*bronze bar), Craft(item=20.0*handful of copper bolts, ingredients=20.0*copper bar), AHBuyMarket(item=20.0*copper bar, gold=11.832), VendorBuy(item=10.0*weak flux, who='vendor', where='somewhere', gold=0.01), Craft(item=10.0*bronze bar, ingredients=10.0*copper bar + 10.0*tin bar), AHBuyMarket(item=10.0*copper bar, gold=5.916), Craft(item=10.0*tin bar, ingredients=10.0*tin ore), AHBuyMarket(item=10.0*tin ore, gold=19.74))),\n",
       " (37.635999999999996,\n",
       "  And(Craft(item=10*practice lock, ingredients=20.0*handful of copper bolts + 10.0*weak flux + 10.0*bronze bar), Craft(item=20.0*handful of copper bolts, ingredients=20.0*copper bar), AHBuyMarket(item=20.0*copper bar, gold=11.832), VendorBuy(item=10.0*weak flux, who='vendor', where='somewhere', gold=0.01), Craft(item=10.0*bronze bar, ingredients=10.0*copper bar + 10.0*tin bar), Craft(item=10.0*copper bar, ingredients=10.0*copper ore), AHBuyMarket(item=10.0*copper ore, gold=6.054), Craft(item=10.0*tin bar, ingredients=10.0*tin ore), AHBuyMarket(item=10.0*tin ore, gold=19.74))),\n",
       " (37.774,\n",
       "  And(Craft(item=10*practice lock, ingredients=20.0*handful of copper bolts + 10.0*weak flux + 10.0*bronze bar), Craft(item=20.0*handful of copper bolts, ingredients=20.0*copper bar), Craft(item=20.0*copper bar, ingredients=20.0*copper ore), AHBuyMarket(item=20.0*copper ore, gold=12.108), VendorBuy(item=10.0*weak flux, who='vendor', where='somewhere', gold=0.01), Craft(item=10.0*bronze bar, ingredients=10.0*copper bar + 10.0*tin bar), AHBuyMarket(item=10.0*copper bar, gold=5.916), Craft(item=10.0*tin bar, ingredients=10.0*tin ore), AHBuyMarket(item=10.0*tin ore, gold=19.74))),\n",
       " (37.912,\n",
       "  And(Craft(item=10*practice lock, ingredients=20.0*handful of copper bolts + 10.0*weak flux + 10.0*bronze bar), Craft(item=20.0*handful of copper bolts, ingredients=20.0*copper bar), Craft(item=20.0*copper bar, ingredients=20.0*copper ore), AHBuyMarket(item=20.0*copper ore, gold=12.108), VendorBuy(item=10.0*weak flux, who='vendor', where='somewhere', gold=0.01), Craft(item=10.0*bronze bar, ingredients=10.0*copper bar + 10.0*tin bar), Craft(item=10.0*copper bar, ingredients=10.0*copper ore), AHBuyMarket(item=10.0*copper ore, gold=6.054), Craft(item=10.0*tin bar, ingredients=10.0*tin ore), AHBuyMarket(item=10.0*tin ore, gold=19.74))),\n",
       " (39.488,\n",
       "  And(Craft(item=10*practice lock, ingredients=20.0*handful of copper bolts + 10.0*weak flux + 10.0*bronze bar), Craft(item=20.0*handful of copper bolts, ingredients=20.0*copper bar), AHBuyMarket(item=20.0*copper bar, gold=11.832), AHBuyMarket(item=10.0*weak flux, gold=2.0), Craft(item=10.0*bronze bar, ingredients=10.0*copper bar + 10.0*tin bar), AHBuyMarket(item=10.0*copper bar, gold=5.916), Craft(item=10.0*tin bar, ingredients=10.0*tin ore), AHBuyMarket(item=10.0*tin ore, gold=19.74))),\n",
       " (39.619,\n",
       "  And(Craft(item=10*practice lock, ingredients=20.0*handful of copper bolts + 10.0*weak flux + 10.0*bronze bar), AHBuyMarket(item=20.0*handful of copper bolts, gold=20.874000000000002), VendorBuy(item=10.0*weak flux, who='vendor', where='somewhere', gold=0.01), AHBuyMarket(item=10.0*bronze bar, gold=18.735))),\n",
       " (39.626000000000005,\n",
       "  And(Craft(item=10*practice lock, ingredients=20.0*handful of copper bolts + 10.0*weak flux + 10.0*bronze bar), Craft(item=20.0*handful of copper bolts, ingredients=20.0*copper bar), AHBuyMarket(item=20.0*copper bar, gold=11.832), AHBuyMarket(item=10.0*weak flux, gold=2.0), Craft(item=10.0*bronze bar, ingredients=10.0*copper bar + 10.0*tin bar), Craft(item=10.0*copper bar, ingredients=10.0*copper ore), AHBuyMarket(item=10.0*copper ore, gold=6.054), Craft(item=10.0*tin bar, ingredients=10.0*tin ore), AHBuyMarket(item=10.0*tin ore, gold=19.74))),\n",
       " (39.763999999999996,\n",
       "  And(Craft(item=10*practice lock, ingredients=20.0*handful of copper bolts + 10.0*weak flux + 10.0*bronze bar), Craft(item=20.0*handful of copper bolts, ingredients=20.0*copper bar), Craft(item=20.0*copper bar, ingredients=20.0*copper ore), AHBuyMarket(item=20.0*copper ore, gold=12.108), AHBuyMarket(item=10.0*weak flux, gold=2.0), Craft(item=10.0*bronze bar, ingredients=10.0*copper bar + 10.0*tin bar), AHBuyMarket(item=10.0*copper bar, gold=5.916), Craft(item=10.0*tin bar, ingredients=10.0*tin ore), AHBuyMarket(item=10.0*tin ore, gold=19.74))),\n",
       " (39.902,\n",
       "  And(Craft(item=10*practice lock, ingredients=20.0*handful of copper bolts + 10.0*weak flux + 10.0*bronze bar), Craft(item=20.0*handful of copper bolts, ingredients=20.0*copper bar), Craft(item=20.0*copper bar, ingredients=20.0*copper ore), AHBuyMarket(item=20.0*copper ore, gold=12.108), AHBuyMarket(item=10.0*weak flux, gold=2.0), Craft(item=10.0*bronze bar, ingredients=10.0*copper bar + 10.0*tin bar), Craft(item=10.0*copper bar, ingredients=10.0*copper ore), AHBuyMarket(item=10.0*copper ore, gold=6.054), Craft(item=10.0*tin bar, ingredients=10.0*tin ore), AHBuyMarket(item=10.0*tin ore, gold=19.74))),\n",
       " (40.48100000000001,\n",
       "  And(Craft(item=10*practice lock, ingredients=20.0*handful of copper bolts + 10.0*weak flux + 10.0*bronze bar), AHBuyMarket(item=20.0*handful of copper bolts, gold=20.874000000000002), VendorBuy(item=10.0*weak flux, who='vendor', where='somewhere', gold=0.01), Craft(item=10.0*bronze bar, ingredients=10.0*copper bar + 10.0*tin bar), AHBuyMarket(item=10.0*copper bar, gold=5.916), AHBuyMarket(item=10.0*tin bar, gold=13.681000000000001))),\n",
       " (40.602999999999994,\n",
       "  And(AHBuyMarket(item=10*practice lock, gold=40.602999999999994),)),\n",
       " (40.619,\n",
       "  And(Craft(item=10*practice lock, ingredients=20.0*handful of copper bolts + 10.0*weak flux + 10.0*bronze bar), AHBuyMarket(item=20.0*handful of copper bolts, gold=20.874000000000002), VendorBuy(item=10.0*weak flux, who='vendor', where='somewhere', gold=0.01), Craft(item=10.0*bronze bar, ingredients=10.0*copper bar + 10.0*tin bar), Craft(item=10.0*copper bar, ingredients=10.0*copper ore), AHBuyMarket(item=10.0*copper ore, gold=6.054), AHBuyMarket(item=10.0*tin bar, gold=13.681000000000001))),\n",
       " (41.609,\n",
       "  And(Craft(item=10*practice lock, ingredients=20.0*handful of copper bolts + 10.0*weak flux + 10.0*bronze bar), AHBuyMarket(item=20.0*handful of copper bolts, gold=20.874000000000002), AHBuyMarket(item=10.0*weak flux, gold=2.0), AHBuyMarket(item=10.0*bronze bar, gold=18.735))),\n",
       " (42.471000000000004,\n",
       "  And(Craft(item=10*practice lock, ingredients=20.0*handful of copper bolts + 10.0*weak flux + 10.0*bronze bar), AHBuyMarket(item=20.0*handful of copper bolts, gold=20.874000000000002), AHBuyMarket(item=10.0*weak flux, gold=2.0), Craft(item=10.0*bronze bar, ingredients=10.0*copper bar + 10.0*tin bar), AHBuyMarket(item=10.0*copper bar, gold=5.916), AHBuyMarket(item=10.0*tin bar, gold=13.681000000000001))),\n",
       " (42.60900000000001,\n",
       "  And(Craft(item=10*practice lock, ingredients=20.0*handful of copper bolts + 10.0*weak flux + 10.0*bronze bar), AHBuyMarket(item=20.0*handful of copper bolts, gold=20.874000000000002), AHBuyMarket(item=10.0*weak flux, gold=2.0), Craft(item=10.0*bronze bar, ingredients=10.0*copper bar + 10.0*tin bar), Craft(item=10.0*copper bar, ingredients=10.0*copper ore), AHBuyMarket(item=10.0*copper ore, gold=6.054), AHBuyMarket(item=10.0*tin bar, gold=13.681000000000001))),\n",
       " (46.540000000000006,\n",
       "  And(Craft(item=10*practice lock, ingredients=20.0*handful of copper bolts + 10.0*weak flux + 10.0*bronze bar), AHBuyMarket(item=20.0*handful of copper bolts, gold=20.874000000000002), VendorBuy(item=10.0*weak flux, who='vendor', where='somewhere', gold=0.01), Craft(item=10.0*bronze bar, ingredients=10.0*copper bar + 10.0*tin bar), AHBuyMarket(item=10.0*copper bar, gold=5.916), Craft(item=10.0*tin bar, ingredients=10.0*tin ore), AHBuyMarket(item=10.0*tin ore, gold=19.74))),\n",
       " (46.678,\n",
       "  And(Craft(item=10*practice lock, ingredients=20.0*handful of copper bolts + 10.0*weak flux + 10.0*bronze bar), AHBuyMarket(item=20.0*handful of copper bolts, gold=20.874000000000002), VendorBuy(item=10.0*weak flux, who='vendor', where='somewhere', gold=0.01), Craft(item=10.0*bronze bar, ingredients=10.0*copper bar + 10.0*tin bar), Craft(item=10.0*copper bar, ingredients=10.0*copper ore), AHBuyMarket(item=10.0*copper ore, gold=6.054), Craft(item=10.0*tin bar, ingredients=10.0*tin ore), AHBuyMarket(item=10.0*tin ore, gold=19.74))),\n",
       " (48.53,\n",
       "  And(Craft(item=10*practice lock, ingredients=20.0*handful of copper bolts + 10.0*weak flux + 10.0*bronze bar), AHBuyMarket(item=20.0*handful of copper bolts, gold=20.874000000000002), AHBuyMarket(item=10.0*weak flux, gold=2.0), Craft(item=10.0*bronze bar, ingredients=10.0*copper bar + 10.0*tin bar), AHBuyMarket(item=10.0*copper bar, gold=5.916), Craft(item=10.0*tin bar, ingredients=10.0*tin ore), AHBuyMarket(item=10.0*tin ore, gold=19.74))),\n",
       " (48.668000000000006,\n",
       "  And(Craft(item=10*practice lock, ingredients=20.0*handful of copper bolts + 10.0*weak flux + 10.0*bronze bar), AHBuyMarket(item=20.0*handful of copper bolts, gold=20.874000000000002), AHBuyMarket(item=10.0*weak flux, gold=2.0), Craft(item=10.0*bronze bar, ingredients=10.0*copper bar + 10.0*tin bar), Craft(item=10.0*copper bar, ingredients=10.0*copper ore), AHBuyMarket(item=10.0*copper ore, gold=6.054), Craft(item=10.0*tin bar, ingredients=10.0*tin ore), AHBuyMarket(item=10.0*tin ore, gold=19.74)))]"
      ]
     },
     "execution_count": 33,
     "metadata": {},
     "output_type": "execute_result"
    }
   ],
   "source": [
    "options = procurement.dnf(pp_market.obtain(i(\"10 practice lock\")))\n",
    "sorted([(procurement.cost(x), x) for x in options], key=lambda x:x[0])"
   ]
  },
  {
   "cell_type": "code",
   "execution_count": 34,
   "id": "c3eda92d-856c-4ec8-b87f-e1d8920fcf82",
   "metadata": {},
   "outputs": [
    {
     "data": {
      "text/plain": [
       "[(2.0404,\n",
       "  And(Craft(item=glyph of pick lock, ingredients=lion's ink + light parchment), AHBuyMarket(item=lion's ink, gold=2.0304), VendorBuy(item=light parchment, who='vendor', where='somewhere', gold=0.01))),\n",
       " (2.2264,\n",
       "  And(Craft(item=glyph of pick lock, ingredients=lion's ink + light parchment), Craft(item=lion's ink, ingredients=2.0*golden pigment), AHBuyMarket(item=2.0*golden pigment, gold=2.2164), VendorBuy(item=light parchment, who='vendor', where='somewhere', gold=0.01))),\n",
       " (5.815300000000001,\n",
       "  And(Craft(item=glyph of pick lock, ingredients=lion's ink + light parchment), AHBuyMarket(item=lion's ink, gold=2.0304), AHBuyMarket(item=light parchment, gold=3.7849))),\n",
       " (6.0013000000000005,\n",
       "  And(Craft(item=glyph of pick lock, ingredients=lion's ink + light parchment), Craft(item=lion's ink, ingredients=2.0*golden pigment), AHBuyMarket(item=2.0*golden pigment, gold=2.2164), AHBuyMarket(item=light parchment, gold=3.7849))),\n",
       " (12.5618, And(AHBuyMarket(item=glyph of pick lock, gold=12.5618),))]"
      ]
     },
     "execution_count": 34,
     "metadata": {},
     "output_type": "execute_result"
    }
   ],
   "source": [
    "options = procurement.dnf(pp_market.obtain(i(\"glyph of pick lock\")))\n",
    "sorted([(procurement.cost(x), x) for x in options], key=lambda x:x[0])"
   ]
  },
  {
   "cell_type": "code",
   "execution_count": 35,
   "id": "c0f1bb59-8b30-41a8-95d1-815f1cf8d98e",
   "metadata": {},
   "outputs": [
    {
     "data": {
      "text/plain": [
       "(415.624,\n",
       " And(AHBuyNow(item=415*lichbloom, gold=0.0), AHBuyNow(item=55*frost lotus, gold=415.624), AHBuyNow(item=87*icethorn, gold=0.0)))"
      ]
     },
     "execution_count": 35,
     "metadata": {},
     "output_type": "execute_result"
    }
   ],
   "source": [
    "min([(procurement.cost(x), x) for x in procurement.dnf(pp.obtain(i(\"55 frost lotus + 87 icethorn + 415 lichbloom\")))], key=lambda x:x[0])"
   ]
  },
  {
   "cell_type": "code",
   "execution_count": 36,
   "id": "eb53341a-f3a0-47a8-aba9-a0f776a38b1b",
   "metadata": {},
   "outputs": [
    {
     "data": {
      "text/plain": [
       "(1598.5235000000002,\n",
       " And(AHBuyMarket(item=415*lichbloom, gold=1093.0685), AHBuyMarket(item=55*frost lotus, gold=337.458), AHBuyMarket(item=87*icethorn, gold=167.997)))"
      ]
     },
     "execution_count": 36,
     "metadata": {},
     "output_type": "execute_result"
    }
   ],
   "source": [
    "min([(procurement.cost(x), x) for x in procurement.dnf(pp_market.obtain(i(\"55 frost lotus + 87 icethorn + 415 lichbloom\")))], key=lambda x:x[0])"
   ]
  },
  {
   "cell_type": "code",
   "execution_count": 37,
   "id": "66e0e15b-1721-4229-985e-94815de97653",
   "metadata": {},
   "outputs": [
    {
     "data": {
      "text/plain": [
       "()"
      ]
     },
     "execution_count": 37,
     "metadata": {},
     "output_type": "execute_result"
    }
   ],
   "source": [
    "topn_market(i(\"boots of wintry endurance\"), 4)"
   ]
  },
  {
   "cell_type": "code",
   "execution_count": null,
   "id": "6a247f23-cab3-42c1-a72d-c2031d920d9c",
   "metadata": {},
   "outputs": [],
   "source": []
  }
 ],
 "metadata": {
  "kernelspec": {
   "display_name": "Python 3",
   "language": "python",
   "name": "python3"
  },
  "language_info": {
   "codemirror_mode": {
    "name": "ipython",
    "version": 3
   },
   "file_extension": ".py",
   "mimetype": "text/x-python",
   "name": "python",
   "nbconvert_exporter": "python",
   "pygments_lexer": "ipython3",
   "version": "3.8.8"
  }
 },
 "nbformat": 4,
 "nbformat_minor": 5
}
