{
 "cells": [
  {
   "cell_type": "code",
   "execution_count": 21,
   "id": "1d210c4d-bf48-4ec4-8c35-7ac9f0628b71",
   "metadata": {},
   "outputs": [
    {
     "name": "stderr",
     "output_type": "stream",
     "text": [
      "C:\\Users\\Med\\Desktop\\wow\\tsm.py:31: SyntaxWarning: list indices must be integers or slices, not str; perhaps you missed a comma?\n",
      "  return assoc_in(record, [\"region\"][\"salePct\"], record[\"region\"][\"salePct\"]/10)\n"
     ]
    },
    {
     "data": {
      "text/plain": [
       "<module 'crafting' from 'C:\\\\Users\\\\Med\\\\Desktop\\\\wow\\\\crafting.py'>"
      ]
     },
     "execution_count": 21,
     "metadata": {},
     "output_type": "execute_result"
    }
   ],
   "source": [
    "from importlib import reload\n",
    "import tsm; reload(tsm)\n",
    "import _keys; reload(_keys)\n",
    "import blizzard; reload(blizzard)\n",
    "import config; reload(config)\n",
    "import kvstore; reload(kvstore)\n",
    "import snapshot; reload(snapshot)\n",
    "import elemental_arbitrage; reload(elemental_arbitrage)\n",
    "import bliz_tsm_join; reload(bliz_tsm_join)\n",
    "import crafting; reload(crafting)"
   ]
  },
  {
   "cell_type": "code",
   "execution_count": 22,
   "id": "51f1c1c4-c910-4c41-80f0-35987a1e4f01",
   "metadata": {},
   "outputs": [],
   "source": [
    "from snapshot import SnapshotProcessor\n",
    "from tsm import auction_house_snapshot\n",
    "from config import tsm_region_id\n",
    "from config import tsm_realm_id\n",
    "from config import tsm_ah_id\n",
    "from config import tsm_cache_dir\n",
    "\n",
    "def tsm_ah_snapper():\n",
    "    return auction_house_snapshot(tsm_region_id, tsm_realm_id, tsm_ah_id)\n",
    "\n",
    "tsm_ah_snap = SnapshotProcessor(tsm_ah_snapper, cache_dir=tsm_cache_dir)\n",
    "tsm_ah = tsm_ah_snap.get(max_age_seconds=3000)"
   ]
  },
  {
   "cell_type": "code",
   "execution_count": 23,
   "id": "3a780b13-30a3-4f1e-8e33-9a03b0165f2c",
   "metadata": {},
   "outputs": [],
   "source": [
    "from snapshot import SnapshotProcessor\n",
    "from blizzard import auction_data\n",
    "from blizzard import auction_summary\n",
    "from config import blizzard_realm_id\n",
    "from config import blizzard_ah_id\n",
    "from config import blizzard_cache_dir\n",
    "\n",
    "def bliz_ah_snapper():\n",
    "    return auction_data(blizzard_realm_id, blizzard_ah_id)\n",
    "\n",
    "bliz_ah_snap = SnapshotProcessor(bliz_ah_snapper, cache_dir=blizzard_cache_dir)\n",
    "bliz_ah = bliz_ah_snap.get(max_age_seconds=3000)"
   ]
  },
  {
   "cell_type": "code",
   "execution_count": 24,
   "id": "b5d2b47b-0b5f-4a80-9a7e-438f254c7c6f",
   "metadata": {},
   "outputs": [],
   "source": [
    "from kvstore import InefficientKVStore\n",
    "from blizzard import ItemLookup\n",
    "from config import blizzard_item_cache\n",
    "from config import blizzard_item_reverse_cache\n",
    "\n",
    "items = ItemLookup(\n",
    "    InefficientKVStore(blizzard_item_cache),\n",
    "    InefficientKVStore(blizzard_item_reverse_cache),\n",
    ")"
   ]
  },
  {
   "cell_type": "code",
   "execution_count": 25,
   "id": "0ac0b9a9-1a5d-4784-a2b0-42cdf5787ab7",
   "metadata": {},
   "outputs": [],
   "source": [
    "from bliz_tsm_join import item_info_getter\n",
    "item_info = item_info_getter(items, bliz_ah_snap, tsm_ah_snap, max_age_seconds=3000)\n",
    "item_info_current = item_info_getter(items, bliz_ah_snap, tsm_ah_snap, max_age_seconds=0)"
   ]
  },
  {
   "cell_type": "code",
   "execution_count": 26,
   "id": "50f74518-044e-44f0-895d-5dfd1c44532f",
   "metadata": {},
   "outputs": [
    {
     "data": {
      "text/plain": [
       "{'id': 41599,\n",
       " 'name': 'frostweave bag',\n",
       " 'num_auctions': 124,\n",
       " 'quantity': 124,\n",
       " 'weight_sell': {'gold': 72.96, 'copper': 729611.8951612903},\n",
       " 'avg_sell': {'gold': 72.96, 'copper': 729611.8951612903},\n",
       " 'max': {'gold': 74.0, 'copper': 740000},\n",
       " 'p80': {'gold': 73.99, 'copper': 739900},\n",
       " 'p50': {'gold': 73.94, 'copper': 739399},\n",
       " 'p20': {'gold': 71.5, 'copper': 714997},\n",
       " 'wp80': {'gold': 73.99, 'copper': 739900},\n",
       " 'wp50': {'gold': 73.94, 'copper': 739399},\n",
       " 'wp20': {'gold': 71.5, 'copper': 714997},\n",
       " 'min': {'gold': 71.49, 'copper': 714894},\n",
       " 'realm_market_value': {'gold': 63.42, 'copper': 634151},\n",
       " 'realm_historical': {'gold': 83.8, 'copper': 838024},\n",
       " 'region_historical': {'gold': 64.73, 'copper': 647263},\n",
       " 'region_avg_sale_price': {'gold': 53.19, 'copper': 531913},\n",
       " 'sale_pct': 769,\n",
       " 'sold_per_day': 500,\n",
       " 'headroom': -58,\n",
       " 'market_skew_pct': -24.33,\n",
       " 'auction_skew_pct': 12.73}"
      ]
     },
     "execution_count": 26,
     "metadata": {},
     "output_type": "execute_result"
    }
   ],
   "source": [
    "item_info(\"frostweave bag\")"
   ]
  },
  {
   "cell_type": "code",
   "execution_count": 27,
   "id": "d4b1f7fa-633e-4051-a111-e8b067953a85",
   "metadata": {},
   "outputs": [
    {
     "data": {
      "text/plain": [
       "{'id': 35623,\n",
       " 'name': 'eternal air',\n",
       " 'num_auctions': 5,\n",
       " 'quantity': 36,\n",
       " 'weight_sell': {'gold': 323.06, 'copper': 3230591.388888889},\n",
       " 'avg_sell': {'gold': 736.03, 'copper': 7360280.0},\n",
       " 'max': {'gold': 3110.14, 'copper': 31101411},\n",
       " 'p80': {'gold': 3110.14, 'copper': 31101411},\n",
       " 'p50': {'gold': 176.0, 'copper': 1759989},\n",
       " 'p20': {'gold': 55.0, 'copper': 550000},\n",
       " 'wp80': {'gold': 320.0, 'copper': 3200000},\n",
       " 'wp50': {'gold': 320.0, 'copper': 3200000},\n",
       " 'wp20': {'gold': 176.0, 'copper': 1759989},\n",
       " 'min': {'gold': 19.0, 'copper': 190000},\n",
       " 'realm_market_value': {'gold': 3.34, 'copper': 33393},\n",
       " 'realm_historical': {'gold': 6.22, 'copper': 62153},\n",
       " 'region_historical': {'gold': 6.25, 'copper': 62505},\n",
       " 'region_avg_sale_price': {'gold': 5.71, 'copper': 57070},\n",
       " 'sale_pct': 650,\n",
       " 'sold_per_day': 1599,\n",
       " 'headroom': 210,\n",
       " 'market_skew_pct': -46.27,\n",
       " 'auction_skew_pct': 468.98}"
      ]
     },
     "execution_count": 27,
     "metadata": {},
     "output_type": "execute_result"
    }
   ],
   "source": [
    "item_info(\"eternal air\")"
   ]
  },
  {
   "cell_type": "code",
   "execution_count": 28,
   "id": "62ca2faa-4119-475f-a709-60518b2d007c",
   "metadata": {
    "tags": []
   },
   "outputs": [
    {
     "data": {
      "text/plain": [
       "{'id': 37663,\n",
       " 'name': 'titansteel bar',\n",
       " 'num_auctions': 14,\n",
       " 'quantity': 14,\n",
       " 'weight_sell': {'gold': 135.4, 'copper': 1354040.4285714286},\n",
       " 'avg_sell': {'gold': 135.4, 'copper': 1354040.4285714286},\n",
       " 'max': {'gold': 200.0, 'copper': 1999999},\n",
       " 'p80': {'gold': 180.0, 'copper': 1799999},\n",
       " 'p50': {'gold': 120.0, 'copper': 1200000},\n",
       " 'p20': {'gold': 112.75, 'copper': 1127499},\n",
       " 'wp80': {'gold': 180.0, 'copper': 1799999},\n",
       " 'wp50': {'gold': 120.0, 'copper': 1200000},\n",
       " 'wp20': {'gold': 112.75, 'copper': 1127499},\n",
       " 'min': {'gold': 112.75, 'copper': 1127498},\n",
       " 'realm_market_value': {'gold': 121.15, 'copper': 1211482},\n",
       " 'realm_historical': {'gold': 157.98, 'copper': 1579842},\n",
       " 'region_historical': {'gold': 124.32, 'copper': 1243202},\n",
       " 'region_avg_sale_price': {'gold': 130.42, 'copper': 1304160},\n",
       " 'sale_pct': 825,\n",
       " 'sold_per_day': 668,\n",
       " 'headroom': 66,\n",
       " 'market_skew_pct': -23.32,\n",
       " 'auction_skew_pct': -6.93}"
      ]
     },
     "execution_count": 28,
     "metadata": {},
     "output_type": "execute_result"
    }
   ],
   "source": [
    "item_info(\"titansteel bar\")"
   ]
  },
  {
   "cell_type": "code",
   "execution_count": 29,
   "id": "b43cf962-eebc-415f-9859-5c2f54e0c6f7",
   "metadata": {},
   "outputs": [
    {
     "data": {
      "text/plain": [
       "{'id': 45912,\n",
       " 'name': 'book of glyph mastery',\n",
       " 'num_auctions': 1,\n",
       " 'quantity': 1,\n",
       " 'weight_sell': {'gold': 17.84, 'copper': 178394.0},\n",
       " 'avg_sell': {'gold': 17.84, 'copper': 178394.0},\n",
       " 'max': {'gold': 17.84, 'copper': 178394},\n",
       " 'p80': {'gold': 17.84, 'copper': 178394},\n",
       " 'p50': {'gold': 17.84, 'copper': 178394},\n",
       " 'p20': {'gold': 17.84, 'copper': 178394},\n",
       " 'wp80': {'gold': 17.84, 'copper': 178394},\n",
       " 'wp50': {'gold': 17.84, 'copper': 178394},\n",
       " 'wp20': {'gold': 17.84, 'copper': 178394},\n",
       " 'min': {'gold': 17.84, 'copper': 178394},\n",
       " 'realm_market_value': {'gold': 18.19, 'copper': 181929},\n",
       " 'realm_historical': {'gold': 24.29, 'copper': 242915},\n",
       " 'region_historical': {'gold': 15.29, 'copper': 152944},\n",
       " 'region_avg_sale_price': {'gold': 11.42, 'copper': 114248},\n",
       " 'sale_pct': 666,\n",
       " 'sold_per_day': 153,\n",
       " 'headroom': 21,\n",
       " 'market_skew_pct': -25.11,\n",
       " 'auction_skew_pct': -1.94}"
      ]
     },
     "execution_count": 29,
     "metadata": {},
     "output_type": "execute_result"
    }
   ],
   "source": [
    "item_info(\"book of glyph mastery\")"
   ]
  },
  {
   "cell_type": "code",
   "execution_count": 30,
   "id": "83db8dea-7248-4e2c-912a-757af0cea027",
   "metadata": {
    "tags": []
   },
   "outputs": [
    {
     "name": "stdout",
     "output_type": "stream",
     "text": [
      "DEFINITELY   BS eternal-life (unit profit: 19030,headroom: 255)\n",
      "DEFINITELY   BS eternal-earth (unit profit: 18745,headroom: 423)\n",
      "YES          BS eternal-air (unit profit: 12657,headroom: 95)\n",
      "DEFINITELY   BS eternal-fire (unit profit: 69047,headroom: 150)\n",
      "DEFINITELY   BS eternal-water (unit profit: 38069,headroom: 461)\n",
      "YES          BS eternal-shadow (unit profit: 73179,headroom: 28)\n",
      "SKIP        primal-life\n",
      "SKIP        primal-earth\n",
      "DEFINITELY   SB primal-air (unit profit: 86758,headroom: 27)\n",
      "SKIP        primal-fire\n",
      "SKIP        primal-water\n",
      "SKIP        primal-shadow\n",
      "DEFINITELY   BS essence-eternal (unit profit: 487803,headroom: 30)\n",
      "DEFINITELY   BS essence-cosmic (unit profit: 61683,headroom: 91)\n",
      "SKIP        essence-nether\n",
      "SKIP        essence-planar\n",
      "SKIP        essence-astral\n",
      "SKIP        essence-magic\n",
      "SKIP        essence-mystic\n"
     ]
    }
   ],
   "source": [
    "from elemental_arbitrage import print_elemental_arbitrage_report\n",
    "\n",
    "print_elemental_arbitrage_report(tsm_ah, items)"
   ]
  },
  {
   "cell_type": "code",
   "execution_count": 31,
   "id": "da3bc152-4543-49a7-9de1-43cb4189d0e6",
   "metadata": {},
   "outputs": [
    {
     "data": {
      "text/plain": [
       "{'id': 37705,\n",
       " 'name': 'crystallized water',\n",
       " 'num_auctions': 43,\n",
       " 'quantity': 89,\n",
       " 'weight_sell': {'gold': 385.69, 'copper': 3856885.4831460672},\n",
       " 'avg_sell': {'gold': 145.27, 'copper': 1452688.6046511629},\n",
       " 'max': {'gold': 3110.14, 'copper': 31101411},\n",
       " 'p80': {'gold': 1.0, 'copper': 10000},\n",
       " 'p50': {'gold': 0.43, 'copper': 4272},\n",
       " 'p20': {'gold': 0.23, 'copper': 2322},\n",
       " 'wp80': {'gold': 4.0, 'copper': 40000},\n",
       " 'wp50': {'gold': 1.62, 'copper': 16184},\n",
       " 'wp20': {'gold': 0.23, 'copper': 2333},\n",
       " 'min': {'gold': 0.23, 'copper': 2313},\n",
       " 'realm_market_value': {'gold': 0.57, 'copper': 5700},\n",
       " 'realm_historical': {'gold': 0.79, 'copper': 7897},\n",
       " 'region_historical': {'gold': 0.57, 'copper': 5661},\n",
       " 'region_avg_sale_price': {'gold': 0.57, 'copper': 5701},\n",
       " 'sale_pct': 761,\n",
       " 'sold_per_day': 4186,\n",
       " 'headroom': 461,\n",
       " 'market_skew_pct': -27.82,\n",
       " 'auction_skew_pct': -59.42}"
      ]
     },
     "execution_count": 31,
     "metadata": {},
     "output_type": "execute_result"
    }
   ],
   "source": [
    "item_info(\"crystallized water\")"
   ]
  },
  {
   "cell_type": "code",
   "execution_count": 32,
   "id": "319338f8-d752-4cb5-8c16-c82809ad7515",
   "metadata": {
    "tags": []
   },
   "outputs": [
    {
     "data": {
      "text/plain": [
       "{\"adder's\": 1.5,\n",
       " 'goldclover': 0.98,\n",
       " 'frost lotus': 0.06,\n",
       " 'deadnettle': 0.46,\n",
       " 'tiger lily': 0.84,\n",
       " 'crystallized life': 1.06}"
      ]
     },
     "execution_count": 32,
     "metadata": {},
     "output_type": "execute_result"
    }
   ],
   "source": [
    "found_sholazar = {\"adder's\": 3*20+15, \"goldclover\": 2*20+9, \"frost lotus\": 3, \"deadnettle\": 20+3, \"tiger lily\": 2*20+2, \"crystallized life\": 10*5+3}\n",
    "rates_per_minute = {k: v/50 for (k, v) in found_sholazar.items()}\n",
    "rates_per_minute"
   ]
  },
  {
   "cell_type": "code",
   "execution_count": 33,
   "id": "80efc956-0d1b-4e77-93e1-0a174297ff6c",
   "metadata": {},
   "outputs": [],
   "source": [
    "# process(5*icethorn + frost_lotus + 5*lichbloom + enchanted_vial, 2*flask_frost_wyrm)"
   ]
  },
  {
   "cell_type": "code",
   "execution_count": 34,
   "id": "646ea7a7-239e-4256-973e-bb2eaef1dfa3",
   "metadata": {},
   "outputs": [],
   "source": [
    "from cytoolz import assoc, assoc_in"
   ]
  },
  {
   "cell_type": "code",
   "execution_count": 35,
   "id": "f0401b60-ff70-438f-9c86-03e6c0caaa5d",
   "metadata": {},
   "outputs": [
    {
     "data": {
      "text/plain": [
       "\u001b[1;31mSignature:\u001b[0m      \u001b[0massoc_in\u001b[0m\u001b[1;33m(\u001b[0m\u001b[0md\u001b[0m\u001b[1;33m,\u001b[0m \u001b[0mkeys\u001b[0m\u001b[1;33m,\u001b[0m \u001b[0mvalue\u001b[0m\u001b[1;33m,\u001b[0m \u001b[0mfactory\u001b[0m\u001b[1;33m)\u001b[0m\u001b[1;33m\u001b[0m\u001b[1;33m\u001b[0m\u001b[0m\n",
       "\u001b[1;31mCall signature:\u001b[0m \u001b[0massoc_in\u001b[0m\u001b[1;33m(\u001b[0m\u001b[1;33m*\u001b[0m\u001b[0margs\u001b[0m\u001b[1;33m,\u001b[0m \u001b[1;33m**\u001b[0m\u001b[0mkwargs\u001b[0m\u001b[1;33m)\u001b[0m\u001b[1;33m\u001b[0m\u001b[1;33m\u001b[0m\u001b[0m\n",
       "\u001b[1;31mType:\u001b[0m           cython_function_or_method\n",
       "\u001b[1;31mString form:\u001b[0m    <cyfunction assoc_in at 0x000002E4687066C0>\n",
       "\u001b[1;31mDocstring:\u001b[0m     \n",
       "assoc_in(d, keys, value, factory=dict)\n",
       "\n",
       "Return a new dict with new, potentially nested, key value pair\n",
       "\n",
       ">>> purchase = {'name': 'Alice',\n",
       "...             'order': {'items': ['Apple', 'Orange'],\n",
       "...                       'costs': [0.50, 1.25]},\n",
       "...             'credit card': '5555-1234-1234-1234'}\n",
       ">>> assoc_in(purchase, ['order', 'costs'], [0.25, 1.00]) # doctest: +SKIP\n",
       "{'credit card': '5555-1234-1234-1234',\n",
       " 'name': 'Alice',\n",
       " 'order': {'costs': [0.25, 1.00], 'items': ['Apple', 'Orange']}}\n"
      ]
     },
     "metadata": {},
     "output_type": "display_data"
    }
   ],
   "source": [
    "assoc_in?"
   ]
  },
  {
   "cell_type": "code",
   "execution_count": null,
   "id": "629334f9-e143-41dc-80e8-37f5c4538b8a",
   "metadata": {},
   "outputs": [],
   "source": []
  }
 ],
 "metadata": {
  "kernelspec": {
   "display_name": "Python 3",
   "language": "python",
   "name": "python3"
  },
  "language_info": {
   "codemirror_mode": {
    "name": "ipython",
    "version": 3
   },
   "file_extension": ".py",
   "mimetype": "text/x-python",
   "name": "python",
   "nbconvert_exporter": "python",
   "pygments_lexer": "ipython3",
   "version": "3.8.8"
  }
 },
 "nbformat": 4,
 "nbformat_minor": 5
}
