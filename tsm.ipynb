{
 "cells": [
  {
   "cell_type": "code",
   "execution_count": 1,
   "id": "1d210c4d-bf48-4ec4-8c35-7ac9f0628b71",
   "metadata": {},
   "outputs": [],
   "source": [
    "from importlib import reload\n",
    "def reload_all():\n",
    "    import tsm; reload(tsm)\n",
    "    import _keys; reload(_keys)\n",
    "    import blizzard; reload(blizzard)\n",
    "    import config; reload(config)\n",
    "    import kvstore; reload(kvstore)\n",
    "    import snapshot; reload(snapshot)\n",
    "    import elemental_arbitrage; reload(elemental_arbitrage)\n",
    "    import bliz_tsm_join; reload(bliz_tsm_join)\n",
    "    import crafting; reload(crafting)\n",
    "    import kvstore; reload(kvstore)\n",
    "    import crafting; reload(crafting)"
   ]
  },
  {
   "cell_type": "code",
   "execution_count": 2,
   "id": "51f1c1c4-c910-4c41-80f0-35987a1e4f01",
   "metadata": {},
   "outputs": [],
   "source": [
    "from snapshot import SnapshotProcessor\n",
    "from tsm import auction_house_snapshot\n",
    "from config import tsm_region_id\n",
    "from config import tsm_realm_id\n",
    "from config import tsm_ah_id\n",
    "from config import tsm_cache_dir\n",
    "\n",
    "def tsm_ah_snapper():\n",
    "    return auction_house_snapshot(tsm_region_id, tsm_realm_id, tsm_ah_id)\n",
    "\n",
    "tsm_ah_snap = SnapshotProcessor(tsm_ah_snapper, cache_dir=tsm_cache_dir)\n",
    "tsm_ah = tsm_ah_snap.get(max_age_seconds=3000)"
   ]
  },
  {
   "cell_type": "code",
   "execution_count": 3,
   "id": "3a780b13-30a3-4f1e-8e33-9a03b0165f2c",
   "metadata": {},
   "outputs": [],
   "source": [
    "from snapshot import SnapshotProcessor\n",
    "from blizzard import auction_data\n",
    "from blizzard import auction_summary\n",
    "from config import blizzard_realm_id\n",
    "from config import blizzard_ah_id\n",
    "from config import blizzard_cache_dir\n",
    "\n",
    "def bliz_ah_snapper():\n",
    "    return auction_data(blizzard_realm_id, blizzard_ah_id)\n",
    "\n",
    "bliz_ah_snap = SnapshotProcessor(bliz_ah_snapper, cache_dir=blizzard_cache_dir)\n",
    "bliz_ah = bliz_ah_snap.get(max_age_seconds=3000)"
   ]
  },
  {
   "cell_type": "code",
   "execution_count": 4,
   "id": "b5d2b47b-0b5f-4a80-9a7e-438f254c7c6f",
   "metadata": {},
   "outputs": [],
   "source": [
    "from kvstore import InefficientKVStore\n",
    "from blizzard import ItemLookup\n",
    "from config import blizzard_item_cache\n",
    "from config import blizzard_item_reverse_cache\n",
    "\n",
    "items = ItemLookup(\n",
    "    InefficientKVStore(blizzard_item_cache),\n",
    "    InefficientKVStore(blizzard_item_reverse_cache),\n",
    ")"
   ]
  },
  {
   "cell_type": "code",
   "execution_count": 5,
   "id": "0ac0b9a9-1a5d-4784-a2b0-42cdf5787ab7",
   "metadata": {},
   "outputs": [],
   "source": [
    "from bliz_tsm_join import item_info_getter\n",
    "item_info = item_info_getter(items, bliz_ah_snap, tsm_ah_snap, max_age_seconds=3000)\n",
    "item_info_current = item_info_getter(items, bliz_ah_snap, tsm_ah_snap, max_age_seconds=0)"
   ]
  },
  {
   "cell_type": "code",
   "execution_count": 6,
   "id": "3f958cfe-e63b-4104-aa24-0ec5672302b1",
   "metadata": {},
   "outputs": [],
   "source": [
    "reload_all()\n",
    "\n",
    "from crafting import Recipes\n",
    "\n",
    "r = Recipes(items)\n",
    "i = r.ingredients\n",
    "\n",
    "\n",
    "recipe_listing = \"\"\"\n",
    "2 flask of the frost wyrm\n",
    "5 icethorn + 5 lichbloom + frost lotus + enchanted vial\n",
    "\n",
    "2 flask of endless rage\n",
    "7 lichbloom + 3 goldclover + frost lotus + enchanted vial\n",
    "\n",
    "2 flask of stoneblood\n",
    "7 lichbloom + 3 crystallized life + frost lotus + enchanted vial\n",
    "\n",
    "firecracker salmon\n",
    "glacial salmon + northern spices\n",
    "\n",
    "elixir of greater agility\n",
    "sungrass + goldthorn + crystal vial\n",
    "\n",
    "titanium bar\n",
    "8 saronite bar\n",
    "\n",
    "titanium bar\n",
    "2 titanium ore\n",
    "\n",
    "titansteel bar\n",
    "3 titanium bar + eternal fire + eternal earth + eternal shadow\n",
    "\n",
    "indestructible potion\n",
    "2 icethorn + imbued vial\n",
    "\n",
    "saronite bar\n",
    "2 saronite ore\n",
    "\n",
    "potion of speed\n",
    "2 adder's tongue + pygmy oil + imbued vial\n",
    "\n",
    "potion of wild magic\n",
    "2 lichbloom + pygmy oil + imbued vial\n",
    "\"\"\"\n",
    "\n",
    "reversible_recipes = \"\"\"\n",
    "eternal shadow\n",
    "10 crystallized shadow\n",
    "\n",
    "eternal water\n",
    "10 crystallized water\n",
    "\n",
    "greater planar essence\n",
    "3 lesser planar essence\n",
    "\n",
    "greater cosmic essence\n",
    "3 lesser cosmic essence\n",
    "\"\"\"\n",
    "\n",
    "r_out = None\n",
    "for line in recipe_listing.splitlines():\n",
    "    if line.strip():\n",
    "        if r_out:\n",
    "            r.recipe_from_strings(r_out, line.strip())\n",
    "            r_out = None\n",
    "        else:\n",
    "            r_out = line.strip()\n",
    "\n",
    "            \n",
    "r_out = None\n",
    "for line in reversible_recipes.splitlines():\n",
    "    if line.strip():\n",
    "        if r_out:\n",
    "            r.recipe_from_strings(r_out, line.strip())\n",
    "            r.recipe_from_strings(line.strip(), r_out)\n",
    "            r_out = None\n",
    "        else:\n",
    "            r_out = line.strip()"
   ]
  },
  {
   "cell_type": "code",
   "execution_count": 7,
   "id": "15cf42a4-40c3-4f21-9080-72821239a811",
   "metadata": {},
   "outputs": [
    {
     "data": {
      "text/plain": [
       "[([potion of speed], [pygmy oil] + [imbued vial] + 2*[adder's tongue])]"
      ]
     },
     "execution_count": 7,
     "metadata": {},
     "output_type": "execute_result"
    }
   ],
   "source": [
    "r.lookup(i(\"potion of speed\"))"
   ]
  },
  {
   "cell_type": "code",
   "execution_count": 8,
   "id": "3491e7e4-a21e-45a0-a2e7-28aba79a9636",
   "metadata": {},
   "outputs": [
    {
     "data": {
      "text/plain": [
       "{'id': 36903,\n",
       " 'name': \"adder's tongue\",\n",
       " 'num_auctions': 58,\n",
       " 'quantity': 947,\n",
       " 'weight_sell': 19.601181098204858,\n",
       " 'avg_sell': 16.440156896551724,\n",
       " 'max': 23.398,\n",
       " 'p80': 19.888,\n",
       " 'p50': 19.884,\n",
       " 'p20': 11.0066,\n",
       " 'wp80': 19.888,\n",
       " 'wp50': 19.888,\n",
       " 'wp20': 19.884,\n",
       " 'min': 1.0005,\n",
       " 'realm_market_value': 1.1439,\n",
       " 'realm_historical': 1.1516,\n",
       " 'region_historical': 0.9732,\n",
       " 'region_avg_sale_price': 0.9822,\n",
       " 'sale_pct': 83.3,\n",
       " 'sold_per_day': 52079,\n",
       " 'headroom': 61572,\n",
       " 'market_skew_pct': -0.67,\n",
       " 'auction_skew_pct': -99.99}"
      ]
     },
     "execution_count": 8,
     "metadata": {},
     "output_type": "execute_result"
    }
   ],
   "source": [
    "item_info(\"adder's tongue\")"
   ]
  },
  {
   "cell_type": "code",
   "execution_count": 9,
   "id": "3dc9459b-11bc-45d8-a360-0b3d82c5c5ed",
   "metadata": {},
   "outputs": [
    {
     "data": {
      "text/plain": [
       "{'id': 40195,\n",
       " 'name': 'pygmy oil',\n",
       " 'num_auctions': 73,\n",
       " 'quantity': 480,\n",
       " 'weight_sell': 14.444267083333333,\n",
       " 'avg_sell': 7.1811849315068494,\n",
       " 'max': 21.976,\n",
       " 'p80': 8.788,\n",
       " 'p50': 5.4945,\n",
       " 'p20': 1.0873,\n",
       " 'wp80': 21.976,\n",
       " 'wp50': 21.7259,\n",
       " 'wp20': 5.4945,\n",
       " 'min': 1.0862,\n",
       " 'realm_market_value': 1.4644,\n",
       " 'realm_historical': 2.0042,\n",
       " 'region_historical': 1.5555,\n",
       " 'region_avg_sale_price': 1.6382,\n",
       " 'sale_pct': 68.8,\n",
       " 'sold_per_day': 2927,\n",
       " 'headroom': 3774,\n",
       " 'market_skew_pct': -26.93,\n",
       " 'auction_skew_pct': -99.99}"
      ]
     },
     "execution_count": 9,
     "metadata": {},
     "output_type": "execute_result"
    }
   ],
   "source": [
    "item_info(\"pygmy oil\")"
   ]
  },
  {
   "cell_type": "code",
   "execution_count": 10,
   "id": "1ee06555-96eb-4433-b6ce-a53617cb1210",
   "metadata": {},
   "outputs": [
    {
     "data": {
      "text/plain": [
       "{'id': 40211,\n",
       " 'name': 'potion of speed',\n",
       " 'num_auctions': 169,\n",
       " 'quantity': 1055,\n",
       " 'weight_sell': 35.709345971563984,\n",
       " 'avg_sell': 24.89157396449704,\n",
       " 'max': 79.998,\n",
       " 'p80': 20.0,\n",
       " 'p50': 20.0,\n",
       " 'p20': 20.0,\n",
       " 'wp80': 78.478,\n",
       " 'wp50': 20.0,\n",
       " 'wp20': 20.0,\n",
       " 'min': 19.619,\n",
       " 'realm_market_value': 4.2317,\n",
       " 'realm_historical': 6.4361,\n",
       " 'region_historical': 4.789,\n",
       " 'region_avg_sale_price': 4.1759,\n",
       " 'sale_pct': 71.2,\n",
       " 'sold_per_day': 7305,\n",
       " 'headroom': 9204,\n",
       " 'market_skew_pct': -34.25,\n",
       " 'auction_skew_pct': -99.95}"
      ]
     },
     "execution_count": 10,
     "metadata": {},
     "output_type": "execute_result"
    }
   ],
   "source": [
    "item_info(\"potion of speed\")"
   ]
  },
  {
   "cell_type": "code",
   "execution_count": 11,
   "id": "8865a6b1-c719-4a1f-a78b-cd3dfaab8003",
   "metadata": {},
   "outputs": [],
   "source": [
    "from crafting import crafting_price\n",
    "from crafting import gold\n",
    "\n",
    "def approaches(item_name):\n",
    "    market_craft = crafting_price(\n",
    "        item_info,\n",
    "        r.lookup(i(item_name))[0],\n",
    "        in_price_method=gold(\"realm_market_value\"),\n",
    "        out_price_method=gold(\"realm_market_value\"),\n",
    "    )\n",
    "    flip_craft = crafting_price(\n",
    "        item_info,\n",
    "        r.lookup(i(item_name))[0],\n",
    "        in_price_method=gold(\"min\"),\n",
    "        out_price_method=gold(\"min\"),\n",
    "    )\n",
    "    hold_craft = crafting_price(\n",
    "        item_info,\n",
    "        r.lookup(i(item_name))[0],\n",
    "        in_price_method=gold(\"min\"),\n",
    "        out_price_method=gold(\"realm_market_value\"),\n",
    "    )\n",
    "    return {\"market\": market_craft, \"flip\": flip_craft, \"hold\": hold_craft}"
   ]
  },
  {
   "cell_type": "code",
   "execution_count": 12,
   "id": "d4b1f7fa-633e-4051-a111-e8b067953a85",
   "metadata": {},
   "outputs": [
    {
     "data": {
      "text/plain": [
       "{'id': 37663,\n",
       " 'name': 'titansteel bar',\n",
       " 'num_auctions': 17,\n",
       " 'quantity': 17,\n",
       " 'weight_sell': 158.84235294117647,\n",
       " 'avg_sell': 158.84235294117647,\n",
       " 'max': 175.2563,\n",
       " 'p80': 160.0,\n",
       " 'p50': 159.9699,\n",
       " 'p20': 149.9998,\n",
       " 'wp80': 160.0,\n",
       " 'wp50': 159.9699,\n",
       " 'wp20': 149.9998,\n",
       " 'min': 149.9996,\n",
       " 'realm_market_value': 139.2969,\n",
       " 'realm_historical': 145.5547,\n",
       " 'region_historical': 119.2709,\n",
       " 'region_avg_sale_price': 114.7697,\n",
       " 'sale_pct': 80.5,\n",
       " 'sold_per_day': 447,\n",
       " 'headroom': 538,\n",
       " 'market_skew_pct': -4.3,\n",
       " 'auction_skew_pct': -99.99}"
      ]
     },
     "execution_count": 12,
     "metadata": {},
     "output_type": "execute_result"
    }
   ],
   "source": [
    "item_info(\"titansteel bar\")"
   ]
  },
  {
   "cell_type": "code",
   "execution_count": 13,
   "id": "b43cf962-eebc-415f-9859-5c2f54e0c6f7",
   "metadata": {},
   "outputs": [
    {
     "data": {
      "text/plain": [
       "{'id': 43331,\n",
       " 'name': 'glyph of unburdened rebirth',\n",
       " 'num_auctions': 4,\n",
       " 'quantity': 4,\n",
       " 'weight_sell': 42.754125,\n",
       " 'avg_sell': 42.754125,\n",
       " 'max': 42.7543,\n",
       " 'p80': 42.7543,\n",
       " 'p50': 42.7541,\n",
       " 'p20': 42.754,\n",
       " 'wp80': 42.7543,\n",
       " 'wp50': 42.7541,\n",
       " 'wp20': 42.754,\n",
       " 'min': 42.754,\n",
       " 'realm_market_value': 39.0041,\n",
       " 'realm_historical': 34.9882,\n",
       " 'region_historical': 9.0844,\n",
       " 'region_avg_sale_price': 6.5924,\n",
       " 'sale_pct': 33.3,\n",
       " 'sold_per_day': 57,\n",
       " 'headroom': 167,\n",
       " 'market_skew_pct': 11.48,\n",
       " 'auction_skew_pct': -99.99}"
      ]
     },
     "execution_count": 13,
     "metadata": {},
     "output_type": "execute_result"
    }
   ],
   "source": [
    "item_info(\"glyph of unburdened rebirth\")"
   ]
  },
  {
   "cell_type": "code",
   "execution_count": 14,
   "id": "47ac0f38-8c40-4170-887f-e63dc54ca677",
   "metadata": {},
   "outputs": [
    {
     "data": {
      "text/plain": [
       "{'id': 44922,\n",
       " 'name': 'glyph of typhoon',\n",
       " 'num_auctions': 2,\n",
       " 'quantity': 2,\n",
       " 'weight_sell': 45.9999,\n",
       " 'avg_sell': 45.9999,\n",
       " 'max': 45.9999,\n",
       " 'p80': 45.9999,\n",
       " 'p50': 45.9999,\n",
       " 'p20': 45.9999,\n",
       " 'wp80': 45.9999,\n",
       " 'wp50': 45.9999,\n",
       " 'wp20': 45.9999,\n",
       " 'min': 45.9999,\n",
       " 'realm_market_value': 7.0861,\n",
       " 'realm_historical': 13.6495,\n",
       " 'region_historical': 7.2497,\n",
       " 'region_avg_sale_price': 5.7083,\n",
       " 'sale_pct': 18.9,\n",
       " 'sold_per_day': 26,\n",
       " 'headroom': 135,\n",
       " 'market_skew_pct': -48.09,\n",
       " 'auction_skew_pct': -99.94}"
      ]
     },
     "execution_count": 14,
     "metadata": {},
     "output_type": "execute_result"
    }
   ],
   "source": [
    "item_info(\"glyph of typhoon\")"
   ]
  },
  {
   "cell_type": "code",
   "execution_count": 15,
   "id": "83db8dea-7248-4e2c-912a-757af0cea027",
   "metadata": {
    "tags": []
   },
   "outputs": [
    {
     "name": "stdout",
     "output_type": "stream",
     "text": [
      "DEFINITELY   SB eternal-life (unit profit: 10223,headroom: 7166)\n",
      "DEFINITELY   BS eternal-earth (unit profit: 55405,headroom: 4046)\n",
      "DEFINITELY   BS eternal-air (unit profit: 10414,headroom: 2685)\n",
      "DEFINITELY   BS eternal-fire (unit profit: 43063,headroom: 2005)\n",
      "DEFINITELY   BS eternal-water (unit profit: 36239,headroom: 3836)\n",
      "DEFINITELY   BS eternal-shadow (unit profit: 30516,headroom: 4650)\n",
      "SKIP        primal-life\n",
      "SKIP        primal-earth\n",
      "SKIP        primal-air\n",
      "SKIP        primal-fire\n",
      "SKIP        primal-water\n",
      "SKIP        primal-shadow\n",
      "DEFINITELY   BS essence-eternal (unit profit: 78672,headroom: 631)\n",
      "DEFINITELY   BS essence-cosmic (unit profit: 448884,headroom: 673)\n",
      "SKIP        essence-nether\n",
      "YES          BS essence-planar (unit profit: 26710,headroom: 732)\n",
      "YES          BS essence-astral (unit profit: 51772,headroom: 447)\n",
      "SKIP        essence-magic\n",
      "DEFINITELY   BS essence-mystic (unit profit: 48035,headroom: 866)\n"
     ]
    }
   ],
   "source": [
    "from elemental_arbitrage import print_elemental_arbitrage_report\n",
    "\n",
    "print_elemental_arbitrage_report(tsm_ah, items)"
   ]
  },
  {
   "cell_type": "code",
   "execution_count": 16,
   "id": "da3bc152-4543-49a7-9de1-43cb4189d0e6",
   "metadata": {},
   "outputs": [
    {
     "data": {
      "text/plain": [
       "{'id': 37705,\n",
       " 'name': 'crystallized water',\n",
       " 'num_auctions': 31,\n",
       " 'quantity': 179,\n",
       " 'weight_sell': 6.477915083798883,\n",
       " 'avg_sell': 4.97896129032258,\n",
       " 'max': 9.936,\n",
       " 'p80': 9.935,\n",
       " 'p50': 3.75,\n",
       " 'p20': 3.75,\n",
       " 'wp80': 9.935,\n",
       " 'wp50': 3.75,\n",
       " 'wp20': 3.75,\n",
       " 'min': 0.5494,\n",
       " 'realm_market_value': 0.518,\n",
       " 'realm_historical': 0.7524,\n",
       " 'region_historical': 0.5107,\n",
       " 'region_avg_sale_price': 0.4659,\n",
       " 'sale_pct': 73.1,\n",
       " 'sold_per_day': 2822,\n",
       " 'headroom': 3681,\n",
       " 'market_skew_pct': -31.15,\n",
       " 'auction_skew_pct': -99.99}"
      ]
     },
     "execution_count": 16,
     "metadata": {},
     "output_type": "execute_result"
    }
   ],
   "source": [
    "item_info(\"crystallized water\")"
   ]
  },
  {
   "cell_type": "code",
   "execution_count": 17,
   "id": "319338f8-d752-4cb5-8c16-c82809ad7515",
   "metadata": {
    "tags": []
   },
   "outputs": [
    {
     "data": {
      "text/plain": [
       "{\"adder's\": 1.5,\n",
       " 'goldclover': 0.98,\n",
       " 'frost lotus': 0.06,\n",
       " 'deadnettle': 0.46,\n",
       " 'tiger lily': 0.84,\n",
       " 'crystallized life': 1.06}"
      ]
     },
     "execution_count": 17,
     "metadata": {},
     "output_type": "execute_result"
    }
   ],
   "source": [
    "found_sholazar = {\"adder's\": 3*20+15, \"goldclover\": 2*20+9, \"frost lotus\": 3, \"deadnettle\": 20+3, \"tiger lily\": 2*20+2, \"crystallized life\": 10*5+3}\n",
    "sholazar_hpm = {k: v/50 for (k, v) in found_sholazar.items()}\n",
    "sholazar_hpm"
   ]
  },
  {
   "cell_type": "code",
   "execution_count": 18,
   "id": "0ae96df3-ce07-4278-8840-b887e211fe59",
   "metadata": {},
   "outputs": [
    {
     "data": {
      "text/plain": [
       "{'lichbloom': 0.8666666666666667,\n",
       " 'tiger_lily': 0.6333333333333333,\n",
       " 'icethorn': 0.9,\n",
       " 'goldclover': 0.6,\n",
       " 'frost_lotus': 0.1,\n",
       " \"talandra's rose\": 0.2,\n",
       " 'deadnettle': 0.03333333333333333}"
      ]
     },
     "execution_count": 18,
     "metadata": {},
     "output_type": "execute_result"
    }
   ],
   "source": [
    "found_wintergrasp = {'lichbloom': 26,\n",
    " 'tiger_lily': 19,\n",
    " 'icethorn': 27,\n",
    " 'goldclover': 18,\n",
    " 'frost_lotus': 3,\n",
    " \"talandra's rose\": 6,\n",
    " 'deadnettle': 1}\n",
    "wintergrasp_hpm = {k: v/30 for (k, v) in found_wintergrasp.items()}\n",
    "wintergrasp_hpm"
   ]
  },
  {
   "cell_type": "code",
   "execution_count": 19,
   "id": "fc9860f7-799f-4ced-be13-570d52dcd04a",
   "metadata": {},
   "outputs": [],
   "source": [
    "import pandas as pd\n",
    "df = pd.read_csv(\"tsm-dec-13.csv\")"
   ]
  },
  {
   "cell_type": "code",
   "execution_count": 20,
   "id": "58bfc925-133d-4517-a760-04b5e8469042",
   "metadata": {},
   "outputs": [],
   "source": [
    "from cytoolz import groupby\n",
    "entries = list(df.transpose().to_dict().values())\n",
    "grouped = groupby(lambda entry: entry[\"itemString\"], entries)"
   ]
  },
  {
   "cell_type": "code",
   "execution_count": 21,
   "id": "2eeacf23-c2d1-4bce-93ad-3c97cbeb4660",
   "metadata": {},
   "outputs": [
    {
     "data": {
      "text/plain": [
       "[{'name': 'Titanium Bar', 'net': 2049353, 'rate': 1.0, 'num': 9},\n",
       " {'name': 'Indestructible Potion', 'net': 1108163, 'rate': 1.0, 'num': 3},\n",
       " {'name': 'Swiftthistle', 'net': 708342, 'rate': 1.0, 'num': 5},\n",
       " {'name': 'Eternal Shadow', 'net': 630845, 'rate': 1.0, 'num': 2},\n",
       " {'name': 'Oily Blackmouth', 'net': 174990, 'rate': 1.0, 'num': 3},\n",
       " {'name': 'Elixir of Mighty Thoughts', 'net': 161775, 'rate': 1.0, 'num': 2},\n",
       " {'name': 'Frostweave Cloth', 'net': 120855, 'rate': 1.0, 'num': 3},\n",
       " {'name': 'Wildvine', 'net': 72204, 'rate': 1.0, 'num': 5},\n",
       " {'name': 'Felcloth', 'net': 69734, 'rate': 1.0, 'num': 7},\n",
       " {'name': 'Lesser Healing Potion', 'net': 1075, 'rate': 1.0, 'num': 3},\n",
       " {'name': 'Flask of Endless Rage', 'net': 6943980, 'rate': 0.875, 'num': 9},\n",
       " {'name': 'Runic Mana Potion', 'net': 5488, 'rate': 0.875, 'num': 10},\n",
       " {'name': 'Greater Planar Essence',\n",
       "  'net': 956155,\n",
       "  'rate': 0.8333333333333334,\n",
       "  'num': 7},\n",
       " {'name': \"Adder's Tongue\",\n",
       "  'net': 731355,\n",
       "  'rate': 0.8333333333333334,\n",
       "  'num': 7},\n",
       " {'name': 'Netherweave Cloth',\n",
       "  'net': 115980,\n",
       "  'rate': 0.8333333333333334,\n",
       "  'num': 7},\n",
       " {'name': 'Greater Healing Potion', 'net': 158564, 'rate': 0.8, 'num': 7},\n",
       " {'name': 'Infinite Dust',\n",
       "  'net': 2120454,\n",
       "  'rate': 0.7857142857142857,\n",
       "  'num': 14},\n",
       " {'name': 'Crystallized Water',\n",
       "  'net': 316017,\n",
       "  'rate': 0.7777777777777778,\n",
       "  'num': 26},\n",
       " {'name': 'Purple Lotus', 'net': 322785, 'rate': 0.75, 'num': 4},\n",
       " {'name': 'Bruiseweed', 'net': 155269, 'rate': 0.75, 'num': 4},\n",
       " {'name': 'Arcane Dust',\n",
       "  'net': -3140360,\n",
       "  'rate': 0.7222222222222222,\n",
       "  'num': 47},\n",
       " {'name': 'Tiger Lily', 'net': 964737, 'rate': 0.7142857142857143, 'num': 14},\n",
       " {'name': 'Crystallized Fire',\n",
       "  'net': 218480,\n",
       "  'rate': 0.6666666666666666,\n",
       "  'num': 3},\n",
       " {'name': 'Major Healing Potion',\n",
       "  'net': 97145,\n",
       "  'rate': 0.6666666666666666,\n",
       "  'num': 3},\n",
       " {'name': 'Super Mana Potion',\n",
       "  'net': 75064,\n",
       "  'rate': 0.6666666666666666,\n",
       "  'num': 3},\n",
       " {'name': 'Elixir of Mighty Agility',\n",
       "  'net': 46352,\n",
       "  'rate': 0.6666666666666666,\n",
       "  'num': 3},\n",
       " {'name': 'Elixir of Expertise',\n",
       "  'net': 32676,\n",
       "  'rate': 0.6666666666666666,\n",
       "  'num': 3},\n",
       " {'name': 'Primal Fire', 'net': -303011, 'rate': 0.6666666666666666, 'num': 4},\n",
       " {'name': 'Mageroyal', 'net': -793902, 'rate': 0.6666666666666666, 'num': 24},\n",
       " {'name': 'Goldclover', 'net': -130716, 'rate': 0.625, 'num': 23},\n",
       " {'name': 'Primal Water', 'net': 1099126, 'rate': 0.5, 'num': 4},\n",
       " {'name': \"Talandra's Rose\", 'net': 798508, 'rate': 0.5, 'num': 11},\n",
       " {'name': 'Sungrass', 'net': 220819, 'rate': 0.5, 'num': 5},\n",
       " {'name': 'Felweed', 'net': 79296, 'rate': 0.5, 'num': 4},\n",
       " {'name': 'Elixir of Mighty Strength', 'net': 38756, 'rate': 0.5, 'num': 4},\n",
       " {'name': 'Arcanite Bar',\n",
       "  'net': 2905608,\n",
       "  'rate': 0.4666666666666667,\n",
       "  'num': 15},\n",
       " {'name': 'Earthsiege Diamond',\n",
       "  'net': 1761669,\n",
       "  'rate': 0.42857142857142855,\n",
       "  'num': 7},\n",
       " {'name': \"Khadgar's Whisker\",\n",
       "  'net': -266550,\n",
       "  'rate': 0.3333333333333333,\n",
       "  'num': 12},\n",
       " {'name': 'Deadnettle', 'net': 718452, 'rate': 0.3, 'num': 11},\n",
       " {'name': \"Arthas' Tears\",\n",
       "  'net': 216262,\n",
       "  'rate': 0.2727272727272727,\n",
       "  'num': 18},\n",
       " {'name': 'Spellpower Elixir',\n",
       "  'net': 65151,\n",
       "  'rate': 0.18181818181818182,\n",
       "  'num': 11}]"
      ]
     },
     "execution_count": 21,
     "metadata": {},
     "output_type": "execute_result"
    }
   ],
   "source": [
    "names = {entry[\"itemString\"]: entry[\"itemName\"] for entry in entries}\n",
    "nets = {k: sum(vv[\"net\"] for vv in v) for (k, v) in grouped.items()}\n",
    "ah_events = {k: [vv[\"event\"] for vv in v if vv[\"source\"] != \"Vendor\"] for (k, v) in grouped.items()}\n",
    "sale_rate = {\n",
    "    k: v.count(\"sale\") / (v.count(\"sale\") + v.count(\"expired\") + v.count(\"cancelled\"))\n",
    "    for (k, v) in ah_events.items()\n",
    "    if v.count(\"sale\") > 1\n",
    "}\n",
    "agg = {k: {\"name\": names[k], \"net\": nets[k], \"rate\": sale_rate[k], \"num\": len(ah_events[k])} for k in sale_rate}\n",
    "sorted(\n",
    "    agg.values(),\n",
    "    key=lambda entry: (entry[\"rate\"], entry[\"net\"]),\n",
    "    reverse=True,\n",
    ")"
   ]
  },
  {
   "cell_type": "code",
   "execution_count": 22,
   "id": "f54cec83-870d-4a41-880a-fa162e8fa3c7",
   "metadata": {},
   "outputs": [
    {
     "data": {
      "text/plain": [
       "{'id': 23425,\n",
       " 'name': 'adamantite ore',\n",
       " 'num_auctions': 27,\n",
       " 'quantity': 380,\n",
       " 'weight_sell': 32.47681578947368,\n",
       " 'avg_sell': 25.633351851851852,\n",
       " 'max': 45.0,\n",
       " 'p80': 34.998,\n",
       " 'p50': 31.9999,\n",
       " 'p20': 11.2485,\n",
       " 'wp80': 35.0,\n",
       " 'wp50': 34.998,\n",
       " 'wp20': 31.6,\n",
       " 'min': 1.5799,\n",
       " 'realm_market_value': 2.4061,\n",
       " 'realm_historical': 2.1965,\n",
       " 'region_historical': 1.3753,\n",
       " 'region_avg_sale_price': 1.4342,\n",
       " 'sale_pct': 69.7,\n",
       " 'sold_per_day': 5381,\n",
       " 'headroom': 7340,\n",
       " 'market_skew_pct': 9.54,\n",
       " 'auction_skew_pct': -99.99}"
      ]
     },
     "execution_count": 22,
     "metadata": {},
     "output_type": "execute_result"
    }
   ],
   "source": [
    "item_info(\"adamantite ore\")"
   ]
  },
  {
   "cell_type": "code",
   "execution_count": 23,
   "id": "c73e54e7-ce22-4c2e-9c79-82392cd6e885",
   "metadata": {},
   "outputs": [
    {
     "data": {
      "text/plain": [
       "{'id': 34054,\n",
       " 'name': 'infinite dust',\n",
       " 'num_auctions': 126,\n",
       " 'quantity': 1772,\n",
       " 'weight_sell': 20.592333239277654,\n",
       " 'avg_sell': 17.442665873015873,\n",
       " 'max': 28.984,\n",
       " 'p80': 25.0,\n",
       " 'p50': 13.2168,\n",
       " 'p20': 11.011,\n",
       " 'wp80': 25.97,\n",
       " 'wp50': 22.4802,\n",
       " 'wp20': 12.495,\n",
       " 'min': 1.2492,\n",
       " 'realm_market_value': 1.6972,\n",
       " 'realm_historical': 2.2993,\n",
       " 'region_historical': 1.4893,\n",
       " 'region_avg_sale_price': 1.2115,\n",
       " 'sale_pct': 71.6,\n",
       " 'sold_per_day': 21122,\n",
       " 'headroom': 27728,\n",
       " 'market_skew_pct': -26.19,\n",
       " 'auction_skew_pct': -99.99}"
      ]
     },
     "execution_count": 23,
     "metadata": {},
     "output_type": "execute_result"
    }
   ],
   "source": [
    "item_info(\"infinite dust\")"
   ]
  },
  {
   "cell_type": "code",
   "execution_count": 24,
   "id": "a661a5cf-886b-4337-9e35-9dd7577b66c6",
   "metadata": {},
   "outputs": [
    {
     "data": {
      "text/plain": [
       "{'id': 2452,\n",
       " 'name': 'swiftthistle',\n",
       " 'num_auctions': 23,\n",
       " 'quantity': 234,\n",
       " 'weight_sell': 19.378181623931624,\n",
       " 'avg_sell': 11.889091304347826,\n",
       " 'max': 40.0,\n",
       " 'p80': 23.0,\n",
       " 'p50': 9.99,\n",
       " 'p20': 0.5,\n",
       " 'wp80': 29.0,\n",
       " 'wp50': 15.997,\n",
       " 'wp20': 9.99,\n",
       " 'min': 0.4996,\n",
       " 'realm_market_value': 2.337,\n",
       " 'realm_historical': 1.0999,\n",
       " 'region_historical': 1.5159,\n",
       " 'region_avg_sale_price': 2.3334,\n",
       " 'sale_pct': 68.2,\n",
       " 'sold_per_day': 928,\n",
       " 'headroom': 1126,\n",
       " 'market_skew_pct': 112.47,\n",
       " 'auction_skew_pct': -100.0}"
      ]
     },
     "execution_count": 24,
     "metadata": {},
     "output_type": "execute_result"
    }
   ],
   "source": [
    "item_info(\"swiftthistle\")"
   ]
  },
  {
   "cell_type": "code",
   "execution_count": 25,
   "id": "41558c3e-58bd-4f37-bf27-ccbfb56cdcf2",
   "metadata": {},
   "outputs": [
    {
     "data": {
      "text/plain": [
       "{'id': 35627,\n",
       " 'name': 'eternal shadow',\n",
       " 'num_auctions': 10,\n",
       " 'quantity': 200,\n",
       " 'weight_sell': 60.0,\n",
       " 'avg_sell': 60.0,\n",
       " 'max': 60.0,\n",
       " 'p80': 60.0,\n",
       " 'p50': 60.0,\n",
       " 'p20': 60.0,\n",
       " 'wp80': 60.0,\n",
       " 'wp50': 60.0,\n",
       " 'wp20': 60.0,\n",
       " 'min': 60.0,\n",
       " 'realm_market_value': 3.3984,\n",
       " 'realm_historical': 3.2774,\n",
       " 'region_historical': 2.6258,\n",
       " 'region_avg_sale_price': 1.8142,\n",
       " 'sale_pct': 66.4,\n",
       " 'sold_per_day': 3698,\n",
       " 'headroom': 5369,\n",
       " 'market_skew_pct': 3.69,\n",
       " 'auction_skew_pct': -99.82}"
      ]
     },
     "execution_count": 25,
     "metadata": {},
     "output_type": "execute_result"
    }
   ],
   "source": [
    "item_info(\"eternal shadow\")"
   ]
  },
  {
   "cell_type": "code",
   "execution_count": 26,
   "id": "9d78631c-c5d8-4eb8-9c4d-e63a7e514d9b",
   "metadata": {},
   "outputs": [
    {
     "data": {
      "text/plain": [
       "{'id': 33470,\n",
       " 'name': 'frostweave cloth',\n",
       " 'num_auctions': 421,\n",
       " 'quantity': 7831,\n",
       " 'weight_sell': 10.720491903971396,\n",
       " 'avg_sell': 10.432871733966746,\n",
       " 'max': 25.0,\n",
       " 'p80': 9.796,\n",
       " 'p50': 9.788,\n",
       " 'p20': 9.686,\n",
       " 'wp80': 9.794,\n",
       " 'wp50': 9.788,\n",
       " 'wp20': 9.686,\n",
       " 'min': 0.9999,\n",
       " 'realm_market_value': 0.472,\n",
       " 'realm_historical': 0.5044,\n",
       " 'region_historical': 0.4273,\n",
       " 'region_avg_sale_price': 0.4278,\n",
       " 'sale_pct': 87.3,\n",
       " 'sold_per_day': 29883,\n",
       " 'headroom': 26399,\n",
       " 'market_skew_pct': -6.42,\n",
       " 'auction_skew_pct': -99.98}"
      ]
     },
     "execution_count": 26,
     "metadata": {},
     "output_type": "execute_result"
    }
   ],
   "source": [
    "item_info(\"frostweave cloth\")"
   ]
  },
  {
   "cell_type": "code",
   "execution_count": 27,
   "id": "a167d7de-3872-4fc1-bca5-a83e3baf8ada",
   "metadata": {},
   "outputs": [
    {
     "data": {
      "text/plain": [
       "{'id': 4338,\n",
       " 'name': 'mageweave cloth',\n",
       " 'num_auctions': 18,\n",
       " 'quantity': 325,\n",
       " 'weight_sell': 47.69575230769231,\n",
       " 'avg_sell': 45.13482777777777,\n",
       " 'max': 50.0,\n",
       " 'p80': 49.998,\n",
       " 'p50': 49.994,\n",
       " 'p20': 42.4983,\n",
       " 'wp80': 49.998,\n",
       " 'wp50': 49.994,\n",
       " 'wp20': 49.994,\n",
       " 'min': 9.9992,\n",
       " 'realm_market_value': 0.5113,\n",
       " 'realm_historical': 0.612,\n",
       " 'region_historical': 0.5101,\n",
       " 'region_avg_sale_price': 0.4432,\n",
       " 'sale_pct': 66.8,\n",
       " 'sold_per_day': 8747,\n",
       " 'headroom': 12769,\n",
       " 'market_skew_pct': -16.45,\n",
       " 'auction_skew_pct': -99.8}"
      ]
     },
     "execution_count": 27,
     "metadata": {},
     "output_type": "execute_result"
    }
   ],
   "source": [
    "item_info(\"mageweave cloth\")"
   ]
  },
  {
   "cell_type": "code",
   "execution_count": 28,
   "id": "c56d97e9-fb5f-4db5-a4b9-7a51927d1960",
   "metadata": {},
   "outputs": [
    {
     "data": {
      "text/plain": [
       "{'auctionHouseId': 351,\n",
       " 'itemId': 4338,\n",
       " 'petSpeciesId': None,\n",
       " 'minBuyout': 2000,\n",
       " 'quantity': 21,\n",
       " 'marketValue': 5113,\n",
       " 'historical': 6120,\n",
       " 'numAuctions': 2,\n",
       " 'region': {'regionId': 13,\n",
       "  'itemId': 4338,\n",
       "  'petSpeciesId': None,\n",
       "  'quantity': 1309.5,\n",
       "  'marketValue': 5001,\n",
       "  'avgSalePrice': 4432,\n",
       "  'salePct': 66.8,\n",
       "  'soldPerDay': 8747,\n",
       "  'historical': 5101}}"
      ]
     },
     "execution_count": 28,
     "metadata": {},
     "output_type": "execute_result"
    }
   ],
   "source": [
    "tsm_ah[4338]"
   ]
  },
  {
   "cell_type": "code",
   "execution_count": 29,
   "id": "412d50b2-27c7-4dfb-a6c5-57670ab42edb",
   "metadata": {},
   "outputs": [
    {
     "ename": "KeyError",
     "evalue": "8153",
     "output_type": "error",
     "traceback": [
      "\u001b[1;31m---------------------------------------------------------------------------\u001b[0m",
      "\u001b[1;31mKeyError\u001b[0m                                  Traceback (most recent call last)",
      "Input \u001b[1;32mIn [29]\u001b[0m, in \u001b[0;36m<cell line: 1>\u001b[1;34m()\u001b[0m\n\u001b[1;32m----> 1\u001b[0m \u001b[43mitem_info\u001b[49m\u001b[43m(\u001b[49m\u001b[38;5;124;43m\"\u001b[39;49m\u001b[38;5;124;43mwildvine\u001b[39;49m\u001b[38;5;124;43m\"\u001b[39;49m\u001b[43m)\u001b[49m\n",
      "File \u001b[1;32m~\\Desktop\\wow\\bliz_tsm_join.py:72\u001b[0m, in \u001b[0;36mitem_info_getter.<locals>._item_info\u001b[1;34m(*args, **kwargs)\u001b[0m\n\u001b[0;32m     69\u001b[0m bliz_ah \u001b[38;5;241m=\u001b[39m bliz_ah_snap\u001b[38;5;241m.\u001b[39mget(max_age_seconds\u001b[38;5;241m=\u001b[39mmax_age_seconds)\n\u001b[0;32m     70\u001b[0m tsm_ah \u001b[38;5;241m=\u001b[39m tsm_ah_snap\u001b[38;5;241m.\u001b[39mget(max_age_seconds\u001b[38;5;241m=\u001b[39mmax_age_seconds)\n\u001b[1;32m---> 72\u001b[0m \u001b[38;5;28;01mreturn\u001b[39;00m \u001b[43mitem_info\u001b[49m\u001b[43m(\u001b[49m\u001b[43mitems\u001b[49m\u001b[43m,\u001b[49m\u001b[43m \u001b[49m\u001b[43mbliz_ah\u001b[49m\u001b[43m,\u001b[49m\u001b[43m \u001b[49m\u001b[43mtsm_ah\u001b[49m\u001b[43m,\u001b[49m\u001b[43m \u001b[49m\u001b[38;5;241;43m*\u001b[39;49m\u001b[43margs\u001b[49m\u001b[43m,\u001b[49m\u001b[43m \u001b[49m\u001b[38;5;241;43m*\u001b[39;49m\u001b[38;5;241;43m*\u001b[39;49m\u001b[43mkwargs\u001b[49m\u001b[43m)\u001b[49m\n",
      "File \u001b[1;32m~\\Desktop\\wow\\bliz_tsm_join.py:13\u001b[0m, in \u001b[0;36mitem_info\u001b[1;34m(items, bliz_ah, tsm_ah, item_name, item_id)\u001b[0m\n\u001b[0;32m     10\u001b[0m \u001b[38;5;28;01melse\u001b[39;00m:\n\u001b[0;32m     11\u001b[0m     \u001b[38;5;28;01mraise\u001b[39;00m \u001b[38;5;167;01mTypeError\u001b[39;00m(\u001b[38;5;124m\"\u001b[39m\u001b[38;5;124mMust provide item_name or item_id\u001b[39m\u001b[38;5;124m\"\u001b[39m)\n\u001b[1;32m---> 13\u001b[0m bliz_info \u001b[38;5;241m=\u001b[39m auction_summary(\u001b[43mbliz_ah\u001b[49m\u001b[43m[\u001b[49m\u001b[43mitem_id\u001b[49m\u001b[43m]\u001b[49m)\n\u001b[0;32m     14\u001b[0m tsm_info \u001b[38;5;241m=\u001b[39m tsm_ah[item_id]\n\u001b[0;32m     16\u001b[0m headroom \u001b[38;5;241m=\u001b[39m \u001b[38;5;28mint\u001b[39m(\n\u001b[0;32m     17\u001b[0m     tsm_info[\u001b[38;5;124m\"\u001b[39m\u001b[38;5;124mregion\u001b[39m\u001b[38;5;124m\"\u001b[39m][\u001b[38;5;124m\"\u001b[39m\u001b[38;5;124msoldPerDay\u001b[39m\u001b[38;5;124m\"\u001b[39m]\u001b[38;5;241m/\u001b[39m(tsm_info[\u001b[38;5;124m\"\u001b[39m\u001b[38;5;124mregion\u001b[39m\u001b[38;5;124m\"\u001b[39m][\u001b[38;5;124m\"\u001b[39m\u001b[38;5;124msalePct\u001b[39m\u001b[38;5;124m\"\u001b[39m]\u001b[38;5;241m/\u001b[39m\u001b[38;5;241m100\u001b[39m) \u001b[38;5;241m-\u001b[39m\n\u001b[0;32m     18\u001b[0m     bliz_info[\u001b[38;5;124m\"\u001b[39m\u001b[38;5;124mquantity\u001b[39m\u001b[38;5;124m\"\u001b[39m]\n\u001b[0;32m     19\u001b[0m )\n",
      "\u001b[1;31mKeyError\u001b[0m: 8153"
     ]
    }
   ],
   "source": [
    "item_info(\"wildvine\")"
   ]
  },
  {
   "cell_type": "code",
   "execution_count": 30,
   "id": "fe1f1466-a912-4317-8179-61cf81343e04",
   "metadata": {},
   "outputs": [],
   "source": [
    "import pickle\n",
    "from cytoolz import get as pick_from_dict\n",
    "from cytoolz import sliding_window\n",
    "import glob\n",
    "import itertools\n",
    "from blizzard import auction_summary\n",
    "import re\n",
    "import numpy as np\n",
    "import datetime\n",
    "np.set_printoptions(suppress=True)\n",
    "\n",
    "_names = \"\"\"\n",
    "flask of the frost wyrm\n",
    "flask of endless rage\n",
    "flask of stoneblood\n",
    "titanium bar\n",
    "indestructible potion\n",
    "eternal shadow\n",
    "oily blackmouth\n",
    "elixir of mighty thoughts\n",
    "frostweave cloth\n",
    "wildvine\n",
    "felcloth\n",
    "lesser healing potion\n",
    "runic mana potion\n",
    "greater planar essence\n",
    "netherweave cloth\n",
    "greater healing potion\n",
    "crystallized water\n",
    "purple lotus\n",
    "bruiseweed\n",
    "arcane dust\n",
    "tiger lily\n",
    "crystallized fire\n",
    "major healing potion\n",
    "potion of speed\n",
    "potion of wild magic\n",
    "lichbloom\n",
    "pygmy oil\n",
    "adder's tongue\n",
    "imbued vial\n",
    "icethorn\n",
    "frost lotus\n",
    "enchanted vial\n",
    "goldclover\n",
    "crystallized life\n",
    "eternal life\n",
    "deadnettle\n",
    "elixir of accuracy\n",
    "lesser planar essence\n",
    "eternal fire\n",
    "eternal water\n",
    "\"\"\".strip().splitlines()\n",
    "desired_names = _names\n",
    "desired_ids = [items.get_id(name) for name in desired_names if not name.startswith(\"#\")]\n",
    "\n",
    "\n",
    "date_re = re.compile(r\"2022-..-..T..-..-..\")\n",
    "def _timestamp_from_name(name):\n",
    "    cap = date_re.search(name).group(0)\n",
    "    return datetime.datetime.strptime(cap, \"%Y-%m-%dT%H-%M-%S\").timestamp()\n",
    "\n",
    "\n",
    "by_item = {}\n",
    "timeseries = []\n",
    "\n",
    "for snapshot in sorted(glob.glob(\"bliz-ah/*\")):\n",
    "    with open(snapshot, \"rb\") as f:\n",
    "        entries = pickle.load(f).values()\n",
    "        timeseries.extend(\n",
    "            [\n",
    "                {\"timestamp\": _timestamp_from_name(snapshot), \"item_name\": items.get_name(item_id), **auction_summary(item_data)}\n",
    "                for (item_id, item_data) in zip(desired_ids, entries)\n",
    "            ]\n",
    "        )\n",
    "        for (item_id, item_data) in zip(desired_ids, entries):\n",
    "            name = items.get_name(item_id)\n",
    "            by_item[name] = by_item.get(name, []) + [{\"timestamp\": date_re.search(snapshot).group(0), \"item_name\": items.get_name(item_id), **auction_summary(item_data)}]\n",
    "\n",
    "def timeseries_of(key, default=np.nan):\n",
    "    def _timeseries_of(item_name):\n",
    "        return np.array([v.get(key, default) for v in by_item[item_name]])\n",
    "    return _timeseries_of\n",
    "\n",
    "def omit_outliers(series, sigma=2, window=5):\n",
    "    mavg = [np.average(w) for w in sliding_window(window, series)]\n",
    "    std = np.std(mavg)\n",
    "    return np.array([x if np.abs(x) < sigma*std else np.nan for x in mavg])\n",
    "\n",
    "def avg_finite(arr):\n",
    "    return np.average(arr[np.isfinite(arr)])"
   ]
  },
  {
   "cell_type": "code",
   "execution_count": 31,
   "id": "81d62533-0dd5-4148-bfc2-4bad4c40f8a8",
   "metadata": {},
   "outputs": [],
   "source": [
    "import plotly.express as px\n",
    "for yvalue in [\"num\", \"min\", \"p50\", \"d_num\", \"d_min\", \"d_p50\"]:\n",
    "    df = pd.DataFrame(timeseries)\n",
    "    df = df.sort_values(by=\"timestamp\")\n",
    "\n",
    "    if yvalue.startswith(\"d_\"):\n",
    "        dfg = df.pivot(index=\"timestamp\", columns=\"item_name\", values=yvalue[2:])\n",
    "        dfg = dfg.diff().div(dfg.index.to_series().diff(), axis=0)\n",
    "    else:\n",
    "        dfg = df.pivot(index=\"timestamp\", columns=\"item_name\", values=yvalue)\n",
    "\n",
    "    fig = px.scatter(dfg, title=yvalue, log_y=False)\n",
    "    fig.write_html(f\"{yvalue}.html\")"
   ]
  },
  {
   "cell_type": "code",
   "execution_count": 32,
   "id": "38080de5-a5e7-4583-97c8-63d8f16d4e0f",
   "metadata": {},
   "outputs": [
    {
     "name": "stderr",
     "output_type": "stream",
     "text": [
      "C:\\Users\\Med\\anaconda3\\lib\\site-packages\\numpy\\lib\\function_base.py:380: RuntimeWarning:\n",
      "\n",
      "Mean of empty slice.\n",
      "\n",
      "C:\\Users\\Med\\anaconda3\\lib\\site-packages\\numpy\\core\\_methods.py:188: RuntimeWarning:\n",
      "\n",
      "invalid value encountered in double_scalars\n",
      "\n"
     ]
    }
   ],
   "source": [
    "def min_series(x):\n",
    "    return omit_outliers(timeseries_of(\"avg_sell\")(x), sigma=0.5, window=10)\n",
    "\n",
    "wild_magic_pot = avg_finite(min_series(\"potion of wild magic\") - (2*min_series(\"lichbloom\") + min_series(\"pygmy oil\") + np.array(1.8)))\n",
    "speed_pot = avg_finite(min_series(\"potion of speed\") - (2*min_series(\"adder's tongue\") + min_series(\"pygmy oil\") + np.array(1.8)))\n",
    "wyrm = avg_finite(2*min_series(\"flask of the frost wyrm\") - (5*min_series(\"icethorn\") + 5*min_series(\"lichbloom\") + min_series(\"frost lotus\") + np.array(5)))\n",
    "rage = avg_finite(2*min_series(\"flask of endless rage\") - (5*min_series(\"goldclover\") + 7*min_series(\"lichbloom\") + min_series(\"frost lotus\") + np.array(5)))\n",
    "indestructible = avg_finite(2*min_series(\"indestructible potion\") - (2*min_series(\"icethorn\") + np.array(1.8)))"
   ]
  },
  {
   "cell_type": "code",
   "execution_count": 33,
   "id": "c62053ce-f5aa-40c7-b4be-7d03bfafbc7d",
   "metadata": {},
   "outputs": [
    {
     "data": {
      "text/plain": [
       "(-24.551711954744242, -32.537304697483975, nan, nan, nan)"
      ]
     },
     "execution_count": 33,
     "metadata": {},
     "output_type": "execute_result"
    }
   ],
   "source": [
    "wild_magic_pot, speed_pot, wyrm, rage, indestructible"
   ]
  },
  {
   "cell_type": "code",
   "execution_count": 34,
   "id": "b4a9e3c8-9f3a-4185-a673-8441b684ef3a",
   "metadata": {},
   "outputs": [
    {
     "data": {
      "text/plain": [
       "{'id': 41334,\n",
       " 'name': 'earthsiege diamond',\n",
       " 'num_auctions': 7,\n",
       " 'quantity': 7,\n",
       " 'weight_sell': 39.39837142857142,\n",
       " 'avg_sell': 39.39837142857142,\n",
       " 'max': 39.3986,\n",
       " 'p80': 39.3986,\n",
       " 'p50': 39.3985,\n",
       " 'p20': 39.3981,\n",
       " 'wp80': 39.3986,\n",
       " 'wp50': 39.3985,\n",
       " 'wp20': 39.3981,\n",
       " 'min': 39.3981,\n",
       " 'realm_market_value': 37.4444,\n",
       " 'realm_historical': 32.8327,\n",
       " 'region_historical': 29.1809,\n",
       " 'region_avg_sale_price': 22.5086,\n",
       " 'sale_pct': 48.8,\n",
       " 'sold_per_day': 222,\n",
       " 'headroom': 447,\n",
       " 'market_skew_pct': 14.05,\n",
       " 'auction_skew_pct': -99.99}"
      ]
     },
     "execution_count": 34,
     "metadata": {},
     "output_type": "execute_result"
    }
   ],
   "source": [
    "item_info(\"earthsiege diamond\")"
   ]
  },
  {
   "cell_type": "code",
   "execution_count": 35,
   "id": "6422660e-9796-40ba-88ab-dc3d7162be69",
   "metadata": {},
   "outputs": [
    {
     "data": {
      "text/plain": [
       "{'id': 46379,\n",
       " 'name': 'flask of stoneblood',\n",
       " 'num_auctions': 60,\n",
       " 'quantity': 100,\n",
       " 'weight_sell': 80.941456,\n",
       " 'avg_sell': 37.06852666666666,\n",
       " 'max': 293.993,\n",
       " 'p80': 49.7998,\n",
       " 'p50': 20.9997,\n",
       " 'p20': 20.9994,\n",
       " 'wp80': 104.9985,\n",
       " 'wp50': 49.7998,\n",
       " 'wp20': 20.9994,\n",
       " 'min': 20.9993,\n",
       " 'realm_market_value': 25.8601,\n",
       " 'realm_historical': 14.9918,\n",
       " 'region_historical': 10.9687,\n",
       " 'region_avg_sale_price': 8.8059,\n",
       " 'sale_pct': 51.3,\n",
       " 'sold_per_day': 626,\n",
       " 'headroom': 1120,\n",
       " 'market_skew_pct': 72.49,\n",
       " 'auction_skew_pct': -99.99}"
      ]
     },
     "execution_count": 35,
     "metadata": {},
     "output_type": "execute_result"
    }
   ],
   "source": [
    "item_info(\"flask of stoneblood\")"
   ]
  },
  {
   "cell_type": "code",
   "execution_count": 36,
   "id": "e1df1b1f-bd00-4088-9fc3-352cb6ac979f",
   "metadata": {},
   "outputs": [
    {
     "ename": "TypeError",
     "evalue": "expected string or bytes-like object",
     "output_type": "error",
     "traceback": [
      "\u001b[1;31m---------------------------------------------------------------------------\u001b[0m",
      "\u001b[1;31mTypeError\u001b[0m                                 Traceback (most recent call last)",
      "Input \u001b[1;32mIn [36]\u001b[0m, in \u001b[0;36m<cell line: 1>\u001b[1;34m()\u001b[0m\n\u001b[1;32m----> 1\u001b[0m \u001b[43mapproaches\u001b[49m\u001b[43m(\u001b[49m\u001b[43mitem_info\u001b[49m\u001b[43m(\u001b[49m\u001b[38;5;124;43m\"\u001b[39;49m\u001b[38;5;124;43mflask of stoneblood\u001b[39;49m\u001b[38;5;124;43m\"\u001b[39;49m\u001b[43m)\u001b[49m\u001b[43m)\u001b[49m\n",
      "Input \u001b[1;32mIn [11]\u001b[0m, in \u001b[0;36mapproaches\u001b[1;34m(item_name)\u001b[0m\n\u001b[0;32m      4\u001b[0m \u001b[38;5;28;01mdef\u001b[39;00m \u001b[38;5;21mapproaches\u001b[39m(item_name):\n\u001b[0;32m      5\u001b[0m     market_craft \u001b[38;5;241m=\u001b[39m crafting_price(\n\u001b[0;32m      6\u001b[0m         item_info,\n\u001b[1;32m----> 7\u001b[0m         r\u001b[38;5;241m.\u001b[39mlookup(\u001b[43mi\u001b[49m\u001b[43m(\u001b[49m\u001b[43mitem_name\u001b[49m\u001b[43m)\u001b[49m)[\u001b[38;5;241m0\u001b[39m],\n\u001b[0;32m      8\u001b[0m         in_price_method\u001b[38;5;241m=\u001b[39mgold(\u001b[38;5;124m\"\u001b[39m\u001b[38;5;124mrealm_market_value\u001b[39m\u001b[38;5;124m\"\u001b[39m),\n\u001b[0;32m      9\u001b[0m         out_price_method\u001b[38;5;241m=\u001b[39mgold(\u001b[38;5;124m\"\u001b[39m\u001b[38;5;124mrealm_market_value\u001b[39m\u001b[38;5;124m\"\u001b[39m),\n\u001b[0;32m     10\u001b[0m     )\n\u001b[0;32m     11\u001b[0m     flip_craft \u001b[38;5;241m=\u001b[39m crafting_price(\n\u001b[0;32m     12\u001b[0m         item_info,\n\u001b[0;32m     13\u001b[0m         r\u001b[38;5;241m.\u001b[39mlookup(i(item_name))[\u001b[38;5;241m0\u001b[39m],\n\u001b[0;32m     14\u001b[0m         in_price_method\u001b[38;5;241m=\u001b[39mgold(\u001b[38;5;124m\"\u001b[39m\u001b[38;5;124mmin\u001b[39m\u001b[38;5;124m\"\u001b[39m),\n\u001b[0;32m     15\u001b[0m         out_price_method\u001b[38;5;241m=\u001b[39mgold(\u001b[38;5;124m\"\u001b[39m\u001b[38;5;124mmin\u001b[39m\u001b[38;5;124m\"\u001b[39m),\n\u001b[0;32m     16\u001b[0m     )\n\u001b[0;32m     17\u001b[0m     hold_craft \u001b[38;5;241m=\u001b[39m crafting_price(\n\u001b[0;32m     18\u001b[0m         item_info,\n\u001b[0;32m     19\u001b[0m         r\u001b[38;5;241m.\u001b[39mlookup(i(item_name))[\u001b[38;5;241m0\u001b[39m],\n\u001b[0;32m     20\u001b[0m         in_price_method\u001b[38;5;241m=\u001b[39mgold(\u001b[38;5;124m\"\u001b[39m\u001b[38;5;124mmin\u001b[39m\u001b[38;5;124m\"\u001b[39m),\n\u001b[0;32m     21\u001b[0m         out_price_method\u001b[38;5;241m=\u001b[39mgold(\u001b[38;5;124m\"\u001b[39m\u001b[38;5;124mrealm_market_value\u001b[39m\u001b[38;5;124m\"\u001b[39m),\n\u001b[0;32m     22\u001b[0m     )\n",
      "File \u001b[1;32m~\\Desktop\\wow\\crafting.py:66\u001b[0m, in \u001b[0;36mRecipes.ingredients\u001b[1;34m(self, s)\u001b[0m\n\u001b[0;32m     57\u001b[0m \u001b[38;5;28;01mdef\u001b[39;00m \u001b[38;5;21mingredients\u001b[39m(\u001b[38;5;28mself\u001b[39m, s):\n\u001b[0;32m     58\u001b[0m     \u001b[38;5;28;01mreturn\u001b[39;00m CraftingComponents\u001b[38;5;241m.\u001b[39msum(\n\u001b[0;32m     59\u001b[0m         (\n\u001b[0;32m     60\u001b[0m             \u001b[38;5;28mint\u001b[39m(x[\u001b[38;5;241m0\u001b[39m])\u001b[38;5;241m*\u001b[39m\u001b[38;5;28mself\u001b[39m\u001b[38;5;241m.\u001b[39mingredient(x[\u001b[38;5;241m1\u001b[39m]) \u001b[38;5;28;01mif\u001b[39;00m x[\u001b[38;5;241m0\u001b[39m] \u001b[38;5;28;01melse\u001b[39;00m\n\u001b[0;32m     61\u001b[0m             \u001b[38;5;28mself\u001b[39m\u001b[38;5;241m.\u001b[39mingredient(x[\u001b[38;5;241m1\u001b[39m])\n\u001b[0;32m     62\u001b[0m         )\n\u001b[0;32m     63\u001b[0m         \u001b[38;5;28;01mfor\u001b[39;00m x \u001b[38;5;129;01min\u001b[39;00m\n\u001b[0;32m     64\u001b[0m         [\n\u001b[0;32m     65\u001b[0m             re\u001b[38;5;241m.\u001b[39msearch(\u001b[38;5;124mr\u001b[39m\u001b[38;5;124m\"\u001b[39m\u001b[38;5;124m(\u001b[39m\u001b[38;5;124m\\\u001b[39m\u001b[38;5;124md+)?\u001b[39m\u001b[38;5;124m\\\u001b[39m\u001b[38;5;124ms*[*]?\u001b[39m\u001b[38;5;124m\\\u001b[39m\u001b[38;5;124ms*(.*)\u001b[39m\u001b[38;5;124m\"\u001b[39m, y\u001b[38;5;241m.\u001b[39mstrip())\u001b[38;5;241m.\u001b[39mgroups()\n\u001b[1;32m---> 66\u001b[0m             \u001b[38;5;28;01mfor\u001b[39;00m y \u001b[38;5;129;01min\u001b[39;00m \u001b[43mre\u001b[49m\u001b[38;5;241;43m.\u001b[39;49m\u001b[43msplit\u001b[49m\u001b[43m(\u001b[49m\u001b[38;5;124;43mr\u001b[39;49m\u001b[38;5;124;43m\"\u001b[39;49m\u001b[38;5;124;43m\\\u001b[39;49m\u001b[38;5;124;43ms*[+]\u001b[39;49m\u001b[38;5;124;43m\\\u001b[39;49m\u001b[38;5;124;43ms*\u001b[39;49m\u001b[38;5;124;43m\"\u001b[39;49m\u001b[43m,\u001b[49m\u001b[43m \u001b[49m\u001b[43ms\u001b[49m\u001b[43m)\u001b[49m\n\u001b[0;32m     67\u001b[0m         ]\n\u001b[0;32m     68\u001b[0m     )\n",
      "File \u001b[1;32m~\\anaconda3\\lib\\re.py:231\u001b[0m, in \u001b[0;36msplit\u001b[1;34m(pattern, string, maxsplit, flags)\u001b[0m\n\u001b[0;32m    223\u001b[0m \u001b[38;5;28;01mdef\u001b[39;00m \u001b[38;5;21msplit\u001b[39m(pattern, string, maxsplit\u001b[38;5;241m=\u001b[39m\u001b[38;5;241m0\u001b[39m, flags\u001b[38;5;241m=\u001b[39m\u001b[38;5;241m0\u001b[39m):\n\u001b[0;32m    224\u001b[0m     \u001b[38;5;124;03m\"\"\"Split the source string by the occurrences of the pattern,\u001b[39;00m\n\u001b[0;32m    225\u001b[0m \u001b[38;5;124;03m    returning a list containing the resulting substrings.  If\u001b[39;00m\n\u001b[0;32m    226\u001b[0m \u001b[38;5;124;03m    capturing parentheses are used in pattern, then the text of all\u001b[39;00m\n\u001b[1;32m   (...)\u001b[0m\n\u001b[0;32m    229\u001b[0m \u001b[38;5;124;03m    and the remainder of the string is returned as the final element\u001b[39;00m\n\u001b[0;32m    230\u001b[0m \u001b[38;5;124;03m    of the list.\"\"\"\u001b[39;00m\n\u001b[1;32m--> 231\u001b[0m     \u001b[38;5;28;01mreturn\u001b[39;00m \u001b[43m_compile\u001b[49m\u001b[43m(\u001b[49m\u001b[43mpattern\u001b[49m\u001b[43m,\u001b[49m\u001b[43m \u001b[49m\u001b[43mflags\u001b[49m\u001b[43m)\u001b[49m\u001b[38;5;241;43m.\u001b[39;49m\u001b[43msplit\u001b[49m\u001b[43m(\u001b[49m\u001b[43mstring\u001b[49m\u001b[43m,\u001b[49m\u001b[43m \u001b[49m\u001b[43mmaxsplit\u001b[49m\u001b[43m)\u001b[49m\n",
      "\u001b[1;31mTypeError\u001b[0m: expected string or bytes-like object"
     ]
    }
   ],
   "source": [
    "approaches(item_info(\"flask of stoneblood\"))"
   ]
  },
  {
   "cell_type": "code",
   "execution_count": null,
   "id": "a16461b2-a2c6-4f9b-8be0-48a86bc5ec9a",
   "metadata": {},
   "outputs": [],
   "source": [
    "item_info(\"icethorn\")"
   ]
  },
  {
   "cell_type": "code",
   "execution_count": null,
   "id": "c2507406-10ed-43d7-8d09-f14623d450e5",
   "metadata": {},
   "outputs": [],
   "source": [
    "item_info(\"adder's tongue\")"
   ]
  },
  {
   "cell_type": "code",
   "execution_count": null,
   "id": "ac4cc088-893c-4ac3-b7e1-31dd79e5a2bb",
   "metadata": {},
   "outputs": [],
   "source": []
  }
 ],
 "metadata": {
  "kernelspec": {
   "display_name": "Python 3",
   "language": "python",
   "name": "python3"
  },
  "language_info": {
   "codemirror_mode": {
    "name": "ipython",
    "version": 3
   },
   "file_extension": ".py",
   "mimetype": "text/x-python",
   "name": "python",
   "nbconvert_exporter": "python",
   "pygments_lexer": "ipython3",
   "version": "3.8.8"
  }
 },
 "nbformat": 4,
 "nbformat_minor": 5
}
