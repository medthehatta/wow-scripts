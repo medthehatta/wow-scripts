{
 "cells": [
  {
   "cell_type": "code",
   "execution_count": 1,
   "id": "1d210c4d-bf48-4ec4-8c35-7ac9f0628b71",
   "metadata": {},
   "outputs": [],
   "source": [
    "from importlib import reload\n",
    "def reload_all():\n",
    "    import tsm; reload(tsm)\n",
    "    import _keys; reload(_keys)\n",
    "    import blizzard; reload(blizzard)\n",
    "    import config; reload(config)\n",
    "    import kvstore; reload(kvstore)\n",
    "    import snapshot; reload(snapshot)\n",
    "    import elemental_arbitrage; reload(elemental_arbitrage)\n",
    "    import bliz_tsm_join; reload(bliz_tsm_join)\n",
    "    import crafting; reload(crafting)\n",
    "    import kvstore; reload(kvstore)\n",
    "    import crafting; reload(crafting)\n",
    "    import procurement; reload(procurement)\n",
    "reload_all()\n",
    "from itables import show"
   ]
  },
  {
   "cell_type": "code",
   "execution_count": 2,
   "id": "51f1c1c4-c910-4c41-80f0-35987a1e4f01",
   "metadata": {},
   "outputs": [],
   "source": [
    "from snapshot import SnapshotProcessor\n",
    "from tsm import auction_house_snapshot\n",
    "from config import tsm_region_id\n",
    "from config import tsm_realm_id\n",
    "from config import tsm_ah_id\n",
    "from config import tsm_cache_dir\n",
    "\n",
    "def tsm_ah_snapper():\n",
    "    return auction_house_snapshot(tsm_region_id, tsm_realm_id, tsm_ah_id)\n",
    "\n",
    "tsm_ah_snap = SnapshotProcessor(tsm_ah_snapper, cache_dir=tsm_cache_dir)\n",
    "tsm_ah = tsm_ah_snap.get(max_age_seconds=3000)"
   ]
  },
  {
   "cell_type": "code",
   "execution_count": 3,
   "id": "3a780b13-30a3-4f1e-8e33-9a03b0165f2c",
   "metadata": {},
   "outputs": [],
   "source": [
    "from snapshot import SnapshotProcessor\n",
    "from blizzard import auction_data\n",
    "from blizzard import auction_summary\n",
    "from config import blizzard_realm_id\n",
    "from config import blizzard_ah_id\n",
    "from config import blizzard_cache_dir\n",
    "\n",
    "def bliz_ah_snapper():\n",
    "    return auction_data(blizzard_realm_id, blizzard_ah_id)\n",
    "\n",
    "bliz_ah_snap = SnapshotProcessor(bliz_ah_snapper, cache_dir=blizzard_cache_dir)\n",
    "bliz_ah = bliz_ah_snap.get(max_age_seconds=3000)"
   ]
  },
  {
   "cell_type": "code",
   "execution_count": 4,
   "id": "b5d2b47b-0b5f-4a80-9a7e-438f254c7c6f",
   "metadata": {},
   "outputs": [],
   "source": [
    "from kvstore import InefficientKVStore\n",
    "from blizzard import ItemLookup\n",
    "from blizzard import collapse_languages\n",
    "from config import blizzard_item_cache\n",
    "from config import blizzard_item_reverse_cache\n",
    "\n",
    "items = ItemLookup(\n",
    "    InefficientKVStore(blizzard_item_cache),\n",
    "    InefficientKVStore(blizzard_item_reverse_cache),\n",
    ")"
   ]
  },
  {
   "cell_type": "code",
   "execution_count": 5,
   "id": "0ac0b9a9-1a5d-4784-a2b0-42cdf5787ab7",
   "metadata": {},
   "outputs": [],
   "source": [
    "from bliz_tsm_join import item_info_getter\n",
    "item_info = item_info_getter(items, bliz_ah_snap, tsm_ah_snap, max_age_seconds=3000)\n",
    "item_info_current = item_info_getter(items, bliz_ah_snap, tsm_ah_snap, max_age_seconds=0)"
   ]
  },
  {
   "cell_type": "code",
   "execution_count": 33,
   "id": "3f958cfe-e63b-4104-aa24-0ec5672302b1",
   "metadata": {},
   "outputs": [],
   "source": [
    "reload_all()\n",
    "\n",
    "from crafting import Recipes\n",
    "from crafting import purchase_price\n",
    "from crafting import crafting_price\n",
    "from crafting import gold\n",
    "\n",
    "\n",
    "r = Recipes(items)\n",
    "i = r.ingredients\n",
    "\n",
    "def buy(item, price_method=gold(\"realm_market_value\")):\n",
    "    return purchase_price(item_info, item, price_method)\n",
    "\n",
    "\n",
    "def buy_now(item):\n",
    "    return buy(item, price_method=gold(\"min\"))\n",
    "\n",
    "\n",
    "def buy_market(item):\n",
    "    return buy(item, price_method=gold(\"realm_market_value\"))\n",
    "\n",
    "\n",
    "recipe_listing = \"\"\"\n",
    "2 flask of the frost wyrm\n",
    "5 icethorn + 5 lichbloom + frost lotus + enchanted vial\n",
    "\n",
    "2 flask of endless rage\n",
    "7 lichbloom + 3 goldclover + frost lotus + enchanted vial\n",
    "\n",
    "2 flask of stoneblood\n",
    "7 lichbloom + 3 crystallized life + frost lotus + enchanted vial\n",
    "\n",
    "firecracker salmon\n",
    "glacial salmon + northern spices\n",
    "\n",
    "elixir of greater agility\n",
    "sungrass + goldthorn + crystal vial\n",
    "\n",
    "titanium bar\n",
    "8 saronite bar\n",
    "\n",
    "titanium bar\n",
    "2 titanium ore\n",
    "\n",
    "titansteel bar\n",
    "3 titanium bar + eternal fire + eternal earth + eternal shadow\n",
    "\n",
    "indestructible potion\n",
    "2 icethorn + imbued vial\n",
    "\n",
    "saronite bar\n",
    "2 saronite ore\n",
    "\n",
    "potion of speed\n",
    "2 adder's tongue + pygmy oil + imbued vial\n",
    "\n",
    "potion of wild magic\n",
    "2 lichbloom + pygmy oil + imbued vial\n",
    "\n",
    "titansteel spellblade\n",
    "6 titansteel bar + 6 infinite dust + 2 frozen orb\n",
    "\n",
    "titansteel bar\n",
    "3 titanium bar + eternal fire + eternal earth + eternal shadow\n",
    "\n",
    "glyph of wild growth\n",
    "resilient parchment + ethereal ink\n",
    "\n",
    "spellweave robe\n",
    "8 spellweave + 6 bolt of imbued frostweave + eternium thread + frozen orb\n",
    "\n",
    "spellweave\n",
    "bolt of imbued frostweave + 2 eternal fire\n",
    "\n",
    "bolt of imbued frostweave\n",
    "2 bolt of frostweave + 2 infinite dust\n",
    "\n",
    "bolt of frostweave\n",
    "5 frostweave cloth\n",
    "\n",
    "earthsiege diamond\n",
    "dark jade + huge citrine + eternal fire\n",
    "\n",
    "skyflare diamond\n",
    "bloodstone + chalcedony + eternal air\n",
    "\n",
    "noise machine\n",
    "2 froststeel tube + 2 overcharged capacitor + 8 handful of cobalt bolts\n",
    "\n",
    "froststeel tube\n",
    "8 cobalt bar + crystallized water\n",
    "\n",
    "overcharged capacitor\n",
    "4 cobalt bar + crystallized earth\n",
    "\n",
    "handful of cobalt bolts\n",
    "2 cobalt bar\n",
    "\n",
    "cobalt bar\n",
    "cobalt ore\n",
    "\n",
    "mechanized snow goggles\n",
    "8 saronite bar + 2 borean leather + eternal shadow\n",
    "\n",
    "saronite bar\n",
    "2 saronite ore\n",
    "\n",
    "wormhole generator: northrend\n",
    "8 titanium bar + 2 eternal shadow + 2 eternal fire + 2 eternal water + 2 eternal air\n",
    "\"\"\"\n",
    "\n",
    "reversible_recipes = \"\"\"\n",
    "eternal shadow\n",
    "10 crystallized shadow\n",
    "\n",
    "eternal water\n",
    "10 crystallized water\n",
    "\n",
    "eternal fire\n",
    "10 crystallized fire\n",
    "\n",
    "eternal air\n",
    "10 crystallized air\n",
    "\n",
    "eternal life\n",
    "10 crystallized life\n",
    "\n",
    "greater planar essence\n",
    "3 lesser planar essence\n",
    "\n",
    "greater cosmic essence\n",
    "3 lesser cosmic essence\n",
    "\"\"\"\n",
    "\n",
    "r_out = None\n",
    "for line in recipe_listing.splitlines():\n",
    "    if line.strip() and not line.strip().startswith(\"#\"):\n",
    "        if r_out:\n",
    "            r.recipe_from_strings(r_out, line.strip())\n",
    "            r_out = None\n",
    "        else:\n",
    "            r_out = line.strip()\n",
    "\n",
    "            \n",
    "r_out = None\n",
    "for line in reversible_recipes.splitlines():\n",
    "    if line.strip() and not line.strip().startswith(\"#\"):\n",
    "        if r_out:\n",
    "            r.recipe_from_strings(r_out, line.strip())\n",
    "            r.recipe_from_strings(line.strip(), r_out)\n",
    "            r_out = None\n",
    "        else:\n",
    "            r_out = line.strip()\n",
    "\n",
    "from procurement import ProcurementPlanner\n",
    "from procurement import topk_procurements\n",
    "pp = ProcurementPlanner(items, item_info, r, approaches=[\"ah_buy_now\", \"ah_buy_market\", \"craft\"])"
   ]
  },
  {
   "cell_type": "code",
   "execution_count": 7,
   "id": "83db8dea-7248-4e2c-912a-757af0cea027",
   "metadata": {
    "tags": []
   },
   "outputs": [
    {
     "name": "stdout",
     "output_type": "stream",
     "text": [
      "DEFINITELY   SB eternal-life (unit profit: 37538,headroom: 7197)\n",
      "SKIP        eternal-earth\n",
      "SKIP        eternal-air\n",
      "DEFINITELY   BS eternal-fire (unit profit: 22719,headroom: 1543)\n",
      "DEFINITELY   BS eternal-water (unit profit: 50356,headroom: 4219)\n",
      "DEFINITELY   BS eternal-shadow (unit profit: 46325,headroom: 2922)\n",
      "SKIP        primal-life\n",
      "SKIP        primal-earth\n",
      "YES          SB primal-air (unit profit: 109335,headroom: 231)\n",
      "SKIP        primal-fire\n",
      "SKIP        primal-water\n",
      "SKIP        primal-shadow\n",
      "SKIP        essence-eternal\n",
      "YES          BS essence-cosmic (unit profit: 43590,headroom: 543)\n",
      "SKIP        essence-nether\n",
      "DEFINITELY   BS essence-planar (unit profit: 172051,headroom: 838)\n",
      "SKIP        essence-astral\n",
      "SKIP        essence-magic\n",
      "SKIP        essence-mystic\n"
     ]
    }
   ],
   "source": [
    "from elemental_arbitrage import print_elemental_arbitrage_report\n",
    "\n",
    "print_elemental_arbitrage_report(tsm_ah, items)"
   ]
  },
  {
   "cell_type": "code",
   "execution_count": 8,
   "id": "2eeacf23-c2d1-4bce-93ad-3c97cbeb4660",
   "metadata": {
    "tags": []
   },
   "outputs": [
    {
     "name": "stderr",
     "output_type": "stream",
     "text": [
      "<ipython-input-8-e5b0eba07282>:14: UserWarning: DataFrame columns are not unique, some columns will be omitted.\n",
      "  entries = list(df_all.transpose().to_dict().values())\n"
     ]
    },
    {
     "data": {
      "text/html": [
       "<style>.itables table td {\n",
       "    text-overflow: ellipsis;\n",
       "    overflow: hidden;\n",
       "}\n",
       "\n",
       ".itables table th {\n",
       "    text-overflow: ellipsis;\n",
       "    overflow: hidden;\n",
       "}\n",
       "\n",
       ".itables thead input {\n",
       "    width: 100%;\n",
       "    padding: 3px;\n",
       "    box-sizing: border-box;\n",
       "}\n",
       "\n",
       ".itables tfoot input {\n",
       "    width: 100%;\n",
       "    padding: 3px;\n",
       "    box-sizing: border-box;\n",
       "}\n",
       "</style>\n",
       "<div class=\"itables\">\n",
       "<table id=\"63ad6361-5483-44c5-9416-0ac4429fc6b5\" class=\"display nowrap\"style=\"table-layout:auto;width:auto;margin:auto;caption-side:bottom\"><thead>\n",
       "    <tr style=\"text-align: right;\">\n",
       "      \n",
       "      <th>name</th>\n",
       "      <th>net</th>\n",
       "      <th>rate</th>\n",
       "      <th>num</th>\n",
       "    </tr>\n",
       "  </thead><tbody><tr><td>Loading... (need <a href=https://mwouts.github.io/itables/troubleshooting.html>help</a>?)</td></tr></tbody></table>\n",
       "<link rel=\"stylesheet\" type=\"text/css\" href=\"https://cdn.datatables.net/1.13.1/css/jquery.dataTables.min.css\">\n",
       "<script type=\"module\">\n",
       "    // Import jquery and DataTable\n",
       "    import 'https://code.jquery.com/jquery-3.6.0.min.js';\n",
       "    import dt from 'https://cdn.datatables.net/1.12.1/js/jquery.dataTables.mjs';\n",
       "    dt($);\n",
       "\n",
       "    // Define the table data\n",
       "    const data = [[\"Flask of Stoneblood\", 15228045.0, 0.863636, 22], [\"Flask of Endless Rage\", 13456501.0, 0.9, 20], [\"Flask of the Frost Wyrm\", 8844292.0, 0.777778, 18], [\"Lesser Cosmic Essence\", 6886448.0, 0.333333, 9], [\"Eternal Life\", 6279440.0, 0.571429, 7], [\"Arcane Dust\", 5684967.0, 0.516129, 31], [\"Indestructible Potion\", 3275957.0, 0.545455, 11], [\"Crystallized Water\", 2223330.0, 0.615385, 26], [\"Earthsiege Diamond\", 2175880.0, 0.428571, 7], [\"Talandra's Rose\", 1068370.0, 0.5, 6], [\"Arthas' Tears\", 1018480.0, 0.272727, 11], [\"Crystallized Life\", 902990.0, 0.357143, 14], [\"Infinite Dust\", 893190.0, 0.5, 12], [\"Truesilver Bar\", 830443.0, 0.8, 6], [\"Tiger Lily\", 811856.0, 0.521739, 23], [\"Bolt of Woolen Cloth\", 781888.0, 0.48, 25], [\"Arcanite Bar\", 780735.0, 0.2, 20], [\"Greater Planar Essence\", 719700.0, 0.571429, 7], [\"Runic Healing Potion\", 706914.0, 0.571429, 7], [\"Mageroyal\", 669837.0, 0.4, 10], [\"Khadgar's Whisker\", 667800.0, 0.285714, 7], [\"Goldclover\", 642770.0, 0.5, 7], [\"Runic Mana Potion\", 492940.0, 0.5, 8], [\"Elixir of Lightning Speed\", 490533.0, 0.666667, 6], [\"Gold Bar\", 307740.0, 0.8, 5], [\"Strange Dust\", 304017.0, 0.6, 5], [\"Refreshing Spring Water\", 128856.0, 0.428571, 7], [\"Black Jelly\", 124175.0, 0.4, 5], [\"Kingsblood\", 114771.0, 0.25, 8], [\"Ancient Lichen\", 111198.0, 0.133333, 15], [\"Spellpower Elixir\", 65151.0, 0.181818, 11], [\"Bolt of Linen Cloth\", 48660.0, 0.25, 12], [\"Linen Cloth\", -68022.0, 1.0, 11], [\"Netherweave Cloth\", -92364.0, 0.666667, 5], [\"Crystallized Air\", -210687.0, 1.0, 13], [\"Chalcedony\", -389359.0, 0.75, 8]];\n",
       "\n",
       "    // Define the dt_args\n",
       "    let dt_args = {\"order\": []};\n",
       "    dt_args[\"data\"] = data;\n",
       "\n",
       "    $(document).ready(function () {\n",
       "        \n",
       "        $('#63ad6361-5483-44c5-9416-0ac4429fc6b5').DataTable(dt_args);\n",
       "    });\n",
       "</script>\n",
       "</div>\n"
      ],
      "text/plain": [
       "<IPython.core.display.HTML object>"
      ]
     },
     "metadata": {},
     "output_type": "display_data"
    }
   ],
   "source": [
    "from cytoolz import groupby\n",
    "import pandas as pd\n",
    "\n",
    "df_sales = pd.read_csv(\"Accounting_Earthfury_sales.csv\")\n",
    "df_sales[\"mode\"] = \"sold\"\n",
    "df_purchases = pd.read_csv(\"Accounting_Earthfury_purchases.csv\")\n",
    "df_purchases[\"mode\"] = \"purchased\"\n",
    "df_expired = pd.read_csv(\"Accounting_Earthfury_expired.csv\")\n",
    "df_expired[\"mode\"] = \"expired\"\n",
    "df_canceled = pd.read_csv(\"Accounting_Earthfury_canceled.csv\")\n",
    "df_canceled[\"mode\"] = \"canceled\"\n",
    "df_all = pd.concat([df_sales, df_purchases, df_expired, df_canceled])\n",
    "\n",
    "entries = list(df_all.transpose().to_dict().values())\n",
    "grouped = groupby(lambda entry: entry[\"itemString\"], entries)\n",
    "names = {entry[\"itemString\"]: entry[\"itemName\"] for entry in entries}\n",
    "nets = {\n",
    "    k: sum(\n",
    "        (\n",
    "            vv[\"price\"]*vv[\"quantity\"] if vv[\"mode\"] == \"sold\" else\n",
    "            -vv[\"price\"]*vv[\"quantity\"] if vv[\"mode\"] == \"purchased\" else\n",
    "            0\n",
    "        ) for vv in v\n",
    "    )\n",
    "    for (k, v) in grouped.items()\n",
    "}\n",
    "ah_events = {k: [vv[\"mode\"] for vv in v if vv[\"source\"] != \"Vendor\"] for (k, v) in grouped.items()}\n",
    "sale_rate = {\n",
    "    k: v.count(\"sold\") / (v.count(\"sold\") + v.count(\"expired\") + v.count(\"canceled\"))\n",
    "    for (k, v) in ah_events.items()\n",
    "    if v.count(\"sold\") > 1\n",
    "}\n",
    "agg = {k: {\"name\": names[k], \"net\": nets[k], \"rate\": sale_rate[k], \"num\": len(ah_events[k])} for k in sale_rate}\n",
    "show(pd.DataFrame(sorted(\n",
    "    [v for v in agg.values() if v[\"num\"] > 4],\n",
    "    key=lambda entry: entry[\"net\"],\n",
    "    reverse=True,\n",
    ")))"
   ]
  },
  {
   "cell_type": "code",
   "execution_count": 9,
   "id": "fe1f1466-a912-4317-8179-61cf81343e04",
   "metadata": {},
   "outputs": [],
   "source": [
    "import pickle\n",
    "from cytoolz import get as pick_from_dict\n",
    "from cytoolz import sliding_window\n",
    "import glob\n",
    "import itertools\n",
    "from blizzard import auction_summary\n",
    "import re\n",
    "import numpy as np\n",
    "import datetime\n",
    "np.set_printoptions(suppress=True)\n",
    "\n",
    "_names = \"\"\"\n",
    "flask of the frost wyrm\n",
    "flask of endless rage\n",
    "flask of stoneblood\n",
    "titanium bar\n",
    "indestructible potion\n",
    "eternal shadow\n",
    "oily blackmouth\n",
    "elixir of mighty thoughts\n",
    "frostweave cloth\n",
    "wildvine\n",
    "felcloth\n",
    "lesser healing potion\n",
    "runic mana potion\n",
    "greater planar essence\n",
    "netherweave cloth\n",
    "greater healing potion\n",
    "crystallized water\n",
    "purple lotus\n",
    "bruiseweed\n",
    "arcane dust\n",
    "tiger lily\n",
    "crystallized fire\n",
    "major healing potion\n",
    "potion of speed\n",
    "potion of wild magic\n",
    "lichbloom\n",
    "pygmy oil\n",
    "adder's tongue\n",
    "imbued vial\n",
    "icethorn\n",
    "frost lotus\n",
    "enchanted vial\n",
    "goldclover\n",
    "crystallized life\n",
    "eternal life\n",
    "deadnettle\n",
    "elixir of accuracy\n",
    "lesser planar essence\n",
    "eternal fire\n",
    "eternal water\n",
    "chaotic skyflare diamond\n",
    "skyflare diamond\n",
    "potent monarch topaz\n",
    "monarch topaz\n",
    "runed scarlet ruby\n",
    "scarlet ruby\n",
    "purified twilight opal\n",
    "twilight opal\n",
    "potion of speed\n",
    "potion of wild magic\n",
    "lichbloom\n",
    "frostweave cloth\n",
    "infinite dust\n",
    "greater cosmic essence\n",
    "dream shard\n",
    "eternal belt buckle\n",
    "titansteel bar\n",
    "titansteel spellblade\n",
    "mageweave cloth\n",
    "rough stone\n",
    "copper bar\n",
    "coarse stone\n",
    "linen cloth\n",
    "bronze bar\n",
    "heavy stone\n",
    "moss agate\n",
    "wool cloth\n",
    "medium leather\n",
    "steel bar\n",
    "solid stone\n",
    "mithril bar\n",
    "mageweave cloth\n",
    "dense stone\n",
    "thorium bar\n",
    "runecloth\n",
    "fel iron bar\n",
    "mote of earth\n",
    "mote of fire\n",
    "netherweave cloth\n",
    "adamantite bar\n",
    "cobalt bar\n",
    "frostweave cloth\n",
    "crystallized water\n",
    "crystallized earth\n",
    "crystallized fire\n",
    "borean leather\n",
    "eternal shadow\n",
    "saronite bar\n",
    "\"\"\".strip().splitlines()\n",
    "\n",
    "desired_names = list(set(_names))\n",
    "desired_ids = [items.get_id(name) for name in desired_names if not name.startswith(\"#\")]\n",
    "\n",
    "\n",
    "date_re = re.compile(r\"202.-..-..T..-..-..\")\n",
    "def _timestamp_from_name(name):\n",
    "    cap = date_re.search(name).group(0)\n",
    "    return datetime.datetime.strptime(cap, \"%Y-%m-%dT%H-%M-%S\").timestamp()\n",
    "\n",
    "\n",
    "by_item = {}\n",
    "timeseries = []\n",
    "\n",
    "for snapshot in sorted(glob.glob(\"bliz-ah/*\")):\n",
    "    with open(snapshot, \"rb\") as f:\n",
    "        entries = pickle.load(f).values()\n",
    "        timeseries.extend(\n",
    "            [\n",
    "                {\"timestamp\": _timestamp_from_name(snapshot), \"item_name\": items.get_name(item_id), **auction_summary(item_data)}\n",
    "                for (item_id, item_data) in zip(desired_ids, entries)\n",
    "            ]\n",
    "        )\n",
    "        for (item_id, item_data) in zip(desired_ids, entries):\n",
    "            name = items.get_name(item_id)\n",
    "            by_item[name] = by_item.get(name, []) + [{\"timestamp\": date_re.search(snapshot).group(0), \"item_name\": items.get_name(item_id), **auction_summary(item_data)}]\n",
    "\n",
    "def timeseries_of(key, default=np.nan):\n",
    "    def _timeseries_of(item_name):\n",
    "        return np.array([v.get(key, default) for v in by_item[item_name]])\n",
    "    return _timeseries_of\n",
    "\n",
    "def omit_outliers(series, sigma=2, window=5):\n",
    "    mavg = [np.average(w) for w in sliding_window(window, series)]\n",
    "    std = np.std(mavg)\n",
    "    return np.array([x if np.abs(x) < sigma*std else np.nan for x in mavg])\n",
    "\n",
    "def avg_finite(arr):\n",
    "    return np.average(arr[np.isfinite(arr)])"
   ]
  },
  {
   "cell_type": "code",
   "execution_count": 10,
   "id": "81d62533-0dd5-4148-bfc2-4bad4c40f8a8",
   "metadata": {},
   "outputs": [],
   "source": [
    "import plotly.express as px\n",
    "for yvalue in [\"num\", \"min\", \"p50\", \"d_num\", \"d_min\", \"d_p50\"]:\n",
    "    df = pd.DataFrame(timeseries)\n",
    "    df = df.sort_values(by=\"timestamp\")\n",
    "\n",
    "    if yvalue.startswith(\"d_\"):\n",
    "        dfg = df.pivot(index=\"timestamp\", columns=\"item_name\", values=yvalue[2:])\n",
    "        dfg = dfg.diff().div(dfg.index.to_series().diff(), axis=0)\n",
    "    else:\n",
    "        dfg = df.pivot(index=\"timestamp\", columns=\"item_name\", values=yvalue)\n",
    "\n",
    "    fig = px.scatter(dfg, title=yvalue, log_y=False)\n",
    "    fig.write_html(f\"{yvalue}.html\")"
   ]
  },
  {
   "cell_type": "code",
   "execution_count": 11,
   "id": "38080de5-a5e7-4583-97c8-63d8f16d4e0f",
   "metadata": {},
   "outputs": [],
   "source": [
    "def min_series(x):\n",
    "    return omit_outliers(timeseries_of(\"avg_sell\")(x), sigma=0.5, window=10)\n",
    "\n",
    "wild_magic_pot = avg_finite(min_series(\"potion of wild magic\") - (2*min_series(\"lichbloom\") + min_series(\"pygmy oil\") + np.array(1.8)))\n",
    "speed_pot = avg_finite(min_series(\"potion of speed\") - (2*min_series(\"adder's tongue\") + min_series(\"pygmy oil\") + np.array(1.8)))\n",
    "wyrm = avg_finite(2*min_series(\"flask of the frost wyrm\") - (5*min_series(\"icethorn\") + 5*min_series(\"lichbloom\") + min_series(\"frost lotus\") + np.array(5)))\n",
    "rage = avg_finite(2*min_series(\"flask of endless rage\") - (5*min_series(\"goldclover\") + 7*min_series(\"lichbloom\") + min_series(\"frost lotus\") + np.array(5)))\n",
    "indestructible = avg_finite(2*min_series(\"indestructible potion\") - (2*min_series(\"icethorn\") + np.array(1.8)))"
   ]
  },
  {
   "cell_type": "code",
   "execution_count": 12,
   "id": "d4a1788a-10cf-45ad-b5e8-80aeee9f2a6a",
   "metadata": {},
   "outputs": [],
   "source": [
    "def item_infos(items):\n",
    "    return pd.DataFrame([item_info(i) for i in items])"
   ]
  },
  {
   "cell_type": "code",
   "execution_count": 13,
   "id": "01e07bbf-7a8f-4a32-a005-40951c05f54f",
   "metadata": {
    "tags": []
   },
   "outputs": [
    {
     "data": {
      "text/html": [
       "<style>.itables table td {\n",
       "    text-overflow: ellipsis;\n",
       "    overflow: hidden;\n",
       "}\n",
       "\n",
       ".itables table th {\n",
       "    text-overflow: ellipsis;\n",
       "    overflow: hidden;\n",
       "}\n",
       "\n",
       ".itables thead input {\n",
       "    width: 100%;\n",
       "    padding: 3px;\n",
       "    box-sizing: border-box;\n",
       "}\n",
       "\n",
       ".itables tfoot input {\n",
       "    width: 100%;\n",
       "    padding: 3px;\n",
       "    box-sizing: border-box;\n",
       "}\n",
       "</style>\n",
       "<div class=\"itables\">\n",
       "<table id=\"40b4a7bb-773b-4d3a-ae6c-2db9fecdbd1d\" class=\"display nowrap\"style=\"table-layout:auto;width:auto;margin:auto;caption-side:bottom\"><thead>\n",
       "    <tr style=\"text-align: right;\">\n",
       "      \n",
       "      <th>id</th>\n",
       "      <th>name</th>\n",
       "      <th>num_auctions</th>\n",
       "      <th>quantity</th>\n",
       "      <th>weight_sell</th>\n",
       "      <th>avg_sell</th>\n",
       "      <th>max</th>\n",
       "      <th>p80</th>\n",
       "      <th>p50</th>\n",
       "      <th>p20</th>\n",
       "      <th>wp80</th>\n",
       "      <th>wp50</th>\n",
       "      <th>wp20</th>\n",
       "      <th>min</th>\n",
       "      <th>realm_market_value</th>\n",
       "      <th>realm_historical</th>\n",
       "      <th>region_historical</th>\n",
       "      <th>region_avg_sale_price</th>\n",
       "      <th>sale_pct</th>\n",
       "      <th>sold_per_day</th>\n",
       "      <th>headroom</th>\n",
       "      <th>market_skew_pct</th>\n",
       "      <th>auction_skew_pct</th>\n",
       "    </tr>\n",
       "  </thead><tbody><tr><td>Loading... (need <a href=https://mwouts.github.io/itables/troubleshooting.html>help</a>?)</td></tr></tbody></table>\n",
       "<link rel=\"stylesheet\" type=\"text/css\" href=\"https://cdn.datatables.net/1.13.1/css/jquery.dataTables.min.css\">\n",
       "<script type=\"module\">\n",
       "    // Import jquery and DataTable\n",
       "    import 'https://code.jquery.com/jquery-3.6.0.min.js';\n",
       "    import dt from 'https://cdn.datatables.net/1.12.1/js/jquery.dataTables.mjs';\n",
       "    dt($);\n",
       "\n",
       "    // Define the table data\n",
       "    const data = [[46376, \"flask of the frost wyrm\", 57, 265, 215.2873, 65.293653, 275.0, 75.0, 14.9496, 14.9, 275.0, 275.0, 75.0, 14.9, 14.5465, 12.3438, 9.4893, 7.2081, 54.5, 2120, 3624, 17.84, -99.99], [46377, \"flask of endless rage\", 91, 584, 212.943916, 78.94096, 250.0, 240.0, 11.9999, 11.69, 250.0, 240.0, 239.996, 11.55, 13.5819, 13.75, 9.8093, 7.363, 60.2, 2420, 3435, -1.22, -99.99], [46379, \"flask of stoneblood\", 53, 87, 37.972643, 24.417217, 75.0, 29.959, 14.9996, 14.9796, 75.0, 29.959, 14.9796, 14.9793, 15.7785, 14.9881, 11.2758, 8.3158, 50.0, 923, 1759, 5.27, -99.99], [41163, \"titanium bar\", 9, 105, 185.227095, 131.537889, 225.494, 225.494, 56.373, 56.373, 225.494, 225.494, 56.373, 56.373, 10.9959, 8.3748, 8.0352, 5.2595, 57.7, 1919, 3220, 31.3, -99.95], [40093, \"indestructible potion\", 34, 106, 26.367825, 12.379688, 80.0, 18.3, 7.36, 5.9865, 20.0, 18.3, 7.36, 3.6969, 4.6029, 4.4999, 2.9598, 2.1738, 48.9, 2389, 4779, 2.29, -99.99], [35627, \"eternal shadow\", 145, 707, 29.738642, 16.962498, 57.988, 25.0, 14.4975, 4.9996, 55.0, 23.6648, 14.4975, 2.4999, 4.3115, 3.7499, 2.8927, 1.6851, 65.2, 5180, 7237, 14.98, -99.99], [6358, \"oily blackmouth\", 60, 89, 0.735509, 0.470845, 2.9817, 0.6398, 0.3667, 0.2945, 0.6398, 0.6398, 0.2945, 0.2945, 0.4474, 0.4997, 0.5764, 1.3546, 59.4, 624, 961, -10.47, -99.99], [44332, \"elixir of mighty thoughts\", 4, 5, 6.90686, 5.436775, 12.7872, 12.7872, 2.9999, 2.98, 12.7872, 2.9999, 2.98, 2.98, 2.5893, 2.65, 2.8306, 2.3481, 56.3, 321, 565, -2.29, -99.99], [33470, \"frostweave cloth\", 83, 828, 35.878559, 18.473096, 113.338, 11.87, 4.0579, 0.494, 113.338, 11.862, 10.0, 0.2027, 0.5305, 0.4975, 0.4196, 0.3509, 86.5, 43951, 49982, 6.63, -100.0], [8153, \"wildvine\", 3, 4, 0.3749, 0.333267, 0.4998, 0.4998, 0.25, 0.25, 0.4998, 0.4998, 0.25, 0.25, 0.6685, 1.1666, 0.7657, 0.6821, 45.3, 297, 651, -42.7, -100.0], [14256, \"felcloth\", 20, 36, 28.251714, 14.153395, 63.9992, 8.9997, 8.7569, 8.7, 63.9992, 8.9997, 8.7569, 3.0, 5.5803, 3.0, 2.0, 1.2381, 42.4, 76, 143, 86.01, -99.99], [858, \"lesser healing potion\", 7, 92, 0.771512, 0.586671, 0.894, 0.892, 0.7152, 0.1335, 0.894, 0.892, 0.7152, 0.0894, 0.0601, 0.0399, 0.0406, 0.0731, 35.9, 194, 448, 50.63, -99.99], [33448, \"runic mana potion\", 77, 359, 22.312152, 7.191734, 50.0, 8.3951, 1.485, 1.2966, 50.0, 23.988, 3.5997, 1.102, 1.3839, 1.3017, 1.03, 1.1191, 81.1, 2482, 2701, 6.31, -99.99], [22446, \"greater planar essence\", 27, 35, 29.350646, 16.410778, 88.8972, 12.6999, 12.6998, 12.6997, 88.8972, 12.6998, 12.6997, 12.0, 15.326, 10.4398, 8.5366, 5.7693, 60.1, 1157, 1890, 46.8, -99.99], [21877, \"netherweave cloth\", 116, 1990, 7.619952, 6.690843, 10.0, 10.0, 6.0, 4.0, 10.0, 10.0, 4.5, 0.199, 0.2865, 0.226, 0.1835, 0.1505, 83.8, 26104, 29160, 26.77, -99.99], [1710, \"greater healing potion\", 2, 3, 0.140533, 0.1265, 0.1686, 0.1686, 0.1686, 0.0844, 0.1686, 0.1686, 0.0844, 0.0844, 1.0663, 0.6669, 0.4993, 0.5203, 58.9, 188, 316, 59.89, -100.0], [37705, \"crystallized water\", 171, 690, 10.418841, 4.886513, 19.398, 9.089, 0.9296, 0.9283, 19.398, 9.089, 5.4528, 0.8633, 0.8176, 0.749, 0.5308, 0.3357, 70.9, 3481, 4219, 9.16, -99.99], [8831, \"purple lotus\", 19, 152, 41.808405, 19.315342, 50.0, 49.998, 4.0, 2.4997, 50.0, 49.998, 30.0, 2.0, 1.4536, 1.6883, 1.026, 0.7493, 51.6, 676, 1158, -13.9, -99.99], [2453, \"bruiseweed\", 10, 43, 2.970172, 1.85428, 8.0, 5.0, 0.8388, 0.5847, 5.0, 1.2, 0.6294, 0.2099, 0.3708, 0.4899, 0.3928, 0.2702, 51.8, 2072, 3957, -24.31, -99.99], [22445, \"arcane dust\", 45, 225, 26.524716, 11.81468, 46.766, 9.352, 9.352, 2.2, 46.762, 30.3953, 9.352, 2.0, 2.7852, 1.9884, 1.6729, 1.0968, 65.2, 6605, 9905, 40.07, -99.99], [36904, \"tiger lily\", 131, 2428, 9.04334, 8.57666, 9.878, 9.394, 9.382, 8.658, 9.394, 9.39, 8.666, 0.84, 0.4382, 0.4995, 0.3733, 0.385, 82.9, 26789, 29886, -12.27, -99.98], [37702, \"crystallized fire\", 28, 217, 25.757349, 22.211811, 33.333, 33.333, 23.665, 9.8392, 33.333, 33.333, 16.5648, 4.9198, 2.6751, 2.9995, 2.2222, 1.6344, 55.6, 979, 1543, -10.82, -99.98], [13446, \"major healing potion\", 8, 42, 6.144755, 3.199725, 10.0, 4.2087, 2.5, 1.0522, 10.0, 4.2087, 2.5, 1.0, 0.4921, 0.4995, 0.3991, 0.2887, 51.5, 366, 668, -1.48, -99.98], [40211, \"potion of speed\", 26, 234, 134.544496, 79.935773, 178.198, 175.998, 44.9995, 44.0, 178.198, 175.998, 44.549, 9.9999, 4.4153, 4.8691, 4.7331, 3.8797, 71.8, 8397, 11460, -9.32, -99.98], [40212, \"potion of wild magic\", 36, 214, 81.502717, 53.927661, 180.0, 44.9995, 44.75, 44.75, 180.0, 44.75, 44.75, 28.4997, 7.8988, 7.3093, 5.9304, 4.7477, 58.6, 3941, 6511, 8.07, -99.96], [36905, \"lichbloom\", 102, 1870, 38.938166, 36.446095, 39.998, 39.998, 39.5, 39.498, 39.998, 39.998, 39.498, 2.0, 1.2419, 1.2963, 1.4882, 1.2577, 76.7, 20517, 24879, -4.2, -99.98], [40195, \"pygmy oil\", 14, 84, 28.268119, 19.309786, 32.171, 32.171, 32.171, 3.2172, 32.171, 32.171, 32.171, 3.2172, 1.5652, 1.809, 1.7926, 1.7688, 68.7, 2642, 3761, -13.48, -99.98], [36903, \"adder's tongue\", 174, 3386, 19.661656, 19.241222, 19.882, 19.79, 19.788, 19.786, 19.79, 19.788, 19.788, 0.9798, 0.9248, 0.9599, 0.8189, 0.7899, 79.6, 57356, 68669, -3.66, -99.99], [18256, \"imbued vial\", 4, 4, 3.6127, 3.6127, 3.6127, 3.6127, 3.6127, 3.6127, 3.6127, 3.6127, 3.6127, 3.6127, 1.6087, 2.2273, 1.8313, 0.6691, 22.9, 197, 856, -27.77, -99.98], [36906, \"icethorn\", 106, 1935, 21.235135, 19.866107, 21.994, 21.994, 21.614, 21.614, 21.994, 21.616, 21.614, 1.0807, 0.9915, 0.9827, 0.8983, 0.7791, 73.3, 20671, 26265, 0.9, -99.99], [36908, \"frost lotus\", 52, 362, 66.919934, 33.54426, 99.608, 69.8985, 24.9025, 4.7499, 95.0, 75.9984, 24.9025, 4.66, 7.3353, 3.2493, 1.5731, 1.2694, 58.8, 5598, 9158, 125.75, -99.99], [40411, \"enchanted vial\", 9999, 9999, 5.0, 5.0, 5.0, 5.0, 5.0, 5.0, 5.0, 5.0, 5.0, 5.0, 4.4113, 2.9, 3.9999, 1.5642, 26.7, 27, -9897, 52.11, -99.99], [36901, \"goldclover\", 75, 1287, 9.93513, 8.765435, 19.0, 9.602, 9.602, 8.808, 9.602, 9.602, 9.6, 0.48, 0.6544, 0.6617, 0.4188, 0.3772, 83.2, 35780, 41717, -1.1, -99.99], [37704, \"crystallized life\", 58, 191, 38.491562, 24.668024, 89.9955, 49.4865, 9.9998, 6.7194, 59.385, 44.999, 11.2, 2.2199, 1.1886, 1.28, 1.3898, 1.7597, 51.4, 1470, 2668, -7.14, -99.98], [35625, \"eternal life\", 89, 738, 307.970923, 157.82857, 389.988, 386.0, 96.8995, 18.0, 387.59, 386.0, 173.6991, 15.0, 15.6398, 15.0396, 13.3217, 18.8816, 64.9, 5150, 7197, 3.99, -99.99], [37921, \"deadnettle\", 119, 2225, 10.267051, 9.807359, 10.61, 10.608, 10.6, 10.392, 10.608, 10.602, 10.394, 0.9989, 0.5559, 0.584, 0.3936, 0.393, 78.6, 17088, 19515, -4.81, -99.98], [44325, \"elixir of accuracy\", 13, 59, 42.295424, 12.512015, 60.0, 10.2384, 4.3994, 2.0, 60.0, 60.0, 4.3998, 1.98, 2.6214, 2.8967, 1.9077, 1.2602, 47.7, 162, 280, -9.5, -99.99], [22447, \"lesser planar essence\", 43, 52, 30.93929, 16.9091, 107.9991, 23.98, 11.9997, 8.8798, 24.0, 12.0, 8.8799, 8.8794, 10.8437, 4.4444, 2.9752, 2.0087, 43.0, 383, 838, 143.99, -99.99], [36860, \"eternal fire\", 121, 122, 23.757742, 23.56106, 47.5562, 23.7784, 23.7782, 22.9999, 23.7784, 23.7782, 22.9999, 22.0, 24.4791, 22.1997, 19.3671, 15.0955, 54.4, 1371, 2398, 10.27, -99.99], [35622, \"eternal water\", 72, 216, 23.26415, 13.839135, 90.909, 10.7364, 2.9992, 1.4995, 15.5988, 10.7364, 2.9992, 1.4098, 3.1404, 2.4995, 2.3879, 1.8081, 56.8, 1650, 2688, 25.64, -100.0], [41285, \"chaotic skyflare diamond\", 4, 4, 95.713075, 95.713075, 95.7131, 95.7131, 95.7131, 95.713, 95.7131, 95.7131, 95.713, 95.713, 94.8192, 44.9996, 36.0648, 18.4154, 49.0, 162, 326, 110.71, -99.99], [41266, \"skyflare diamond\", 6, 6, 47.999867, 47.999867, 47.9999, 47.9999, 47.9999, 47.9998, 47.9999, 47.9999, 47.9998, 47.9998, 30.0353, 16.0, 16.5128, 10.8807, 45.0, 239, 525, 87.72, -99.98], [40048, \"potent monarch topaz\", 17, 17, 31.611629, 31.611629, 33.9998, 33.9998, 30.9998, 30.8999, 33.9998, 30.9998, 30.8999, 30.0, 40.5119, 44.7999, 20.7047, 16.176, 25.3, 49, 176, -9.57, -99.99], [36930, \"monarch topaz\", 29, 29, 28.979248, 28.979248, 31.9999, 30.9999, 27.9999, 27.9998, 30.9999, 27.9999, 27.9998, 25.9999, 15.036, 16.9995, 11.8025, 8.0547, 62.3, 583, 906, -11.55, -99.98], [39998, \"runed scarlet ruby\", 25, 25, 118.759636, 118.759636, 129.9991, 129.999, 115.0, 114.9997, 129.999, 115.0, 114.9997, 114.9995, 127.5574, 127.9962, 93.1042, 75.08, 60.8, 228, 350, -0.34, -99.99], [36918, \"scarlet ruby\", 37, 37, 82.229514, 82.229514, 87.5, 83.9998, 80.8, 80.0, 83.9998, 80.8, 80.0, 79.9996, 84.2003, 81.9996, 73.7743, 63.2504, 61.0, 378, 582, 2.68, -99.99], [40026, \"purified twilight opal\", 24, 24, 29.296804, 29.296804, 29.9997, 29.988, 28.9996, 28.9, 29.988, 28.9996, 28.9, 28.8883, 42.6512, 25.0, 25.0, 16.2535, 50.0, 135, 246, 70.6, -99.99], [36927, \"twilight opal\", 61, 72, 22.83766, 12.713923, 100.0, 8.5003, 7.9999, 7.9999, 25.5006, 8.2506, 7.9999, 7.9999, 9.6877, 8.8888, 8.0702, 5.5915, 60.1, 361, 528, 8.99, -99.99], [40211, \"potion of speed\", 26, 234, 134.544496, 79.935773, 178.198, 175.998, 44.9995, 44.0, 178.198, 175.998, 44.549, 9.9999, 4.4153, 4.8691, 4.7331, 3.8797, 71.8, 8397, 11460, -9.32, -99.98], [40212, \"potion of wild magic\", 36, 214, 81.502717, 53.927661, 180.0, 44.9995, 44.75, 44.75, 180.0, 44.75, 44.75, 28.4997, 7.8988, 7.3093, 5.9304, 4.7477, 58.6, 3941, 6511, 8.07, -99.96], [36905, \"lichbloom\", 102, 1870, 38.938166, 36.446095, 39.998, 39.998, 39.5, 39.498, 39.998, 39.998, 39.498, 2.0, 1.2419, 1.2963, 1.4882, 1.2577, 76.7, 20517, 24879, -4.2, -99.98], [33470, \"frostweave cloth\", 83, 828, 35.878559, 18.473096, 113.338, 11.87, 4.0579, 0.494, 113.338, 11.862, 10.0, 0.2027, 0.5305, 0.4975, 0.4196, 0.3509, 86.5, 43951, 49982, 6.63, -100.0], [34054, \"infinite dust\", 359, 2375, 26.389636, 10.537297, 79.6756, 30.04, 1.9698, 1.5023, 30.048, 30.044, 27.998, 1.4, 1.7079, 1.9, 1.4784, 1.1715, 69.0, 24488, 33114, -10.11, -99.99], [34055, \"greater cosmic essence\", 38, 88, 124.786258, 53.010024, 229.985, 45.7798, 22.9991, 22.6, 229.985, 45.7798, 22.8999, 22.5, 19.9743, 19.4996, 16.0869, 13.5945, 58.0, 2688, 4546, 2.43, -99.99], [34052, \"dream shard\", 99, 152, 82.402688, 34.742131, 304.99, 21.4989, 21.4987, 21.2999, 106.998, 21.4987, 21.4987, 21.2998, 21.2863, 21.7996, 16.7747, 13.673, 54.5, 1289, 2213, -2.35, -99.99], [41611, \"eternal belt buckle\", 14, 14, 107.642357, 107.642357, 122.9998, 122.9996, 122.9995, 79.9994, 122.9996, 122.9995, 79.9994, 79.9994, 61.1192, 59.9998, 42.6962, 26.5999, 61.4, 270, 425, 1.87, -99.99], [37663, \"titansteel bar\", 29, 49, 1139.859759, 231.284214, 2573.994, 150.0, 150.0, 143.0, 2573.994, 150.0, 143.0, 119.9988, 133.5981, 137.1537, 115.6565, 105.4451, 78.3, 517, 611, -2.59, -99.99], [45085, \"titansteel spellblade\", 3, 3, 1299.9997, 1299.9997, 1300.0, 1300.0, 1299.9996, 1299.9995, 1300.0, 1299.9996, 1299.9995, 1299.9995, 1320.8677, 1659.9999, 1187.9995, 924.8724, 28.1, 14, 46, -20.43, -99.99], [4338, \"mageweave cloth\", 104, 1797, 16.567783, 14.746809, 24.707, 19.998, 17.0, 8.7968, 19.998, 19.998, 14.0, 0.0, 0.8134, 0.6276, 0.4919, 0.4094, 63.9, 10282, 14293, 29.6, -100.0], [2835, \"rough stone\", 92, 1757, 8.262426, 7.960749, 15.0, 15.0, 4.75, 0.998, 15.0, 4.75, 1.0, 0.1026, 0.0191, 0.0479, 0.0096, 0.0178, 56.6, 6917, 10463, -60.13, -99.95], [2840, \"copper bar\", 24, 179, 7.016591, 3.081521, 15.0, 5.99, 0.3099, 0.3099, 15.0, 5.99, 0.3099, 0.0, 0.633, 0.4993, 0.4926, 0.6496, 59.1, 7252, 12091, 26.78, -100.0], [2836, \"coarse stone\", 24, 304, 1.870491, 1.321483, 8.0, 1.0101, 0.3669, 0.0338, 1.5, 0.4999, 0.0464, 0.0, 0.1379, 0.1358, 0.0854, 0.1435, 68.0, 4672, 6566, 1.55, -100.0], [2589, \"linen cloth\", 213, 3996, 12.018521, 11.302246, 15.158, 15.158, 15.158, 8.99, 15.158, 15.158, 8.99, 0.0427, 0.1061, 0.0485, 0.0234, 0.0635, 67.6, 16363, 20209, 118.76, -100.0], [2841, \"bronze bar\", 16, 204, 23.336975, 20.030362, 34.996, 30.0, 17.5, 17.499, 34.996, 17.5, 17.5, 3.0, 1.6718, 1.1499, 1.1198, 1.2712, 59.5, 4924, 8071, 45.39, -99.98], [2838, \"heavy stone\", 5, 66, 9.472689, 7.1919, 10.0, 10.0, 9.98, 4.9995, 10.0, 9.98, 9.98, 1.0, 0.577, 0.4904, 0.3636, 0.3455, 57.3, 3833, 6623, 17.66, -99.98], [1206, \"moss agate\", 25, 39, 12.785336, 9.717128, 40.0, 12.0, 8.9997, 3.3999, 18.0, 8.9999, 3.3999, 2.0, 12.2328, 14.9997, 9.9999, 9.5136, 60.6, 351, 540, -18.45, -100.0], [2592, \"wool cloth\", 64, 1042, 10.087571, 8.5767, 26.0, 8.998, 7.998, 2.7992, 15.0, 8.0, 7.394, 0.1476, 0.3933, 0.25, 0.4202, 0.5511, 80.3, 13346, 15578, 57.32, -100.0], [2319, \"medium leather\", 5, 51, 7.032816, 4.6364, 8.192, 8.192, 5.0, 1.1988, 8.192, 8.192, 5.0, 0.5992, 0.4552, 0.3226, 0.2744, 0.5008, 61.1, 4265, 6929, 41.1, -99.99], [3859, \"steel bar\", 1, 20, 32.3, 32.3, 32.3, 32.3, 32.3, 32.3, 32.3, 32.3, 32.3, 32.3, 1.9001, 2.0613, 1.25, 0.9334, 41.6, 1450, 3465, -7.82, -99.83], [7912, \"solid stone\", 56, 974, 14.3285, 12.730093, 50.0, 21.0766, 9.9979, 5.98, 24.796, 10.0, 6.0, 0.4997, 0.2185, 0.1822, 0.1165, 0.115, 57.2, 8637, 14125, 19.92, -99.98], [3860, \"mithril bar\", 309, 5538, 96.421139, 87.070374, 131.0, 129.0, 79.6, 79.1999, 130.4, 90.4, 79.1999, 0.6666, 3.1121, 3.9011, 2.9563, 2.6591, 70.6, 6552, 3742, -20.23, -100.0], [4338, \"mageweave cloth\", 104, 1797, 16.567783, 14.746809, 24.707, 19.998, 17.0, 8.7968, 19.998, 19.998, 14.0, 0.0, 0.8134, 0.6276, 0.4919, 0.4094, 63.9, 10282, 14293, 29.6, -100.0], [12365, \"dense stone\", 103, 1890, 1.677199, 1.570277, 30.0, 2.932, 0.812, 0.808, 2.932, 0.812, 0.808, 0.1206, 0.1389, 0.0499, 0.0526, 0.0808, 59.4, 7817, 11269, 178.36, -99.99], [12359, \"thorium bar\", 105, 1744, 19.747782, 16.60656, 19.998, 19.998, 19.996, 19.994, 19.998, 19.998, 19.994, 0.999, 1.1067, 1.3347, 1.0778, 0.8531, 70.5, 7177, 8436, -17.08, -99.99], [14047, \"runecloth\", 241, 4704, 23.953773, 23.423517, 50.0, 29.998, 29.998, 5.0, 29.998, 29.998, 6.0, 1.187, 0.4156, 0.3004, 0.185, 0.144, 84.0, 31979, 33366, 38.35, -99.97], [23445, \"fel iron bar\", 94, 1040, 72.165866, 43.478067, 98.996, 79.6, 54.7131, 3.9799, 83.0, 79.6, 65.0, 2.0, 4.7186, 3.7991, 3.589, 4.396, 71.5, 4176, 4800, 24.2, -100.0], [22573, \"mote of earth\", 38, 184, 1.713011, 1.089742, 3.608, 2.0, 0.6, 0.3363, 2.0, 2.0, 0.9825, 0.1974, 0.248, 0.268, 0.2768, 0.281, 48.2, 1109, 2116, -7.46, -99.99], [22574, \"mote of fire\", 24, 110, 3.212616, 1.970396, 4.35, 4.191, 2.094, 0.4192, 4.35, 4.188, 2.0945, 0.4192, 0.9756, 0.9989, 1.1241, 1.3758, 55.3, 1156, 1980, -2.33, -100.0], [21877, \"netherweave cloth\", 116, 1990, 7.619952, 6.690843, 10.0, 10.0, 6.0, 4.0, 10.0, 10.0, 4.5, 0.199, 0.2865, 0.226, 0.1835, 0.1505, 83.8, 26104, 29160, 26.77, -99.99], [23446, \"adamantite bar\", 35, 469, 40.886139, 31.134494, 60.99, 53.1962, 35.0, 6.0, 53.818, 35.9999, 35.0, 1.0, 3.4756, 2.924, 2.5933, 2.4424, 62.1, 3108, 4535, 18.86, -100.0], [36916, \"cobalt bar\", 61, 613, 20.212685, 20.196785, 24.1152, 20.098, 20.098, 20.098, 20.098, 20.098, 20.098, 20.098, 1.8645, 1.5992, 1.4364, 1.2193, 74.6, 17613, 22996, 16.59, -99.89], [33470, \"frostweave cloth\", 83, 828, 35.878559, 18.473096, 113.338, 11.87, 4.0579, 0.494, 113.338, 11.862, 10.0, 0.2027, 0.5305, 0.4975, 0.4196, 0.3509, 86.5, 43951, 49982, 6.63, -100.0], [37705, \"crystallized water\", 171, 690, 10.418841, 4.886513, 19.398, 9.089, 0.9296, 0.9283, 19.398, 9.089, 5.4528, 0.8633, 0.8176, 0.749, 0.5308, 0.3357, 70.9, 3481, 4219, 9.16, -99.99], [37701, \"crystallized earth\", 50, 157, 14.439511, 7.435112, 28.679, 8.6034, 5.7358, 0.9992, 28.676, 8.9892, 5.7358, 0.9989, 0.8, 0.9982, 0.7402, 0.6916, 66.2, 1857, 2648, -19.86, -99.99], [37702, \"crystallized fire\", 28, 217, 25.757349, 22.211811, 33.333, 33.333, 23.665, 9.8392, 33.333, 33.333, 16.5648, 4.9198, 2.6751, 2.9995, 2.2222, 1.6344, 55.6, 979, 1543, -10.82, -99.98], [33568, \"borean leather\", 218, 3947, 7.824331, 7.251904, 9.0, 7.7979, 7.7979, 7.7979, 7.7979, 7.7979, 7.7979, 0.0, 0.3722, 0.3911, 0.4319, 0.4489, 81.1, 21674, 22778, -4.83, -100.0], [35627, \"eternal shadow\", 145, 707, 29.738642, 16.962498, 57.988, 25.0, 14.4975, 4.9996, 55.0, 23.6648, 14.4975, 2.4999, 4.3115, 3.7499, 2.8927, 1.6851, 65.2, 5180, 7237, 14.98, -99.99], [36913, \"saronite bar\", 155, 2241, 61.617449, 48.132362, 100.0, 68.0, 53.758, 13.438, 70.0, 66.998, 49.596, 2.4799, 2.5478, 1.8798, 1.6996, 1.643, 70.7, 15413, 19559, 35.54, -99.99]];\n",
       "\n",
       "    // Define the dt_args\n",
       "    let dt_args = {\"order\": []};\n",
       "    dt_args[\"data\"] = data;\n",
       "\n",
       "    $(document).ready(function () {\n",
       "        \n",
       "        $('#40b4a7bb-773b-4d3a-ae6c-2db9fecdbd1d').DataTable(dt_args);\n",
       "    });\n",
       "</script>\n",
       "</div>\n"
      ],
      "text/plain": [
       "<IPython.core.display.HTML object>"
      ]
     },
     "metadata": {},
     "output_type": "display_data"
    }
   ],
   "source": [
    "ii = item_infos(_names)\n",
    "show(ii)"
   ]
  },
  {
   "cell_type": "code",
   "execution_count": 14,
   "id": "5a434cc5-330b-46ac-8ac3-4d615fdd0819",
   "metadata": {},
   "outputs": [
    {
     "data": {
      "text/plain": [
       "[[Craft(item=earthsiege diamond, ingredients=eternal fire + huge citrine + dark jade),\n",
       "  AHBuyNow(item=eternal fire, gold=22.0),\n",
       "  AHBuyNow(item=dark jade, gold=0.9985),\n",
       "  AHBuyMarket(item=huge citrine, gold=1.6232)],\n",
       " [Craft(item=earthsiege diamond, ingredients=eternal fire + huge citrine + dark jade),\n",
       "  Craft(item=eternal fire, ingredients=10.0*crystallized fire),\n",
       "  Craft(item=10.0*crystallized fire, ingredients=eternal fire),\n",
       "  AHBuyNow(item=eternal fire, gold=22.0),\n",
       "  AHBuyNow(item=dark jade, gold=0.9985),\n",
       "  AHBuyMarket(item=huge citrine, gold=1.6232)],\n",
       " [Craft(item=earthsiege diamond, ingredients=eternal fire + huge citrine + dark jade),\n",
       "  AHBuyNow(item=eternal fire, gold=22.0),\n",
       "  AHBuyNow(item=dark jade, gold=0.9985),\n",
       "  AHBuyNow(item=huge citrine, gold=1.6539)],\n",
       " [Craft(item=earthsiege diamond, ingredients=eternal fire + huge citrine + dark jade),\n",
       "  Craft(item=eternal fire, ingredients=10.0*crystallized fire),\n",
       "  Craft(item=10.0*crystallized fire, ingredients=eternal fire),\n",
       "  AHBuyNow(item=eternal fire, gold=22.0),\n",
       "  AHBuyNow(item=dark jade, gold=0.9985),\n",
       "  AHBuyNow(item=huge citrine, gold=1.6539)]]"
      ]
     },
     "execution_count": 14,
     "metadata": {},
     "output_type": "execute_result"
    }
   ],
   "source": [
    "topk_procurements(pp, i(\"earthsiege diamond\"))"
   ]
  },
  {
   "cell_type": "code",
   "execution_count": 15,
   "id": "38b851b4-16a7-45df-9698-48d3e679efa5",
   "metadata": {},
   "outputs": [
    {
     "data": {
      "text/plain": [
       "[[Craft(item=spellweave robe, ingredients=8.0*spellweave + eternium thread + 6.0*bolt of imbued frostweave + frozen orb),\n",
       "  AHBuyNow(item=frozen orb, gold=63.75),\n",
       "  Craft(item=8.0*spellweave, ingredients=16.0*eternal fire + 8.0*bolt of imbued frostweave),\n",
       "  AHBuyNow(item=16.0*eternal fire, gold=352.0),\n",
       "  Craft(item=14.0*bolt of imbued frostweave, ingredients=28.0*bolt of frostweave + 28.0*infinite dust),\n",
       "  Craft(item=28.0*bolt of frostweave, ingredients=140.0*frostweave cloth),\n",
       "  AHBuyNow(item=140.0*frostweave cloth, gold=28.378),\n",
       "  AHBuyNow(item=28.0*infinite dust, gold=39.199999999999996),\n",
       "  AHBuyNow(item=eternium thread, gold=3.0)],\n",
       " [Craft(item=spellweave robe, ingredients=8.0*spellweave + eternium thread + 6.0*bolt of imbued frostweave + frozen orb),\n",
       "  AHBuyNow(item=frozen orb, gold=63.75),\n",
       "  Craft(item=8.0*spellweave, ingredients=16.0*eternal fire + 8.0*bolt of imbued frostweave),\n",
       "  Craft(item=16.0*eternal fire, ingredients=160.0*crystallized fire),\n",
       "  Craft(item=160.0*crystallized fire, ingredients=16.0*eternal fire),\n",
       "  AHBuyNow(item=16.0*eternal fire, gold=352.0),\n",
       "  Craft(item=14.0*bolt of imbued frostweave, ingredients=28.0*bolt of frostweave + 28.0*infinite dust),\n",
       "  Craft(item=28.0*bolt of frostweave, ingredients=140.0*frostweave cloth),\n",
       "  AHBuyNow(item=140.0*frostweave cloth, gold=28.378),\n",
       "  AHBuyNow(item=28.0*infinite dust, gold=39.199999999999996),\n",
       "  AHBuyNow(item=eternium thread, gold=3.0)],\n",
       " [Craft(item=spellweave robe, ingredients=8.0*spellweave + eternium thread + 6.0*bolt of imbued frostweave + frozen orb),\n",
       "  AHBuyNow(item=frozen orb, gold=63.75),\n",
       "  Craft(item=8.0*spellweave, ingredients=16.0*eternal fire + 8.0*bolt of imbued frostweave),\n",
       "  AHBuyNow(item=16.0*eternal fire, gold=352.0),\n",
       "  Craft(item=14.0*bolt of imbued frostweave, ingredients=28.0*bolt of frostweave + 28.0*infinite dust),\n",
       "  Craft(item=28.0*bolt of frostweave, ingredients=140.0*frostweave cloth),\n",
       "  AHBuyNow(item=140.0*frostweave cloth, gold=28.378),\n",
       "  AHBuyNow(item=28.0*infinite dust, gold=39.199999999999996),\n",
       "  AHBuyMarket(item=eternium thread, gold=3.4998)],\n",
       " [Craft(item=spellweave robe, ingredients=8.0*spellweave + eternium thread + 6.0*bolt of imbued frostweave + frozen orb),\n",
       "  AHBuyNow(item=frozen orb, gold=63.75),\n",
       "  Craft(item=8.0*spellweave, ingredients=16.0*eternal fire + 8.0*bolt of imbued frostweave),\n",
       "  Craft(item=16.0*eternal fire, ingredients=160.0*crystallized fire),\n",
       "  Craft(item=160.0*crystallized fire, ingredients=16.0*eternal fire),\n",
       "  AHBuyNow(item=16.0*eternal fire, gold=352.0),\n",
       "  Craft(item=14.0*bolt of imbued frostweave, ingredients=28.0*bolt of frostweave + 28.0*infinite dust),\n",
       "  Craft(item=28.0*bolt of frostweave, ingredients=140.0*frostweave cloth),\n",
       "  AHBuyNow(item=140.0*frostweave cloth, gold=28.378),\n",
       "  AHBuyNow(item=28.0*infinite dust, gold=39.199999999999996),\n",
       "  AHBuyMarket(item=eternium thread, gold=3.4998)]]"
      ]
     },
     "execution_count": 15,
     "metadata": {},
     "output_type": "execute_result"
    }
   ],
   "source": [
    "topk_procurements(pp, i(\"spellweave robe\"))"
   ]
  },
  {
   "cell_type": "code",
   "execution_count": 16,
   "id": "a5a95fd0-6122-4454-9e76-68b4d5f4a0ca",
   "metadata": {},
   "outputs": [
    {
     "data": {
      "text/plain": [
       "[[Craft(item=skyflare diamond, ingredients=bloodstone + chalcedony + eternal air),\n",
       "  Craft(item=eternal air, ingredients=10.0*crystallized air),\n",
       "  AHBuyNow(item=10.0*crystallized air, gold=5.313),\n",
       "  AHBuyNow(item=chalcedony, gold=1.5809),\n",
       "  AHBuyMarket(item=bloodstone, gold=1.5821)],\n",
       " [Craft(item=skyflare diamond, ingredients=bloodstone + chalcedony + eternal air),\n",
       "  Craft(item=eternal air, ingredients=10.0*crystallized air),\n",
       "  AHBuyNow(item=10.0*crystallized air, gold=5.313),\n",
       "  AHBuyMarket(item=chalcedony, gold=1.5957),\n",
       "  AHBuyMarket(item=bloodstone, gold=1.5821)],\n",
       " [Craft(item=skyflare diamond, ingredients=bloodstone + chalcedony + eternal air),\n",
       "  Craft(item=eternal air, ingredients=10.0*crystallized air),\n",
       "  AHBuyNow(item=10.0*crystallized air, gold=5.313),\n",
       "  AHBuyNow(item=chalcedony, gold=1.5809),\n",
       "  AHBuyNow(item=bloodstone, gold=1.7197)],\n",
       " [Craft(item=skyflare diamond, ingredients=bloodstone + chalcedony + eternal air),\n",
       "  Craft(item=eternal air, ingredients=10.0*crystallized air),\n",
       "  AHBuyNow(item=10.0*crystallized air, gold=5.313),\n",
       "  AHBuyMarket(item=chalcedony, gold=1.5957),\n",
       "  AHBuyNow(item=bloodstone, gold=1.7197)]]"
      ]
     },
     "execution_count": 16,
     "metadata": {},
     "output_type": "execute_result"
    }
   ],
   "source": [
    "topk_procurements(pp, i(\"skyflare diamond\"))"
   ]
  },
  {
   "cell_type": "code",
   "execution_count": 17,
   "id": "57f00719-507e-4139-95e2-1b6c132c6fe8",
   "metadata": {},
   "outputs": [
    {
     "data": {
      "text/plain": [
       "[[Craft(item=eternal air, ingredients=10.0*crystallized air),\n",
       "  AHBuyNow(item=10.0*crystallized air, gold=5.313)],\n",
       " [AHBuyNow(item=eternal air, gold=6.1595)],\n",
       " [Craft(item=eternal air, ingredients=10.0*crystallized air),\n",
       "  Craft(item=10.0*crystallized air, ingredients=eternal air),\n",
       "  AHBuyNow(item=eternal air, gold=6.1595)],\n",
       " [Craft(item=eternal air, ingredients=10.0*crystallized air),\n",
       "  AHBuyMarket(item=10.0*crystallized air, gold=6.822)]]"
      ]
     },
     "execution_count": 17,
     "metadata": {},
     "output_type": "execute_result"
    }
   ],
   "source": [
    "topk_procurements(pp, i(\"eternal air\"))"
   ]
  },
  {
   "cell_type": "code",
   "execution_count": 18,
   "id": "bf2b9f9b-3ae7-4f01-bd1f-baedd66ffe3d",
   "metadata": {},
   "outputs": [
    {
     "data": {
      "text/plain": [
       "[[AHBuyMarket(item=noise machine, gold=27.1009)],\n",
       " [AHBuyNow(item=noise machine, gold=29.7997)],\n",
       " [Craft(item=noise machine, ingredients=8.0*handful of cobalt bolts + 2.0*overcharged capacitor + 2.0*froststeel tube),\n",
       "  AHBuyNow(item=8.0*handful of cobalt bolts, gold=11.9968),\n",
       "  Craft(item=2.0*overcharged capacitor, ingredients=2.0*crystallized earth + 8.0*cobalt bar),\n",
       "  AHBuyMarket(item=2.0*crystallized earth, gold=1.6),\n",
       "  Craft(item=24.0*cobalt bar, ingredients=24.0*cobalt ore),\n",
       "  AHBuyNow(item=24.0*cobalt ore, gold=24.0),\n",
       "  Craft(item=2.0*froststeel tube, ingredients=2.0*crystallized water + 16.0*cobalt bar),\n",
       "  Craft(item=2.0*crystallized water, ingredients=0.2*eternal water),\n",
       "  AHBuyNow(item=0.2*eternal water, gold=0.28196)],\n",
       " [Craft(item=noise machine, ingredients=8.0*handful of cobalt bolts + 2.0*overcharged capacitor + 2.0*froststeel tube),\n",
       "  AHBuyNow(item=8.0*handful of cobalt bolts, gold=11.9968),\n",
       "  Craft(item=2.0*overcharged capacitor, ingredients=2.0*crystallized earth + 8.0*cobalt bar),\n",
       "  AHBuyMarket(item=2.0*crystallized earth, gold=1.6),\n",
       "  Craft(item=24.0*cobalt bar, ingredients=24.0*cobalt ore),\n",
       "  AHBuyNow(item=24.0*cobalt ore, gold=24.0),\n",
       "  Craft(item=2.0*froststeel tube, ingredients=2.0*crystallized water + 16.0*cobalt bar),\n",
       "  Craft(item=2.0*crystallized water, ingredients=0.2*eternal water),\n",
       "  AHBuyMarket(item=0.2*eternal water, gold=0.6280800000000001)]]"
      ]
     },
     "execution_count": 18,
     "metadata": {},
     "output_type": "execute_result"
    }
   ],
   "source": [
    "topk_procurements(pp, i(\"noise machine\"))"
   ]
  },
  {
   "cell_type": "code",
   "execution_count": 30,
   "id": "ce6e845a-52b9-4ab4-b552-6ae35b67a46c",
   "metadata": {},
   "outputs": [
    {
     "data": {
      "text/plain": [
       "[[Craft(item=mechanized snow goggles, ingredients=8.0*saronite bar + 2.0*borean leather + eternal shadow),\n",
       "  Craft(item=8.0*saronite bar, ingredients=16.0*saronite ore),\n",
       "  AHBuyNow(item=16.0*saronite ore, gold=8.0),\n",
       "  AHBuyNow(item=2.0*borean leather, gold=0.0),\n",
       "  AHBuyNow(item=eternal shadow, gold=2.4999)],\n",
       " [Craft(item=mechanized snow goggles, ingredients=8.0*saronite bar + 2.0*borean leather + eternal shadow),\n",
       "  Craft(item=8.0*saronite bar, ingredients=16.0*saronite ore),\n",
       "  AHBuyNow(item=16.0*saronite ore, gold=8.0),\n",
       "  AHBuyNow(item=2.0*borean leather, gold=0.0),\n",
       "  Craft(item=eternal shadow, ingredients=10.0*crystallized shadow),\n",
       "  Craft(item=10.0*crystallized shadow, ingredients=eternal shadow),\n",
       "  AHBuyNow(item=eternal shadow, gold=2.4999)],\n",
       " [Craft(item=mechanized snow goggles, ingredients=8.0*saronite bar + 2.0*borean leather + eternal shadow),\n",
       "  Craft(item=8.0*saronite bar, ingredients=16.0*saronite ore),\n",
       "  AHBuyNow(item=16.0*saronite ore, gold=8.0),\n",
       "  AHBuyNow(item=2.0*borean leather, gold=0.0),\n",
       "  AHBuyNow(item=eternal shadow, gold=2.4999)],\n",
       " [Craft(item=mechanized snow goggles, ingredients=8.0*saronite bar + 2.0*borean leather + eternal shadow),\n",
       "  Craft(item=8.0*saronite bar, ingredients=16.0*saronite ore),\n",
       "  AHBuyNow(item=16.0*saronite ore, gold=8.0),\n",
       "  AHBuyNow(item=2.0*borean leather, gold=0.0),\n",
       "  Craft(item=eternal shadow, ingredients=10.0*crystallized shadow),\n",
       "  Craft(item=10.0*crystallized shadow, ingredients=eternal shadow),\n",
       "  AHBuyNow(item=eternal shadow, gold=2.4999)]]"
      ]
     },
     "execution_count": 30,
     "metadata": {},
     "output_type": "execute_result"
    }
   ],
   "source": [
    "topk_procurements(pp, i(\"mechanized snow goggles\"))"
   ]
  },
  {
   "cell_type": "code",
   "execution_count": 38,
   "id": "ddd8fc5b-7411-41ec-8a82-25dda7c7075b",
   "metadata": {},
   "outputs": [],
   "source": [
    "earthsiege = topk_procurements(pp, i(\"earthsiege diamond\"), k=10)\n",
    "skyflare = topk_procurements(pp, i(\"skyflare diamond\"), k=10)"
   ]
  },
  {
   "cell_type": "code",
   "execution_count": 53,
   "id": "6e18ab4d-b3bc-44fc-b949-3d6fc7a16b45",
   "metadata": {},
   "outputs": [
    {
     "data": {
      "text/plain": [
       "300.353"
      ]
     },
     "execution_count": 53,
     "metadata": {},
     "output_type": "execute_result"
    }
   ],
   "source": [
    "buy_market(i(\"10 skyflare diamond\"))"
   ]
  },
  {
   "cell_type": "code",
   "execution_count": 51,
   "id": "6280b238-d63f-4985-83ea-480365966354",
   "metadata": {},
   "outputs": [
    {
     "data": {
      "text/plain": [
       "[(84.76,\n",
       "  [Craft(item=10*skyflare diamond, ingredients=10.0*bloodstone + 10.0*chalcedony + 10.0*eternal air),\n",
       "   Craft(item=10.0*eternal air, ingredients=100.0*crystallized air),\n",
       "   AHBuyNow(item=100.0*crystallized air, gold=53.13),\n",
       "   AHBuyNow(item=10.0*chalcedony, gold=15.809),\n",
       "   AHBuyMarket(item=10.0*bloodstone, gold=15.821000000000002)]),\n",
       " (84.908,\n",
       "  [Craft(item=10*skyflare diamond, ingredients=10.0*bloodstone + 10.0*chalcedony + 10.0*eternal air),\n",
       "   Craft(item=10.0*eternal air, ingredients=100.0*crystallized air),\n",
       "   AHBuyNow(item=100.0*crystallized air, gold=53.13),\n",
       "   AHBuyMarket(item=10.0*chalcedony, gold=15.956999999999999),\n",
       "   AHBuyMarket(item=10.0*bloodstone, gold=15.821000000000002)]),\n",
       " (86.13600000000001,\n",
       "  [Craft(item=10*skyflare diamond, ingredients=10.0*bloodstone + 10.0*chalcedony + 10.0*eternal air),\n",
       "   Craft(item=10.0*eternal air, ingredients=100.0*crystallized air),\n",
       "   AHBuyNow(item=100.0*crystallized air, gold=53.13),\n",
       "   AHBuyNow(item=10.0*chalcedony, gold=15.809),\n",
       "   AHBuyNow(item=10.0*bloodstone, gold=17.197)]),\n",
       " (86.284,\n",
       "  [Craft(item=10*skyflare diamond, ingredients=10.0*bloodstone + 10.0*chalcedony + 10.0*eternal air),\n",
       "   Craft(item=10.0*eternal air, ingredients=100.0*crystallized air),\n",
       "   AHBuyNow(item=100.0*crystallized air, gold=53.13),\n",
       "   AHBuyMarket(item=10.0*chalcedony, gold=15.956999999999999),\n",
       "   AHBuyNow(item=10.0*bloodstone, gold=17.197)])]"
      ]
     },
     "execution_count": 51,
     "metadata": {},
     "output_type": "execute_result"
    }
   ],
   "source": [
    "transmute_sales = topk_procurements(pp, i(\"10 skyflare diamond\"))\n",
    "[(procurement._cost(t), t) for t in transmute_sales]"
   ]
  },
  {
   "cell_type": "code",
   "execution_count": 43,
   "id": "2431683d-27e4-413d-a187-f686c76583cb",
   "metadata": {},
   "outputs": [
    {
     "data": {
      "text/plain": [
       "21.5593"
      ]
     },
     "execution_count": 43,
     "metadata": {},
     "output_type": "execute_result"
    }
   ],
   "source": [
    "buy_market(i(\"skyflare diamond\")) - procurement._cost(skyflare[0])"
   ]
  },
  {
   "cell_type": "code",
   "execution_count": 44,
   "id": "dcc0f02a-54a2-4ef4-ab8c-cc9bbebb59c0",
   "metadata": {},
   "outputs": [
    {
     "data": {
      "text/plain": [
       "27.943299999999997"
      ]
     },
     "execution_count": 44,
     "metadata": {},
     "output_type": "execute_result"
    }
   ],
   "source": [
    "buy_market(i(\"earthsiege diamond\")) - procurement._cost(earthsiege[0])"
   ]
  },
  {
   "cell_type": "code",
   "execution_count": 41,
   "id": "661d2f0a-e2bc-4f18-b895-08d3673c57e6",
   "metadata": {},
   "outputs": [
    {
     "data": {
      "text/plain": [
       "30.0353"
      ]
     },
     "execution_count": 41,
     "metadata": {},
     "output_type": "execute_result"
    }
   ],
   "source": [
    "buy_market(i(\"skyflare diamond\"))"
   ]
  },
  {
   "cell_type": "code",
   "execution_count": 42,
   "id": "b3bf743d-88d2-40a6-8715-af76c0bcb185",
   "metadata": {},
   "outputs": [
    {
     "data": {
      "text/plain": [
       "52.565"
      ]
     },
     "execution_count": 42,
     "metadata": {},
     "output_type": "execute_result"
    }
   ],
   "source": [
    "buy_market(i(\"earthsiege diamond\"))"
   ]
  },
  {
   "cell_type": "code",
   "execution_count": null,
   "id": "6d14bfbe-62d9-4c47-ad9b-eadadac94608",
   "metadata": {},
   "outputs": [],
   "source": []
  }
 ],
 "metadata": {
  "kernelspec": {
   "display_name": "Python 3",
   "language": "python",
   "name": "python3"
  },
  "language_info": {
   "codemirror_mode": {
    "name": "ipython",
    "version": 3
   },
   "file_extension": ".py",
   "mimetype": "text/x-python",
   "name": "python",
   "nbconvert_exporter": "python",
   "pygments_lexer": "ipython3",
   "version": "3.8.8"
  }
 },
 "nbformat": 4,
 "nbformat_minor": 5
}
