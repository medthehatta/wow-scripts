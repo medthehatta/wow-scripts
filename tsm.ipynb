{
 "cells": [
  {
   "cell_type": "code",
   "execution_count": 11,
   "id": "1d210c4d-bf48-4ec4-8c35-7ac9f0628b71",
   "metadata": {},
   "outputs": [
    {
     "data": {
      "text/plain": [
       "<module 'crafting' from 'C:\\\\Users\\\\Med\\\\Desktop\\\\wow\\\\crafting.py'>"
      ]
     },
     "execution_count": 11,
     "metadata": {},
     "output_type": "execute_result"
    }
   ],
   "source": [
    "from importlib import reload\n",
    "import tsm; reload(tsm)\n",
    "import _keys; reload(_keys)\n",
    "import blizzard; reload(blizzard)\n",
    "import config; reload(config)\n",
    "import kvstore; reload(kvstore)\n",
    "import snapshot; reload(snapshot)\n",
    "import elemental_arbitrage; reload(elemental_arbitrage)\n",
    "import bliz_tsm_join; reload(bliz_tsm_join)\n",
    "import crafting; reload(crafting)"
   ]
  },
  {
   "cell_type": "code",
   "execution_count": 12,
   "id": "51f1c1c4-c910-4c41-80f0-35987a1e4f01",
   "metadata": {},
   "outputs": [],
   "source": [
    "from snapshot import SnapshotProcessor\n",
    "from tsm import auction_house_snapshot\n",
    "from config import tsm_region_id\n",
    "from config import tsm_realm_id\n",
    "from config import tsm_ah_id\n",
    "from config import tsm_cache_dir\n",
    "\n",
    "def tsm_ah_snapper():\n",
    "    return auction_house_snapshot(tsm_region_id, tsm_realm_id, tsm_ah_id)\n",
    "\n",
    "tsm_ah_snap = SnapshotProcessor(tsm_ah_snapper, cache_dir=tsm_cache_dir)\n",
    "tsm_ah = tsm_ah_snap.get(max_age_seconds=3000)"
   ]
  },
  {
   "cell_type": "code",
   "execution_count": 13,
   "id": "3a780b13-30a3-4f1e-8e33-9a03b0165f2c",
   "metadata": {},
   "outputs": [],
   "source": [
    "from snapshot import SnapshotProcessor\n",
    "from blizzard import auction_data\n",
    "from blizzard import auction_summary\n",
    "from config import blizzard_realm_id\n",
    "from config import blizzard_ah_id\n",
    "from config import blizzard_cache_dir\n",
    "\n",
    "def bliz_ah_snapper():\n",
    "    return auction_data(blizzard_realm_id, blizzard_ah_id)\n",
    "\n",
    "bliz_ah_snap = SnapshotProcessor(bliz_ah_snapper, cache_dir=blizzard_cache_dir)\n",
    "bliz_ah = bliz_ah_snap.get(max_age_seconds=3000)"
   ]
  },
  {
   "cell_type": "code",
   "execution_count": 14,
   "id": "b5d2b47b-0b5f-4a80-9a7e-438f254c7c6f",
   "metadata": {},
   "outputs": [],
   "source": [
    "from kvstore import InefficientKVStore\n",
    "from blizzard import ItemLookup\n",
    "from config import blizzard_item_cache\n",
    "from config import blizzard_item_reverse_cache\n",
    "\n",
    "items = ItemLookup(\n",
    "    InefficientKVStore(blizzard_item_cache),\n",
    "    InefficientKVStore(blizzard_item_reverse_cache),\n",
    ")"
   ]
  },
  {
   "cell_type": "code",
   "execution_count": 15,
   "id": "0ac0b9a9-1a5d-4784-a2b0-42cdf5787ab7",
   "metadata": {},
   "outputs": [],
   "source": [
    "from bliz_tsm_join import item_info_getter\n",
    "item_info = item_info_getter(items, bliz_ah_snap, tsm_ah_snap, max_age_seconds=3000)\n",
    "item_info_current = item_info_getter(items, bliz_ah_snap, tsm_ah_snap, max_age_seconds=0)"
   ]
  },
  {
   "cell_type": "code",
   "execution_count": 55,
   "id": "50f74518-044e-44f0-895d-5dfd1c44532f",
   "metadata": {},
   "outputs": [
    {
     "data": {
      "text/plain": [
       "{'id': 41599,\n",
       " 'name': 'frostweave bag',\n",
       " 'num_auctions': 135,\n",
       " 'quantity': 135,\n",
       " 'weight_sell': {'gold': 72.91, 'copper': 729126.911111111},\n",
       " 'avg_sell': {'gold': 72.91, 'copper': 729126.911111111},\n",
       " 'max': {'gold': 74.0, 'copper': 740000},\n",
       " 'p80': {'gold': 73.99, 'copper': 739900},\n",
       " 'p50': {'gold': 73.9, 'copper': 738999},\n",
       " 'p20': {'gold': 71.49, 'copper': 714899},\n",
       " 'wp80': {'gold': 73.99, 'copper': 739900},\n",
       " 'wp50': {'gold': 73.9, 'copper': 738999},\n",
       " 'wp20': {'gold': 71.49, 'copper': 714899},\n",
       " 'min': {'gold': 71.49, 'copper': 714894},\n",
       " 'realm_market_value': {'gold': 62.72, 'copper': 627215},\n",
       " 'realm_historical': {'gold': 86.95, 'copper': 869500},\n",
       " 'region_historical': {'gold': 64.85, 'copper': 648478},\n",
       " 'region_avg_sale_price': {'gold': 53.6, 'copper': 536049},\n",
       " 'sale_pct': 77,\n",
       " 'sold_per_day': 46,\n",
       " 'headroom': -75,\n",
       " 'market_skew_pct': -27.86,\n",
       " 'auction_skew_pct': 13.98}"
      ]
     },
     "execution_count": 55,
     "metadata": {},
     "output_type": "execute_result"
    }
   ],
   "source": [
    "item_info(\"frostweave bag\")"
   ]
  },
  {
   "cell_type": "code",
   "execution_count": 37,
   "id": "d4b1f7fa-633e-4051-a111-e8b067953a85",
   "metadata": {},
   "outputs": [
    {
     "data": {
      "text/plain": [
       "{'id': 35623,\n",
       " 'name': 'eternal air',\n",
       " 'num_auctions': 50,\n",
       " 'quantity': 93,\n",
       " 'weight_sell': {'gold': 113.45, 'copper': 1134524.9462365592},\n",
       " 'avg_sell': {'gold': 82.95, 'copper': 829547.52},\n",
       " 'max': {'gold': 3110.14, 'copper': 31101411},\n",
       " 'p80': {'gold': 19.0, 'copper': 190000},\n",
       " 'p50': {'gold': 5.9, 'copper': 59008},\n",
       " 'p20': {'gold': 5.9, 'copper': 59007},\n",
       " 'wp80': {'gold': 129.0, 'copper': 1290000},\n",
       " 'wp50': {'gold': 35.0, 'copper': 350000},\n",
       " 'wp20': {'gold': 5.9, 'copper': 59007},\n",
       " 'min': {'gold': 2.99, 'copper': 29900},\n",
       " 'realm_market_value': {'gold': 2.98, 'copper': 29757},\n",
       " 'realm_historical': {'gold': 6.22, 'copper': 62153},\n",
       " 'region_historical': {'gold': 6.38, 'copper': 63765},\n",
       " 'region_avg_sale_price': {'gold': 5.89, 'copper': 58936},\n",
       " 'sale_pct': 65,\n",
       " 'sold_per_day': 173,\n",
       " 'headroom': 173,\n",
       " 'market_skew_pct': -52.12,\n",
       " 'auction_skew_pct': 0.48}"
      ]
     },
     "execution_count": 37,
     "metadata": {},
     "output_type": "execute_result"
    }
   ],
   "source": [
    "item_info(\"eternal air\")"
   ]
  },
  {
   "cell_type": "code",
   "execution_count": 50,
   "id": "62ca2faa-4119-475f-a709-60518b2d007c",
   "metadata": {
    "tags": []
   },
   "outputs": [
    {
     "data": {
      "text/plain": [
       "{'id': 37663,\n",
       " 'name': 'titansteel bar',\n",
       " 'num_auctions': 28,\n",
       " 'quantity': 48,\n",
       " 'weight_sell': {'gold': 1743.8, 'copper': 17438033.3125},\n",
       " 'avg_sell': {'gold': 267.24, 'copper': 2672437.8214285714},\n",
       " 'max': {'gold': 3999.99, 'copper': 39999860},\n",
       " 'p80': {'gold': 141.0, 'copper': 1409999},\n",
       " 'p50': {'gold': 113.0, 'copper': 1129999},\n",
       " 'p20': {'gold': 112.91, 'copper': 1129087},\n",
       " 'wp80': {'gold': 3999.99, 'copper': 39999860},\n",
       " 'wp50': {'gold': 200.0, 'copper': 1999999},\n",
       " 'wp20': {'gold': 113.0, 'copper': 1129996},\n",
       " 'min': {'gold': 105.55, 'copper': 1055500},\n",
       " 'realm_market_value': {'gold': 121.85, 'copper': 1218505},\n",
       " 'realm_historical': {'gold': 161.15, 'copper': 1611470},\n",
       " 'region_historical': {'gold': 126.33, 'copper': 1263253},\n",
       " 'region_avg_sale_price': {'gold': 132.0, 'copper': 1319974},\n",
       " 'sale_pct': 82,\n",
       " 'sold_per_day': 74,\n",
       " 'headroom': 42,\n",
       " 'market_skew_pct': -24.39,\n",
       " 'auction_skew_pct': -13.38}"
      ]
     },
     "execution_count": 50,
     "metadata": {},
     "output_type": "execute_result"
    }
   ],
   "source": [
    "item_info(\"titansteel bar\")"
   ]
  },
  {
   "cell_type": "code",
   "execution_count": 54,
   "id": "b43cf962-eebc-415f-9859-5c2f54e0c6f7",
   "metadata": {},
   "outputs": [
    {
     "data": {
      "text/plain": [
       "{'id': 45912,\n",
       " 'name': 'book of glyph mastery',\n",
       " 'num_auctions': 6,\n",
       " 'quantity': 7,\n",
       " 'weight_sell': {'gold': 26.78, 'copper': 267796.4285714286},\n",
       " 'avg_sell': {'gold': 24.24, 'copper': 242446.5},\n",
       " 'max': {'gold': 41.99, 'copper': 419896},\n",
       " 'p80': {'gold': 20.99, 'copper': 209947},\n",
       " 'p50': {'gold': 20.99, 'copper': 209946},\n",
       " 'p20': {'gold': 20.99, 'copper': 209945},\n",
       " 'wp80': {'gold': 41.99, 'copper': 419896},\n",
       " 'wp50': {'gold': 20.99, 'copper': 209946},\n",
       " 'wp20': {'gold': 20.99, 'copper': 209945},\n",
       " 'min': {'gold': 19.5, 'copper': 195000},\n",
       " 'realm_market_value': {'gold': 18.24, 'copper': 182372},\n",
       " 'realm_historical': {'gold': 24.62, 'copper': 246248},\n",
       " 'region_historical': {'gold': 15.47, 'copper': 154732},\n",
       " 'region_avg_sale_price': {'gold': 11.73, 'copper': 117319},\n",
       " 'sale_pct': 66,\n",
       " 'sold_per_day': 14,\n",
       " 'headroom': 14,\n",
       " 'market_skew_pct': -25.94,\n",
       " 'auction_skew_pct': 6.92}"
      ]
     },
     "execution_count": 54,
     "metadata": {},
     "output_type": "execute_result"
    }
   ],
   "source": [
    "item_info(\"book of glyph mastery\")"
   ]
  },
  {
   "cell_type": "code",
   "execution_count": 52,
   "id": "83db8dea-7248-4e2c-912a-757af0cea027",
   "metadata": {
    "scrolled": true,
    "tags": []
   },
   "outputs": [
    {
     "name": "stdout",
     "output_type": "stream",
     "text": [
      "SKIP        eternal-life\n",
      "SKIP        eternal-earth\n",
      "SKIP        eternal-air\n",
      "SKIP        eternal-fire\n",
      "SKIP        eternal-water\n",
      "SKIP        eternal-shadow\n",
      "SKIP        primal-life\n",
      "SKIP        primal-earth\n",
      "SKIP        primal-air\n",
      "SKIP        primal-fire\n",
      "SKIP        primal-water\n",
      "SKIP        primal-shadow\n",
      "SKIP        essence-eternal\n",
      "SKIP        essence-cosmic\n",
      "SKIP        essence-nether\n",
      "SKIP        essence-planar\n",
      "SKIP        essence-astral\n",
      "SKIP        essence-magic\n",
      "SKIP        essence-mystic\n"
     ]
    }
   ],
   "source": [
    "from elemental_arbitrage import print_elemental_arbitrage_report\n",
    "\n",
    "print_elemental_arbitrage_report(tsm_ah, items)"
   ]
  },
  {
   "cell_type": "code",
   "execution_count": null,
   "id": "319338f8-d752-4cb5-8c16-c82809ad7515",
   "metadata": {
    "tags": []
   },
   "outputs": [],
   "source": [
    "found_sholazar = {\"adder's\": 3*20+15, \"goldclover\": 2*20+9, \"frost lotus\": 3, \"deadnettle\": 20+3, \"tiger lily\": 2*20+2, \"crystallized life\": 10*5+3}\n",
    "rates_per_minute = {k: v/50 for (k, v) in found_sholazar.items()}\n",
    "rates_per_minute"
   ]
  },
  {
   "cell_type": "code",
   "execution_count": null,
   "id": "80efc956-0d1b-4e77-93e1-0a174297ff6c",
   "metadata": {},
   "outputs": [],
   "source": [
    "process(5*icethorn + frost_lotus + 5*lichbloom + enchanted_vial, 2*flask_frost_wyrm)"
   ]
  },
  {
   "cell_type": "code",
   "execution_count": null,
   "id": "646ea7a7-239e-4256-973e-bb2eaef1dfa3",
   "metadata": {},
   "outputs": [],
   "source": []
  },
  {
   "cell_type": "code",
   "execution_count": null,
   "id": "f0401b60-ff70-438f-9c86-03e6c0caaa5d",
   "metadata": {},
   "outputs": [],
   "source": []
  }
 ],
 "metadata": {
  "kernelspec": {
   "display_name": "Python 3",
   "language": "python",
   "name": "python3"
  },
  "language_info": {
   "codemirror_mode": {
    "name": "ipython",
    "version": 3
   },
   "file_extension": ".py",
   "mimetype": "text/x-python",
   "name": "python",
   "nbconvert_exporter": "python",
   "pygments_lexer": "ipython3",
   "version": "3.8.8"
  }
 },
 "nbformat": 4,
 "nbformat_minor": 5
}
