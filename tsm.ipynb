{
 "cells": [
  {
   "cell_type": "code",
   "execution_count": 1,
   "id": "1d210c4d-bf48-4ec4-8c35-7ac9f0628b71",
   "metadata": {},
   "outputs": [],
   "source": [
    "from importlib import reload\n",
    "def reload_all():\n",
    "    import tsm; reload(tsm)\n",
    "    import _keys; reload(_keys)\n",
    "    import blizzard; reload(blizzard)\n",
    "    import config; reload(config)\n",
    "    import kvstore; reload(kvstore)\n",
    "    import snapshot; reload(snapshot)\n",
    "    import elemental_arbitrage; reload(elemental_arbitrage)\n",
    "    import bliz_tsm_join; reload(bliz_tsm_join)\n",
    "    import crafting; reload(crafting)\n",
    "    import kvstore; reload(kvstore)"
   ]
  },
  {
   "cell_type": "code",
   "execution_count": 18,
   "id": "dd94f1b2-5e47-4217-abec-77b52f9c31aa",
   "metadata": {},
   "outputs": [],
   "source": [
    "reload_all()"
   ]
  },
  {
   "cell_type": "code",
   "execution_count": 19,
   "id": "51f1c1c4-c910-4c41-80f0-35987a1e4f01",
   "metadata": {},
   "outputs": [],
   "source": [
    "from snapshot import SnapshotProcessor\n",
    "from tsm import auction_house_snapshot\n",
    "from config import tsm_region_id\n",
    "from config import tsm_realm_id\n",
    "from config import tsm_ah_id\n",
    "from config import tsm_cache_dir\n",
    "\n",
    "def tsm_ah_snapper():\n",
    "    return auction_house_snapshot(tsm_region_id, tsm_realm_id, tsm_ah_id)\n",
    "\n",
    "tsm_ah_snap = SnapshotProcessor(tsm_ah_snapper, cache_dir=tsm_cache_dir)\n",
    "tsm_ah = tsm_ah_snap.get(max_age_seconds=3000)"
   ]
  },
  {
   "cell_type": "code",
   "execution_count": 20,
   "id": "3a780b13-30a3-4f1e-8e33-9a03b0165f2c",
   "metadata": {},
   "outputs": [],
   "source": [
    "from snapshot import SnapshotProcessor\n",
    "from blizzard import auction_data\n",
    "from blizzard import auction_summary\n",
    "from config import blizzard_realm_id\n",
    "from config import blizzard_ah_id\n",
    "from config import blizzard_cache_dir\n",
    "\n",
    "def bliz_ah_snapper():\n",
    "    return auction_data(blizzard_realm_id, blizzard_ah_id)\n",
    "\n",
    "bliz_ah_snap = SnapshotProcessor(bliz_ah_snapper, cache_dir=blizzard_cache_dir)\n",
    "bliz_ah = bliz_ah_snap.get(max_age_seconds=3000)"
   ]
  },
  {
   "cell_type": "code",
   "execution_count": 21,
   "id": "b5d2b47b-0b5f-4a80-9a7e-438f254c7c6f",
   "metadata": {},
   "outputs": [],
   "source": [
    "from kvstore import InefficientKVStore\n",
    "from blizzard import ItemLookup\n",
    "from config import blizzard_item_cache\n",
    "from config import blizzard_item_reverse_cache\n",
    "\n",
    "items = ItemLookup(\n",
    "    InefficientKVStore(blizzard_item_cache),\n",
    "    InefficientKVStore(blizzard_item_reverse_cache),\n",
    ")"
   ]
  },
  {
   "cell_type": "code",
   "execution_count": 22,
   "id": "0ac0b9a9-1a5d-4784-a2b0-42cdf5787ab7",
   "metadata": {},
   "outputs": [],
   "source": [
    "from bliz_tsm_join import item_info_getter\n",
    "item_info = item_info_getter(items, bliz_ah_snap, tsm_ah_snap, max_age_seconds=3000)\n",
    "item_info_current = item_info_getter(items, bliz_ah_snap, tsm_ah_snap, max_age_seconds=0)"
   ]
  },
  {
   "cell_type": "code",
   "execution_count": 23,
   "id": "3f958cfe-e63b-4104-aa24-0ec5672302b1",
   "metadata": {},
   "outputs": [
    {
     "data": {
      "text/plain": [
       "[([frost lotus] + [enchanted vial] + 5*[icethorn] + 5*[lichbloom],\n",
       "  2*[flask of the frost wyrm])]"
      ]
     },
     "execution_count": 23,
     "metadata": {},
     "output_type": "execute_result"
    }
   ],
   "source": [
    "reload_all()\n",
    "\n",
    "from crafting import Recipes\n",
    "\n",
    "r = Recipes(items)\n",
    "i = r.ingredient\n",
    "\n",
    "r.recipe(\n",
    "    5*i(\"icethorn\") + 5*i(\"lichbloom\") + i(\"frost lotus\") + i(\"enchanted vial\"),\n",
    "    2*i(\"flask of the frost wyrm\"),\n",
    ")\n",
    "\n",
    "r.lookup(i(\"flask of the frost wyrm\"))"
   ]
  },
  {
   "cell_type": "code",
   "execution_count": 24,
   "id": "50f74518-044e-44f0-895d-5dfd1c44532f",
   "metadata": {},
   "outputs": [
    {
     "data": {
      "text/plain": [
       "{'id': 41599,\n",
       " 'name': 'frostweave bag',\n",
       " 'num_auctions': 125,\n",
       " 'quantity': 125,\n",
       " 'weight_sell': {'gold': 72.95, 'copper': 729494.16},\n",
       " 'avg_sell': {'gold': 72.95, 'copper': 729494.16},\n",
       " 'max': {'gold': 74.0, 'copper': 740000},\n",
       " 'p80': {'gold': 73.99, 'copper': 739900},\n",
       " 'p50': {'gold': 73.94, 'copper': 739399},\n",
       " 'p20': {'gold': 71.5, 'copper': 714997},\n",
       " 'wp80': {'gold': 73.99, 'copper': 739900},\n",
       " 'wp50': {'gold': 73.94, 'copper': 739399},\n",
       " 'wp20': {'gold': 71.5, 'copper': 714997},\n",
       " 'min': {'gold': 71.49, 'copper': 714894},\n",
       " 'realm_market_value': {'gold': 63.53, 'copper': 635305},\n",
       " 'realm_historical': {'gold': 83.8, 'copper': 838024},\n",
       " 'region_historical': {'gold': 64.73, 'copper': 647263},\n",
       " 'region_avg_sale_price': {'gold': 53.19, 'copper': 531913},\n",
       " 'sale_pct': 76.9,\n",
       " 'sold_per_day': 500,\n",
       " 'headroom': 525,\n",
       " 'market_skew_pct': -24.19,\n",
       " 'auction_skew_pct': 12.53}"
      ]
     },
     "execution_count": 24,
     "metadata": {},
     "output_type": "execute_result"
    }
   ],
   "source": [
    "item_info(\"frostweave bag\")"
   ]
  },
  {
   "cell_type": "code",
   "execution_count": 25,
   "id": "d4b1f7fa-633e-4051-a111-e8b067953a85",
   "metadata": {},
   "outputs": [
    {
     "data": {
      "text/plain": [
       "{'id': 35623,\n",
       " 'name': 'eternal air',\n",
       " 'num_auctions': 5,\n",
       " 'quantity': 36,\n",
       " 'weight_sell': {'gold': 323.06, 'copper': 3230591.388888889},\n",
       " 'avg_sell': {'gold': 736.03, 'copper': 7360280.0},\n",
       " 'max': {'gold': 3110.14, 'copper': 31101411},\n",
       " 'p80': {'gold': 3110.14, 'copper': 31101411},\n",
       " 'p50': {'gold': 176.0, 'copper': 1759989},\n",
       " 'p20': {'gold': 55.0, 'copper': 550000},\n",
       " 'wp80': {'gold': 320.0, 'copper': 3200000},\n",
       " 'wp50': {'gold': 320.0, 'copper': 3200000},\n",
       " 'wp20': {'gold': 176.0, 'copper': 1759989},\n",
       " 'min': {'gold': 19.0, 'copper': 190000},\n",
       " 'realm_market_value': {'gold': 3.33, 'copper': 33251},\n",
       " 'realm_historical': {'gold': 6.22, 'copper': 62153},\n",
       " 'region_historical': {'gold': 6.25, 'copper': 62505},\n",
       " 'region_avg_sale_price': {'gold': 5.71, 'copper': 57070},\n",
       " 'sale_pct': 65.0,\n",
       " 'sold_per_day': 1599,\n",
       " 'headroom': 2424,\n",
       " 'market_skew_pct': -46.5,\n",
       " 'auction_skew_pct': 471.41}"
      ]
     },
     "execution_count": 25,
     "metadata": {},
     "output_type": "execute_result"
    }
   ],
   "source": [
    "item_info(\"eternal air\")"
   ]
  },
  {
   "cell_type": "code",
   "execution_count": 26,
   "id": "62ca2faa-4119-475f-a709-60518b2d007c",
   "metadata": {
    "tags": []
   },
   "outputs": [
    {
     "data": {
      "text/plain": [
       "{'id': 37663,\n",
       " 'name': 'titansteel bar',\n",
       " 'num_auctions': 16,\n",
       " 'quantity': 16,\n",
       " 'weight_sell': {'gold': 130.98, 'copper': 1309785.25},\n",
       " 'avg_sell': {'gold': 130.98, 'copper': 1309785.25},\n",
       " 'max': {'gold': 200.0, 'copper': 1999999},\n",
       " 'p80': {'gold': 141.0, 'copper': 1409999},\n",
       " 'p50': {'gold': 115.75, 'copper': 1157500},\n",
       " 'p20': {'gold': 112.75, 'copper': 1127499},\n",
       " 'wp80': {'gold': 141.0, 'copper': 1409999},\n",
       " 'wp50': {'gold': 115.75, 'copper': 1157500},\n",
       " 'wp20': {'gold': 112.75, 'copper': 1127499},\n",
       " 'min': {'gold': 100.0, 'copper': 999999},\n",
       " 'realm_market_value': {'gold': 120.97, 'copper': 1209700},\n",
       " 'realm_historical': {'gold': 157.98, 'copper': 1579842},\n",
       " 'region_historical': {'gold': 124.32, 'copper': 1243202},\n",
       " 'region_avg_sale_price': {'gold': 130.42, 'copper': 1304160},\n",
       " 'sale_pct': 82.5,\n",
       " 'sold_per_day': 668,\n",
       " 'headroom': 793,\n",
       " 'market_skew_pct': -23.43,\n",
       " 'auction_skew_pct': -17.33}"
      ]
     },
     "execution_count": 26,
     "metadata": {},
     "output_type": "execute_result"
    }
   ],
   "source": [
    "item_info(\"titansteel bar\")"
   ]
  },
  {
   "cell_type": "code",
   "execution_count": 27,
   "id": "b43cf962-eebc-415f-9859-5c2f54e0c6f7",
   "metadata": {},
   "outputs": [
    {
     "data": {
      "text/plain": [
       "{'id': 45912,\n",
       " 'name': 'book of glyph mastery',\n",
       " 'num_auctions': 2,\n",
       " 'quantity': 2,\n",
       " 'weight_sell': {'gold': 21.1, 'copper': 211022.5},\n",
       " 'avg_sell': {'gold': 21.1, 'copper': 211022.5},\n",
       " 'max': {'gold': 24.37, 'copper': 243651},\n",
       " 'p80': {'gold': 24.37, 'copper': 243651},\n",
       " 'p50': {'gold': 24.37, 'copper': 243651},\n",
       " 'p20': {'gold': 17.84, 'copper': 178394},\n",
       " 'wp80': {'gold': 24.37, 'copper': 243651},\n",
       " 'wp50': {'gold': 24.37, 'copper': 243651},\n",
       " 'wp20': {'gold': 17.84, 'copper': 178394},\n",
       " 'min': {'gold': 17.84, 'copper': 178394},\n",
       " 'realm_market_value': {'gold': 18.18, 'copper': 181823},\n",
       " 'realm_historical': {'gold': 24.29, 'copper': 242915},\n",
       " 'region_historical': {'gold': 15.29, 'copper': 152944},\n",
       " 'region_avg_sale_price': {'gold': 11.42, 'copper': 114248},\n",
       " 'sale_pct': 66.6,\n",
       " 'sold_per_day': 153,\n",
       " 'headroom': 227,\n",
       " 'market_skew_pct': -25.15,\n",
       " 'auction_skew_pct': -1.89}"
      ]
     },
     "execution_count": 27,
     "metadata": {},
     "output_type": "execute_result"
    }
   ],
   "source": [
    "item_info(\"book of glyph mastery\")"
   ]
  },
  {
   "cell_type": "code",
   "execution_count": 11,
   "id": "83db8dea-7248-4e2c-912a-757af0cea027",
   "metadata": {
    "tags": []
   },
   "outputs": [
    {
     "name": "stdout",
     "output_type": "stream",
     "text": [
      "DEFINITELY   BS eternal-life (unit profit: 19030,headroom: 255)\n",
      "DEFINITELY   BS eternal-earth (unit profit: 18745,headroom: 423)\n",
      "YES          BS eternal-air (unit profit: 12657,headroom: 95)\n",
      "DEFINITELY   BS eternal-fire (unit profit: 69047,headroom: 150)\n",
      "DEFINITELY   BS eternal-water (unit profit: 38069,headroom: 461)\n",
      "YES          BS eternal-shadow (unit profit: 73179,headroom: 28)\n",
      "SKIP        primal-life\n",
      "SKIP        primal-earth\n",
      "DEFINITELY   SB primal-air (unit profit: 86758,headroom: 27)\n",
      "SKIP        primal-fire\n",
      "SKIP        primal-water\n",
      "SKIP        primal-shadow\n",
      "DEFINITELY   BS essence-eternal (unit profit: 487803,headroom: 30)\n",
      "DEFINITELY   BS essence-cosmic (unit profit: 61683,headroom: 91)\n",
      "SKIP        essence-nether\n",
      "SKIP        essence-planar\n",
      "SKIP        essence-astral\n",
      "SKIP        essence-magic\n",
      "SKIP        essence-mystic\n"
     ]
    }
   ],
   "source": [
    "from elemental_arbitrage import print_elemental_arbitrage_report\n",
    "\n",
    "print_elemental_arbitrage_report(tsm_ah, items)"
   ]
  },
  {
   "cell_type": "code",
   "execution_count": 12,
   "id": "da3bc152-4543-49a7-9de1-43cb4189d0e6",
   "metadata": {},
   "outputs": [
    {
     "name": "stderr",
     "output_type": "stream",
     "text": [
      "WARNING:snapshot:Could not fetch data with 'tsm_ah_snapper', falling back to cached 'ah\\snap-2022-12-08T07-00-03' from '2022-12-08 07:00:03' as requested.  Error info (next line)\n",
      "list indices must be integers or slices, not str\n"
     ]
    },
    {
     "data": {
      "text/plain": [
       "{'id': 37705,\n",
       " 'name': 'crystallized water',\n",
       " 'num_auctions': 45,\n",
       " 'quantity': 99,\n",
       " 'weight_sell': {'gold': 346.89, 'copper': 3468887.717171717},\n",
       " 'avg_sell': {'gold': 138.86, 'copper': 1388637.9555555556},\n",
       " 'max': {'gold': 3110.14, 'copper': 31101411},\n",
       " 'p80': {'gold': 1.26, 'copper': 12600},\n",
       " 'p50': {'gold': 0.43, 'copper': 4272},\n",
       " 'p20': {'gold': 0.23, 'copper': 2322},\n",
       " 'wp80': {'gold': 3.0, 'copper': 30000},\n",
       " 'wp50': {'gold': 1.85, 'copper': 18480},\n",
       " 'wp20': {'gold': 0.23, 'copper': 2333},\n",
       " 'min': {'gold': 0.23, 'copper': 2313},\n",
       " 'realm_market_value': {'gold': 0.57, 'copper': 5700},\n",
       " 'realm_historical': {'gold': 0.79, 'copper': 7897},\n",
       " 'region_historical': {'gold': 0.57, 'copper': 5661},\n",
       " 'region_avg_sale_price': {'gold': 0.57, 'copper': 5701},\n",
       " 'sale_pct': 761,\n",
       " 'sold_per_day': 4186,\n",
       " 'headroom': 451,\n",
       " 'market_skew_pct': -27.82,\n",
       " 'auction_skew_pct': -59.42}"
      ]
     },
     "execution_count": 12,
     "metadata": {},
     "output_type": "execute_result"
    }
   ],
   "source": [
    "item_info(\"crystallized water\")"
   ]
  },
  {
   "cell_type": "code",
   "execution_count": 13,
   "id": "319338f8-d752-4cb5-8c16-c82809ad7515",
   "metadata": {
    "tags": []
   },
   "outputs": [
    {
     "data": {
      "text/plain": [
       "{\"adder's\": 1.5,\n",
       " 'goldclover': 0.98,\n",
       " 'frost lotus': 0.06,\n",
       " 'deadnettle': 0.46,\n",
       " 'tiger lily': 0.84,\n",
       " 'crystallized life': 1.06}"
      ]
     },
     "execution_count": 13,
     "metadata": {},
     "output_type": "execute_result"
    }
   ],
   "source": [
    "found_sholazar = {\"adder's\": 3*20+15, \"goldclover\": 2*20+9, \"frost lotus\": 3, \"deadnettle\": 20+3, \"tiger lily\": 2*20+2, \"crystallized life\": 10*5+3}\n",
    "rates_per_minute = {k: v/50 for (k, v) in found_sholazar.items()}\n",
    "rates_per_minute"
   ]
  }
 ],
 "metadata": {
  "kernelspec": {
   "display_name": "Python 3",
   "language": "python",
   "name": "python3"
  },
  "language_info": {
   "codemirror_mode": {
    "name": "ipython",
    "version": 3
   },
   "file_extension": ".py",
   "mimetype": "text/x-python",
   "name": "python",
   "nbconvert_exporter": "python",
   "pygments_lexer": "ipython3",
   "version": "3.8.8"
  }
 },
 "nbformat": 4,
 "nbformat_minor": 5
}
