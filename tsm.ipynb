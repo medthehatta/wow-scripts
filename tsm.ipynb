{
 "cells": [
  {
   "cell_type": "code",
   "execution_count": 1,
   "id": "1d210c4d-bf48-4ec4-8c35-7ac9f0628b71",
   "metadata": {},
   "outputs": [],
   "source": [
    "from importlib import reload\n",
    "def reload_all():\n",
    "    import tsm; reload(tsm)\n",
    "    import _keys; reload(_keys)\n",
    "    import blizzard; reload(blizzard)\n",
    "    import config; reload(config)\n",
    "    import kvstore; reload(kvstore)\n",
    "    import snapshot; reload(snapshot)\n",
    "    import elemental_arbitrage; reload(elemental_arbitrage)\n",
    "    import bliz_tsm_join; reload(bliz_tsm_join)\n",
    "    import crafting; reload(crafting)\n",
    "    import kvstore; reload(kvstore)\n",
    "    import crafting; reload(crafting)\n",
    "    import procurement; reload(procurement)\n",
    "reload_all()\n",
    "from itables import show"
   ]
  },
  {
   "cell_type": "code",
   "execution_count": 2,
   "id": "51f1c1c4-c910-4c41-80f0-35987a1e4f01",
   "metadata": {},
   "outputs": [],
   "source": [
    "from snapshot import SnapshotProcessor\n",
    "from tsm import auction_house_snapshot\n",
    "from config import tsm_region_id\n",
    "from config import tsm_realm_id\n",
    "from config import tsm_ah_id\n",
    "from config import tsm_cache_dir\n",
    "\n",
    "def tsm_ah_snapper():\n",
    "    return auction_house_snapshot(tsm_region_id, tsm_realm_id, tsm_ah_id)\n",
    "\n",
    "tsm_ah_snap = SnapshotProcessor(tsm_ah_snapper, cache_dir=tsm_cache_dir)\n",
    "tsm_ah = tsm_ah_snap.get(max_age_seconds=3000)"
   ]
  },
  {
   "cell_type": "code",
   "execution_count": 3,
   "id": "3a780b13-30a3-4f1e-8e33-9a03b0165f2c",
   "metadata": {},
   "outputs": [],
   "source": [
    "from snapshot import SnapshotProcessor\n",
    "from blizzard import auction_data\n",
    "from blizzard import auction_summary\n",
    "from config import blizzard_realm_id\n",
    "from config import blizzard_ah_id\n",
    "from config import blizzard_cache_dir\n",
    "\n",
    "def bliz_ah_snapper():\n",
    "    return auction_data(blizzard_realm_id, blizzard_ah_id)\n",
    "\n",
    "bliz_ah_snap = SnapshotProcessor(bliz_ah_snapper, cache_dir=blizzard_cache_dir)\n",
    "bliz_ah = bliz_ah_snap.get(max_age_seconds=3000)"
   ]
  },
  {
   "cell_type": "code",
   "execution_count": 4,
   "id": "b5d2b47b-0b5f-4a80-9a7e-438f254c7c6f",
   "metadata": {},
   "outputs": [],
   "source": [
    "from kvstore import InefficientKVStore\n",
    "from blizzard import ItemLookup\n",
    "from blizzard import collapse_languages\n",
    "from config import blizzard_item_cache\n",
    "from config import blizzard_item_reverse_cache\n",
    "\n",
    "items = ItemLookup(\n",
    "    InefficientKVStore(blizzard_item_cache),\n",
    "    InefficientKVStore(blizzard_item_reverse_cache),\n",
    ")"
   ]
  },
  {
   "cell_type": "code",
   "execution_count": 5,
   "id": "0ac0b9a9-1a5d-4784-a2b0-42cdf5787ab7",
   "metadata": {},
   "outputs": [],
   "source": [
    "from bliz_tsm_join import item_info_getter\n",
    "item_info = item_info_getter(items, bliz_ah_snap, tsm_ah_snap, max_age_seconds=3000)\n",
    "item_info_current = item_info_getter(items, bliz_ah_snap, tsm_ah_snap, max_age_seconds=0)"
   ]
  },
  {
   "cell_type": "code",
   "execution_count": 6,
   "id": "3f958cfe-e63b-4104-aa24-0ec5672302b1",
   "metadata": {},
   "outputs": [],
   "source": [
    "reload_all()\n",
    "\n",
    "from crafting import Recipes\n",
    "from crafting import purchase_price\n",
    "from crafting import crafting_price\n",
    "from crafting import gold\n",
    "\n",
    "\n",
    "r = Recipes(items)\n",
    "i = r.ingredients\n",
    "\n",
    "def buy(item, price_method=gold(\"realm_market_value\")):\n",
    "    return purchase_price(item_info, item, price_method)\n",
    "\n",
    "\n",
    "def buy_now(item):\n",
    "    return buy(item, price_method=gold(\"min\"))\n",
    "\n",
    "\n",
    "def buy_market(item):\n",
    "    return buy(item, price_method=gold(\"realm_market_value\"))\n",
    "\n",
    "\n",
    "recipe_listing = \"\"\"\n",
    "2 flask of the frost wyrm\n",
    "5 icethorn + 5 lichbloom + frost lotus + enchanted vial\n",
    "\n",
    "2 flask of endless rage\n",
    "7 lichbloom + 3 goldclover + frost lotus + enchanted vial\n",
    "\n",
    "2 flask of stoneblood\n",
    "7 lichbloom + 3 crystallized life + frost lotus + enchanted vial\n",
    "\n",
    "firecracker salmon\n",
    "glacial salmon + northern spices\n",
    "\n",
    "elixir of greater agility\n",
    "sungrass + goldthorn + crystal vial\n",
    "\n",
    "titanium bar\n",
    "8 saronite bar\n",
    "\n",
    "titanium bar\n",
    "2 titanium ore\n",
    "\n",
    "titansteel bar\n",
    "3 titanium bar + eternal fire + eternal earth + eternal shadow\n",
    "\n",
    "indestructible potion\n",
    "2 icethorn + imbued vial\n",
    "\n",
    "saronite bar\n",
    "2 saronite ore\n",
    "\n",
    "potion of speed\n",
    "2 adder's tongue + pygmy oil + imbued vial\n",
    "\n",
    "potion of wild magic\n",
    "2 lichbloom + pygmy oil + imbued vial\n",
    "\n",
    "titansteel spellblade\n",
    "6 titansteel bar + 6 infinite dust + 2 frozen orb\n",
    "\n",
    "titansteel bar\n",
    "3 titanium bar + eternal fire + eternal earth + eternal shadow\n",
    "\n",
    "glyph of wild growth\n",
    "resilient parchment + ethereal ink\n",
    "\n",
    "spellweave robe\n",
    "8 spellweave + 6 bolt of imbued frostweave + eternium thread + frozen orb\n",
    "\n",
    "spellweave\n",
    "bolt of imbued frostweave + 2 eternal fire\n",
    "\n",
    "bolt of imbued frostweave\n",
    "2 bolt of frostweave + 2 infinite dust\n",
    "\n",
    "bolt of frostweave\n",
    "5 frostweave cloth\n",
    "\n",
    "earthsiege diamond\n",
    "dark jade + huge citrine + eternal fire\n",
    "\n",
    "skyflare diamond\n",
    "bloodstone + chalcedony + eternal air\n",
    "\"\"\"\n",
    "\n",
    "reversible_recipes = \"\"\"\n",
    "eternal shadow\n",
    "10 crystallized shadow\n",
    "\n",
    "eternal water\n",
    "10 crystallized water\n",
    "\n",
    "eternal fire\n",
    "10 crystallized fire\n",
    "\n",
    "eternal air\n",
    "10 crystallized air\n",
    "\n",
    "eternal life\n",
    "10 crystallized life\n",
    "\n",
    "greater planar essence\n",
    "3 lesser planar essence\n",
    "\n",
    "greater cosmic essence\n",
    "3 lesser cosmic essence\n",
    "\"\"\"\n",
    "\n",
    "r_out = None\n",
    "for line in recipe_listing.splitlines():\n",
    "    if line.strip():\n",
    "        if r_out:\n",
    "            r.recipe_from_strings(r_out, line.strip())\n",
    "            r_out = None\n",
    "        else:\n",
    "            r_out = line.strip()\n",
    "\n",
    "            \n",
    "r_out = None\n",
    "for line in reversible_recipes.splitlines():\n",
    "    if line.strip():\n",
    "        if r_out:\n",
    "            r.recipe_from_strings(r_out, line.strip())\n",
    "            r.recipe_from_strings(line.strip(), r_out)\n",
    "            r_out = None\n",
    "        else:\n",
    "            r_out = line.strip()"
   ]
  },
  {
   "cell_type": "code",
   "execution_count": 7,
   "id": "83db8dea-7248-4e2c-912a-757af0cea027",
   "metadata": {
    "tags": []
   },
   "outputs": [
    {
     "name": "stdout",
     "output_type": "stream",
     "text": [
      "DEFINITELY   SB eternal-life (unit profit: 46570,headroom: 6892)\n",
      "SKIP        eternal-earth\n",
      "SKIP        eternal-air\n",
      "DEFINITELY   BS eternal-fire (unit profit: 25482,headroom: 1539)\n",
      "DEFINITELY   BS eternal-water (unit profit: 46499,headroom: 4309)\n",
      "DEFINITELY   BS eternal-shadow (unit profit: 48692,headroom: 2984)\n",
      "SKIP        primal-life\n",
      "SKIP        primal-earth\n",
      "YES          SB primal-air (unit profit: 107488,headroom: 230)\n",
      "SKIP        primal-fire\n",
      "SKIP        primal-water\n",
      "SKIP        primal-shadow\n",
      "SKIP        essence-eternal\n",
      "YES          BS essence-cosmic (unit profit: 41717,headroom: 544)\n",
      "SKIP        essence-nether\n",
      "DEFINITELY   BS essence-planar (unit profit: 199597,headroom: 830)\n",
      "SKIP        essence-astral\n",
      "SKIP        essence-magic\n",
      "SKIP        essence-mystic\n"
     ]
    }
   ],
   "source": [
    "from elemental_arbitrage import print_elemental_arbitrage_report\n",
    "\n",
    "print_elemental_arbitrage_report(tsm_ah, items)"
   ]
  },
  {
   "cell_type": "code",
   "execution_count": 8,
   "id": "2eeacf23-c2d1-4bce-93ad-3c97cbeb4660",
   "metadata": {
    "tags": []
   },
   "outputs": [
    {
     "name": "stderr",
     "output_type": "stream",
     "text": [
      "<ipython-input-8-e5b0eba07282>:14: UserWarning: DataFrame columns are not unique, some columns will be omitted.\n",
      "  entries = list(df_all.transpose().to_dict().values())\n"
     ]
    },
    {
     "data": {
      "text/html": [
       "<style>.itables table td {\n",
       "    text-overflow: ellipsis;\n",
       "    overflow: hidden;\n",
       "}\n",
       "\n",
       ".itables table th {\n",
       "    text-overflow: ellipsis;\n",
       "    overflow: hidden;\n",
       "}\n",
       "\n",
       ".itables thead input {\n",
       "    width: 100%;\n",
       "    padding: 3px;\n",
       "    box-sizing: border-box;\n",
       "}\n",
       "\n",
       ".itables tfoot input {\n",
       "    width: 100%;\n",
       "    padding: 3px;\n",
       "    box-sizing: border-box;\n",
       "}\n",
       "</style>\n",
       "<div class=\"itables\">\n",
       "<table id=\"4c73c797-c3c9-4bcc-8848-1a3482e6bffb\" class=\"display nowrap\"style=\"table-layout:auto;width:auto;margin:auto;caption-side:bottom\"><thead>\n",
       "    <tr style=\"text-align: right;\">\n",
       "      \n",
       "      <th>name</th>\n",
       "      <th>net</th>\n",
       "      <th>rate</th>\n",
       "      <th>num</th>\n",
       "    </tr>\n",
       "  </thead><tbody><tr><td>Loading... (need <a href=https://mwouts.github.io/itables/troubleshooting.html>help</a>?)</td></tr></tbody></table>\n",
       "<link rel=\"stylesheet\" type=\"text/css\" href=\"https://cdn.datatables.net/1.13.1/css/jquery.dataTables.min.css\">\n",
       "<script type=\"module\">\n",
       "    // Import jquery and DataTable\n",
       "    import 'https://code.jquery.com/jquery-3.6.0.min.js';\n",
       "    import dt from 'https://cdn.datatables.net/1.12.1/js/jquery.dataTables.mjs';\n",
       "    dt($);\n",
       "\n",
       "    // Define the table data\n",
       "    const data = [[\"Flask of Stoneblood\", 15228045.0, 0.863636, 22], [\"Flask of Endless Rage\", 13456501.0, 0.9, 20], [\"Flask of the Frost Wyrm\", 8844292.0, 0.777778, 18], [\"Lesser Cosmic Essence\", 6886448.0, 0.333333, 9], [\"Eternal Life\", 6279440.0, 0.571429, 7], [\"Arcane Dust\", 5684967.0, 0.516129, 31], [\"Indestructible Potion\", 3275957.0, 0.545455, 11], [\"Crystallized Water\", 2223330.0, 0.615385, 26], [\"Earthsiege Diamond\", 2175880.0, 0.428571, 7], [\"Talandra's Rose\", 1068370.0, 0.5, 6], [\"Arthas' Tears\", 1018480.0, 0.272727, 11], [\"Crystallized Life\", 902990.0, 0.357143, 14], [\"Infinite Dust\", 893190.0, 0.5, 12], [\"Truesilver Bar\", 830443.0, 0.8, 6], [\"Tiger Lily\", 811856.0, 0.521739, 23], [\"Bolt of Woolen Cloth\", 781888.0, 0.48, 25], [\"Arcanite Bar\", 780735.0, 0.2, 20], [\"Greater Planar Essence\", 719700.0, 0.571429, 7], [\"Runic Healing Potion\", 706914.0, 0.571429, 7], [\"Mageroyal\", 669837.0, 0.4, 10], [\"Khadgar's Whisker\", 667800.0, 0.285714, 7], [\"Goldclover\", 642770.0, 0.5, 7], [\"Runic Mana Potion\", 492940.0, 0.5, 8], [\"Elixir of Lightning Speed\", 490533.0, 0.666667, 6], [\"Gold Bar\", 307740.0, 0.8, 5], [\"Strange Dust\", 304017.0, 0.6, 5], [\"Refreshing Spring Water\", 128856.0, 0.428571, 7], [\"Black Jelly\", 124175.0, 0.4, 5], [\"Kingsblood\", 114771.0, 0.25, 8], [\"Ancient Lichen\", 111198.0, 0.133333, 15], [\"Spellpower Elixir\", 65151.0, 0.181818, 11], [\"Bolt of Linen Cloth\", 48660.0, 0.25, 12], [\"Linen Cloth\", -68022.0, 1.0, 11], [\"Netherweave Cloth\", -92364.0, 0.666667, 5], [\"Crystallized Air\", -210687.0, 1.0, 13], [\"Chalcedony\", -389359.0, 0.75, 8]];\n",
       "\n",
       "    // Define the dt_args\n",
       "    let dt_args = {\"order\": []};\n",
       "    dt_args[\"data\"] = data;\n",
       "\n",
       "    $(document).ready(function () {\n",
       "        \n",
       "        $('#4c73c797-c3c9-4bcc-8848-1a3482e6bffb').DataTable(dt_args);\n",
       "    });\n",
       "</script>\n",
       "</div>\n"
      ],
      "text/plain": [
       "<IPython.core.display.HTML object>"
      ]
     },
     "metadata": {},
     "output_type": "display_data"
    }
   ],
   "source": [
    "from cytoolz import groupby\n",
    "import pandas as pd\n",
    "\n",
    "df_sales = pd.read_csv(\"Accounting_Earthfury_sales.csv\")\n",
    "df_sales[\"mode\"] = \"sold\"\n",
    "df_purchases = pd.read_csv(\"Accounting_Earthfury_purchases.csv\")\n",
    "df_purchases[\"mode\"] = \"purchased\"\n",
    "df_expired = pd.read_csv(\"Accounting_Earthfury_expired.csv\")\n",
    "df_expired[\"mode\"] = \"expired\"\n",
    "df_canceled = pd.read_csv(\"Accounting_Earthfury_canceled.csv\")\n",
    "df_canceled[\"mode\"] = \"canceled\"\n",
    "df_all = pd.concat([df_sales, df_purchases, df_expired, df_canceled])\n",
    "\n",
    "entries = list(df_all.transpose().to_dict().values())\n",
    "grouped = groupby(lambda entry: entry[\"itemString\"], entries)\n",
    "names = {entry[\"itemString\"]: entry[\"itemName\"] for entry in entries}\n",
    "nets = {\n",
    "    k: sum(\n",
    "        (\n",
    "            vv[\"price\"]*vv[\"quantity\"] if vv[\"mode\"] == \"sold\" else\n",
    "            -vv[\"price\"]*vv[\"quantity\"] if vv[\"mode\"] == \"purchased\" else\n",
    "            0\n",
    "        ) for vv in v\n",
    "    )\n",
    "    for (k, v) in grouped.items()\n",
    "}\n",
    "ah_events = {k: [vv[\"mode\"] for vv in v if vv[\"source\"] != \"Vendor\"] for (k, v) in grouped.items()}\n",
    "sale_rate = {\n",
    "    k: v.count(\"sold\") / (v.count(\"sold\") + v.count(\"expired\") + v.count(\"canceled\"))\n",
    "    for (k, v) in ah_events.items()\n",
    "    if v.count(\"sold\") > 1\n",
    "}\n",
    "agg = {k: {\"name\": names[k], \"net\": nets[k], \"rate\": sale_rate[k], \"num\": len(ah_events[k])} for k in sale_rate}\n",
    "show(pd.DataFrame(sorted(\n",
    "    [v for v in agg.values() if v[\"num\"] > 4],\n",
    "    key=lambda entry: entry[\"net\"],\n",
    "    reverse=True,\n",
    ")))"
   ]
  },
  {
   "cell_type": "code",
   "execution_count": 9,
   "id": "fe1f1466-a912-4317-8179-61cf81343e04",
   "metadata": {},
   "outputs": [],
   "source": [
    "import pickle\n",
    "from cytoolz import get as pick_from_dict\n",
    "from cytoolz import sliding_window\n",
    "import glob\n",
    "import itertools\n",
    "from blizzard import auction_summary\n",
    "import re\n",
    "import numpy as np\n",
    "import datetime\n",
    "np.set_printoptions(suppress=True)\n",
    "\n",
    "_names = \"\"\"\n",
    "flask of the frost wyrm\n",
    "flask of endless rage\n",
    "flask of stoneblood\n",
    "titanium bar\n",
    "indestructible potion\n",
    "eternal shadow\n",
    "oily blackmouth\n",
    "elixir of mighty thoughts\n",
    "frostweave cloth\n",
    "wildvine\n",
    "felcloth\n",
    "lesser healing potion\n",
    "runic mana potion\n",
    "greater planar essence\n",
    "netherweave cloth\n",
    "greater healing potion\n",
    "crystallized water\n",
    "purple lotus\n",
    "bruiseweed\n",
    "arcane dust\n",
    "tiger lily\n",
    "crystallized fire\n",
    "major healing potion\n",
    "potion of speed\n",
    "potion of wild magic\n",
    "lichbloom\n",
    "pygmy oil\n",
    "adder's tongue\n",
    "imbued vial\n",
    "icethorn\n",
    "frost lotus\n",
    "enchanted vial\n",
    "goldclover\n",
    "crystallized life\n",
    "eternal life\n",
    "deadnettle\n",
    "elixir of accuracy\n",
    "lesser planar essence\n",
    "eternal fire\n",
    "eternal water\n",
    "chaotic skyflare diamond\n",
    "skyflare diamond\n",
    "potent monarch topaz\n",
    "monarch topaz\n",
    "runed scarlet ruby\n",
    "scarlet ruby\n",
    "purified twilight opal\n",
    "twilight opal\n",
    "potion of speed\n",
    "potion of wild magic\n",
    "lichbloom\n",
    "frostweave cloth\n",
    "infinite dust\n",
    "greater cosmic essence\n",
    "dream shard\n",
    "eternal belt buckle\n",
    "titansteel bar\n",
    "titansteel spellblade\n",
    "mageweave cloth\n",
    "rough stone\n",
    "copper bar\n",
    "coarse stone\n",
    "linen cloth\n",
    "bronze bar\n",
    "heavy stone\n",
    "moss agate\n",
    "wool cloth\n",
    "medium leather\n",
    "steel bar\n",
    "solid stone\n",
    "mithril bar\n",
    "mageweave cloth\n",
    "dense stone\n",
    "thorium bar\n",
    "runecloth\n",
    "fel iron bar\n",
    "mote of earth\n",
    "mote of fire\n",
    "netherweave cloth\n",
    "adamantite bar\n",
    "cobalt bar\n",
    "frostweave cloth\n",
    "crystallized water\n",
    "crystallized earth\n",
    "crystallized fire\n",
    "borean leather\n",
    "eternal shadow\n",
    "saronite bar\n",
    "\"\"\".strip().splitlines()\n",
    "\n",
    "desired_names = list(set(_names))\n",
    "desired_ids = [items.get_id(name) for name in desired_names if not name.startswith(\"#\")]\n",
    "\n",
    "\n",
    "date_re = re.compile(r\"202.-..-..T..-..-..\")\n",
    "def _timestamp_from_name(name):\n",
    "    cap = date_re.search(name).group(0)\n",
    "    return datetime.datetime.strptime(cap, \"%Y-%m-%dT%H-%M-%S\").timestamp()\n",
    "\n",
    "\n",
    "by_item = {}\n",
    "timeseries = []\n",
    "\n",
    "for snapshot in sorted(glob.glob(\"bliz-ah/*\")):\n",
    "    with open(snapshot, \"rb\") as f:\n",
    "        entries = pickle.load(f).values()\n",
    "        timeseries.extend(\n",
    "            [\n",
    "                {\"timestamp\": _timestamp_from_name(snapshot), \"item_name\": items.get_name(item_id), **auction_summary(item_data)}\n",
    "                for (item_id, item_data) in zip(desired_ids, entries)\n",
    "            ]\n",
    "        )\n",
    "        for (item_id, item_data) in zip(desired_ids, entries):\n",
    "            name = items.get_name(item_id)\n",
    "            by_item[name] = by_item.get(name, []) + [{\"timestamp\": date_re.search(snapshot).group(0), \"item_name\": items.get_name(item_id), **auction_summary(item_data)}]\n",
    "\n",
    "def timeseries_of(key, default=np.nan):\n",
    "    def _timeseries_of(item_name):\n",
    "        return np.array([v.get(key, default) for v in by_item[item_name]])\n",
    "    return _timeseries_of\n",
    "\n",
    "def omit_outliers(series, sigma=2, window=5):\n",
    "    mavg = [np.average(w) for w in sliding_window(window, series)]\n",
    "    std = np.std(mavg)\n",
    "    return np.array([x if np.abs(x) < sigma*std else np.nan for x in mavg])\n",
    "\n",
    "def avg_finite(arr):\n",
    "    return np.average(arr[np.isfinite(arr)])"
   ]
  },
  {
   "cell_type": "code",
   "execution_count": 10,
   "id": "81d62533-0dd5-4148-bfc2-4bad4c40f8a8",
   "metadata": {},
   "outputs": [],
   "source": [
    "import plotly.express as px\n",
    "for yvalue in [\"num\", \"min\", \"p50\", \"d_num\", \"d_min\", \"d_p50\"]:\n",
    "    df = pd.DataFrame(timeseries)\n",
    "    df = df.sort_values(by=\"timestamp\")\n",
    "\n",
    "    if yvalue.startswith(\"d_\"):\n",
    "        dfg = df.pivot(index=\"timestamp\", columns=\"item_name\", values=yvalue[2:])\n",
    "        dfg = dfg.diff().div(dfg.index.to_series().diff(), axis=0)\n",
    "    else:\n",
    "        dfg = df.pivot(index=\"timestamp\", columns=\"item_name\", values=yvalue)\n",
    "\n",
    "    fig = px.scatter(dfg, title=yvalue, log_y=False)\n",
    "    fig.write_html(f\"{yvalue}.html\")"
   ]
  },
  {
   "cell_type": "code",
   "execution_count": 11,
   "id": "38080de5-a5e7-4583-97c8-63d8f16d4e0f",
   "metadata": {},
   "outputs": [
    {
     "name": "stderr",
     "output_type": "stream",
     "text": [
      "C:\\Users\\Med\\anaconda3\\lib\\site-packages\\numpy\\lib\\function_base.py:380: RuntimeWarning:\n",
      "\n",
      "Mean of empty slice.\n",
      "\n",
      "C:\\Users\\Med\\anaconda3\\lib\\site-packages\\numpy\\core\\_methods.py:188: RuntimeWarning:\n",
      "\n",
      "invalid value encountered in double_scalars\n",
      "\n"
     ]
    }
   ],
   "source": [
    "def min_series(x):\n",
    "    return omit_outliers(timeseries_of(\"avg_sell\")(x), sigma=0.5, window=10)\n",
    "\n",
    "wild_magic_pot = avg_finite(min_series(\"potion of wild magic\") - (2*min_series(\"lichbloom\") + min_series(\"pygmy oil\") + np.array(1.8)))\n",
    "speed_pot = avg_finite(min_series(\"potion of speed\") - (2*min_series(\"adder's tongue\") + min_series(\"pygmy oil\") + np.array(1.8)))\n",
    "wyrm = avg_finite(2*min_series(\"flask of the frost wyrm\") - (5*min_series(\"icethorn\") + 5*min_series(\"lichbloom\") + min_series(\"frost lotus\") + np.array(5)))\n",
    "rage = avg_finite(2*min_series(\"flask of endless rage\") - (5*min_series(\"goldclover\") + 7*min_series(\"lichbloom\") + min_series(\"frost lotus\") + np.array(5)))\n",
    "indestructible = avg_finite(2*min_series(\"indestructible potion\") - (2*min_series(\"icethorn\") + np.array(1.8)))"
   ]
  },
  {
   "cell_type": "code",
   "execution_count": 12,
   "id": "d4a1788a-10cf-45ad-b5e8-80aeee9f2a6a",
   "metadata": {},
   "outputs": [],
   "source": [
    "def item_infos(items):\n",
    "    return pd.DataFrame([item_info(i) for i in items])"
   ]
  },
  {
   "cell_type": "code",
   "execution_count": 13,
   "id": "01e07bbf-7a8f-4a32-a005-40951c05f54f",
   "metadata": {
    "tags": []
   },
   "outputs": [
    {
     "data": {
      "text/html": [
       "<style>.itables table td {\n",
       "    text-overflow: ellipsis;\n",
       "    overflow: hidden;\n",
       "}\n",
       "\n",
       ".itables table th {\n",
       "    text-overflow: ellipsis;\n",
       "    overflow: hidden;\n",
       "}\n",
       "\n",
       ".itables thead input {\n",
       "    width: 100%;\n",
       "    padding: 3px;\n",
       "    box-sizing: border-box;\n",
       "}\n",
       "\n",
       ".itables tfoot input {\n",
       "    width: 100%;\n",
       "    padding: 3px;\n",
       "    box-sizing: border-box;\n",
       "}\n",
       "</style>\n",
       "<div class=\"itables\">\n",
       "<table id=\"424b59f2-15b9-4381-a8c0-cd4099cb36cb\" class=\"display nowrap\"style=\"table-layout:auto;width:auto;margin:auto;caption-side:bottom\"><thead>\n",
       "    <tr style=\"text-align: right;\">\n",
       "      \n",
       "      <th>id</th>\n",
       "      <th>name</th>\n",
       "      <th>num_auctions</th>\n",
       "      <th>quantity</th>\n",
       "      <th>weight_sell</th>\n",
       "      <th>avg_sell</th>\n",
       "      <th>max</th>\n",
       "      <th>p80</th>\n",
       "      <th>p50</th>\n",
       "      <th>p20</th>\n",
       "      <th>wp80</th>\n",
       "      <th>wp50</th>\n",
       "      <th>wp20</th>\n",
       "      <th>min</th>\n",
       "      <th>realm_market_value</th>\n",
       "      <th>realm_historical</th>\n",
       "      <th>region_historical</th>\n",
       "      <th>region_avg_sale_price</th>\n",
       "      <th>sale_pct</th>\n",
       "      <th>sold_per_day</th>\n",
       "      <th>headroom</th>\n",
       "      <th>market_skew_pct</th>\n",
       "      <th>auction_skew_pct</th>\n",
       "    </tr>\n",
       "  </thead><tbody><tr><td>Loading... (need <a href=https://mwouts.github.io/itables/troubleshooting.html>help</a>?)</td></tr></tbody></table>\n",
       "<link rel=\"stylesheet\" type=\"text/css\" href=\"https://cdn.datatables.net/1.13.1/css/jquery.dataTables.min.css\">\n",
       "<script type=\"module\">\n",
       "    // Import jquery and DataTable\n",
       "    import 'https://code.jquery.com/jquery-3.6.0.min.js';\n",
       "    import dt from 'https://cdn.datatables.net/1.12.1/js/jquery.dataTables.mjs';\n",
       "    dt($);\n",
       "\n",
       "    // Define the table data\n",
       "    const data = [[46376, \"flask of the frost wyrm\", 49, 103, 87.882864, 30.972204, 275.0, 29.8998, 14.9498, 14.9496, 75.0, 75.0, 14.9498, 14.9496, 14.6035, 12.3438, 9.4893, 7.2081, 54.5, 2120, 3786, 18.31, -99.99], [46377, \"flask of endless rage\", 113, 508, 186.517744, 59.96148, 250.0, 75.0, 19.5, 12.49, 250.0, 245.0, 39.9998, 12.49, 13.6471, 13.75, 9.8093, 7.363, 60.2, 2420, 3511, -0.75, -99.99], [46379, \"flask of stoneblood\", 54, 106, 43.57293, 29.430993, 75.0, 29.9996, 29.9588, 14.9799, 75.0, 29.9996, 14.9996, 14.9796, 15.8187, 14.9881, 11.2758, 8.3158, 50.0, 923, 1740, 5.54, -99.99], [41163, \"titanium bar\", 21, 151, 152.656342, 66.344367, 199.0, 174.998, 8.7498, 8.7498, 199.0, 175.0, 49.747, 8.7497, 11.0929, 8.3748, 8.0352, 5.2595, 57.7, 1919, 3174, 32.46, -99.99], [40093, \"indestructible potion\", 25, 150, 51.100996, 25.390224, 80.0, 20.3, 19.9995, 5.0, 80.0, 80.0, 20.0, 4.079, 4.6282, 4.4999, 2.9598, 2.1738, 48.9, 2389, 4735, 2.85, -99.99], [35627, \"eternal shadow\", 150, 754, 34.314749, 17.970519, 69.562, 23.664, 14.4975, 3.0, 59.174, 23.664, 14.4975, 2.7499, 4.3578, 3.7499, 2.8927, 1.6851, 65.2, 5180, 7190, 16.21, -99.99], [6358, \"oily blackmouth\", 39, 98, 1.517, 0.958918, 2.9817, 2.3331, 0.6398, 0.3667, 2.5, 0.6398, 0.6398, 0.3667, 0.4558, 0.4997, 0.5764, 1.3546, 59.4, 624, 952, -8.79, -99.99], [44332, \"elixir of mighty thoughts\", 3, 23, 53.416274, 25.262367, 60.0, 60.0, 12.7872, 2.9999, 60.0, 60.0, 60.0, 2.9999, 2.6402, 2.65, 2.8306, 2.3481, 56.3, 321, 547, -0.37, -99.99], [33470, \"frostweave cloth\", 330, 3679, 8.099365, 5.109838, 16.302, 8.982, 3.588, 0.4497, 8.9859, 8.98, 8.5679, 0.4487, 0.5426, 0.4975, 0.4196, 0.3509, 86.5, 43951, 47131, 9.07, -99.99], [8153, \"wildvine\", 9999, 9999, 0.002, 0.002, 0.002, 0.002, 0.002, 0.002, 0.002, 0.002, 0.002, 0.002, 0.6866, 1.1666, 0.7657, 0.6821, 45.3, 297, -9343, -41.15, -100.0], [14256, \"felcloth\", 21, 38, 29.005632, 15.64971, 63.9992, 19.1919, 8.7569, 8.7, 63.9992, 19.1919, 8.7569, 8.7, 5.3191, 3.0, 2.0, 1.2381, 42.4, 76, 141, 77.3, -99.98], [858, \"lesser healing potion\", 7, 109, 0.811914, 0.6956, 0.896, 0.894, 0.892, 0.4906, 0.894, 0.892, 0.7152, 0.0894, 0.0657, 0.0399, 0.0406, 0.0731, 35.9, 194, 431, 64.66, -99.99], [33448, \"runic mana potion\", 57, 364, 24.28814, 10.049949, 50.0, 13.778, 3.5997, 1.2966, 50.0, 25.99, 7.779, 1.1996, 1.398, 1.3017, 1.03, 1.1191, 81.1, 2482, 2696, 7.4, -99.99], [22446, \"greater planar essence\", 17, 35, 81.9571, 27.911676, 139.0, 13.8999, 13.8999, 13.8999, 139.0, 127.0, 13.8999, 13.8999, 15.6518, 10.4398, 8.5366, 5.7693, 60.1, 1157, 1890, 49.92, -99.99], [21877, \"netherweave cloth\", 189, 3152, 9.075709, 7.684336, 35.998, 10.0, 4.8999, 2.976, 10.0, 6.0, 3.878, 0.1375, 0.2877, 0.226, 0.1835, 0.1505, 83.8, 26104, 27998, 27.3, -100.0], [1710, \"greater healing potion\", 4, 40, 1.46679, 0.84575, 1.68, 1.68, 1.45, 0.0844, 1.68, 1.68, 1.45, 0.0844, 1.1017, 0.6669, 0.4993, 0.5203, 58.9, 188, 279, 65.2, -100.0], [37705, \"crystallized water\", 166, 600, 10.581366, 4.595636, 19.398, 9.188, 0.9296, 0.9283, 19.398, 9.398, 2.9625, 0.9093, 0.8108, 0.749, 0.5308, 0.3357, 70.9, 3481, 4309, 8.25, -99.99], [8831, \"purple lotus\", 10, 122, 46.883603, 31.49536, 50.0, 50.0, 49.998, 4.96, 50.0, 49.998, 49.998, 2.4998, 1.4331, 1.6883, 1.026, 0.7493, 51.6, 676, 1188, -15.12, -99.98], [2453, \"bruiseweed\", 5, 30, 4.003, 3.19, 8.0, 8.0, 1.26, 1.05, 8.0, 5.0, 1.05, 0.64, 0.3827, 0.4899, 0.3928, 0.2702, 51.8, 2072, 3970, -21.88, -99.98], [22445, \"arcane dust\", 14, 86, 31.799177, 16.891729, 57.488, 17.247, 14.373, 2.8747, 57.488, 17.247, 14.373, 2.8747, 2.8302, 1.9884, 1.6729, 1.0968, 65.2, 6605, 10044, 42.34, -99.99], [36904, \"tiger lily\", 144, 2674, 9.398788, 8.921805, 9.998, 9.888, 9.396, 9.39, 9.888, 9.396, 9.392, 0.99, 0.4411, 0.4995, 0.3733, 0.385, 82.9, 26789, 29640, -11.69, -99.98], [37702, \"crystallized fire\", 32, 221, 25.180443, 19.995756, 33.333, 33.333, 22.1382, 9.466, 33.333, 23.666, 14.199, 2.3665, 2.6984, 2.9995, 2.2222, 1.6344, 55.6, 979, 1539, -10.04, -99.99], [13446, \"major healing potion\", 11, 93, 8.544299, 5.194409, 12.9987, 9.99, 3.1578, 1.1798, 10.0, 9.99, 4.2087, 1.0, 0.4921, 0.4995, 0.3991, 0.2887, 51.5, 366, 617, -1.48, -99.98], [40211, \"potion of speed\", 48, 142, 26.74641, 20.849929, 39.9, 26.9997, 25.0, 7.5, 39.9, 25.0, 25.0, 7.5, 4.5136, 4.8691, 4.7331, 3.8797, 71.8, 8397, 11552, -7.3, -99.98], [40212, \"potion of wild magic\", 76, 313, 63.858189, 38.615022, 180.0, 44.75, 29.7, 29.7, 44.9995, 44.7495, 29.7, 8.9, 7.8604, 7.3093, 5.9304, 4.7477, 58.6, 3941, 6412, 7.54, -99.99], [36905, \"lichbloom\", 137, 144, 1.484214, 1.162312, 8.75, 1.1, 1.1, 1.0999, 1.1, 1.1, 1.0999, 1.0999, 1.2219, 1.2963, 1.4882, 1.2577, 76.7, 20517, 26605, -5.74, -99.99], [40195, \"pygmy oil\", 17, 233, 50.353816, 41.770865, 69.988, 65.0, 25.599, 25.599, 69.988, 65.0, 25.599, 9.7497, 1.5545, 1.809, 1.7926, 1.7688, 68.7, 2642, 3612, -14.07, -99.94], [36903, \"adder's tongue\", 320, 6314, 19.75984, 19.56848, 19.9, 19.888, 19.796, 19.79, 19.888, 19.796, 19.79, 2.9832, 0.9197, 0.9599, 0.8189, 0.7899, 79.6, 57356, 65741, -4.19, -99.97], [18256, \"imbued vial\", 9999, 9999, 2.0, 2.0, 2.0, 2.0, 2.0, 2.0, 2.0, 2.0, 2.0, 2.0, 1.6414, 2.2273, 1.8313, 0.6691, 22.9, 197, -9138, -26.31, -99.99], [36906, \"icethorn\", 109, 1873, 17.059303, 15.094945, 21.998, 21.998, 14.816, 14.812, 21.998, 14.988, 14.814, 0.7407, 0.9886, 0.9827, 0.8983, 0.7791, 73.3, 20671, 26327, 0.6, -99.99], [36908, \"frost lotus\", 84, 737, 73.40606, 43.827368, 125.0, 95.0, 24.9025, 14.9412, 99.614, 95.0, 24.9025, 4.7499, 7.5155, 3.2493, 1.5731, 1.2694, 58.8, 5598, 8783, 131.3, -99.99], [40411, \"enchanted vial\", 9999, 9999, 5.0, 5.0, 5.0, 5.0, 5.0, 5.0, 5.0, 5.0, 5.0, 5.0, 4.189, 2.9, 3.9999, 1.5642, 26.7, 27, -9897, 44.45, -99.99], [36901, \"goldclover\", 151, 2880, 12.45376, 11.984069, 19.0, 15.998, 9.984, 9.602, 15.998, 9.988, 9.602, 0.4798, 0.6248, 0.6617, 0.4188, 0.3772, 83.2, 35780, 40124, -5.58, -99.99], [37704, \"crystallized life\", 44, 172, 58.574219, 38.107527, 99.996, 59.9964, 44.999, 9.9998, 89.9955, 49.4865, 44.999, 9.8972, 1.0189, 1.28, 1.3898, 1.7597, 51.4, 1470, 2687, -20.4, -99.9], [35625, \"eternal life\", 156, 1043, 317.504623, 130.839961, 459.962, 386.0, 22.9001, 19.2999, 387.99, 386.0, 231.5988, 17.0, 14.846, 15.0396, 13.3217, 18.8816, 64.9, 5150, 6892, -1.29, -99.99], [37921, \"deadnettle\", 143, 2626, 10.818664, 10.185543, 15.992, 11.094, 10.61, 10.602, 11.094, 10.61, 10.604, 0.5546, 0.5746, 0.584, 0.3936, 0.393, 78.6, 17088, 19114, -1.61, -99.99], [44325, \"elixir of accuracy\", 18, 71, 37.512248, 11.755322, 60.0, 11.0, 4.3996, 2.18, 60.0, 60.0, 4.3998, 2.0, 2.6629, 2.8967, 1.9077, 1.2602, 47.7, 162, 268, -8.07, -99.99], [22447, \"lesser planar essence\", 44, 60, 50.572822, 24.801598, 167.8579, 24.0, 23.9798, 11.9997, 107.9991, 23.98, 11.9997, 8.88, 11.8705, 4.4444, 2.9752, 2.0087, 43.0, 383, 830, 167.09, -99.99], [36860, \"eternal fire\", 185, 189, 24.438102, 23.971908, 45.9996, 23.7787, 23.7782, 22.9999, 23.7787, 23.7782, 22.9999, 22.4996, 24.4358, 22.1997, 19.3671, 15.0955, 54.4, 1371, 2331, 10.07, -99.99], [35622, \"eternal water\", 82, 294, 26.428231, 13.838137, 90.909, 10.7364, 2.9992, 1.4995, 35.392, 21.4704, 2.9992, 1.4098, 3.4581, 2.4995, 2.3879, 1.8081, 56.8, 1650, 2610, 38.35, -100.0], [41285, \"chaotic skyflare diamond\", 3, 3, 94.999933, 94.999933, 95.0, 95.0, 94.9999, 94.9999, 95.0, 94.9999, 94.9999, 94.9999, 94.3014, 44.9996, 36.0648, 18.4154, 49.0, 162, 327, 109.56, -99.99], [41266, \"skyflare diamond\", 22, 22, 49.550668, 49.550668, 50.8955, 50.8955, 49.6133, 47.9999, 50.8955, 49.6133, 47.9999, 47.9998, 30.8846, 16.0, 16.5128, 10.8807, 45.0, 239, 509, 93.03, -99.98], [40048, \"potent monarch topaz\", 14, 14, 32.571264, 32.571264, 33.9998, 33.9998, 31.9999, 31.9998, 33.9998, 31.9999, 31.9998, 31.9997, 41.0068, 44.7999, 20.7047, 16.176, 25.3, 49, 179, -8.47, -99.99], [36930, \"monarch topaz\", 29, 29, 29.872386, 29.872386, 40.9998, 40.9995, 30.9999, 14.2007, 40.9995, 30.9999, 14.2007, 14.2006, 15.1013, 16.9995, 11.8025, 8.0547, 62.3, 583, 906, -11.17, -99.99], [39998, \"runed scarlet ruby\", 22, 22, 120.404236, 120.404236, 129.9991, 129.999, 117.9999, 115.0, 129.999, 117.9999, 115.0, 114.9, 127.8551, 127.9962, 93.1042, 75.08, 60.8, 228, 353, -0.11, -99.99], [36918, \"scarlet ruby\", 25, 25, 84.475544, 84.475544, 87.5, 87.4993, 83.9998, 82.9992, 87.4993, 83.9998, 82.9992, 82.9989, 84.1165, 81.9996, 73.7743, 63.2504, 61.0, 378, 594, 2.58, -99.99], [40026, \"purified twilight opal\", 17, 17, 33.505576, 33.505576, 41.9998, 41.9, 29.9998, 29.9994, 41.9, 29.9998, 29.9994, 29.9993, 43.1542, 25.0, 25.0, 16.2535, 50.0, 135, 253, 72.62, -99.99], [36927, \"twilight opal\", 31, 42, 34.309417, 18.459139, 100.0, 17.761, 8.5004, 8.5002, 100.0, 8.8808, 8.5003, 8.5002, 9.9382, 8.8888, 8.0702, 5.5915, 60.1, 361, 558, 11.81, -99.99], [40211, \"potion of speed\", 48, 142, 26.74641, 20.849929, 39.9, 26.9997, 25.0, 7.5, 39.9, 25.0, 25.0, 7.5, 4.5136, 4.8691, 4.7331, 3.8797, 71.8, 8397, 11552, -7.3, -99.98], [40212, \"potion of wild magic\", 76, 313, 63.858189, 38.615022, 180.0, 44.75, 29.7, 29.7, 44.9995, 44.7495, 29.7, 8.9, 7.8604, 7.3093, 5.9304, 4.7477, 58.6, 3941, 6412, 7.54, -99.99], [36905, \"lichbloom\", 137, 144, 1.484214, 1.162312, 8.75, 1.1, 1.1, 1.0999, 1.1, 1.1, 1.0999, 1.0999, 1.2219, 1.2963, 1.4882, 1.2577, 76.7, 20517, 26605, -5.74, -99.99], [33470, \"frostweave cloth\", 330, 3679, 8.099365, 5.109838, 16.302, 8.982, 3.588, 0.4497, 8.9859, 8.98, 8.5679, 0.4487, 0.5426, 0.4975, 0.4196, 0.3509, 86.5, 43951, 47131, 9.07, -99.99], [34054, \"infinite dust\", 325, 2382, 27.145951, 11.74717, 79.6756, 30.044, 1.9699, 1.5023, 30.048, 30.044, 30.04, 1.4799, 1.7287, 1.9, 1.4784, 1.1715, 69.0, 24488, 33107, -9.02, -99.99], [34055, \"greater cosmic essence\", 43, 145, 158.706706, 77.421628, 229.988, 229.985, 45.7798, 22.8, 229.988, 229.985, 45.7798, 22.8, 19.7056, 19.4996, 16.0869, 13.5945, 58.0, 2688, 4489, 1.06, -99.99], [34052, \"dream shard\", 87, 144, 88.868628, 37.62486, 304.99, 21.4989, 21.4987, 21.4987, 107.4955, 21.4989, 21.4987, 21.3998, 21.2412, 21.7996, 16.7747, 13.673, 54.5, 1289, 2221, -2.56, -99.99], [41611, \"eternal belt buckle\", 8, 8, 122.999612, 122.999612, 122.9999, 122.9998, 122.9996, 122.9995, 122.9998, 122.9996, 122.9995, 122.9995, 58.041, 59.9998, 42.6962, 26.5999, 61.4, 270, 431, -3.26, -99.98], [37663, \"titansteel bar\", 20, 39, 1390.595587, 266.367095, 2573.994, 150.0, 150.0, 143.55, 2573.994, 2573.994, 150.0, 128.6994, 134.1569, 137.1537, 115.6565, 105.4451, 78.3, 517, 621, -2.18, -99.99], [45085, \"titansteel spellblade\", 3, 3, 1299.999833, 1299.999833, 1300.0, 1300.0, 1299.9998, 1299.9997, 1300.0, 1299.9998, 1299.9997, 1299.9997, 1305.7046, 1659.9999, 1187.9995, 924.8724, 28.1, 14, 46, -21.34, -99.99], [4338, \"mageweave cloth\", 93, 1700, 17.291362, 16.1698, 30.124, 19.998, 18.992, 11.0, 19.998, 19.998, 11.998, 1.2375, 0.8153, 0.6276, 0.4919, 0.4094, 63.9, 10282, 14390, 29.91, -99.98], [2835, \"rough stone\", 111, 2167, 8.405328, 8.261541, 15.0, 15.0, 7.5, 1.0, 15.0, 10.5, 1.0, 0.2422, 0.0173, 0.0479, 0.0096, 0.0178, 56.6, 6917, 10053, -63.88, -99.86], [2840, \"copper bar\", 13, 169, 7.423676, 5.453392, 15.0, 12.9987, 5.998, 0.8994, 15.0, 6.0, 1.0, 0.0, 0.6475, 0.4993, 0.4926, 0.6496, 59.1, 7252, 12101, 29.68, -100.0], [2836, \"coarse stone\", 19, 208, 2.683469, 1.776105, 8.0, 2.45, 0.4, 0.06, 8.0, 0.964, 0.056, 0.0252, 0.1514, 0.1358, 0.0854, 0.1435, 68.0, 4672, 6662, 11.49, -100.0], [2589, \"linen cloth\", 233, 4500, 11.136977, 10.806499, 15.158, 15.158, 15.158, 3.5, 15.158, 15.158, 3.5, 0.1674, 0.1053, 0.0485, 0.0234, 0.0635, 67.6, 16363, 19705, 117.11, -99.98], [2841, \"bronze bar\", 21, 300, 28.596076, 24.475705, 50.0, 34.996, 17.5, 17.5, 35.0, 30.0, 17.5, 3.0, 1.6802, 1.1499, 1.1198, 1.2712, 59.5, 4924, 7975, 46.12, -99.98], [2838, \"heavy stone\", 5, 71, 13.676056, 10.6, 15.0, 15.0, 15.0, 7.0, 15.0, 15.0, 15.0, 1.0, 0.5814, 0.4904, 0.3636, 0.3455, 57.3, 3833, 6618, 18.56, -99.98], [1206, \"moss agate\", 18, 32, 28.178684, 15.873717, 77.9982, 18.0, 9.9999, 7.9999, 40.0, 17.0, 8.9999, 3.3999, 12.7248, 14.9997, 9.9999, 9.5136, 60.6, 351, 547, -15.17, -100.0], [2592, \"wool cloth\", 71, 1316, 10.491619, 10.092824, 26.0, 14.598, 8.998, 7.4, 14.598, 8.998, 7.5, 1.3992, 0.4041, 0.25, 0.4202, 0.5511, 80.3, 13346, 15304, 61.64, -99.97], [2319, \"medium leather\", 24, 354, 8.958336, 7.044783, 48.75, 4.5, 3.798, 0.9996, 4.5, 3.798, 3.798, 0.3794, 0.475, 0.3226, 0.2744, 0.5008, 61.1, 4265, 6626, 47.24, -99.99], [3859, \"steel bar\", 1, 2, 2.499, 2.499, 2.499, 2.499, 2.499, 2.499, 2.499, 2.499, 2.499, 2.499, 1.9311, 2.0613, 1.25, 0.9334, 41.6, 1450, 3483, -6.32, -99.99], [7912, \"solid stone\", 40, 744, 18.944901, 18.05284, 25.0, 24.796, 20.0, 10.0, 24.796, 20.0, 10.0, 1.0, 0.2281, 0.1822, 0.1165, 0.115, 57.2, 8637, 14355, 25.19, -99.96], [3860, \"mithril bar\", 293, 5497, 97.178793, 91.491608, 131.0, 130.4, 79.998, 79.1999, 130.4, 90.4, 79.1999, 5.0, 3.0982, 3.9011, 2.9563, 2.6591, 70.6, 6552, 3783, -20.58, -99.98], [4338, \"mageweave cloth\", 93, 1700, 17.291362, 16.1698, 30.124, 19.998, 18.992, 11.0, 19.998, 19.998, 11.998, 1.2375, 0.8153, 0.6276, 0.4919, 0.4094, 63.9, 10282, 14390, 29.91, -99.98], [12365, \"dense stone\", 108, 2018, 1.358092, 1.295011, 2.934, 2.932, 0.812, 0.808, 2.932, 0.812, 0.808, 0.147, 0.1108, 0.0499, 0.0526, 0.0808, 59.4, 7817, 11141, 122.04, -99.99], [12359, \"thorium bar\", 76, 1467, 19.919393, 19.299145, 19.998, 19.998, 19.998, 19.994, 19.998, 19.998, 19.994, 0.9995, 1.1178, 1.3347, 1.0778, 0.8531, 70.5, 7177, 8713, -16.25, -99.99], [14047, \"runecloth\", 197, 3817, 20.192961, 19.625527, 29.998, 29.998, 29.998, 4.994, 29.998, 29.998, 5.0, 0.9999, 0.423, 0.3004, 0.185, 0.144, 84.0, 31979, 34253, 40.81, -99.98], [23445, \"fel iron bar\", 80, 933, 75.735636, 47.820217, 104.996, 82.99, 75.62, 3.9799, 83.0, 79.6, 79.0, 3.9799, 4.7526, 3.7991, 3.589, 4.396, 71.5, 4176, 4907, 25.1, -99.99], [22573, \"mote of earth\", 21, 72, 1.747715, 0.904786, 3.608, 2.0, 0.4509, 0.3363, 2.0, 2.0, 0.6, 0.3363, 0.1975, 0.268, 0.2768, 0.281, 48.2, 1109, 2228, -26.31, -99.98], [22574, \"mote of fire\", 23, 96, 3.197628, 1.851974, 4.35, 4.345, 0.8698, 0.4192, 4.35, 4.345, 1.9776, 0.4192, 1.019, 0.9989, 1.1241, 1.3758, 55.3, 1156, 1994, 2.01, -100.0], [21877, \"netherweave cloth\", 189, 3152, 9.075709, 7.684336, 35.998, 10.0, 4.8999, 2.976, 10.0, 6.0, 3.878, 0.1375, 0.2877, 0.226, 0.1835, 0.1505, 83.8, 26104, 27998, 27.3, -100.0], [23446, \"adamantite bar\", 36, 383, 47.430646, 30.368283, 68.748, 53.818, 33.3552, 3.0, 60.99, 53.1962, 33.3588, 2.76, 3.588, 2.924, 2.5933, 2.4424, 62.1, 3108, 4621, 22.71, -99.99], [36916, \"cobalt bar\", 66, 661, 20.131428, 20.128435, 22.1067, 20.098, 20.098, 20.098, 20.098, 20.098, 20.098, 20.098, 1.8623, 1.5992, 1.4364, 1.2193, 74.6, 17613, 22948, 16.45, -99.89], [33470, \"frostweave cloth\", 330, 3679, 8.099365, 5.109838, 16.302, 8.982, 3.588, 0.4497, 8.9859, 8.98, 8.5679, 0.4487, 0.5426, 0.4975, 0.4196, 0.3509, 86.5, 43951, 47131, 9.07, -99.99], [37705, \"crystallized water\", 166, 600, 10.581366, 4.595636, 19.398, 9.188, 0.9296, 0.9283, 19.398, 9.398, 2.9625, 0.9093, 0.8108, 0.749, 0.5308, 0.3357, 70.9, 3481, 4309, 8.25, -99.99], [37701, \"crystallized earth\", 42, 109, 12.302576, 6.285943, 28.679, 5.736, 5.7358, 0.9992, 28.678, 5.736, 5.7358, 0.9989, 0.7939, 0.9982, 0.7402, 0.6916, 66.2, 1857, 2696, -20.47, -99.99], [37702, \"crystallized fire\", 32, 221, 25.180443, 19.995756, 33.333, 33.333, 22.1382, 9.466, 33.333, 23.666, 14.199, 2.3665, 2.6984, 2.9995, 2.2222, 1.6344, 55.6, 979, 1539, -10.04, -99.99], [33568, \"borean leather\", 378, 7216, 8.668588, 8.362369, 9.9999, 9.9999, 7.7979, 7.7979, 9.9999, 7.798, 7.7979, 0.0, 0.3653, 0.3911, 0.4319, 0.4489, 81.1, 21674, 19509, -6.6, -100.0], [35627, \"eternal shadow\", 150, 754, 34.314749, 17.970519, 69.562, 23.664, 14.4975, 3.0, 59.174, 23.664, 14.4975, 2.7499, 4.3578, 3.7499, 2.8927, 1.6851, 65.2, 5180, 7190, 16.21, -99.99], [36913, \"saronite bar\", 124, 1695, 64.005809, 47.127719, 100.0, 68.0, 65.9999, 13.439, 70.0, 66.998, 53.758, 2.9895, 2.5524, 1.8798, 1.6996, 1.643, 70.7, 15413, 20105, 35.78, -99.99]];\n",
       "\n",
       "    // Define the dt_args\n",
       "    let dt_args = {\"order\": []};\n",
       "    dt_args[\"data\"] = data;\n",
       "\n",
       "    $(document).ready(function () {\n",
       "        \n",
       "        $('#424b59f2-15b9-4381-a8c0-cd4099cb36cb').DataTable(dt_args);\n",
       "    });\n",
       "</script>\n",
       "</div>\n"
      ],
      "text/plain": [
       "<IPython.core.display.HTML object>"
      ]
     },
     "metadata": {},
     "output_type": "display_data"
    }
   ],
   "source": [
    "ii = item_infos(_names)\n",
    "show(ii)"
   ]
  },
  {
   "cell_type": "code",
   "execution_count": 14,
   "id": "01887535-44b4-4d39-82b8-cd6697a70a0a",
   "metadata": {},
   "outputs": [
    {
     "data": {
      "text/plain": [
       "11.53"
      ]
     },
     "execution_count": 14,
     "metadata": {},
     "output_type": "execute_result"
    }
   ],
   "source": [
    "buy(i(\"overcharged capacitor\"))"
   ]
  },
  {
   "cell_type": "code",
   "execution_count": 15,
   "id": "2ca411ff-b855-4271-97f4-824e12bbfce5",
   "metadata": {},
   "outputs": [
    {
     "data": {
      "text/plain": [
       "8.2431"
      ]
     },
     "execution_count": 15,
     "metadata": {},
     "output_type": "execute_result"
    }
   ],
   "source": [
    "buy(i(\"4 cobalt bar + 1 crystallized earth\"))"
   ]
  },
  {
   "cell_type": "code",
   "execution_count": 16,
   "id": "60bc4031-522c-4ea2-bdad-733443e569e9",
   "metadata": {},
   "outputs": [
    {
     "data": {
      "text/plain": [
       "{'id': 46377,\n",
       " 'name': 'flask of endless rage',\n",
       " 'num_auctions': 113,\n",
       " 'quantity': 508,\n",
       " 'weight_sell': 186.5177437007874,\n",
       " 'avg_sell': 59.96147964601769,\n",
       " 'max': 250.0,\n",
       " 'p80': 75.0,\n",
       " 'p50': 19.5,\n",
       " 'p20': 12.49,\n",
       " 'wp80': 250.0,\n",
       " 'wp50': 245.0,\n",
       " 'wp20': 39.9998,\n",
       " 'min': 12.49,\n",
       " 'realm_market_value': 13.6471,\n",
       " 'realm_historical': 13.75,\n",
       " 'region_historical': 9.8093,\n",
       " 'region_avg_sale_price': 7.363,\n",
       " 'sale_pct': 60.2,\n",
       " 'sold_per_day': 2420,\n",
       " 'headroom': 3511,\n",
       " 'market_skew_pct': -0.75,\n",
       " 'auction_skew_pct': -99.99}"
      ]
     },
     "execution_count": 16,
     "metadata": {},
     "output_type": "execute_result"
    }
   ],
   "source": [
    "item_info(\"flask of endless rage\")"
   ]
  },
  {
   "cell_type": "code",
   "execution_count": 17,
   "id": "26fbb082-a8b6-4e51-87fd-6192d7ef50e1",
   "metadata": {},
   "outputs": [
    {
     "data": {
      "text/plain": [
       "4.7499"
      ]
     },
     "execution_count": 17,
     "metadata": {},
     "output_type": "execute_result"
    }
   ],
   "source": [
    "buy(i(\"frost lotus\"), gold(\"min\"))"
   ]
  },
  {
   "cell_type": "code",
   "execution_count": 18,
   "id": "260acb86-908c-4027-be79-16e3390eff3a",
   "metadata": {},
   "outputs": [
    {
     "data": {
      "text/plain": [
       "8.5824"
      ]
     },
     "execution_count": 18,
     "metadata": {},
     "output_type": "execute_result"
    }
   ],
   "source": [
    "buy_now(i(\"bloodstone + chalcedony + 10 crystallized air\"))"
   ]
  },
  {
   "cell_type": "code",
   "execution_count": 19,
   "id": "5c1ebe8b-d1bd-40cd-b555-8f909d1840de",
   "metadata": {},
   "outputs": [
    {
     "data": {
      "text/plain": [
       "2.2519"
      ]
     },
     "execution_count": 19,
     "metadata": {},
     "output_type": "execute_result"
    }
   ],
   "source": [
    "buy_now(i(\"dark jade + huge citrine\"))"
   ]
  },
  {
   "cell_type": "code",
   "execution_count": 20,
   "id": "ff3e8244-8e4a-441d-91e7-0f81614f4bdc",
   "metadata": {},
   "outputs": [
    {
     "data": {
      "text/plain": [
       "60.0249"
      ]
     },
     "execution_count": 20,
     "metadata": {},
     "output_type": "execute_result"
    }
   ],
   "source": [
    "buy_now(i(\"earthsiege diamond\"))"
   ]
  },
  {
   "cell_type": "code",
   "execution_count": 21,
   "id": "bb56f166-bbfd-4872-a992-83ccb18473e2",
   "metadata": {},
   "outputs": [],
   "source": [
    "from procurement import ProcurementPlanner\n",
    "from procurement import topk_procurements\n",
    "pp = ProcurementPlanner(items, item_info, r, approaches=[\"ah_buy_now\", \"ah_buy_market\", \"craft\"])"
   ]
  },
  {
   "cell_type": "code",
   "execution_count": 22,
   "id": "5a434cc5-330b-46ac-8ac3-4d615fdd0819",
   "metadata": {},
   "outputs": [
    {
     "data": {
      "text/plain": [
       "[[Craft(item=earthsiege diamond, ingredients=eternal fire + huge citrine + dark jade),\n",
       "  AHBuyNow(item=eternal fire, gold=22.4996),\n",
       "  AHBuyNow(item=huge citrine, gold=1.254),\n",
       "  AHBuyNow(item=dark jade, gold=0.9979)],\n",
       " [Craft(item=earthsiege diamond, ingredients=eternal fire + huge citrine + dark jade),\n",
       "  Craft(item=eternal fire, ingredients=10.0*crystallized fire),\n",
       "  Craft(item=10.0*crystallized fire, ingredients=eternal fire),\n",
       "  AHBuyNow(item=eternal fire, gold=22.4996),\n",
       "  AHBuyNow(item=huge citrine, gold=1.254),\n",
       "  AHBuyNow(item=dark jade, gold=0.9979)],\n",
       " [Craft(item=earthsiege diamond, ingredients=eternal fire + huge citrine + dark jade),\n",
       "  AHBuyNow(item=eternal fire, gold=22.4996),\n",
       "  AHBuyNow(item=huge citrine, gold=1.254),\n",
       "  AHBuyMarket(item=dark jade, gold=1.0725)],\n",
       " [Craft(item=earthsiege diamond, ingredients=eternal fire + huge citrine + dark jade),\n",
       "  Craft(item=eternal fire, ingredients=10.0*crystallized fire),\n",
       "  Craft(item=10.0*crystallized fire, ingredients=eternal fire),\n",
       "  AHBuyNow(item=eternal fire, gold=22.4996),\n",
       "  AHBuyNow(item=huge citrine, gold=1.254),\n",
       "  AHBuyMarket(item=dark jade, gold=1.0725)]]"
      ]
     },
     "execution_count": 22,
     "metadata": {},
     "output_type": "execute_result"
    }
   ],
   "source": [
    "topk_procurements(pp, i(\"earthsiege diamond\"))"
   ]
  },
  {
   "cell_type": "code",
   "execution_count": 23,
   "id": "38b851b4-16a7-45df-9698-48d3e679efa5",
   "metadata": {},
   "outputs": [
    {
     "data": {
      "text/plain": [
       "[[Craft(item=spellweave robe, ingredients=8.0*spellweave + 6.0*bolt of imbued frostweave + eternium thread + frozen orb),\n",
       "  Craft(item=8.0*spellweave, ingredients=8.0*bolt of imbued frostweave + 16.0*eternal fire),\n",
       "  Craft(item=14.0*bolt of imbued frostweave, ingredients=28.0*bolt of frostweave + 28.0*infinite dust),\n",
       "  Craft(item=28.0*bolt of frostweave, ingredients=140.0*frostweave cloth),\n",
       "  AHBuyNow(item=140.0*frostweave cloth, gold=62.818),\n",
       "  AHBuyNow(item=28.0*infinite dust, gold=41.437200000000004),\n",
       "  AHBuyNow(item=16.0*eternal fire, gold=359.9936),\n",
       "  AHBuyNow(item=eternium thread, gold=3.0),\n",
       "  AHBuyNow(item=frozen orb, gold=59.0)],\n",
       " [Craft(item=spellweave robe, ingredients=8.0*spellweave + 6.0*bolt of imbued frostweave + eternium thread + frozen orb),\n",
       "  Craft(item=8.0*spellweave, ingredients=8.0*bolt of imbued frostweave + 16.0*eternal fire),\n",
       "  Craft(item=14.0*bolt of imbued frostweave, ingredients=28.0*bolt of frostweave + 28.0*infinite dust),\n",
       "  Craft(item=28.0*bolt of frostweave, ingredients=140.0*frostweave cloth),\n",
       "  AHBuyNow(item=140.0*frostweave cloth, gold=62.818),\n",
       "  AHBuyNow(item=28.0*infinite dust, gold=41.437200000000004),\n",
       "  Craft(item=16.0*eternal fire, ingredients=160.0*crystallized fire),\n",
       "  Craft(item=160.0*crystallized fire, ingredients=16.0*eternal fire),\n",
       "  AHBuyNow(item=16.0*eternal fire, gold=359.9936),\n",
       "  AHBuyNow(item=eternium thread, gold=3.0),\n",
       "  AHBuyNow(item=frozen orb, gold=59.0)],\n",
       " [Craft(item=spellweave robe, ingredients=8.0*spellweave + 6.0*bolt of imbued frostweave + eternium thread + frozen orb),\n",
       "  Craft(item=8.0*spellweave, ingredients=8.0*bolt of imbued frostweave + 16.0*eternal fire),\n",
       "  Craft(item=14.0*bolt of imbued frostweave, ingredients=28.0*bolt of frostweave + 28.0*infinite dust),\n",
       "  Craft(item=28.0*bolt of frostweave, ingredients=140.0*frostweave cloth),\n",
       "  AHBuyNow(item=140.0*frostweave cloth, gold=62.818),\n",
       "  AHBuyNow(item=28.0*infinite dust, gold=41.437200000000004),\n",
       "  AHBuyNow(item=16.0*eternal fire, gold=359.9936),\n",
       "  AHBuyMarket(item=eternium thread, gold=3.4998),\n",
       "  AHBuyNow(item=frozen orb, gold=59.0)],\n",
       " [Craft(item=spellweave robe, ingredients=8.0*spellweave + 6.0*bolt of imbued frostweave + eternium thread + frozen orb),\n",
       "  Craft(item=8.0*spellweave, ingredients=8.0*bolt of imbued frostweave + 16.0*eternal fire),\n",
       "  Craft(item=14.0*bolt of imbued frostweave, ingredients=28.0*bolt of frostweave + 28.0*infinite dust),\n",
       "  Craft(item=28.0*bolt of frostweave, ingredients=140.0*frostweave cloth),\n",
       "  AHBuyNow(item=140.0*frostweave cloth, gold=62.818),\n",
       "  AHBuyNow(item=28.0*infinite dust, gold=41.437200000000004),\n",
       "  Craft(item=16.0*eternal fire, ingredients=160.0*crystallized fire),\n",
       "  Craft(item=160.0*crystallized fire, ingredients=16.0*eternal fire),\n",
       "  AHBuyNow(item=16.0*eternal fire, gold=359.9936),\n",
       "  AHBuyMarket(item=eternium thread, gold=3.4998),\n",
       "  AHBuyNow(item=frozen orb, gold=59.0)]]"
      ]
     },
     "execution_count": 23,
     "metadata": {},
     "output_type": "execute_result"
    }
   ],
   "source": [
    "topk_procurements(pp, i(\"spellweave robe\"))"
   ]
  },
  {
   "cell_type": "code",
   "execution_count": 24,
   "id": "a5a95fd0-6122-4454-9e76-68b4d5f4a0ca",
   "metadata": {},
   "outputs": [
    {
     "data": {
      "text/plain": [
       "[[Craft(item=skyflare diamond, ingredients=chalcedony + bloodstone + eternal air),\n",
       "  AHBuyNow(item=chalcedony, gold=1.4598),\n",
       "  AHBuyMarket(item=bloodstone, gold=1.6041),\n",
       "  Craft(item=eternal air, ingredients=10.0*crystallized air),\n",
       "  AHBuyNow(item=10.0*crystallized air, gold=5.313)],\n",
       " [Craft(item=skyflare diamond, ingredients=chalcedony + bloodstone + eternal air),\n",
       "  AHBuyMarket(item=chalcedony, gold=1.6085),\n",
       "  AHBuyMarket(item=bloodstone, gold=1.6041),\n",
       "  Craft(item=eternal air, ingredients=10.0*crystallized air),\n",
       "  AHBuyNow(item=10.0*crystallized air, gold=5.313)],\n",
       " [Craft(item=skyflare diamond, ingredients=chalcedony + bloodstone + eternal air),\n",
       "  AHBuyNow(item=chalcedony, gold=1.4598),\n",
       "  AHBuyNow(item=bloodstone, gold=1.8096),\n",
       "  Craft(item=eternal air, ingredients=10.0*crystallized air),\n",
       "  AHBuyNow(item=10.0*crystallized air, gold=5.313)],\n",
       " [Craft(item=skyflare diamond, ingredients=chalcedony + bloodstone + eternal air),\n",
       "  AHBuyMarket(item=chalcedony, gold=1.6085),\n",
       "  AHBuyNow(item=bloodstone, gold=1.8096),\n",
       "  Craft(item=eternal air, ingredients=10.0*crystallized air),\n",
       "  AHBuyNow(item=10.0*crystallized air, gold=5.313)]]"
      ]
     },
     "execution_count": 24,
     "metadata": {},
     "output_type": "execute_result"
    }
   ],
   "source": [
    "topk_procurements(pp, i(\"skyflare diamond\"))"
   ]
  },
  {
   "cell_type": "code",
   "execution_count": 25,
   "id": "e46d7374-2948-46fb-9a7b-cfb89bf2ac16",
   "metadata": {},
   "outputs": [
    {
     "data": {
      "text/plain": [
       "69.7965"
      ]
     },
     "execution_count": 25,
     "metadata": {},
     "output_type": "execute_result"
    }
   ],
   "source": [
    "buy_market(i(\"3 titanium bar + eternal fire + eternal earth + eternal shadow\"))"
   ]
  },
  {
   "cell_type": "code",
   "execution_count": 26,
   "id": "7b5288ea-8cb5-4f0f-b6ea-a8bad180d4aa",
   "metadata": {},
   "outputs": [
    {
     "data": {
      "text/plain": [
       "57.998599999999996"
      ]
     },
     "execution_count": 26,
     "metadata": {},
     "output_type": "execute_result"
    }
   ],
   "source": [
    "buy_now(i(\"3 titanium bar + eternal fire + eternal earth + eternal shadow\"))"
   ]
  },
  {
   "cell_type": "code",
   "execution_count": 28,
   "id": "57f00719-507e-4139-95e2-1b6c132c6fe8",
   "metadata": {},
   "outputs": [
    {
     "data": {
      "text/plain": [
       "[[Craft(item=eternal air, ingredients=10.0*crystallized air),\n",
       "  AHBuyNow(item=10.0*crystallized air, gold=5.313)],\n",
       " [AHBuyNow(item=eternal air, gold=6.1596)],\n",
       " [Craft(item=eternal air, ingredients=10.0*crystallized air),\n",
       "  Craft(item=10.0*crystallized air, ingredients=eternal air),\n",
       "  AHBuyNow(item=eternal air, gold=6.1596)],\n",
       " [Craft(item=eternal air, ingredients=10.0*crystallized air),\n",
       "  AHBuyMarket(item=10.0*crystallized air, gold=6.761)]]"
      ]
     },
     "execution_count": 28,
     "metadata": {},
     "output_type": "execute_result"
    }
   ],
   "source": [
    "topk_procurements(pp, i(\"eternal air\"))"
   ]
  },
  {
   "cell_type": "code",
   "execution_count": 29,
   "id": "d3e996b4-e394-40f3-bfa3-15f8fdcc3f76",
   "metadata": {},
   "outputs": [
    {
     "data": {
      "text/plain": [
       "[[AHBuyNow(item=wild spineleaf, gold=0.5)],\n",
       " [AHBuyMarket(item=wild spineleaf, gold=3.4689)]]"
      ]
     },
     "execution_count": 29,
     "metadata": {},
     "output_type": "execute_result"
    }
   ],
   "source": [
    "topk_procurements(pp, i(\"wild spineleaf\"))"
   ]
  },
  {
   "cell_type": "code",
   "execution_count": null,
   "id": "bf2b9f9b-3ae7-4f01-bd1f-baedd66ffe3d",
   "metadata": {},
   "outputs": [],
   "source": []
  }
 ],
 "metadata": {
  "kernelspec": {
   "display_name": "Python 3",
   "language": "python",
   "name": "python3"
  },
  "language_info": {
   "codemirror_mode": {
    "name": "ipython",
    "version": 3
   },
   "file_extension": ".py",
   "mimetype": "text/x-python",
   "name": "python",
   "nbconvert_exporter": "python",
   "pygments_lexer": "ipython3",
   "version": "3.8.8"
  }
 },
 "nbformat": 4,
 "nbformat_minor": 5
}
