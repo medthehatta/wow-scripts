{
 "cells": [
  {
   "cell_type": "code",
   "execution_count": 1,
   "id": "1d210c4d-bf48-4ec4-8c35-7ac9f0628b71",
   "metadata": {},
   "outputs": [],
   "source": [
    "from importlib import reload\n",
    "def reload_all():\n",
    "    import tsm; reload(tsm)\n",
    "    import _keys; reload(_keys)\n",
    "    import blizzard; reload(blizzard)\n",
    "    import config; reload(config)\n",
    "    import kvstore; reload(kvstore)\n",
    "    import snapshot; reload(snapshot)\n",
    "    import elemental_arbitrage; reload(elemental_arbitrage)\n",
    "    import bliz_tsm_join; reload(bliz_tsm_join)\n",
    "    import crafting; reload(crafting)\n",
    "    import kvstore; reload(kvstore)\n",
    "    import crafting; reload(crafting)\n",
    "    import procurement; reload(procurement)\n",
    "reload_all()\n",
    "from itables import show"
   ]
  },
  {
   "cell_type": "code",
   "execution_count": 2,
   "id": "51f1c1c4-c910-4c41-80f0-35987a1e4f01",
   "metadata": {},
   "outputs": [
    {
     "name": "stderr",
     "output_type": "stream",
     "text": [
      "WARNING:snapshot:Could not fetch data with 'tsm_ah_snapper', falling back to cached 'ah\\snap-2023-01-04T22-17-13' from '2023-01-04 22:17:13' as requested.  Error info (next line)\n",
      "401 Client Error: Unauthorized for url: https://auth.tradeskillmaster.com/oauth2/token\n"
     ]
    }
   ],
   "source": [
    "from snapshot import SnapshotProcessor\n",
    "from tsm import auction_house_snapshot\n",
    "from config import tsm_region_id\n",
    "from config import tsm_realm_id\n",
    "from config import tsm_ah_id\n",
    "from config import tsm_cache_dir\n",
    "\n",
    "def tsm_ah_snapper():\n",
    "    return auction_house_snapshot(tsm_region_id, tsm_realm_id, tsm_ah_id)\n",
    "\n",
    "tsm_ah_snap = SnapshotProcessor(tsm_ah_snapper, cache_dir=tsm_cache_dir)\n",
    "tsm_ah = tsm_ah_snap.get(max_age_seconds=3000)"
   ]
  },
  {
   "cell_type": "code",
   "execution_count": 3,
   "id": "3a780b13-30a3-4f1e-8e33-9a03b0165f2c",
   "metadata": {},
   "outputs": [],
   "source": [
    "from snapshot import SnapshotProcessor\n",
    "from blizzard import auction_data\n",
    "from blizzard import auction_summary\n",
    "from config import blizzard_realm_id\n",
    "from config import blizzard_ah_id\n",
    "from config import blizzard_cache_dir\n",
    "\n",
    "def bliz_ah_snapper():\n",
    "    return auction_data(blizzard_realm_id, blizzard_ah_id)\n",
    "\n",
    "bliz_ah_snap = SnapshotProcessor(bliz_ah_snapper, cache_dir=blizzard_cache_dir)\n",
    "bliz_ah = bliz_ah_snap.get(max_age_seconds=3000)"
   ]
  },
  {
   "cell_type": "code",
   "execution_count": 4,
   "id": "b5d2b47b-0b5f-4a80-9a7e-438f254c7c6f",
   "metadata": {},
   "outputs": [],
   "source": [
    "from kvstore import InefficientKVStore\n",
    "from blizzard import ItemLookup\n",
    "from blizzard import collapse_languages\n",
    "from config import blizzard_item_cache\n",
    "from config import blizzard_item_reverse_cache\n",
    "\n",
    "items = ItemLookup(\n",
    "    InefficientKVStore(blizzard_item_cache),\n",
    "    InefficientKVStore(blizzard_item_reverse_cache),\n",
    ")"
   ]
  },
  {
   "cell_type": "code",
   "execution_count": 5,
   "id": "0ac0b9a9-1a5d-4784-a2b0-42cdf5787ab7",
   "metadata": {},
   "outputs": [],
   "source": [
    "from bliz_tsm_join import item_info_getter\n",
    "item_info = item_info_getter(items, bliz_ah_snap, tsm_ah_snap, max_age_seconds=3000)\n",
    "item_info_current = item_info_getter(items, bliz_ah_snap, tsm_ah_snap, max_age_seconds=0)"
   ]
  },
  {
   "cell_type": "code",
   "execution_count": 6,
   "id": "3f958cfe-e63b-4104-aa24-0ec5672302b1",
   "metadata": {},
   "outputs": [],
   "source": [
    "reload_all()\n",
    "\n",
    "from crafting import Recipes\n",
    "from crafting import purchase_price\n",
    "from crafting import crafting_price\n",
    "from crafting import gold\n",
    "\n",
    "\n",
    "r = Recipes(items)\n",
    "i = r.ingredients\n",
    "\n",
    "def buy(item, price_method=gold(\"realm_market_value\")):\n",
    "    return purchase_price(item_info, item, price_method)\n",
    "\n",
    "\n",
    "def buy_now(item):\n",
    "    return buy(item, price_method=gold(\"min\"))\n",
    "\n",
    "\n",
    "def buy_market(item):\n",
    "    return buy(item, price_method=gold(\"realm_market_value\"))\n",
    "\n",
    "\n",
    "recipe_listing = \"\"\"\n",
    "2 flask of the frost wyrm\n",
    "5 icethorn + 5 lichbloom + frost lotus + enchanted vial\n",
    "\n",
    "2 flask of endless rage\n",
    "7 lichbloom + 3 goldclover + frost lotus + enchanted vial\n",
    "\n",
    "2 flask of stoneblood\n",
    "7 lichbloom + 3 crystallized life + frost lotus + enchanted vial\n",
    "\n",
    "firecracker salmon\n",
    "glacial salmon + northern spices\n",
    "\n",
    "elixir of greater agility\n",
    "sungrass + goldthorn + crystal vial\n",
    "\n",
    "titanium bar\n",
    "8 saronite bar\n",
    "\n",
    "titanium bar\n",
    "2 titanium ore\n",
    "\n",
    "titansteel bar\n",
    "3 titanium bar + eternal fire + eternal earth + eternal shadow\n",
    "\n",
    "indestructible potion\n",
    "2 icethorn + imbued vial\n",
    "\n",
    "saronite bar\n",
    "2 saronite ore\n",
    "\n",
    "potion of speed\n",
    "2 adder's tongue + pygmy oil + imbued vial\n",
    "\n",
    "potion of wild magic\n",
    "2 lichbloom + pygmy oil + imbued vial\n",
    "\n",
    "titansteel spellblade\n",
    "6 titansteel bar + 6 infinite dust + 2 frozen orb\n",
    "\n",
    "glyph of wild growth\n",
    "resilient parchment + ethereal ink\n",
    "\n",
    "spellweave robe\n",
    "8 spellweave + 6 bolt of imbued frostweave + eternium thread + frozen orb\n",
    "\n",
    "spellweave\n",
    "bolt of imbued frostweave + 2 eternal fire\n",
    "\n",
    "bolt of imbued frostweave\n",
    "2 bolt of frostweave + 2 infinite dust\n",
    "\n",
    "bolt of frostweave\n",
    "5 frostweave cloth\n",
    "\n",
    "earthsiege diamond\n",
    "dark jade + huge citrine + eternal fire\n",
    "\n",
    "skyflare diamond\n",
    "bloodstone + chalcedony + eternal air\n",
    "\"\"\"\n",
    "\n",
    "reversible_recipes = \"\"\"\n",
    "eternal shadow\n",
    "10 crystallized shadow\n",
    "\n",
    "eternal water\n",
    "10 crystallized water\n",
    "\n",
    "greater planar essence\n",
    "3 lesser planar essence\n",
    "\n",
    "greater cosmic essence\n",
    "3 lesser cosmic essence\n",
    "\"\"\"\n",
    "\n",
    "r_out = None\n",
    "for line in recipe_listing.splitlines():\n",
    "    if line.strip():\n",
    "        if r_out:\n",
    "            r.recipe_from_strings(r_out, line.strip())\n",
    "            r_out = None\n",
    "        else:\n",
    "            r_out = line.strip()\n",
    "\n",
    "            \n",
    "r_out = None\n",
    "for line in reversible_recipes.splitlines():\n",
    "    if line.strip():\n",
    "        if r_out:\n",
    "            r.recipe_from_strings(r_out, line.strip())\n",
    "            r.recipe_from_strings(line.strip(), r_out)\n",
    "            r_out = None\n",
    "        else:\n",
    "            r_out = line.strip()"
   ]
  },
  {
   "cell_type": "code",
   "execution_count": 7,
   "id": "83db8dea-7248-4e2c-912a-757af0cea027",
   "metadata": {
    "tags": []
   },
   "outputs": [
    {
     "name": "stdout",
     "output_type": "stream",
     "text": [
      "DEFINITELY   SB eternal-life (unit profit: 33703,headroom: 5523)\n",
      "SKIP        eternal-earth\n",
      "YES          SB eternal-air (unit profit: 7920,headroom: 1879)\n",
      "DEFINITELY   BS eternal-fire (unit profit: 29477,headroom: 1982)\n",
      "DEFINITELY   BS eternal-water (unit profit: 35801,headroom: 3400)\n",
      "DEFINITELY   BS eternal-shadow (unit profit: 53485,headroom: 2465)\n",
      "SKIP        primal-life\n",
      "SKIP        primal-earth\n",
      "YES          SB primal-air (unit profit: 114676,headroom: 217)\n",
      "SKIP        primal-fire\n",
      "SKIP        primal-water\n",
      "SKIP        primal-shadow\n",
      "SKIP        essence-eternal\n",
      "SKIP        essence-cosmic\n",
      "SKIP        essence-nether\n",
      "DEFINITELY   BS essence-planar (unit profit: 151215,headroom: 822)\n",
      "SKIP        essence-astral\n",
      "SKIP        essence-magic\n",
      "SKIP        essence-mystic\n"
     ]
    }
   ],
   "source": [
    "from elemental_arbitrage import print_elemental_arbitrage_report\n",
    "\n",
    "print_elemental_arbitrage_report(tsm_ah, items)"
   ]
  },
  {
   "cell_type": "code",
   "execution_count": 8,
   "id": "2eeacf23-c2d1-4bce-93ad-3c97cbeb4660",
   "metadata": {
    "tags": []
   },
   "outputs": [
    {
     "name": "stderr",
     "output_type": "stream",
     "text": [
      "<ipython-input-8-e5b0eba07282>:14: UserWarning: DataFrame columns are not unique, some columns will be omitted.\n",
      "  entries = list(df_all.transpose().to_dict().values())\n"
     ]
    },
    {
     "data": {
      "text/html": [
       "<style>.itables table td {\n",
       "    text-overflow: ellipsis;\n",
       "    overflow: hidden;\n",
       "}\n",
       "\n",
       ".itables table th {\n",
       "    text-overflow: ellipsis;\n",
       "    overflow: hidden;\n",
       "}\n",
       "\n",
       ".itables thead input {\n",
       "    width: 100%;\n",
       "    padding: 3px;\n",
       "    box-sizing: border-box;\n",
       "}\n",
       "\n",
       ".itables tfoot input {\n",
       "    width: 100%;\n",
       "    padding: 3px;\n",
       "    box-sizing: border-box;\n",
       "}\n",
       "</style>\n",
       "<div class=\"itables\">\n",
       "<table id=\"dec63d9f-ded3-4e5c-b5b2-84be595bae49\" class=\"display nowrap\"style=\"table-layout:auto;width:auto;margin:auto;caption-side:bottom\"><thead>\n",
       "    <tr style=\"text-align: right;\">\n",
       "      \n",
       "      <th>name</th>\n",
       "      <th>net</th>\n",
       "      <th>rate</th>\n",
       "      <th>num</th>\n",
       "    </tr>\n",
       "  </thead><tbody><tr><td>Loading... (need <a href=https://mwouts.github.io/itables/troubleshooting.html>help</a>?)</td></tr></tbody></table>\n",
       "<link rel=\"stylesheet\" type=\"text/css\" href=\"https://cdn.datatables.net/1.13.1/css/jquery.dataTables.min.css\">\n",
       "<script type=\"module\">\n",
       "    // Import jquery and DataTable\n",
       "    import 'https://code.jquery.com/jquery-3.6.0.min.js';\n",
       "    import dt from 'https://cdn.datatables.net/1.12.1/js/jquery.dataTables.mjs';\n",
       "    dt($);\n",
       "\n",
       "    // Define the table data\n",
       "    const data = [[\"Flask of Stoneblood\", 15228045.0, 0.863636, 22], [\"Flask of Endless Rage\", 13456501.0, 0.9, 20], [\"Flask of the Frost Wyrm\", 8844292.0, 0.777778, 18], [\"Lesser Cosmic Essence\", 6886448.0, 0.333333, 9], [\"Eternal Life\", 6279440.0, 0.571429, 7], [\"Arcane Dust\", 5684967.0, 0.516129, 31], [\"Indestructible Potion\", 3275957.0, 0.545455, 11], [\"Crystallized Water\", 2223330.0, 0.615385, 26], [\"Earthsiege Diamond\", 2175880.0, 0.428571, 7], [\"Talandra's Rose\", 1068370.0, 0.5, 6], [\"Arthas' Tears\", 1018480.0, 0.272727, 11], [\"Crystallized Life\", 902990.0, 0.357143, 14], [\"Infinite Dust\", 893190.0, 0.5, 12], [\"Truesilver Bar\", 830443.0, 0.8, 6], [\"Tiger Lily\", 811856.0, 0.521739, 23], [\"Bolt of Woolen Cloth\", 781888.0, 0.48, 25], [\"Arcanite Bar\", 780735.0, 0.2, 20], [\"Greater Planar Essence\", 719700.0, 0.571429, 7], [\"Runic Healing Potion\", 706914.0, 0.571429, 7], [\"Mageroyal\", 669837.0, 0.4, 10], [\"Khadgar's Whisker\", 667800.0, 0.285714, 7], [\"Goldclover\", 642770.0, 0.5, 7], [\"Runic Mana Potion\", 492940.0, 0.5, 8], [\"Elixir of Lightning Speed\", 490533.0, 0.666667, 6], [\"Gold Bar\", 307740.0, 0.8, 5], [\"Strange Dust\", 304017.0, 0.6, 5], [\"Refreshing Spring Water\", 128856.0, 0.428571, 7], [\"Black Jelly\", 124175.0, 0.4, 5], [\"Kingsblood\", 114771.0, 0.25, 8], [\"Ancient Lichen\", 111198.0, 0.133333, 15], [\"Spellpower Elixir\", 65151.0, 0.181818, 11], [\"Bolt of Linen Cloth\", 48660.0, 0.25, 12], [\"Linen Cloth\", -68022.0, 1.0, 11], [\"Netherweave Cloth\", -92364.0, 0.666667, 5], [\"Crystallized Air\", -210687.0, 1.0, 13], [\"Chalcedony\", -389359.0, 0.75, 8]];\n",
       "\n",
       "    // Define the dt_args\n",
       "    let dt_args = {\"order\": []};\n",
       "    dt_args[\"data\"] = data;\n",
       "\n",
       "    $(document).ready(function () {\n",
       "        \n",
       "        $('#dec63d9f-ded3-4e5c-b5b2-84be595bae49').DataTable(dt_args);\n",
       "    });\n",
       "</script>\n",
       "</div>\n"
      ],
      "text/plain": [
       "<IPython.core.display.HTML object>"
      ]
     },
     "metadata": {},
     "output_type": "display_data"
    }
   ],
   "source": [
    "from cytoolz import groupby\n",
    "import pandas as pd\n",
    "\n",
    "df_sales = pd.read_csv(\"Accounting_Earthfury_sales.csv\")\n",
    "df_sales[\"mode\"] = \"sold\"\n",
    "df_purchases = pd.read_csv(\"Accounting_Earthfury_purchases.csv\")\n",
    "df_purchases[\"mode\"] = \"purchased\"\n",
    "df_expired = pd.read_csv(\"Accounting_Earthfury_expired.csv\")\n",
    "df_expired[\"mode\"] = \"expired\"\n",
    "df_canceled = pd.read_csv(\"Accounting_Earthfury_canceled.csv\")\n",
    "df_canceled[\"mode\"] = \"canceled\"\n",
    "df_all = pd.concat([df_sales, df_purchases, df_expired, df_canceled])\n",
    "\n",
    "entries = list(df_all.transpose().to_dict().values())\n",
    "grouped = groupby(lambda entry: entry[\"itemString\"], entries)\n",
    "names = {entry[\"itemString\"]: entry[\"itemName\"] for entry in entries}\n",
    "nets = {\n",
    "    k: sum(\n",
    "        (\n",
    "            vv[\"price\"]*vv[\"quantity\"] if vv[\"mode\"] == \"sold\" else\n",
    "            -vv[\"price\"]*vv[\"quantity\"] if vv[\"mode\"] == \"purchased\" else\n",
    "            0\n",
    "        ) for vv in v\n",
    "    )\n",
    "    for (k, v) in grouped.items()\n",
    "}\n",
    "ah_events = {k: [vv[\"mode\"] for vv in v if vv[\"source\"] != \"Vendor\"] for (k, v) in grouped.items()}\n",
    "sale_rate = {\n",
    "    k: v.count(\"sold\") / (v.count(\"sold\") + v.count(\"expired\") + v.count(\"canceled\"))\n",
    "    for (k, v) in ah_events.items()\n",
    "    if v.count(\"sold\") > 1\n",
    "}\n",
    "agg = {k: {\"name\": names[k], \"net\": nets[k], \"rate\": sale_rate[k], \"num\": len(ah_events[k])} for k in sale_rate}\n",
    "show(pd.DataFrame(sorted(\n",
    "    [v for v in agg.values() if v[\"num\"] > 4],\n",
    "    key=lambda entry: entry[\"net\"],\n",
    "    reverse=True,\n",
    ")))"
   ]
  },
  {
   "cell_type": "code",
   "execution_count": 9,
   "id": "fe1f1466-a912-4317-8179-61cf81343e04",
   "metadata": {},
   "outputs": [],
   "source": [
    "import pickle\n",
    "from cytoolz import get as pick_from_dict\n",
    "from cytoolz import sliding_window\n",
    "import glob\n",
    "import itertools\n",
    "from blizzard import auction_summary\n",
    "import re\n",
    "import numpy as np\n",
    "import datetime\n",
    "np.set_printoptions(suppress=True)\n",
    "\n",
    "_names = \"\"\"\n",
    "flask of the frost wyrm\n",
    "flask of endless rage\n",
    "flask of stoneblood\n",
    "titanium bar\n",
    "indestructible potion\n",
    "eternal shadow\n",
    "oily blackmouth\n",
    "elixir of mighty thoughts\n",
    "frostweave cloth\n",
    "wildvine\n",
    "felcloth\n",
    "lesser healing potion\n",
    "runic mana potion\n",
    "greater planar essence\n",
    "netherweave cloth\n",
    "greater healing potion\n",
    "crystallized water\n",
    "purple lotus\n",
    "bruiseweed\n",
    "arcane dust\n",
    "tiger lily\n",
    "crystallized fire\n",
    "major healing potion\n",
    "potion of speed\n",
    "potion of wild magic\n",
    "lichbloom\n",
    "pygmy oil\n",
    "adder's tongue\n",
    "imbued vial\n",
    "icethorn\n",
    "frost lotus\n",
    "enchanted vial\n",
    "goldclover\n",
    "crystallized life\n",
    "eternal life\n",
    "deadnettle\n",
    "elixir of accuracy\n",
    "lesser planar essence\n",
    "eternal fire\n",
    "eternal water\n",
    "chaotic skyflare diamond\n",
    "skyflare diamond\n",
    "potent monarch topaz\n",
    "monarch topaz\n",
    "runed scarlet ruby\n",
    "scarlet ruby\n",
    "purified twilight opal\n",
    "twilight opal\n",
    "potion of speed\n",
    "potion of wild magic\n",
    "lichbloom\n",
    "frostweave cloth\n",
    "infinite dust\n",
    "greater cosmic essence\n",
    "dream shard\n",
    "eternal belt buckle\n",
    "titansteel bar\n",
    "titansteel spellblade\n",
    "mageweave cloth\n",
    "rough stone\n",
    "copper bar\n",
    "coarse stone\n",
    "linen cloth\n",
    "bronze bar\n",
    "heavy stone\n",
    "moss agate\n",
    "wool cloth\n",
    "medium leather\n",
    "steel bar\n",
    "solid stone\n",
    "mithril bar\n",
    "mageweave cloth\n",
    "dense stone\n",
    "thorium bar\n",
    "runecloth\n",
    "fel iron bar\n",
    "mote of earth\n",
    "mote of fire\n",
    "netherweave cloth\n",
    "adamantite bar\n",
    "cobalt bar\n",
    "frostweave cloth\n",
    "crystallized water\n",
    "crystallized earth\n",
    "crystallized fire\n",
    "borean leather\n",
    "eternal shadow\n",
    "saronite bar\n",
    "\"\"\".strip().splitlines()\n",
    "\n",
    "desired_names = list(set(_names))\n",
    "desired_ids = [items.get_id(name) for name in desired_names if not name.startswith(\"#\")]\n",
    "\n",
    "\n",
    "date_re = re.compile(r\"202.-..-..T..-..-..\")\n",
    "def _timestamp_from_name(name):\n",
    "    cap = date_re.search(name).group(0)\n",
    "    return datetime.datetime.strptime(cap, \"%Y-%m-%dT%H-%M-%S\").timestamp()\n",
    "\n",
    "\n",
    "by_item = {}\n",
    "timeseries = []\n",
    "\n",
    "for snapshot in sorted(glob.glob(\"bliz-ah/*\")):\n",
    "    with open(snapshot, \"rb\") as f:\n",
    "        entries = pickle.load(f).values()\n",
    "        timeseries.extend(\n",
    "            [\n",
    "                {\"timestamp\": _timestamp_from_name(snapshot), \"item_name\": items.get_name(item_id), **auction_summary(item_data)}\n",
    "                for (item_id, item_data) in zip(desired_ids, entries)\n",
    "            ]\n",
    "        )\n",
    "        for (item_id, item_data) in zip(desired_ids, entries):\n",
    "            name = items.get_name(item_id)\n",
    "            by_item[name] = by_item.get(name, []) + [{\"timestamp\": date_re.search(snapshot).group(0), \"item_name\": items.get_name(item_id), **auction_summary(item_data)}]\n",
    "\n",
    "def timeseries_of(key, default=np.nan):\n",
    "    def _timeseries_of(item_name):\n",
    "        return np.array([v.get(key, default) for v in by_item[item_name]])\n",
    "    return _timeseries_of\n",
    "\n",
    "def omit_outliers(series, sigma=2, window=5):\n",
    "    mavg = [np.average(w) for w in sliding_window(window, series)]\n",
    "    std = np.std(mavg)\n",
    "    return np.array([x if np.abs(x) < sigma*std else np.nan for x in mavg])\n",
    "\n",
    "def avg_finite(arr):\n",
    "    return np.average(arr[np.isfinite(arr)])"
   ]
  },
  {
   "cell_type": "code",
   "execution_count": 10,
   "id": "81d62533-0dd5-4148-bfc2-4bad4c40f8a8",
   "metadata": {},
   "outputs": [],
   "source": [
    "import plotly.express as px\n",
    "for yvalue in [\"num\", \"min\", \"p50\", \"d_num\", \"d_min\", \"d_p50\"]:\n",
    "    df = pd.DataFrame(timeseries)\n",
    "    df = df.sort_values(by=\"timestamp\")\n",
    "\n",
    "    if yvalue.startswith(\"d_\"):\n",
    "        dfg = df.pivot(index=\"timestamp\", columns=\"item_name\", values=yvalue[2:])\n",
    "        dfg = dfg.diff().div(dfg.index.to_series().diff(), axis=0)\n",
    "    else:\n",
    "        dfg = df.pivot(index=\"timestamp\", columns=\"item_name\", values=yvalue)\n",
    "\n",
    "    fig = px.scatter(dfg, title=yvalue, log_y=False)\n",
    "    fig.write_html(f\"{yvalue}.html\")"
   ]
  },
  {
   "cell_type": "code",
   "execution_count": 11,
   "id": "38080de5-a5e7-4583-97c8-63d8f16d4e0f",
   "metadata": {},
   "outputs": [],
   "source": [
    "def min_series(x):\n",
    "    return omit_outliers(timeseries_of(\"avg_sell\")(x), sigma=0.5, window=10)\n",
    "\n",
    "wild_magic_pot = avg_finite(min_series(\"potion of wild magic\") - (2*min_series(\"lichbloom\") + min_series(\"pygmy oil\") + np.array(1.8)))\n",
    "speed_pot = avg_finite(min_series(\"potion of speed\") - (2*min_series(\"adder's tongue\") + min_series(\"pygmy oil\") + np.array(1.8)))\n",
    "wyrm = avg_finite(2*min_series(\"flask of the frost wyrm\") - (5*min_series(\"icethorn\") + 5*min_series(\"lichbloom\") + min_series(\"frost lotus\") + np.array(5)))\n",
    "rage = avg_finite(2*min_series(\"flask of endless rage\") - (5*min_series(\"goldclover\") + 7*min_series(\"lichbloom\") + min_series(\"frost lotus\") + np.array(5)))\n",
    "indestructible = avg_finite(2*min_series(\"indestructible potion\") - (2*min_series(\"icethorn\") + np.array(1.8)))"
   ]
  },
  {
   "cell_type": "code",
   "execution_count": 12,
   "id": "d4a1788a-10cf-45ad-b5e8-80aeee9f2a6a",
   "metadata": {},
   "outputs": [],
   "source": [
    "def item_infos(items):\n",
    "    return pd.DataFrame([item_info(i) for i in items])"
   ]
  },
  {
   "cell_type": "code",
   "execution_count": 13,
   "id": "01e07bbf-7a8f-4a32-a005-40951c05f54f",
   "metadata": {
    "tags": []
   },
   "outputs": [
    {
     "data": {
      "text/html": [
       "<style>.itables table td {\n",
       "    text-overflow: ellipsis;\n",
       "    overflow: hidden;\n",
       "}\n",
       "\n",
       ".itables table th {\n",
       "    text-overflow: ellipsis;\n",
       "    overflow: hidden;\n",
       "}\n",
       "\n",
       ".itables thead input {\n",
       "    width: 100%;\n",
       "    padding: 3px;\n",
       "    box-sizing: border-box;\n",
       "}\n",
       "\n",
       ".itables tfoot input {\n",
       "    width: 100%;\n",
       "    padding: 3px;\n",
       "    box-sizing: border-box;\n",
       "}\n",
       "</style>\n",
       "<div class=\"itables\">\n",
       "<table id=\"477785dc-401a-4549-bf8e-9f3a792c563a\" class=\"display nowrap\"style=\"table-layout:auto;width:auto;margin:auto;caption-side:bottom\"><thead>\n",
       "    <tr style=\"text-align: right;\">\n",
       "      \n",
       "      <th>id</th>\n",
       "      <th>name</th>\n",
       "      <th>num_auctions</th>\n",
       "      <th>quantity</th>\n",
       "      <th>weight_sell</th>\n",
       "      <th>avg_sell</th>\n",
       "      <th>max</th>\n",
       "      <th>p80</th>\n",
       "      <th>p50</th>\n",
       "      <th>p20</th>\n",
       "      <th>wp80</th>\n",
       "      <th>wp50</th>\n",
       "      <th>wp20</th>\n",
       "      <th>min</th>\n",
       "      <th>realm_market_value</th>\n",
       "      <th>realm_historical</th>\n",
       "      <th>region_historical</th>\n",
       "      <th>region_avg_sale_price</th>\n",
       "      <th>sale_pct</th>\n",
       "      <th>sold_per_day</th>\n",
       "      <th>headroom</th>\n",
       "      <th>market_skew_pct</th>\n",
       "      <th>auction_skew_pct</th>\n",
       "    </tr>\n",
       "  </thead><tbody><tr><td>Loading... (need <a href=https://mwouts.github.io/itables/troubleshooting.html>help</a>?)</td></tr></tbody></table>\n",
       "<link rel=\"stylesheet\" type=\"text/css\" href=\"https://cdn.datatables.net/1.13.1/css/jquery.dataTables.min.css\">\n",
       "<script type=\"module\">\n",
       "    // Import jquery and DataTable\n",
       "    import 'https://code.jquery.com/jquery-3.6.0.min.js';\n",
       "    import dt from 'https://cdn.datatables.net/1.12.1/js/jquery.dataTables.mjs';\n",
       "    dt($);\n",
       "\n",
       "    // Define the table data\n",
       "    const data = [[46376, \"flask of the frost wyrm\", 26, 29, 18.066941, 16.701612, 29.8998, 14.9997, 14.9994, 14.95, 29.8998, 14.9994, 14.95, 14.95, 14.483, 12.3438, 9.4998, 7.2185, 54.3, 2215, 4050, 17.33, -99.99], [46377, \"flask of endless rage\", 133, 686, 204.212441, 71.438409, 260.998, 75.0, 19.5, 12.5498, 260.998, 255.0, 75.0, 12.5498, 13.835, 13.75, 9.8083, 7.3624, 59.9, 2902, 4158, 0.62, -99.99], [46379, \"flask of stoneblood\", 25, 53, 48.301621, 32.799804, 75.0, 74.9985, 29.9996, 17.5, 75.0, 29.9996, 17.5, 14.9999, 16.1542, 14.9881, 11.2468, 8.3383, 50.5, 899, 1727, 7.78, -99.99], [41163, \"titanium bar\", 178, 371, 107.423361, 23.325022, 237.0, 11.8995, 11.8995, 9.9998, 226.198, 59.1, 11.8995, 9.0, 11.2653, 8.3498, 8.0352, 5.2391, 57.5, 1783, 2729, 34.92, -99.99], [40093, \"indestructible potion\", 16, 111, 74.829221, 33.684094, 95.0, 95.0, 17.9997, 5.0, 95.0, 95.0, 40.789, 4.079, 4.7125, 4.4999, 2.9837, 2.1879, 48.9, 2093, 4169, 4.72, -99.99], [35627, \"eternal shadow\", 126, 668, 26.205085, 16.980391, 74.97, 17.3925, 14.995, 8.9394, 44.9775, 17.3925, 14.995, 2.9986, 4.6991, 3.7499, 2.8385, 1.6692, 65.7, 3377, 4472, 25.31, -99.99], [6358, \"oily blackmouth\", 47, 227, 4.168789, 1.806311, 8.36, 2.5, 0.6398, 0.3667, 6.666, 3.6675, 0.6398, 0.3667, 0.4837, 0.4997, 0.5385, 1.3439, 59.1, 780, 1092, -3.2, -99.99], [44332, \"elixir of mighty thoughts\", 9, 42, 48.49366, 20.4112, 68.0541, 60.0, 4.0, 2.98, 68.0541, 60.0, 27.9196, 1.9999, 2.7011, 2.5934, 2.9239, 2.3586, 56.7, 318, 518, 4.15, -99.99], [33470, \"frostweave cloth\", 407, 7783, 11.956381, 11.508696, 20.0, 11.868, 11.868, 11.866, 11.868, 11.868, 11.866, 0.2032, 0.5593, 0.4975, 0.4196, 0.3529, 86.0, 34637, 32492, 12.42, -100.0], [8153, \"wildvine\", 15, 42, 3.04679, 1.41236, 4.8986, 3.025, 0.6049, 0.5999, 4.8986, 4.2, 0.605, 0.35, 0.8227, 1.2495, 0.7812, 0.6756, 44.7, 188, 378, -34.16, -100.0], [14256, \"felcloth\", 17, 36, 30.238994, 16.943194, 63.9992, 19.1919, 8.99, 5.5, 63.9992, 19.1919, 8.99, 5.5, 4.8367, 3.0, 2.2141, 1.2349, 42.3, 87, 169, 61.22, -99.99], [858, \"lesser healing potion\", 7, 37, 0.496105, 0.144786, 0.896, 0.035, 0.0272, 0.0069, 0.896, 0.896, 0.0272, 0.0068, 0.0716, 0.0399, 0.0406, 0.073, 36.4, 233, 603, 79.45, -100.0], [33448, \"runic mana potion\", 65, 326, 20.117944, 7.939272, 50.0, 7.8, 6.75, 1.3, 27.542, 12.316, 6.8875, 1.3, 1.4061, 1.3017, 1.0334, 1.1142, 81.2, 2842, 3173, 8.02, -99.99], [22446, \"greater planar essence\", 31, 53, 64.908543, 22.198542, 139.0, 12.9999, 12.4998, 12.0, 139.0, 12.9999, 12.4997, 11.1098, 16.2267, 10.1979, 8.6664, 5.8113, 60.2, 1171, 1892, 59.12, -99.99], [21877, \"netherweave cloth\", 245, 4319, 8.751092, 7.829826, 35.998, 10.0, 6.328, 3.0, 10.0, 6.328, 3.886, 0.1944, 0.3129, 0.226, 0.1836, 0.1503, 83.6, 19688, 19231, 38.45, -99.99], [1710, \"greater healing potion\", 9999, 9999, 0.05, 0.05, 0.05, 0.05, 0.05, 0.05, 0.05, 0.05, 0.05, 0.05, 1.2498, 0.6581, 0.4994, 0.5203, 59.3, 267, -9548, 89.91, -100.0], [37705, \"crystallized water\", 133, 565, 11.673157, 5.638693, 19.398, 9.799, 0.989, 0.9871, 19.398, 9.799, 5.8788, 0.0, 0.7797, 0.7448, 0.5189, 0.3396, 71.0, 2563, 3044, 4.69, -100.0], [8831, \"purple lotus\", 10, 25, 1.961484, 1.11127, 3.5091, 2.0, 0.7797, 0.4999, 3.5091, 2.0, 0.756, 0.3, 1.2178, 1.7225, 1.011, 0.7508, 51.4, 529, 1004, -29.3, -100.0], [2453, \"bruiseweed\", 4, 36, 4.958317, 3.50765, 5.844, 5.844, 5.4586, 0.3898, 5.844, 5.4586, 5.4586, 0.3898, 0.4417, 0.4899, 0.388, 0.2741, 52.4, 1142, 2143, -9.84, -99.99], [22445, \"arcane dust\", 55, 233, 16.452768, 11.492769, 38.0, 14.3745, 14.3745, 2.8747, 14.3745, 14.3745, 14.0, 2.0, 2.9135, 1.9884, 1.6729, 1.1011, 65.6, 5550, 8227, 46.52, -99.99], [36904, \"tiger lily\", 101, 1933, 9.941338, 9.626946, 11.108, 9.998, 9.994, 9.99, 9.998, 9.994, 9.99, 0.999, 0.4213, 0.5002, 0.3733, 0.403, 83.5, 26849, 30221, -15.77, -99.98], [37702, \"crystallized fire\", 25, 172, 27.805747, 20.874324, 33.333, 33.333, 24.787, 5.796, 33.333, 33.333, 22.3083, 1.9999, 2.7652, 2.9995, 2.2232, 1.6343, 55.3, 1156, 1918, -7.81, -99.99], [13446, \"major healing potion\", 15, 116, 8.787197, 5.318967, 12.9987, 10.0, 3.1578, 1.0522, 10.524, 9.998, 5.175, 0.5748, 0.4712, 0.4972, 0.3964, 0.2885, 51.4, 463, 784, -5.23, -99.99], [40211, \"potion of speed\", 54, 264, 24.924239, 24.814807, 25.0, 25.0, 25.0, 25.0, 25.0, 25.0, 25.0, 19.9998, 4.2302, 4.8691, 4.7445, 3.8967, 71.7, 11013, 15095, -13.12, -99.95], [40212, \"potion of wild magic\", 10, 44, 46.937439, 45.62491, 49.75, 49.75, 49.75, 35.9997, 49.75, 49.75, 35.9997, 35.9997, 7.2143, 7.3093, 5.9038, 4.7464, 58.5, 3794, 6441, -1.3, -99.95], [36905, \"lichbloom\", 120, 2311, 101.794884, 99.272966, 118.004, 118.002, 117.614, 47.5992, 118.002, 117.614, 116.998, 11.8003, 1.2374, 1.2963, 1.4847, 1.2535, 76.8, 23028, 27673, -4.54, -99.9], [40195, \"pygmy oil\", 11, 193, 63.370257, 57.3052, 69.988, 69.988, 65.0, 65.0, 69.988, 65.0, 65.0, 10.3932, 1.4319, 1.8603, 1.7875, 1.7641, 68.8, 2914, 4042, -23.03, -99.93], [36903, \"adder's tongue\", 143, 2675, 19.650977, 18.501244, 19.978, 19.978, 19.906, 19.0, 19.978, 19.906, 19.9, 0.89, 0.9073, 0.9989, 0.8189, 0.8021, 80.0, 46192, 55065, -9.17, -99.99], [18256, \"imbued vial\", 5, 11, 3.1802, 2.19884, 3.9996, 3.9996, 0.9994, 0.9994, 3.9996, 3.9964, 0.9994, 0.9994, 1.8122, 2.2637, 1.8468, 0.6641, 23.3, 41, 164, -19.95, -99.99], [36906, \"icethorn\", 164, 3100, 18.05985, 17.306137, 20.0, 18.696, 18.014, 18.012, 18.696, 18.014, 18.012, 0.9005, 1.0139, 0.9885, 0.8989, 0.7948, 73.7, 19538, 23410, 2.57, -99.99], [36908, \"frost lotus\", 76, 993, 124.147815, 89.850368, 179.892, 126.998, 124.994, 14.9999, 150.0, 124.996, 124.99, 5.4999, 7.868, 3.0502, 1.5622, 1.2624, 58.8, 4266, 6262, 157.95, -99.99], [40411, \"enchanted vial\", 9999, 9999, 5.0, 5.0, 5.0, 5.0, 5.0, 5.0, 5.0, 5.0, 5.0, 5.0, 4.3828, 2.9, 3.9996, 1.5701, 26.1, 5, -9979, 51.13, -99.99], [36901, \"goldclover\", 150, 2831, 16.552112, 15.781278, 27.88, 16.012, 16.002, 15.998, 16.012, 16.002, 15.998, 0.8006, 0.6452, 0.6617, 0.4221, 0.387, 83.4, 17685, 18374, -2.49, -99.99], [37704, \"crystallized life\", 17, 64, 7.841395, 4.666188, 12.57, 8.5568, 3.6, 1.2568, 12.568, 8.5568, 3.6, 1.2566, 0.9844, 1.2996, 1.3898, 1.7859, 52.6, 1444, 2681, -24.25, -99.99], [35625, \"eternal life\", 71, 668, 359.997246, 188.518331, 479.998, 389.992, 58.2006, 19.4999, 400.0, 389.986, 388.002, 18.0, 12.9573, 15.0396, 13.4927, 19.3657, 65.7, 3932, 5316, -13.85, -99.99], [37921, \"deadnettle\", 105, 1954, 14.963586, 14.296702, 19.996, 19.48, 15.992, 11.106, 19.482, 15.994, 11.108, 1.1102, 0.5622, 0.584, 0.3956, 0.4007, 79.1, 19585, 22805, -3.73, -99.98], [44325, \"elixir of accuracy\", 12, 70, 44.613127, 20.463392, 60.0, 54.8429, 10.2384, 2.5396, 60.0, 60.0, 11.0, 2.52, 2.7208, 2.7797, 1.8971, 1.2523, 48.2, 174, 290, -2.12, -99.99], [22447, \"lesser planar essence\", 32, 50, 62.970646, 32.421053, 167.8579, 24.0, 23.98, 23.9798, 107.9991, 24.0, 23.9798, 12.0, 10.7337, 4.4444, 2.9754, 2.0059, 43.3, 375, 816, 141.51, -99.99], [36860, \"eternal fire\", 142, 210, 155.637228, 35.178782, 475.7499, 23.7878, 23.7878, 23.7872, 475.738, 23.7878, 23.7874, 23.7869, 24.7684, 21.7942, 19.3671, 15.1385, 55.1, 1309, 2165, 13.65, -99.99], [35622, \"eternal water\", 76, 237, 16.038441, 6.827296, 50.0, 12.0384, 4.0136, 2.0066, 19.999, 18.0, 4.0136, 1.9998, 3.8116, 2.4998, 2.3941, 1.8309, 57.4, 1323, 2067, 52.48, -99.99], [41285, \"chaotic skyflare diamond\", 10, 10, 106.59997, 106.59997, 118.9999, 118.9999, 100.0, 100.0, 118.9999, 100.0, 100.0, 100.0, 92.6869, 33.9995, 35.0397, 18.4767, 48.8, 159, 315, 172.61, -99.99], [41266, \"skyflare diamond\", 10, 10, 50.89449, 50.89449, 50.8955, 50.8955, 50.8955, 50.8955, 50.8955, 50.8955, 50.8955, 50.8854, 29.3965, 16.0, 16.4409, 10.7797, 45.1, 248, 539, 83.73, -99.98], [40048, \"potent monarch topaz\", 22, 22, 37.795241, 37.795241, 38.8997, 38.8997, 38.8995, 36.0, 38.8997, 38.8995, 36.0, 33.9999, 42.3956, 44.9998, 20.7047, 16.1876, 25.4, 60, 214, -5.79, -99.99], [36930, \"monarch topaz\", 24, 24, 37.837504, 37.837504, 40.9998, 40.9995, 40.9994, 33.9007, 40.9995, 40.9994, 33.9007, 33.9006, 15.313, 16.9997, 11.6692, 8.1241, 62.6, 516, 800, -9.92, -99.98], [39998, \"runed scarlet ruby\", 18, 18, 129.526978, 129.526978, 129.9993, 129.9992, 129.9991, 128.699, 129.9992, 129.9991, 128.699, 128.699, 129.0275, 127.9962, 93.1052, 75.6705, 60.6, 285, 452, 0.81, -99.99], [36918, \"scarlet ruby\", 68, 68, 87.477663, 87.477663, 93.9999, 87.4996, 87.4995, 87.0, 87.4996, 87.4995, 87.0, 86.9999, 84.1381, 81.9996, 73.7748, 63.3896, 61.1, 391, 571, 2.61, -99.99], [40026, \"purified twilight opal\", 40, 40, 42.852365, 42.852365, 43.8999, 43.8994, 42.7999, 42.0, 43.8994, 42.7999, 42.0, 41.9999, 44.4049, 25.0, 25.0, 16.8184, 50.0, 160, 280, 77.62, -99.99], [36927, \"twilight opal\", 50, 50, 13.265642, 13.265642, 60.4804, 9.0, 9.0, 9.0, 9.0, 9.0, 9.0, 8.4999, 10.3803, 9.4999, 7.7872, 5.5903, 59.8, 484, 759, 9.27, -99.99], [40211, \"potion of speed\", 54, 264, 24.924239, 24.814807, 25.0, 25.0, 25.0, 25.0, 25.0, 25.0, 25.0, 19.9998, 4.2302, 4.8691, 4.7445, 3.8967, 71.7, 11013, 15095, -13.12, -99.95], [40212, \"potion of wild magic\", 10, 44, 46.937439, 45.62491, 49.75, 49.75, 49.75, 35.9997, 49.75, 49.75, 35.9997, 35.9997, 7.2143, 7.3093, 5.9038, 4.7464, 58.5, 3794, 6441, -1.3, -99.95], [36905, \"lichbloom\", 120, 2311, 101.794884, 99.272966, 118.004, 118.002, 117.614, 47.5992, 118.002, 117.614, 116.998, 11.8003, 1.2374, 1.2963, 1.4847, 1.2535, 76.8, 23028, 27673, -4.54, -99.9], [33470, \"frostweave cloth\", 407, 7783, 11.956381, 11.508696, 20.0, 11.868, 11.868, 11.866, 11.868, 11.868, 11.866, 0.2032, 0.5593, 0.4975, 0.4196, 0.3529, 86.0, 34637, 32492, 12.42, -100.0], [34054, \"infinite dust\", 82, 1117, 27.88601, 24.684011, 79.6756, 31.196, 24.342, 16.019, 31.196, 31.194, 17.1534, 10.9165, 1.7613, 1.9388, 1.4784, 1.1714, 69.0, 26582, 37407, -9.16, -99.94], [34055, \"greater cosmic essence\", 10, 32, 83.371759, 73.59713, 91.9964, 91.9964, 91.9964, 68.9973, 91.9964, 91.9964, 68.9976, 22.999, 19.0154, 19.4998, 16.4079, 13.6405, 58.0, 2262, 3868, -2.48, -99.99], [34052, \"dream shard\", 10, 23, 79.454239, 49.44855, 107.497, 107.497, 21.4997, 21.4993, 107.497, 107.497, 21.4997, 21.4991, 21.6919, 21.825, 16.9702, 13.656, 54.6, 1136, 2057, -0.61, -99.99], [41611, \"eternal belt buckle\", 20, 20, 124.14981, 124.14981, 124.9998, 123.9999, 123.9998, 123.9998, 123.9999, 123.9998, 123.9998, 123.9998, 54.1722, 59.9998, 42.6497, 26.4948, 61.5, 338, 529, -9.71, -99.98], [37663, \"titansteel bar\", 19, 87, 2319.76178, 677.442216, 3559.998, 2135.9988, 138.0, 133.9998, 3559.998, 2573.998, 2135.9988, 124.0, 135.3634, 137.1537, 115.9962, 105.3606, 78.5, 550, 613, -1.31, -99.99], [45085, \"titansteel spellblade\", 2, 2, 1598.08595, 1598.08595, 1598.086, 1598.086, 1598.086, 1598.0859, 1598.086, 1598.086, 1598.0859, 1598.0859, 1341.0441, 1693.9982, 1187.9995, 922.1787, 28.8, 14, 46, -20.84, -99.99], [4338, \"mageweave cloth\", 115, 1414, 19.416329, 12.872991, 30.124, 21.588, 17.0, 0.4877, 21.588, 21.588, 17.0, 0.4876, 0.8725, 0.6173, 0.4919, 0.4129, 63.8, 8460, 11846, 41.34, -99.99], [2835, \"rough stone\", 91, 1791, 10.12234, 10.023136, 15.0, 15.0, 12.0, 4.75, 15.0, 12.0, 4.75, 0.0304, 0.012, 0.0483, 0.0094, 0.0178, 57.1, 7469, 11289, -75.16, -99.97], [2840, \"copper bar\", 24, 361, 10.470107, 8.674792, 15.0, 15.0, 7.2, 3.5988, 15.0, 10.0, 6.0, 0.4998, 0.7224, 0.4993, 0.4929, 0.6563, 59.3, 6019, 9789, 44.68, -99.99], [2836, \"coarse stone\", 31, 181, 5.137025, 2.050829, 8.868, 2.9241, 0.4654, 0.4434, 8.0, 6.5, 1.3962, 0.242, 0.1581, 0.1358, 0.0857, 0.1446, 68.2, 5708, 8188, 16.42, -99.98], [2589, \"linen cloth\", 214, 3965, 12.355212, 11.530146, 15.158, 15.158, 15.158, 8.99, 15.158, 15.158, 8.99, 0.0, 0.0983, 0.0481, 0.0226, 0.0646, 67.8, 11753, 13369, 104.37, -100.0], [2841, \"bronze bar\", 6, 102, 33.578333, 30.833167, 50.0, 35.0, 35.0, 17.499, 35.0, 35.0, 17.499, 12.5, 1.8126, 1.1499, 1.1198, 1.2823, 59.4, 4295, 7128, 57.63, -99.93], [2838, \"heavy stone\", 10, 39, 10.385095, 7.48519, 19.107, 9.7495, 7.7992, 3.7828, 19.107, 9.651, 3.8216, 3.7446, 0.573, 0.4904, 0.3635, 0.3482, 57.6, 4234, 7311, 16.84, -99.93], [1206, \"moss agate\", 2, 7, 68.712714, 45.499, 77.9982, 77.9982, 77.9982, 12.9998, 77.9982, 77.9982, 77.9982, 12.9998, 13.0447, 14.9999, 9.9999, 9.5565, 60.7, 522, 852, -13.03, -99.99], [2592, \"wool cloth\", 92, 1597, 12.60395, 11.615993, 26.0, 14.598, 11.798, 9.4887, 14.6, 12.0, 9.502, 0.5899, 0.3991, 0.25, 0.4202, 0.5539, 80.3, 9202, 9862, 59.64, -99.99], [2319, \"medium leather\", 15, 224, 15.825329, 12.611333, 48.75, 20.748, 4.5, 2.25, 20.748, 5.0, 4.5, 0.4996, 0.5186, 0.3164, 0.2744, 0.5046, 61.3, 4248, 6705, 63.91, -99.99], [3859, \"steel bar\", 3, 23, 22.003883, 9.5805, 24.992, 24.992, 2.4998, 1.2497, 24.992, 24.992, 24.992, 1.2497, 2.0989, 2.0613, 1.25, 0.9306, 41.9, 1756, 4167, 1.82, -99.99], [7912, \"solid stone\", 25, 281, 14.872862, 9.375976, 24.99, 20.0, 8.5824, 0.3531, 20.0, 14.4, 9.536, 0.3531, 0.1677, 0.1822, 0.1156, 0.1166, 57.9, 7582, 12813, -7.96, -99.98], [3860, \"mithril bar\", 174, 1112, 33.53979, 17.869335, 100.0, 32.994, 10.9, 10.9, 41.998, 39.984, 10.9, 1.6498, 3.1112, 3.9146, 2.9517, 2.6703, 70.8, 6843, 8553, -20.52, -99.99], [4338, \"mageweave cloth\", 115, 1414, 19.416329, 12.872991, 30.124, 21.588, 17.0, 0.4877, 21.588, 21.588, 17.0, 0.4876, 0.8725, 0.6173, 0.4919, 0.4129, 63.8, 8460, 11846, 41.34, -99.99], [12365, \"dense stone\", 120, 2237, 4.339251, 4.097988, 50.0, 3.108, 3.102, 3.012, 3.108, 3.102, 3.012, 0.147, 0.1188, 0.0499, 0.0526, 0.0801, 59.7, 6883, 9292, 138.08, -99.99], [12359, \"thorium bar\", 88, 1431, 26.378211, 21.804928, 27.054, 27.054, 27.054, 11.0, 27.054, 27.054, 26.694, 1.0, 1.1045, 1.2194, 1.0778, 0.852, 70.4, 5949, 7019, -9.42, -99.99], [14047, \"runecloth\", 306, 5843, 14.737055, 14.161515, 29.998, 29.998, 11.0, 4.998, 29.998, 11.4071, 5.0, 0.3993, 0.4555, 0.2796, 0.1904, 0.1443, 84.4, 16374, 13557, 62.91, -99.99], [23445, \"fel iron bar\", 64, 628, 73.490572, 43.254961, 104.996, 84.0, 29.7, 8.0, 98.996, 80.0, 54.7131, 3.4999, 4.9065, 3.7196, 3.5914, 4.4224, 71.5, 3078, 3676, 31.91, -99.99], [22573, \"mote of earth\", 8, 62, 2.759113, 2.46775, 10.0, 2.0, 2.0, 0.1995, 2.0, 2.0, 1.3965, 0.146, 0.2496, 0.268, 0.2768, 0.2774, 48.9, 1320, 2637, -6.87, -99.99], [22574, \"mote of fire\", 14, 45, 2.841231, 1.631157, 4.946, 2.499, 0.9996, 0.5995, 4.946, 2.499, 1.9776, 0.4947, 1.1567, 0.9993, 1.1268, 1.3896, 56.2, 1096, 1905, 15.75, -100.0], [21877, \"netherweave cloth\", 245, 4319, 8.751092, 7.829826, 35.998, 10.0, 6.328, 3.0, 10.0, 6.328, 3.886, 0.1944, 0.3129, 0.226, 0.1836, 0.1503, 83.6, 19688, 19231, 38.45, -99.99], [23446, \"adamantite bar\", 42, 336, 43.464058, 25.725779, 76.7581, 41.72, 14.7495, 5.8996, 68.748, 41.72, 14.7495, 3.0, 3.778, 2.924, 2.6083, 2.4696, 61.9, 3120, 4704, 29.21, -99.99], [36916, \"cobalt bar\", 98, 1458, 29.101999, 26.050561, 35.0, 34.994, 29.97, 17.498, 34.994, 34.994, 17.498, 3.412, 1.9082, 1.5992, 1.4355, 1.2195, 74.7, 14802, 18357, 19.32, -99.98], [33470, \"frostweave cloth\", 407, 7783, 11.956381, 11.508696, 20.0, 11.868, 11.868, 11.866, 11.868, 11.868, 11.866, 0.2032, 0.5593, 0.4975, 0.4196, 0.3529, 86.0, 34637, 32492, 12.42, -100.0], [37705, \"crystallized water\", 133, 565, 11.673157, 5.638693, 19.398, 9.799, 0.989, 0.9871, 19.398, 9.799, 5.8788, 0.0, 0.7797, 0.7448, 0.5189, 0.3396, 71.0, 2563, 3044, 4.69, -100.0], [37701, \"crystallized earth\", 16, 51, 4.750616, 2.8118, 7.0912, 5.2638, 1.773, 0.8775, 7.0192, 5.2638, 2.6613, 0.8775, 0.7829, 0.9982, 0.7394, 0.6918, 66.5, 1732, 2553, -21.57, -99.99], [37702, \"crystallized fire\", 25, 172, 27.805747, 20.874324, 33.333, 33.333, 24.787, 5.796, 33.333, 33.333, 22.3083, 1.9999, 2.7652, 2.9995, 2.2232, 1.6343, 55.3, 1156, 1918, -7.81, -99.99], [33568, \"borean leather\", 160, 2969, 5.927117, 5.576274, 8.306, 5.9999, 5.7999, 5.7999, 5.9999, 5.7999, 5.7999, 0.2899, 0.3568, 0.3911, 0.4382, 0.447, 81.3, 14443, 14796, -8.77, -99.99], [35627, \"eternal shadow\", 126, 668, 26.205085, 16.980391, 74.97, 17.3925, 14.995, 8.9394, 44.9775, 17.3925, 14.995, 2.9986, 4.6991, 3.7499, 2.8385, 1.6692, 65.7, 3377, 4472, 25.31, -99.99], [36913, \"saronite bar\", 97, 1715, 82.985839, 76.301262, 100.0, 98.07, 81.816, 68.0, 98.07, 89.998, 70.0, 3.0, 2.3615, 1.8741, 1.6996, 1.6418, 71.0, 11594, 14614, 26.01, -99.99]];\n",
       "\n",
       "    // Define the dt_args\n",
       "    let dt_args = {\"order\": []};\n",
       "    dt_args[\"data\"] = data;\n",
       "\n",
       "    $(document).ready(function () {\n",
       "        \n",
       "        $('#477785dc-401a-4549-bf8e-9f3a792c563a').DataTable(dt_args);\n",
       "    });\n",
       "</script>\n",
       "</div>\n"
      ],
      "text/plain": [
       "<IPython.core.display.HTML object>"
      ]
     },
     "metadata": {},
     "output_type": "display_data"
    }
   ],
   "source": [
    "ii = item_infos(_names)\n",
    "show(ii)"
   ]
  },
  {
   "cell_type": "code",
   "execution_count": 14,
   "id": "01887535-44b4-4d39-82b8-cd6697a70a0a",
   "metadata": {},
   "outputs": [
    {
     "data": {
      "text/plain": [
       "12.3886"
      ]
     },
     "execution_count": 14,
     "metadata": {},
     "output_type": "execute_result"
    }
   ],
   "source": [
    "buy(i(\"overcharged capacitor\"))"
   ]
  },
  {
   "cell_type": "code",
   "execution_count": 15,
   "id": "2ca411ff-b855-4271-97f4-824e12bbfce5",
   "metadata": {},
   "outputs": [
    {
     "data": {
      "text/plain": [
       "8.4157"
      ]
     },
     "execution_count": 15,
     "metadata": {},
     "output_type": "execute_result"
    }
   ],
   "source": [
    "buy(i(\"4 cobalt bar + 1 crystallized earth\"))"
   ]
  },
  {
   "cell_type": "code",
   "execution_count": 16,
   "id": "60bc4031-522c-4ea2-bdad-733443e569e9",
   "metadata": {},
   "outputs": [
    {
     "data": {
      "text/plain": [
       "{'id': 39682,\n",
       " 'name': 'overcharged capacitor',\n",
       " 'num_auctions': 68,\n",
       " 'quantity': 72,\n",
       " 'weight_sell': 11.443916666666667,\n",
       " 'avg_sell': 9.470176470588235,\n",
       " 'max': 44.9975,\n",
       " 'p80': 8.9996,\n",
       " 'p50': 8.9996,\n",
       " 'p20': 8.9996,\n",
       " 'wp80': 8.9996,\n",
       " 'wp50': 8.9996,\n",
       " 'wp20': 8.9996,\n",
       " 'min': 7.9999,\n",
       " 'realm_market_value': 12.3886,\n",
       " 'realm_historical': 14.7296,\n",
       " 'region_historical': 10.9997,\n",
       " 'region_avg_sale_price': 7.7273,\n",
       " 'sale_pct': 49.0,\n",
       " 'sold_per_day': 169,\n",
       " 'headroom': 272,\n",
       " 'market_skew_pct': -15.89,\n",
       " 'auction_skew_pct': -99.99}"
      ]
     },
     "execution_count": 16,
     "metadata": {},
     "output_type": "execute_result"
    }
   ],
   "source": [
    "item_info(\"overcharged capacitor\")"
   ]
  },
  {
   "cell_type": "code",
   "execution_count": 17,
   "id": "26fbb082-a8b6-4e51-87fd-6192d7ef50e1",
   "metadata": {},
   "outputs": [
    {
     "data": {
      "text/plain": [
       "5.4999"
      ]
     },
     "execution_count": 17,
     "metadata": {},
     "output_type": "execute_result"
    }
   ],
   "source": [
    "buy(i(\"frost lotus\"), gold(\"min\"))"
   ]
  },
  {
   "cell_type": "code",
   "execution_count": 18,
   "id": "260acb86-908c-4027-be79-16e3390eff3a",
   "metadata": {},
   "outputs": [
    {
     "data": {
      "text/plain": [
       "7.37"
      ]
     },
     "execution_count": 18,
     "metadata": {},
     "output_type": "execute_result"
    }
   ],
   "source": [
    "buy_now(i(\"bloodstone + chalcedony + 10 crystallized air\"))"
   ]
  },
  {
   "cell_type": "code",
   "execution_count": 19,
   "id": "5c1ebe8b-d1bd-40cd-b555-8f909d1840de",
   "metadata": {},
   "outputs": [
    {
     "data": {
      "text/plain": [
       "2.6717"
      ]
     },
     "execution_count": 19,
     "metadata": {},
     "output_type": "execute_result"
    }
   ],
   "source": [
    "buy_now(i(\"dark jade + huge citrine\"))"
   ]
  },
  {
   "cell_type": "code",
   "execution_count": 20,
   "id": "ff3e8244-8e4a-441d-91e7-0f81614f4bdc",
   "metadata": {},
   "outputs": [
    {
     "data": {
      "text/plain": [
       "50.0"
      ]
     },
     "execution_count": 20,
     "metadata": {},
     "output_type": "execute_result"
    }
   ],
   "source": [
    "buy_now(i(\"earthsiege diamond\"))"
   ]
  },
  {
   "cell_type": "code",
   "execution_count": 21,
   "id": "bb56f166-bbfd-4872-a992-83ccb18473e2",
   "metadata": {},
   "outputs": [],
   "source": [
    "from procurement import ProcurementPlanner\n",
    "from procurement import topk_procurements\n",
    "pp = ProcurementPlanner(items, item_info, r, approaches=[\"ah_buy_now\", \"ah_buy_market\", \"craft\"])"
   ]
  },
  {
   "cell_type": "code",
   "execution_count": 22,
   "id": "5a434cc5-330b-46ac-8ac3-4d615fdd0819",
   "metadata": {},
   "outputs": [
    {
     "data": {
      "text/plain": [
       "[[Craft(item=earthsiege diamond, ingredients=dark jade + huge citrine + eternal fire),\n",
       "  AHBuyNow(item=dark jade, gold=1.0),\n",
       "  AHBuyMarket(item=huge citrine, gold=1.6585),\n",
       "  AHBuyNow(item=eternal fire, gold=23.7869)],\n",
       " [Craft(item=earthsiege diamond, ingredients=dark jade + huge citrine + eternal fire),\n",
       "  AHBuyNow(item=dark jade, gold=1.0),\n",
       "  AHBuyNow(item=huge citrine, gold=1.6717),\n",
       "  AHBuyNow(item=eternal fire, gold=23.7869)],\n",
       " [Craft(item=earthsiege diamond, ingredients=dark jade + huge citrine + eternal fire),\n",
       "  AHBuyMarket(item=dark jade, gold=1.0649),\n",
       "  AHBuyMarket(item=huge citrine, gold=1.6585),\n",
       "  AHBuyNow(item=eternal fire, gold=23.7869)],\n",
       " [Craft(item=earthsiege diamond, ingredients=dark jade + huge citrine + eternal fire),\n",
       "  AHBuyMarket(item=dark jade, gold=1.0649),\n",
       "  AHBuyNow(item=huge citrine, gold=1.6717),\n",
       "  AHBuyNow(item=eternal fire, gold=23.7869)]]"
      ]
     },
     "execution_count": 22,
     "metadata": {},
     "output_type": "execute_result"
    }
   ],
   "source": [
    "topk_procurements(pp, i(\"earthsiege diamond\"))"
   ]
  },
  {
   "cell_type": "code",
   "execution_count": 23,
   "id": "38b851b4-16a7-45df-9698-48d3e679efa5",
   "metadata": {},
   "outputs": [
    {
     "data": {
      "text/plain": [
       "[[Craft(item=spellweave robe, ingredients=6.0*bolt of imbued frostweave + frozen orb + 8.0*spellweave + eternium thread),\n",
       "  Craft(item=7.0*bolt of imbued frostweave, ingredients=4.0*bolt of frostweave + 4.0*infinite dust),\n",
       "  Craft(item=4.0*bolt of frostweave, ingredients=10.0*frostweave cloth),\n",
       "  AHBuyNow(item=10.0*frostweave cloth, gold=2.032),\n",
       "  AHBuyMarket(item=4.0*infinite dust, gold=7.0452),\n",
       "  AHBuyMarket(item=frozen orb, gold=65.8077),\n",
       "  Craft(item=8.0*spellweave, ingredients=bolt of imbued frostweave + 2.0*eternal fire),\n",
       "  AHBuyNow(item=2.0*eternal fire, gold=47.5738),\n",
       "  AHBuyMarket(item=eternium thread, gold=3.4998)],\n",
       " [Craft(item=spellweave robe, ingredients=6.0*bolt of imbued frostweave + frozen orb + 8.0*spellweave + eternium thread),\n",
       "  Craft(item=7.0*bolt of imbued frostweave, ingredients=4.0*bolt of frostweave + 4.0*infinite dust),\n",
       "  Craft(item=4.0*bolt of frostweave, ingredients=10.0*frostweave cloth),\n",
       "  AHBuyNow(item=10.0*frostweave cloth, gold=3.8125),\n",
       "  AHBuyMarket(item=4.0*infinite dust, gold=7.0452),\n",
       "  AHBuyMarket(item=frozen orb, gold=65.8077),\n",
       "  Craft(item=8.0*spellweave, ingredients=bolt of imbued frostweave + 2.0*eternal fire),\n",
       "  AHBuyNow(item=2.0*eternal fire, gold=47.5738),\n",
       "  AHBuyMarket(item=eternium thread, gold=3.4998)],\n",
       " [Craft(item=spellweave robe, ingredients=6.0*bolt of imbued frostweave + frozen orb + 8.0*spellweave + eternium thread),\n",
       "  Craft(item=7.0*bolt of imbued frostweave, ingredients=4.0*bolt of frostweave + 4.0*infinite dust),\n",
       "  Craft(item=4.0*bolt of frostweave, ingredients=10.0*frostweave cloth),\n",
       "  AHBuyMarket(item=10.0*frostweave cloth, gold=3.8125),\n",
       "  AHBuyMarket(item=4.0*infinite dust, gold=7.0452),\n",
       "  AHBuyMarket(item=frozen orb, gold=65.8077),\n",
       "  Craft(item=8.0*spellweave, ingredients=bolt of imbued frostweave + 2.0*eternal fire),\n",
       "  AHBuyNow(item=2.0*eternal fire, gold=47.5738),\n",
       "  AHBuyMarket(item=eternium thread, gold=3.4998)],\n",
       " [Craft(item=spellweave robe, ingredients=6.0*bolt of imbued frostweave + frozen orb + 8.0*spellweave + eternium thread),\n",
       "  Craft(item=7.0*bolt of imbued frostweave, ingredients=4.0*bolt of frostweave + 4.0*infinite dust),\n",
       "  Craft(item=4.0*bolt of frostweave, ingredients=10.0*frostweave cloth),\n",
       "  AHBuyNow(item=10.0*frostweave cloth, gold=2.032),\n",
       "  AHBuyMarket(item=4.0*infinite dust, gold=7.0452),\n",
       "  AHBuyMarket(item=frozen orb, gold=65.8077),\n",
       "  Craft(item=8.0*spellweave, ingredients=bolt of imbued frostweave + 2.0*eternal fire),\n",
       "  AHBuyMarket(item=2.0*eternal fire, gold=49.5368),\n",
       "  AHBuyMarket(item=eternium thread, gold=3.4998)]]"
      ]
     },
     "execution_count": 23,
     "metadata": {},
     "output_type": "execute_result"
    }
   ],
   "source": [
    "topk_procurements(pp, i(\"spellweave robe\"))"
   ]
  },
  {
   "cell_type": "code",
   "execution_count": 24,
   "id": "a5a95fd0-6122-4454-9e76-68b4d5f4a0ca",
   "metadata": {},
   "outputs": [
    {
     "data": {
      "text/plain": [
       "[[Craft(item=skyflare diamond, ingredients=chalcedony + bloodstone + eternal air),\n",
       "  AHBuyNow(item=chalcedony, gold=1.0),\n",
       "  AHBuyNow(item=bloodstone, gold=1.0),\n",
       "  AHBuyNow(item=eternal air, gold=6.9899)],\n",
       " [Craft(item=skyflare diamond, ingredients=chalcedony + bloodstone + eternal air),\n",
       "  AHBuyNow(item=chalcedony, gold=1.0),\n",
       "  AHBuyNow(item=bloodstone, gold=1.0),\n",
       "  AHBuyMarket(item=eternal air, gold=7.0925)],\n",
       " [Craft(item=skyflare diamond, ingredients=chalcedony + bloodstone + eternal air),\n",
       "  AHBuyNow(item=chalcedony, gold=1.0),\n",
       "  AHBuyMarket(item=bloodstone, gold=1.5203),\n",
       "  AHBuyNow(item=eternal air, gold=6.9899)],\n",
       " [Craft(item=skyflare diamond, ingredients=chalcedony + bloodstone + eternal air),\n",
       "  AHBuyMarket(item=chalcedony, gold=1.6184),\n",
       "  AHBuyNow(item=bloodstone, gold=1.0),\n",
       "  AHBuyNow(item=eternal air, gold=6.9899)]]"
      ]
     },
     "execution_count": 24,
     "metadata": {},
     "output_type": "execute_result"
    }
   ],
   "source": [
    "topk_procurements(pp, i(\"skyflare diamond\"))"
   ]
  },
  {
   "cell_type": "code",
   "execution_count": null,
   "id": "e46d7374-2948-46fb-9a7b-cfb89bf2ac16",
   "metadata": {},
   "outputs": [],
   "source": []
  }
 ],
 "metadata": {
  "kernelspec": {
   "display_name": "Python 3",
   "language": "python",
   "name": "python3"
  },
  "language_info": {
   "codemirror_mode": {
    "name": "ipython",
    "version": 3
   },
   "file_extension": ".py",
   "mimetype": "text/x-python",
   "name": "python",
   "nbconvert_exporter": "python",
   "pygments_lexer": "ipython3",
   "version": "3.8.8"
  }
 },
 "nbformat": 4,
 "nbformat_minor": 5
}
