{
 "cells": [
  {
   "cell_type": "code",
   "execution_count": 1,
   "id": "1d210c4d-bf48-4ec4-8c35-7ac9f0628b71",
   "metadata": {},
   "outputs": [],
   "source": [
    "from importlib import reload\n",
    "def reload_all():\n",
    "    import tsm; reload(tsm)\n",
    "    import _keys; reload(_keys)\n",
    "    import blizzard; reload(blizzard)\n",
    "    import config; reload(config)\n",
    "    import kvstore; reload(kvstore)\n",
    "    import snapshot; reload(snapshot)\n",
    "    import elemental_arbitrage; reload(elemental_arbitrage)\n",
    "    import bliz_tsm_join; reload(bliz_tsm_join)\n",
    "    import crafting; reload(crafting)\n",
    "    import kvstore; reload(kvstore)\n",
    "    import crafting; reload(crafting)"
   ]
  },
  {
   "cell_type": "code",
   "execution_count": 2,
   "id": "dd94f1b2-5e47-4217-abec-77b52f9c31aa",
   "metadata": {},
   "outputs": [],
   "source": [
    "reload_all()"
   ]
  },
  {
   "cell_type": "code",
   "execution_count": 3,
   "id": "51f1c1c4-c910-4c41-80f0-35987a1e4f01",
   "metadata": {},
   "outputs": [],
   "source": [
    "from snapshot import SnapshotProcessor\n",
    "from tsm import auction_house_snapshot\n",
    "from config import tsm_region_id\n",
    "from config import tsm_realm_id\n",
    "from config import tsm_ah_id\n",
    "from config import tsm_cache_dir\n",
    "\n",
    "def tsm_ah_snapper():\n",
    "    return auction_house_snapshot(tsm_region_id, tsm_realm_id, tsm_ah_id)\n",
    "\n",
    "tsm_ah_snap = SnapshotProcessor(tsm_ah_snapper, cache_dir=tsm_cache_dir)\n",
    "tsm_ah = tsm_ah_snap.get(max_age_seconds=3000)"
   ]
  },
  {
   "cell_type": "code",
   "execution_count": 4,
   "id": "3a780b13-30a3-4f1e-8e33-9a03b0165f2c",
   "metadata": {},
   "outputs": [],
   "source": [
    "from snapshot import SnapshotProcessor\n",
    "from blizzard import auction_data\n",
    "from blizzard import auction_summary\n",
    "from config import blizzard_realm_id\n",
    "from config import blizzard_ah_id\n",
    "from config import blizzard_cache_dir\n",
    "\n",
    "def bliz_ah_snapper():\n",
    "    return auction_data(blizzard_realm_id, blizzard_ah_id)\n",
    "\n",
    "bliz_ah_snap = SnapshotProcessor(bliz_ah_snapper, cache_dir=blizzard_cache_dir)\n",
    "bliz_ah = bliz_ah_snap.get(max_age_seconds=3000)"
   ]
  },
  {
   "cell_type": "code",
   "execution_count": 5,
   "id": "b5d2b47b-0b5f-4a80-9a7e-438f254c7c6f",
   "metadata": {},
   "outputs": [],
   "source": [
    "from kvstore import InefficientKVStore\n",
    "from blizzard import ItemLookup\n",
    "from config import blizzard_item_cache\n",
    "from config import blizzard_item_reverse_cache\n",
    "\n",
    "items = ItemLookup(\n",
    "    InefficientKVStore(blizzard_item_cache),\n",
    "    InefficientKVStore(blizzard_item_reverse_cache),\n",
    ")"
   ]
  },
  {
   "cell_type": "code",
   "execution_count": 6,
   "id": "0ac0b9a9-1a5d-4784-a2b0-42cdf5787ab7",
   "metadata": {},
   "outputs": [],
   "source": [
    "from bliz_tsm_join import item_info_getter\n",
    "item_info = item_info_getter(items, bliz_ah_snap, tsm_ah_snap, max_age_seconds=3000)\n",
    "item_info_current = item_info_getter(items, bliz_ah_snap, tsm_ah_snap, max_age_seconds=0)"
   ]
  },
  {
   "cell_type": "code",
   "execution_count": 19,
   "id": "3f958cfe-e63b-4104-aa24-0ec5672302b1",
   "metadata": {},
   "outputs": [
    {
     "data": {
      "text/plain": [
       "(UUID('f4ffbf3e-9b51-41cf-81e3-6a2da4cdab1a'),\n",
       " [elixir of greater agility],\n",
       " [sungrass] + [crystal vial] + [goldthorn])"
      ]
     },
     "execution_count": 19,
     "metadata": {},
     "output_type": "execute_result"
    }
   ],
   "source": [
    "reload_all()\n",
    "\n",
    "from crafting import Recipes\n",
    "\n",
    "r = Recipes(items)\n",
    "i = r.ingredients\n",
    "\n",
    "r.recipe_from_strings(\n",
    "    \"2 flask of the frost wyrm\",\n",
    "    \"5 icethorn + 5 lichbloom + frost lotus + enchanted vial\",\n",
    "\n",
    ")\n",
    "r.recipe_from_strings(\n",
    "    \"firecracker salmon\",\n",
    "    \"glacial salmon + northern spices\",\n",
    ")\n",
    "r.recipe_from_strings(\n",
    "    \"elixir of greater agility\",\n",
    "    \"sungrass + goldthorn + crystal vial\",\n",
    ")"
   ]
  },
  {
   "cell_type": "code",
   "execution_count": 20,
   "id": "8865a6b1-c719-4a1f-a78b-cd3dfaab8003",
   "metadata": {},
   "outputs": [
    {
     "data": {
      "text/plain": [
       "{'profit': 4.18,\n",
       " 'recipe': ([glacial salmon] + [northern spices], [firecracker salmon]),\n",
       " 'input_price_method': <function crafting.gold.<locals>._gold(item_inf)>,\n",
       " 'output_price_method': <function crafting.gold.<locals>._gold(item_inf)>,\n",
       " 'input_breakdown': {'[glacial salmon]': {'count': 1,\n",
       "   'price': 1.49,\n",
       "   'total': 1.49},\n",
       "  '[northern spices]': {'count': 1, 'price': 4.42, 'total': 4.42},\n",
       "  'TOTAL': 5.91},\n",
       " 'output_breakdown': {'[firecracker salmon]': {'count': 1,\n",
       "   'price': 10.09,\n",
       "   'total': 10.09},\n",
       "  'TOTAL': 10.09}}"
      ]
     },
     "execution_count": 20,
     "metadata": {},
     "output_type": "execute_result"
    }
   ],
   "source": [
    "from crafting import crafting_price\n",
    "crafting_price(item_info, r.lookup(i(\"firecracker salmon\"))[0])"
   ]
  },
  {
   "cell_type": "code",
   "execution_count": 9,
   "id": "d4b1f7fa-633e-4051-a111-e8b067953a85",
   "metadata": {},
   "outputs": [
    {
     "data": {
      "text/plain": [
       "{'id': 9187,\n",
       " 'name': 'elixir of greater agility',\n",
       " 'num_auctions': 12,\n",
       " 'quantity': 12,\n",
       " 'weight_sell': {'gold': 5.26, 'copper': 52607.0},\n",
       " 'avg_sell': {'gold': 5.26, 'copper': 52607.0},\n",
       " 'max': {'gold': 5.26, 'copper': 52607},\n",
       " 'p80': {'gold': 5.26, 'copper': 52607},\n",
       " 'p50': {'gold': 5.26, 'copper': 52607},\n",
       " 'p20': {'gold': 5.26, 'copper': 52607},\n",
       " 'wp80': {'gold': 5.26, 'copper': 52607},\n",
       " 'wp50': {'gold': 5.26, 'copper': 52607},\n",
       " 'wp20': {'gold': 5.26, 'copper': 52607},\n",
       " 'min': {'gold': 5.26, 'copper': 52607},\n",
       " 'realm_market_value': {'gold': 2.2, 'copper': 21981},\n",
       " 'realm_historical': {'gold': 2.16, 'copper': 21647},\n",
       " 'region_historical': {'gold': 0.99, 'copper': 9896},\n",
       " 'region_avg_sale_price': {'gold': 0.68, 'copper': 6788},\n",
       " 'sale_pct': 25.7,\n",
       " 'sold_per_day': 44,\n",
       " 'headroom': 159,\n",
       " 'market_skew_pct': 1.54,\n",
       " 'auction_skew_pct': 139.33}"
      ]
     },
     "execution_count": 9,
     "metadata": {},
     "output_type": "execute_result"
    }
   ],
   "source": [
    "item_info(\"elixir of greater agility\")"
   ]
  },
  {
   "cell_type": "code",
   "execution_count": 10,
   "id": "62ca2faa-4119-475f-a709-60518b2d007c",
   "metadata": {
    "tags": []
   },
   "outputs": [
    {
     "data": {
      "text/plain": [
       "{'id': 34767,\n",
       " 'name': 'firecracker salmon',\n",
       " 'num_auctions': 12,\n",
       " 'quantity': 144,\n",
       " 'weight_sell': {'gold': 150.4, 'copper': 1504042.6666666667},\n",
       " 'avg_sell': {'gold': 111.26, 'copper': 1112581.8333333333},\n",
       " 'max': {'gold': 194.11, 'copper': 1941078},\n",
       " 'p80': {'gold': 194.11, 'copper': 1941060},\n",
       " 'p50': {'gold': 140.8, 'copper': 1407984},\n",
       " 'p20': {'gold': 44.0, 'copper': 440000},\n",
       " 'wp80': {'gold': 194.11, 'copper': 1941060},\n",
       " 'wp50': {'gold': 176.0, 'copper': 1759980},\n",
       " 'wp20': {'gold': 48.53, 'copper': 485280},\n",
       " 'min': {'gold': 44.0, 'copper': 440000},\n",
       " 'realm_market_value': {'gold': 10.1, 'copper': 101036},\n",
       " 'realm_historical': {'gold': 10.95, 'copper': 109497},\n",
       " 'region_historical': {'gold': 5.22, 'copper': 52158},\n",
       " 'region_avg_sale_price': {'gold': 5.44, 'copper': 54400},\n",
       " 'sale_pct': 46.6,\n",
       " 'sold_per_day': 569,\n",
       " 'headroom': 1077,\n",
       " 'market_skew_pct': -7.73,\n",
       " 'auction_skew_pct': 335.49}"
      ]
     },
     "execution_count": 10,
     "metadata": {},
     "output_type": "execute_result"
    }
   ],
   "source": [
    "item_info(\"firecracker salmon\")"
   ]
  },
  {
   "cell_type": "code",
   "execution_count": 11,
   "id": "453433bb-bc49-4eda-9b3d-8846a393803f",
   "metadata": {},
   "outputs": [
    {
     "data": {
      "text/plain": [
       "361.368"
      ]
     },
     "execution_count": 11,
     "metadata": {},
     "output_type": "execute_result"
    }
   ],
   "source": [
    "28*20*.6453"
   ]
  },
  {
   "cell_type": "code",
   "execution_count": 12,
   "id": "b43cf962-eebc-415f-9859-5c2f54e0c6f7",
   "metadata": {},
   "outputs": [
    {
     "data": {
      "text/plain": [
       "{'id': 45912,\n",
       " 'name': 'book of glyph mastery',\n",
       " 'num_auctions': 3,\n",
       " 'quantity': 3,\n",
       " 'weight_sell': {'gold': 18.12, 'copper': 181216.66666666666},\n",
       " 'avg_sell': {'gold': 18.12, 'copper': 181216.66666666666},\n",
       " 'max': {'gold': 24.37, 'copper': 243651},\n",
       " 'p80': {'gold': 24.37, 'copper': 243651},\n",
       " 'p50': {'gold': 15.0, 'copper': 150000},\n",
       " 'p20': {'gold': 15.0, 'copper': 149999},\n",
       " 'wp80': {'gold': 24.37, 'copper': 243651},\n",
       " 'wp50': {'gold': 15.0, 'copper': 150000},\n",
       " 'wp20': {'gold': 15.0, 'copper': 149999},\n",
       " 'min': {'gold': 15.0, 'copper': 149999},\n",
       " 'realm_market_value': {'gold': 17.43, 'copper': 174255},\n",
       " 'realm_historical': {'gold': 22.76, 'copper': 227635},\n",
       " 'region_historical': {'gold': 15.29, 'copper': 152855},\n",
       " 'region_avg_sale_price': {'gold': 11.23, 'copper': 112264},\n",
       " 'sale_pct': 66.5,\n",
       " 'sold_per_day': 186,\n",
       " 'headroom': 276,\n",
       " 'market_skew_pct': -23.45,\n",
       " 'auction_skew_pct': -13.92}"
      ]
     },
     "execution_count": 12,
     "metadata": {},
     "output_type": "execute_result"
    }
   ],
   "source": [
    "item_info(\"book of glyph mastery\")"
   ]
  },
  {
   "cell_type": "code",
   "execution_count": 13,
   "id": "83db8dea-7248-4e2c-912a-757af0cea027",
   "metadata": {
    "tags": []
   },
   "outputs": [
    {
     "name": "stdout",
     "output_type": "stream",
     "text": [
      "DEFINITELY   BS eternal-life (unit profit: 17280,headroom: 3476)\n",
      "DEFINITELY   BS eternal-earth (unit profit: 46670,headroom: 3514)\n",
      "DEFINITELY   BS eternal-air (unit profit: 34657,headroom: 2452)\n",
      "DEFINITELY   BS eternal-fire (unit profit: 64569,headroom: 2133)\n",
      "DEFINITELY   BS eternal-water (unit profit: 27891,headroom: 5757)\n",
      "DEFINITELY   BS eternal-shadow (unit profit: 59346,headroom: 3756)\n",
      "SKIP        primal-life\n",
      "SKIP        primal-earth\n",
      "SKIP        primal-air\n",
      "SKIP        primal-fire\n",
      "SKIP        primal-water\n",
      "SKIP        primal-shadow\n",
      "DEFINITELY   BS essence-eternal (unit profit: 277739,headroom: 413)\n",
      "DEFINITELY   BS essence-cosmic (unit profit: 895782,headroom: 953)\n",
      "DEFINITELY   BS essence-nether (unit profit: 165503,headroom: 413)\n",
      "DEFINITELY   BS essence-planar (unit profit: 66685,headroom: 803)\n",
      "DEFINITELY   BS essence-astral (unit profit: 98553,headroom: 598)\n",
      "SKIP        essence-magic\n",
      "DEFINITELY   BS essence-mystic (unit profit: 69529,headroom: 792)\n"
     ]
    }
   ],
   "source": [
    "from elemental_arbitrage import print_elemental_arbitrage_report\n",
    "\n",
    "print_elemental_arbitrage_report(tsm_ah, items)"
   ]
  },
  {
   "cell_type": "code",
   "execution_count": 14,
   "id": "da3bc152-4543-49a7-9de1-43cb4189d0e6",
   "metadata": {},
   "outputs": [
    {
     "data": {
      "text/plain": [
       "{'id': 37705,\n",
       " 'name': 'crystallized water',\n",
       " 'num_auctions': 26,\n",
       " 'quantity': 182,\n",
       " 'weight_sell': {'gold': 192.66, 'copper': 1926563.7747252746},\n",
       " 'avg_sell': {'gold': 242.72, 'copper': 2427187.346153846},\n",
       " 'max': {'gold': 3110.14, 'copper': 31101411},\n",
       " 'p80': {'gold': 2.3, 'copper': 22970},\n",
       " 'p50': {'gold': 2.19, 'copper': 21950},\n",
       " 'p20': {'gold': 0.66, 'copper': 6588},\n",
       " 'wp80': {'gold': 7.92, 'copper': 79192},\n",
       " 'wp50': {'gold': 2.2, 'copper': 22000},\n",
       " 'wp20': {'gold': 2.19, 'copper': 21920},\n",
       " 'min': {'gold': 0.22, 'copper': 2194},\n",
       " 'realm_market_value': {'gold': 0.44, 'copper': 4404},\n",
       " 'realm_historical': {'gold': 0.79, 'copper': 7897},\n",
       " 'region_historical': {'gold': 0.56, 'copper': 5583},\n",
       " 'region_avg_sale_price': {'gold': 0.56, 'copper': 5584},\n",
       " 'sale_pct': 75.9,\n",
       " 'sold_per_day': 4508,\n",
       " 'headroom': 5757,\n",
       " 'market_skew_pct': -44.23,\n",
       " 'auction_skew_pct': -50.18}"
      ]
     },
     "execution_count": 14,
     "metadata": {},
     "output_type": "execute_result"
    }
   ],
   "source": [
    "item_info(\"crystallized water\")"
   ]
  },
  {
   "cell_type": "code",
   "execution_count": 15,
   "id": "319338f8-d752-4cb5-8c16-c82809ad7515",
   "metadata": {
    "tags": []
   },
   "outputs": [
    {
     "data": {
      "text/plain": [
       "{\"adder's\": 1.5,\n",
       " 'goldclover': 0.98,\n",
       " 'frost lotus': 0.06,\n",
       " 'deadnettle': 0.46,\n",
       " 'tiger lily': 0.84,\n",
       " 'crystallized life': 1.06}"
      ]
     },
     "execution_count": 15,
     "metadata": {},
     "output_type": "execute_result"
    }
   ],
   "source": [
    "found_sholazar = {\"adder's\": 3*20+15, \"goldclover\": 2*20+9, \"frost lotus\": 3, \"deadnettle\": 20+3, \"tiger lily\": 2*20+2, \"crystallized life\": 10*5+3}\n",
    "rates_per_minute = {k: v/50 for (k, v) in found_sholazar.items()}\n",
    "rates_per_minute"
   ]
  }
 ],
 "metadata": {
  "kernelspec": {
   "display_name": "Python 3",
   "language": "python",
   "name": "python3"
  },
  "language_info": {
   "codemirror_mode": {
    "name": "ipython",
    "version": 3
   },
   "file_extension": ".py",
   "mimetype": "text/x-python",
   "name": "python",
   "nbconvert_exporter": "python",
   "pygments_lexer": "ipython3",
   "version": "3.8.8"
  }
 },
 "nbformat": 4,
 "nbformat_minor": 5
}
