{
 "cells": [
  {
   "cell_type": "code",
   "execution_count": 223,
   "id": "1d210c4d-bf48-4ec4-8c35-7ac9f0628b71",
   "metadata": {},
   "outputs": [
    {
     "data": {
      "text/plain": [
       "<module 'bliz_tsm_join' from 'C:\\\\Users\\\\Med\\\\Desktop\\\\wow\\\\bliz_tsm_join.py'>"
      ]
     },
     "execution_count": 223,
     "metadata": {},
     "output_type": "execute_result"
    }
   ],
   "source": [
    "from importlib import reload\n",
    "import tsm; reload(tsm)\n",
    "import _keys; reload(_keys)\n",
    "import blizzard; reload(blizzard)\n",
    "import config; reload(config)\n",
    "import kvstore; reload(kvstore)\n",
    "import snapshot; reload(snapshot)\n",
    "import elemental_arbitrage; reload(elemental_arbitrage)\n",
    "import bliz_tsm_join; reload(bliz_tsm_join)"
   ]
  },
  {
   "cell_type": "code",
   "execution_count": 224,
   "id": "51f1c1c4-c910-4c41-80f0-35987a1e4f01",
   "metadata": {},
   "outputs": [],
   "source": [
    "from snapshot import SnapshotProcessor\n",
    "from tsm import auction_house_snapshot\n",
    "from config import tsm_region_id\n",
    "from config import tsm_realm_id\n",
    "from config import tsm_ah_id\n",
    "from config import tsm_cache_dir\n",
    "\n",
    "def tsm_ah_snapper():\n",
    "    return auction_house_snapshot(tsm_region_id, tsm_realm_id, tsm_ah_id)\n",
    "\n",
    "tsm_ah_snap = SnapshotProcessor(tsm_ah_snapper, cache_dir=tsm_cache_dir)\n",
    "tsm_ah = tsm_ah_snap.get(max_age_seconds=3000)"
   ]
  },
  {
   "cell_type": "code",
   "execution_count": 225,
   "id": "3a780b13-30a3-4f1e-8e33-9a03b0165f2c",
   "metadata": {},
   "outputs": [],
   "source": [
    "from snapshot import SnapshotProcessor\n",
    "from blizzard import auction_data\n",
    "from blizzard import auction_summary\n",
    "from config import blizzard_realm_id\n",
    "from config import blizzard_ah_id\n",
    "from config import blizzard_cache_dir\n",
    "\n",
    "def bliz_ah_snapper():\n",
    "    return auction_data(blizzard_realm_id, blizzard_ah_id)\n",
    "\n",
    "bliz_ah_snap = SnapshotProcessor(bliz_ah_snapper, cache_dir=blizzard_cache_dir)\n",
    "bliz_ah = bliz_ah_snap.get(max_age_seconds=3000)"
   ]
  },
  {
   "cell_type": "code",
   "execution_count": 226,
   "id": "b5d2b47b-0b5f-4a80-9a7e-438f254c7c6f",
   "metadata": {},
   "outputs": [],
   "source": [
    "from kvstore import InefficientKVStore\n",
    "from blizzard import ItemLookup\n",
    "from config import blizzard_item_cache\n",
    "from config import blizzard_item_reverse_cache\n",
    "\n",
    "items = ItemLookup(\n",
    "    InefficientKVStore(blizzard_item_cache),\n",
    "    InefficientKVStore(blizzard_item_reverse_cache),\n",
    ")"
   ]
  },
  {
   "cell_type": "code",
   "execution_count": 227,
   "id": "0ac0b9a9-1a5d-4784-a2b0-42cdf5787ab7",
   "metadata": {},
   "outputs": [],
   "source": [
    "from bliz_tsm_join import item_info_getter\n",
    "item_info = item_info_getter(items, bliz_ah_snap, tsm_ah_snap, max_age_seconds=3000)\n",
    "item_info_current = item_info_getter(items, bliz_ah_snap, tsm_ah_snap, max_age_seconds=0)"
   ]
  },
  {
   "cell_type": "code",
   "execution_count": 216,
   "id": "17d4efa5-31f3-4301-821f-6accf2a9562d",
   "metadata": {},
   "outputs": [],
   "source": [
    "from blizzard import item_search_names"
   ]
  },
  {
   "cell_type": "code",
   "execution_count": 228,
   "id": "50f74518-044e-44f0-895d-5dfd1c44532f",
   "metadata": {},
   "outputs": [
    {
     "data": {
      "text/plain": [
       "{'id': 46376,\n",
       " 'name': 'flask of the frost wyrm',\n",
       " 'num_auctions': 47,\n",
       " 'quantity': 360,\n",
       " 'weight_sell': {'gold': 172.89, 'copper': 1728948.2722222223},\n",
       " 'avg_sell': {'gold': 85.29, 'copper': 852927.4468085107},\n",
       " 'max': {'gold': 230.0, 'copper': 2300000},\n",
       " 'p80': {'gold': 210.0, 'copper': 2100000},\n",
       " 'p50': {'gold': 39.47, 'copper': 394650},\n",
       " 'p20': {'gold': 26.31, 'copper': 263100},\n",
       " 'wp80': {'gold': 210.0, 'copper': 2100000},\n",
       " 'wp50': {'gold': 210.0, 'copper': 2100000},\n",
       " 'wp20': {'gold': 39.47, 'copper': 394650},\n",
       " 'min': {'gold': 10.45, 'copper': 104498},\n",
       " 'realm_market_value': {'gold': 10.84, 'copper': 108372},\n",
       " 'realm_historical': {'gold': 12.87, 'copper': 128748},\n",
       " 'region_historical': {'gold': 9.8, 'copper': 98017},\n",
       " 'region_avg_sale_price': {'gold': 8.63, 'copper': 86285},\n",
       " 'sale_pct': 57,\n",
       " 'sold_per_day': 207,\n",
       " 'headroom': -153,\n",
       " 'market_skew_pct': -15.83,\n",
       " 'auction_skew_pct': -3.57}"
      ]
     },
     "execution_count": 228,
     "metadata": {},
     "output_type": "execute_result"
    }
   ],
   "source": [
    "item_info(\"flask of the frost wyrm\")"
   ]
  },
  {
   "cell_type": "code",
   "execution_count": 218,
   "id": "83db8dea-7248-4e2c-912a-757af0cea027",
   "metadata": {
    "scrolled": true,
    "tags": []
   },
   "outputs": [
    {
     "name": "stdout",
     "output_type": "stream",
     "text": [
      "SKIP        eternal-life\n",
      "SKIP        eternal-earth\n",
      "SKIP        eternal-air\n",
      "SKIP        eternal-fire\n",
      "YES          BS eternal-water (unit profit: 43251,headroom: 273)\n",
      "SKIP        eternal-shadow\n",
      "SKIP        primal-life\n",
      "SKIP        primal-earth\n",
      "SKIP        primal-air\n",
      "SKIP        primal-fire\n",
      "SKIP        primal-water\n",
      "SKIP        primal-shadow\n",
      "SKIP        essence-eternal\n",
      "SKIP        essence-cosmic\n",
      "SKIP        essence-nether\n",
      "SKIP        essence-planar\n",
      "SKIP        essence-astral\n",
      "SKIP        essence-magic\n",
      "SKIP        essence-mystic\n"
     ]
    }
   ],
   "source": [
    "from elemental_arbitrage import print_elemental_arbitrage_report\n",
    "\n",
    "print_elemental_arbitrage_report(tsm_ah, items)"
   ]
  },
  {
   "cell_type": "code",
   "execution_count": 219,
   "id": "2f1e5fd9-e6ab-44f0-aba0-b3601548ba12",
   "metadata": {},
   "outputs": [
    {
     "data": {
      "text/plain": [
       "{'auctionHouseId': 351,\n",
       " 'itemId': 41334,\n",
       " 'petSpeciesId': None,\n",
       " 'minBuyout': 250000,\n",
       " 'quantity': 69,\n",
       " 'marketValue': 281595,\n",
       " 'historical': 334995,\n",
       " 'numAuctions': 35,\n",
       " 'region': {'regionId': 13,\n",
       "  'itemId': 41334,\n",
       "  'petSpeciesId': None,\n",
       "  'quantity': 62,\n",
       "  'marketValue': 301114,\n",
       "  'avgSalePrice': 248656,\n",
       "  'salePct': 51,\n",
       "  'soldPerDay': 32,\n",
       "  'historical': 297282}}"
      ]
     },
     "execution_count": 219,
     "metadata": {},
     "output_type": "execute_result"
    }
   ],
   "source": [
    "tsm_ah[items.get_id(\"Earthsiege Diamond\")]"
   ]
  },
  {
   "cell_type": "code",
   "execution_count": 220,
   "id": "e9e019aa-d29a-4470-b1e7-f4ca54fa4fb8",
   "metadata": {
    "scrolled": true,
    "tags": []
   },
   "outputs": [
    {
     "ename": "NameError",
     "evalue": "name 'blizzard_static' is not defined",
     "output_type": "error",
     "traceback": [
      "\u001b[1;31m---------------------------------------------------------------------------\u001b[0m",
      "\u001b[1;31mNameError\u001b[0m                                 Traceback (most recent call last)",
      "Input \u001b[1;32mIn [220]\u001b[0m, in \u001b[0;36m<cell line: 50>\u001b[1;34m()\u001b[0m\n\u001b[0;32m     24\u001b[0m     meta \u001b[38;5;241m=\u001b[39m [\n\u001b[0;32m     25\u001b[0m         {\n\u001b[0;32m     26\u001b[0m             \u001b[38;5;124m\"\u001b[39m\u001b[38;5;124mid\u001b[39m\u001b[38;5;124m\"\u001b[39m: h[\u001b[38;5;124m\"\u001b[39m\u001b[38;5;124mdata\u001b[39m\u001b[38;5;124m\"\u001b[39m][\u001b[38;5;124m\"\u001b[39m\u001b[38;5;124mid\u001b[39m\u001b[38;5;124m\"\u001b[39m],\n\u001b[1;32m   (...)\u001b[0m\n\u001b[0;32m     32\u001b[0m         \u001b[38;5;28;01mfor\u001b[39;00m h \u001b[38;5;129;01min\u001b[39;00m bliz_items\n\u001b[0;32m     33\u001b[0m     ]\n\u001b[0;32m     35\u001b[0m     \u001b[38;5;28;01mreturn\u001b[39;00m [\n\u001b[0;32m     36\u001b[0m         {\n\u001b[0;32m     37\u001b[0m             \u001b[38;5;124m\"\u001b[39m\u001b[38;5;124mid\u001b[39m\u001b[38;5;124m\"\u001b[39m: h[\u001b[38;5;124m\"\u001b[39m\u001b[38;5;124mid\u001b[39m\u001b[38;5;124m\"\u001b[39m],\n\u001b[1;32m   (...)\u001b[0m\n\u001b[0;32m     47\u001b[0m         \u001b[38;5;28;01mfor\u001b[39;00m h \u001b[38;5;129;01min\u001b[39;00m meta\n\u001b[0;32m     48\u001b[0m     ]\n\u001b[1;32m---> 50\u001b[0m herbs \u001b[38;5;241m=\u001b[39m normalize_tsm(items, item_query(\u001b[43mblizzard_static\u001b[49m, {\u001b[38;5;124m\"\u001b[39m\u001b[38;5;124mitem_subclass.name.en_US\u001b[39m\u001b[38;5;124m\"\u001b[39m: \u001b[38;5;124m\"\u001b[39m\u001b[38;5;124mHerb\u001b[39m\u001b[38;5;124m\"\u001b[39m}))\n\u001b[0;32m     51\u001b[0m minerals \u001b[38;5;241m=\u001b[39m normalize_tsm(items, item_query(blizzard_static, {\u001b[38;5;124m\"\u001b[39m\u001b[38;5;124mitem_subclass.name.en_US\u001b[39m\u001b[38;5;124m\"\u001b[39m: \u001b[38;5;124m\"\u001b[39m\u001b[38;5;124mMetal & Stone\u001b[39m\u001b[38;5;124m\"\u001b[39m}))\n",
      "\u001b[1;31mNameError\u001b[0m: name 'blizzard_static' is not defined"
     ]
    }
   ],
   "source": [
    "default_tsm = {\n",
    "    'auctionHouseId': 0,\n",
    "    'itemId': 0,\n",
    "    'petSpeciesId': None,\n",
    "    'minBuyout': 0,\n",
    "    'quantity': 0,\n",
    "    'marketValue': 0,\n",
    "    'historical': 0,\n",
    "    'numAuctions': 0,\n",
    "    'region': {\n",
    "        'regionId': 0,\n",
    "        'itemId': 0,\n",
    "        'petSpeciesId': None,\n",
    "        'quantity': 0,\n",
    "        'marketValue': 0,\n",
    "        'avgSalePrice': 0,\n",
    "        'salePct': 0,\n",
    "        'soldPerDay': 0,\n",
    "        'historical': 0,\n",
    "    }\n",
    "}\n",
    "\n",
    "def normalize_tsm(tsm_items, bliz_items):\n",
    "    meta = [\n",
    "        {\n",
    "            \"id\": h[\"data\"][\"id\"],\n",
    "            \"name\": h[\"data\"][\"name\"][\"en_US\"],\n",
    "            \"quality\": h[\"data\"][\"quality\"][\"name\"][\"en_US\"],\n",
    "            \"tsm\": tsm_items.get(h[\"data\"][\"id\"], default_tsm),\n",
    "\n",
    "        }\n",
    "        for h in bliz_items\n",
    "    ]\n",
    "\n",
    "    return [\n",
    "        {\n",
    "            \"id\": h[\"id\"],\n",
    "            \"name\": h[\"name\"], \n",
    "            \"quality\": h[\"quality\"],\n",
    "            # The 1e4 is to convert the value into gold\n",
    "            \"market\": h[\"tsm\"][\"marketValue\"] / 1e4,\n",
    "            \"auction\": h[\"tsm\"][\"minBuyout\"] / 1e4,\n",
    "            \"historical\": h[\"tsm\"][\"region\"][\"historical\"] / 1e4,\n",
    "            \"sale_rate\": h[\"tsm\"][\"region\"][\"salePct\"]/100,\n",
    "            \"daily_sold\": h[\"tsm\"][\"region\"][\"soldPerDay\"],\n",
    "        }\n",
    "        for h in meta\n",
    "    ]\n",
    "\n",
    "herbs = normalize_tsm(items, item_query(blizzard_static, {\"item_subclass.name.en_US\": \"Herb\"}))\n",
    "minerals = normalize_tsm(items, item_query(blizzard_static, {\"item_subclass.name.en_US\": \"Metal & Stone\"}))"
   ]
  },
  {
   "cell_type": "code",
   "execution_count": null,
   "id": "319338f8-d752-4cb5-8c16-c82809ad7515",
   "metadata": {
    "tags": []
   },
   "outputs": [],
   "source": [
    "found_sholazar = {\"adder's\": 3*20+15, \"goldclover\": 2*20+9, \"frost lotus\": 3, \"deadnettle\": 20+3, \"tiger lily\": 2*20+2, \"crystallized life\": 10*5+3}\n",
    "rates_per_minute = {k: v/50 for (k, v) in found_sholazar.items()}\n",
    "rates_per_minute"
   ]
  },
  {
   "cell_type": "code",
   "execution_count": null,
   "id": "80efc956-0d1b-4e77-93e1-0a174297ff6c",
   "metadata": {},
   "outputs": [],
   "source": []
  }
 ],
 "metadata": {
  "kernelspec": {
   "display_name": "Python 3",
   "language": "python",
   "name": "python3"
  },
  "language_info": {
   "codemirror_mode": {
    "name": "ipython",
    "version": 3
   },
   "file_extension": ".py",
   "mimetype": "text/x-python",
   "name": "python",
   "nbconvert_exporter": "python",
   "pygments_lexer": "ipython3",
   "version": "3.8.8"
  }
 },
 "nbformat": 4,
 "nbformat_minor": 5
}
