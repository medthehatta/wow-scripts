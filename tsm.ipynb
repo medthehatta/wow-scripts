{
 "cells": [
  {
   "cell_type": "code",
   "execution_count": 1,
   "id": "1d210c4d-bf48-4ec4-8c35-7ac9f0628b71",
   "metadata": {},
   "outputs": [],
   "source": [
    "from importlib import reload\n",
    "def reload_all():\n",
    "    import tsm; reload(tsm)\n",
    "    import _keys; reload(_keys)\n",
    "    import blizzard; reload(blizzard)\n",
    "    import config; reload(config)\n",
    "    import kvstore; reload(kvstore)\n",
    "    import snapshot; reload(snapshot)\n",
    "    import elemental_arbitrage; reload(elemental_arbitrage)\n",
    "    import bliz_tsm_join; reload(bliz_tsm_join)\n",
    "    import crafting; reload(crafting)\n",
    "    import kvstore; reload(kvstore)\n",
    "    import crafting; reload(crafting)\n",
    "reload_all()\n",
    "from itables import show"
   ]
  },
  {
   "cell_type": "code",
   "execution_count": 2,
   "id": "51f1c1c4-c910-4c41-80f0-35987a1e4f01",
   "metadata": {},
   "outputs": [],
   "source": [
    "from snapshot import SnapshotProcessor\n",
    "from tsm import auction_house_snapshot\n",
    "from config import tsm_region_id\n",
    "from config import tsm_realm_id\n",
    "from config import tsm_ah_id\n",
    "from config import tsm_cache_dir\n",
    "\n",
    "def tsm_ah_snapper():\n",
    "    return auction_house_snapshot(tsm_region_id, tsm_realm_id, tsm_ah_id)\n",
    "\n",
    "tsm_ah_snap = SnapshotProcessor(tsm_ah_snapper, cache_dir=tsm_cache_dir)\n",
    "tsm_ah = tsm_ah_snap.get(max_age_seconds=3000)"
   ]
  },
  {
   "cell_type": "code",
   "execution_count": 3,
   "id": "3a780b13-30a3-4f1e-8e33-9a03b0165f2c",
   "metadata": {},
   "outputs": [],
   "source": [
    "from snapshot import SnapshotProcessor\n",
    "from blizzard import auction_data\n",
    "from blizzard import auction_summary\n",
    "from config import blizzard_realm_id\n",
    "from config import blizzard_ah_id\n",
    "from config import blizzard_cache_dir\n",
    "\n",
    "def bliz_ah_snapper():\n",
    "    return auction_data(blizzard_realm_id, blizzard_ah_id)\n",
    "\n",
    "bliz_ah_snap = SnapshotProcessor(bliz_ah_snapper, cache_dir=blizzard_cache_dir)\n",
    "bliz_ah = bliz_ah_snap.get(max_age_seconds=3000)"
   ]
  },
  {
   "cell_type": "code",
   "execution_count": 4,
   "id": "b5d2b47b-0b5f-4a80-9a7e-438f254c7c6f",
   "metadata": {},
   "outputs": [],
   "source": [
    "from kvstore import InefficientKVStore\n",
    "from blizzard import ItemLookup\n",
    "from config import blizzard_item_cache\n",
    "from config import blizzard_item_reverse_cache\n",
    "\n",
    "items = ItemLookup(\n",
    "    InefficientKVStore(blizzard_item_cache),\n",
    "    InefficientKVStore(blizzard_item_reverse_cache),\n",
    ")"
   ]
  },
  {
   "cell_type": "code",
   "execution_count": 5,
   "id": "0ac0b9a9-1a5d-4784-a2b0-42cdf5787ab7",
   "metadata": {},
   "outputs": [],
   "source": [
    "from bliz_tsm_join import item_info_getter\n",
    "item_info = item_info_getter(items, bliz_ah_snap, tsm_ah_snap, max_age_seconds=3000)\n",
    "item_info_current = item_info_getter(items, bliz_ah_snap, tsm_ah_snap, max_age_seconds=0)"
   ]
  },
  {
   "cell_type": "code",
   "execution_count": 6,
   "id": "3f958cfe-e63b-4104-aa24-0ec5672302b1",
   "metadata": {},
   "outputs": [],
   "source": [
    "reload_all()\n",
    "\n",
    "from crafting import Recipes\n",
    "from crafting import purchase_price\n",
    "from crafting import crafting_price\n",
    "from crafting import gold\n",
    "\n",
    "\n",
    "r = Recipes(items)\n",
    "i = r.ingredients\n",
    "\n",
    "def buy(item, price_method=gold(\"realm_market_value\")):\n",
    "    return purchase_price(item_info, item, price_method)\n",
    "\n",
    "\n",
    "recipe_listing = \"\"\"\n",
    "2 flask of the frost wyrm\n",
    "5 icethorn + 5 lichbloom + frost lotus + enchanted vial\n",
    "\n",
    "2 flask of endless rage\n",
    "7 lichbloom + 3 goldclover + frost lotus + enchanted vial\n",
    "\n",
    "2 flask of stoneblood\n",
    "7 lichbloom + 3 crystallized life + frost lotus + enchanted vial\n",
    "\n",
    "firecracker salmon\n",
    "glacial salmon + northern spices\n",
    "\n",
    "elixir of greater agility\n",
    "sungrass + goldthorn + crystal vial\n",
    "\n",
    "titanium bar\n",
    "8 saronite bar\n",
    "\n",
    "titanium bar\n",
    "2 titanium ore\n",
    "\n",
    "titansteel bar\n",
    "3 titanium bar + eternal fire + eternal earth + eternal shadow\n",
    "\n",
    "indestructible potion\n",
    "2 icethorn + imbued vial\n",
    "\n",
    "saronite bar\n",
    "2 saronite ore\n",
    "\n",
    "potion of speed\n",
    "2 adder's tongue + pygmy oil + imbued vial\n",
    "\n",
    "potion of wild magic\n",
    "2 lichbloom + pygmy oil + imbued vial\n",
    "\n",
    "titansteel spellblade\n",
    "6 titansteel bar + 6 infinite dust + 2 frozen orb\n",
    "\n",
    "glyph of wild growth\n",
    "resilient parchment + ethereal ink\n",
    "\n",
    "spellweave robe\n",
    "8 spellweave + 6 bolt of imbued frostweave + eternium thread + frozen orb\n",
    "\"\"\"\n",
    "\n",
    "reversible_recipes = \"\"\"\n",
    "eternal shadow\n",
    "10 crystallized shadow\n",
    "\n",
    "eternal water\n",
    "10 crystallized water\n",
    "\n",
    "greater planar essence\n",
    "3 lesser planar essence\n",
    "\n",
    "greater cosmic essence\n",
    "3 lesser cosmic essence\n",
    "\"\"\"\n",
    "\n",
    "r_out = None\n",
    "for line in recipe_listing.splitlines():\n",
    "    if line.strip():\n",
    "        if r_out:\n",
    "            r.recipe_from_strings(r_out, line.strip())\n",
    "            r_out = None\n",
    "        else:\n",
    "            r_out = line.strip()\n",
    "\n",
    "            \n",
    "r_out = None\n",
    "for line in reversible_recipes.splitlines():\n",
    "    if line.strip():\n",
    "        if r_out:\n",
    "            r.recipe_from_strings(r_out, line.strip())\n",
    "            r.recipe_from_strings(line.strip(), r_out)\n",
    "            r_out = None\n",
    "        else:\n",
    "            r_out = line.strip()"
   ]
  },
  {
   "cell_type": "code",
   "execution_count": 7,
   "id": "ea27def8-a5f0-40ff-bfda-769f666ecb67",
   "metadata": {},
   "outputs": [
    {
     "data": {
      "text/plain": [
       "0.1846"
      ]
     },
     "execution_count": 7,
     "metadata": {},
     "output_type": "execute_result"
    }
   ],
   "source": [
    "buy(i(\"hi-explosive bomb\"))"
   ]
  },
  {
   "cell_type": "code",
   "execution_count": 8,
   "id": "dd5fb2a7-1255-4bb8-acdc-1f888fa0313e",
   "metadata": {},
   "outputs": [
    {
     "data": {
      "text/plain": [
       "27.2196"
      ]
     },
     "execution_count": 8,
     "metadata": {},
     "output_type": "execute_result"
    }
   ],
   "source": [
    "# to journeyman\n",
    "buy(\n",
    "    ing_to_journeyman := i(\"60 rough stone + 30 copper bar + 6 copper bar\"),\n",
    "    #gold(\"min\"),\n",
    "    gold(\"realm_market_value\"),\n",
    ")"
   ]
  },
  {
   "cell_type": "code",
   "execution_count": 9,
   "id": "a5f2ced6-eafc-455b-b9f7-0d19d9cc67aa",
   "metadata": {},
   "outputs": [
    {
     "data": {
      "text/plain": [
       "262.51099999999997"
      ]
     },
     "execution_count": 9,
     "metadata": {},
     "output_type": "execute_result"
    }
   ],
   "source": [
    "# to expert\n",
    "buy(\n",
    "    ing_to_expert := i(\"60 coarse stone + 20 linen cloth + 5 silver bar + 50 bronze bar + 25 weak flux + 10 moss agate\"),\n",
    "    #gold(\"min\"),\n",
    "    gold(\"realm_market_value\"),\n",
    ")"
   ]
  },
  {
   "cell_type": "code",
   "execution_count": 10,
   "id": "f2c36a58-733a-4880-9b23-c2fb381afb31",
   "metadata": {},
   "outputs": [
    {
     "data": {
      "text/plain": [
       "242.09159999999997"
      ]
     },
     "execution_count": 10,
     "metadata": {},
     "output_type": "execute_result"
    }
   ],
   "source": [
    "# to artisan\n",
    "buy(\n",
    "    ing_to_artisan := i(\"30 heavy stone + 30 bronze bar + 15 wool cloth + 30 bronze bar + 15 medium leather + 15 wool cloth + 30 wool cloth + 4 steel bar + 120 solid stone + 21 mithril bar\"),\n",
    "    #gold(\"min\"),\n",
    "    gold(\"realm_market_value\"),\n",
    ")"
   ]
  },
  {
   "cell_type": "code",
   "execution_count": 11,
   "id": "4057270c-b41e-48b9-a0f5-401a8da588c3",
   "metadata": {},
   "outputs": [
    {
     "data": {
      "text/plain": [
       "781.4785"
      ]
     },
     "execution_count": 11,
     "metadata": {},
     "output_type": "execute_result"
    }
   ],
   "source": [
    "# to master\n",
    "buy(\n",
    "    ing_to_master := i(\"20 mithril bar + 20 mageweave cloth + 120 mithril bar + 60 dense stone + 105 thorium bar + 35 runecloth + 30 thorium bar\"),\n",
    "    #gold(\"min\"),\n",
    "    gold(\"realm_market_value\"),\n",
    ")"
   ]
  },
  {
   "cell_type": "code",
   "execution_count": 12,
   "id": "48de5f83-baa7-464f-9762-f342c3f3fd39",
   "metadata": {},
   "outputs": [
    {
     "data": {
      "text/plain": [
       "543.2149999999999"
      ]
     },
     "execution_count": 12,
     "metadata": {},
     "output_type": "execute_result"
    }
   ],
   "source": [
    "# to wotlk\n",
    "buy(\n",
    "    ing_to_wotlk := i(\"40 fel iron bar + 20 mote of fire + 40 mote of earth + 30 fel iron bar + 40 adamantite bar + 60 netherweave cloth\"),\n",
    "    #gold(\"min\"),\n",
    "    gold(\"realm_market_value\"),\n",
    ")"
   ]
  },
  {
   "cell_type": "code",
   "execution_count": 13,
   "id": "346ba883-1cf5-46f1-ac7d-19e98fa59a75",
   "metadata": {},
   "outputs": [
    {
     "data": {
      "text/plain": [
       "238.8148"
      ]
     },
     "execution_count": 13,
     "metadata": {},
     "output_type": "execute_result"
    }
   ],
   "source": [
    "# to 375\n",
    "buy(\n",
    "    ing_to_375 := i(\"70 cobalt bar + 42 cobalt bar + 14 crystallized water\"),\n",
    "    #gold(\"min\"),\n",
    "    gold(\"realm_market_value\"),\n",
    ")"
   ]
  },
  {
   "cell_type": "code",
   "execution_count": 14,
   "id": "8865a6b1-c719-4a1f-a78b-cd3dfaab8003",
   "metadata": {},
   "outputs": [],
   "source": [
    "from crafting import crafting_price\n",
    "from crafting import gold\n",
    "\n",
    "def approaches(item_name):\n",
    "    market_craft = crafting_price(\n",
    "        item_info,\n",
    "        r.lookup(item_name=item_name)[0],\n",
    "        in_price_method=gold(\"realm_market_value\"),\n",
    "        out_price_method=gold(\"realm_market_value\"),\n",
    "    )\n",
    "    flip_craft = crafting_price(\n",
    "        item_info,\n",
    "        r.lookup(item_name=item_name)[0],\n",
    "        in_price_method=gold(\"min\"),\n",
    "        out_price_method=gold(\"min\"),\n",
    "    )\n",
    "    hold_craft = crafting_price(\n",
    "        item_info,\n",
    "        r.lookup(item_name=item_name)[0],\n",
    "        in_price_method=gold(\"min\"),\n",
    "        out_price_method=gold(\"realm_market_value\"),\n",
    "    )\n",
    "    return {\"market\": market_craft, \"flip\": flip_craft, \"hold\": hold_craft}"
   ]
  },
  {
   "cell_type": "code",
   "execution_count": 15,
   "id": "83db8dea-7248-4e2c-912a-757af0cea027",
   "metadata": {
    "tags": []
   },
   "outputs": [
    {
     "name": "stdout",
     "output_type": "stream",
     "text": [
      "SKIP        eternal-life\n",
      "SKIP        eternal-earth\n",
      "SKIP        eternal-air\n",
      "DEFINITELY   BS eternal-fire (unit profit: 44095,headroom: 1328)\n",
      "DEFINITELY   BS eternal-water (unit profit: 27782,headroom: 2360)\n",
      "DEFINITELY   BS eternal-shadow (unit profit: 48364,headroom: 2301)\n",
      "YES          SB primal-life (unit profit: 57640,headroom: 295)\n",
      "SKIP        primal-earth\n",
      "SKIP        primal-air\n",
      "SKIP        primal-fire\n",
      "SKIP        primal-water\n",
      "SKIP        primal-shadow\n",
      "DEFINITELY   SB essence-eternal (unit profit: 16085,headroom: 1173)\n",
      "DEFINITELY   BS essence-cosmic (unit profit: 70228,headroom: 750)\n",
      "SKIP        essence-nether\n",
      "SKIP        essence-planar\n",
      "SKIP        essence-astral\n",
      "SKIP        essence-magic\n",
      "SKIP        essence-mystic\n"
     ]
    }
   ],
   "source": [
    "from elemental_arbitrage import print_elemental_arbitrage_report\n",
    "\n",
    "print_elemental_arbitrage_report(tsm_ah, items)"
   ]
  },
  {
   "cell_type": "code",
   "execution_count": 16,
   "id": "2eeacf23-c2d1-4bce-93ad-3c97cbeb4660",
   "metadata": {
    "tags": []
   },
   "outputs": [
    {
     "name": "stderr",
     "output_type": "stream",
     "text": [
      "<ipython-input-16-e5b0eba07282>:14: UserWarning: DataFrame columns are not unique, some columns will be omitted.\n",
      "  entries = list(df_all.transpose().to_dict().values())\n"
     ]
    },
    {
     "data": {
      "text/html": [
       "<style>.itables table td {\n",
       "    text-overflow: ellipsis;\n",
       "    overflow: hidden;\n",
       "}\n",
       "\n",
       ".itables table th {\n",
       "    text-overflow: ellipsis;\n",
       "    overflow: hidden;\n",
       "}\n",
       "\n",
       ".itables thead input {\n",
       "    width: 100%;\n",
       "    padding: 3px;\n",
       "    box-sizing: border-box;\n",
       "}\n",
       "\n",
       ".itables tfoot input {\n",
       "    width: 100%;\n",
       "    padding: 3px;\n",
       "    box-sizing: border-box;\n",
       "}\n",
       "</style>\n",
       "<div class=\"itables\">\n",
       "<table id=\"c8376f42-27aa-45d9-a5f3-1bca283a0c06\" class=\"display nowrap\"style=\"table-layout:auto;width:auto;margin:auto;caption-side:bottom\"><thead>\n",
       "    <tr style=\"text-align: right;\">\n",
       "      \n",
       "      <th>name</th>\n",
       "      <th>net</th>\n",
       "      <th>rate</th>\n",
       "      <th>num</th>\n",
       "    </tr>\n",
       "  </thead><tbody><tr><td>Loading... (need <a href=https://mwouts.github.io/itables/troubleshooting.html>help</a>?)</td></tr></tbody></table>\n",
       "<link rel=\"stylesheet\" type=\"text/css\" href=\"https://cdn.datatables.net/1.13.1/css/jquery.dataTables.min.css\">\n",
       "<script type=\"module\">\n",
       "    // Import jquery and DataTable\n",
       "    import 'https://code.jquery.com/jquery-3.6.0.min.js';\n",
       "    import dt from 'https://cdn.datatables.net/1.12.1/js/jquery.dataTables.mjs';\n",
       "    dt($);\n",
       "\n",
       "    // Define the table data\n",
       "    const data = [[\"Flask of Endless Rage\", 16211461.0, 0.913043, 23], [\"Flask of Stoneblood\", 10032064.0, 0.8125, 16], [\"Flask of the Frost Wyrm\", 8952685.0, 0.789474, 19], [\"Arcane Dust\", 7610227.0, 0.611111, 36], [\"Lesser Cosmic Essence\", 6886448.0, 0.333333, 9], [\"Eternal Life\", 6279440.0, 0.571429, 7], [\"Indestructible Potion\", 3275957.0, 0.545455, 11], [\"Earthsiege Diamond\", 2426669.0, 0.5, 8], [\"Infinite Dust\", 2149055.0, 0.6, 15], [\"Crystallized Water\", 1858234.0, 0.666667, 49], [\"Arthas' Tears\", 1303460.0, 0.333333, 12], [\"Khadgar's Whisker\", 1076250.0, 0.444444, 9], [\"Talandra's Rose\", 1068370.0, 0.5, 6], [\"Goldclover\", 933210.0, 0.625, 8], [\"Adder's Tongue\", 923315.0, 0.833333, 6], [\"Tiger Lily\", 778196.0, 0.526316, 19], [\"Crystallized Life\", 739094.0, 0.357143, 16], [\"Greater Planar Essence\", 719700.0, 0.571429, 7], [\"Mageroyal\", 674634.0, 0.5, 10], [\"Runic Mana Potion\", 450336.0, 0.888889, 9], [\"Bolt of Woolen Cloth\", 427046.0, 0.578947, 23], [\"Elixir of Lightning Speed\", 370532.0, 0.666667, 7], [\"Strange Dust\", 304017.0, 0.6, 5], [\"Runic Healing Potion\", 286914.0, 0.6, 5], [\"Arcanite Bar\", 230375.0, 0.125, 16], [\"Gold Bar\", 223140.0, 0.8, 8], [\"Refreshing Spring Water\", 128856.0, 0.428571, 7], [\"Kingsblood\", 114771.0, 0.25, 8], [\"Ancient Lichen\", 111198.0, 0.133333, 15], [\"Spellpower Elixir\", 65151.0, 0.181818, 11], [\"Eternal Water\", 56111.0, 1.0, 8], [\"Bolt of Linen Cloth\", -48726.0, 0.333333, 15], [\"Crystallized Air\", -504013.0, 1.0, 18]];\n",
       "\n",
       "    // Define the dt_args\n",
       "    let dt_args = {\"order\": []};\n",
       "    dt_args[\"data\"] = data;\n",
       "\n",
       "    $(document).ready(function () {\n",
       "        \n",
       "        $('#c8376f42-27aa-45d9-a5f3-1bca283a0c06').DataTable(dt_args);\n",
       "    });\n",
       "</script>\n",
       "</div>\n"
      ],
      "text/plain": [
       "<IPython.core.display.HTML object>"
      ]
     },
     "metadata": {},
     "output_type": "display_data"
    }
   ],
   "source": [
    "from cytoolz import groupby\n",
    "import pandas as pd\n",
    "\n",
    "df_sales = pd.read_csv(\"Accounting_Earthfury_sales.csv\")\n",
    "df_sales[\"mode\"] = \"sold\"\n",
    "df_purchases = pd.read_csv(\"Accounting_Earthfury_purchases.csv\")\n",
    "df_purchases[\"mode\"] = \"purchased\"\n",
    "df_expired = pd.read_csv(\"Accounting_Earthfury_expired.csv\")\n",
    "df_expired[\"mode\"] = \"expired\"\n",
    "df_canceled = pd.read_csv(\"Accounting_Earthfury_canceled.csv\")\n",
    "df_canceled[\"mode\"] = \"canceled\"\n",
    "df_all = pd.concat([df_sales, df_purchases, df_expired, df_canceled])\n",
    "\n",
    "entries = list(df_all.transpose().to_dict().values())\n",
    "grouped = groupby(lambda entry: entry[\"itemString\"], entries)\n",
    "names = {entry[\"itemString\"]: entry[\"itemName\"] for entry in entries}\n",
    "nets = {\n",
    "    k: sum(\n",
    "        (\n",
    "            vv[\"price\"]*vv[\"quantity\"] if vv[\"mode\"] == \"sold\" else\n",
    "            -vv[\"price\"]*vv[\"quantity\"] if vv[\"mode\"] == \"purchased\" else\n",
    "            0\n",
    "        ) for vv in v\n",
    "    )\n",
    "    for (k, v) in grouped.items()\n",
    "}\n",
    "ah_events = {k: [vv[\"mode\"] for vv in v if vv[\"source\"] != \"Vendor\"] for (k, v) in grouped.items()}\n",
    "sale_rate = {\n",
    "    k: v.count(\"sold\") / (v.count(\"sold\") + v.count(\"expired\") + v.count(\"canceled\"))\n",
    "    for (k, v) in ah_events.items()\n",
    "    if v.count(\"sold\") > 1\n",
    "}\n",
    "agg = {k: {\"name\": names[k], \"net\": nets[k], \"rate\": sale_rate[k], \"num\": len(ah_events[k])} for k in sale_rate}\n",
    "show(pd.DataFrame(sorted(\n",
    "    [v for v in agg.values() if v[\"num\"] > 4],\n",
    "    key=lambda entry: entry[\"net\"],\n",
    "    reverse=True,\n",
    ")))"
   ]
  },
  {
   "cell_type": "code",
   "execution_count": 17,
   "id": "fe1f1466-a912-4317-8179-61cf81343e04",
   "metadata": {},
   "outputs": [],
   "source": [
    "import pickle\n",
    "from cytoolz import get as pick_from_dict\n",
    "from cytoolz import sliding_window\n",
    "import glob\n",
    "import itertools\n",
    "from blizzard import auction_summary\n",
    "import re\n",
    "import numpy as np\n",
    "import datetime\n",
    "np.set_printoptions(suppress=True)\n",
    "\n",
    "_names = \"\"\"\n",
    "flask of the frost wyrm\n",
    "flask of endless rage\n",
    "flask of stoneblood\n",
    "titanium bar\n",
    "indestructible potion\n",
    "eternal shadow\n",
    "oily blackmouth\n",
    "elixir of mighty thoughts\n",
    "frostweave cloth\n",
    "wildvine\n",
    "felcloth\n",
    "lesser healing potion\n",
    "runic mana potion\n",
    "greater planar essence\n",
    "netherweave cloth\n",
    "greater healing potion\n",
    "crystallized water\n",
    "purple lotus\n",
    "bruiseweed\n",
    "arcane dust\n",
    "tiger lily\n",
    "crystallized fire\n",
    "major healing potion\n",
    "potion of speed\n",
    "potion of wild magic\n",
    "lichbloom\n",
    "pygmy oil\n",
    "adder's tongue\n",
    "imbued vial\n",
    "icethorn\n",
    "frost lotus\n",
    "enchanted vial\n",
    "goldclover\n",
    "crystallized life\n",
    "eternal life\n",
    "deadnettle\n",
    "elixir of accuracy\n",
    "lesser planar essence\n",
    "eternal fire\n",
    "eternal water\n",
    "chaotic skyflare diamond\n",
    "skyflare diamond\n",
    "potent monarch topaz\n",
    "monarch topaz\n",
    "runed scarlet ruby\n",
    "scarlet ruby\n",
    "purified twilight opal\n",
    "twilight opal\n",
    "potion of speed\n",
    "potion of wild magic\n",
    "lichbloom\n",
    "frostweave cloth\n",
    "infinite dust\n",
    "greater cosmic essence\n",
    "dream shard\n",
    "eternal belt buckle\n",
    "titansteel bar\n",
    "titansteel spellblade\n",
    "mageweave cloth\n",
    "rough stone\n",
    "copper bar\n",
    "coarse stone\n",
    "linen cloth\n",
    "bronze bar\n",
    "heavy stone\n",
    "moss agate\n",
    "wool cloth\n",
    "medium leather\n",
    "steel bar\n",
    "solid stone\n",
    "mithril bar\n",
    "mageweave cloth\n",
    "dense stone\n",
    "thorium bar\n",
    "runecloth\n",
    "fel iron bar\n",
    "mote of earth\n",
    "mote of fire\n",
    "netherweave cloth\n",
    "adamantite bar\n",
    "cobalt bar\n",
    "frostweave cloth\n",
    "crystallized water\n",
    "crystallized earth\n",
    "crystallized fire\n",
    "borean leather\n",
    "eternal shadow\n",
    "saronite bar\n",
    "\"\"\".strip().splitlines()\n",
    "desired_names = list(set(_names))\n",
    "desired_ids = [items.get_id(name) for name in desired_names if not name.startswith(\"#\")]\n",
    "\n",
    "\n",
    "date_re = re.compile(r\"202.-..-..T..-..-..\")\n",
    "def _timestamp_from_name(name):\n",
    "    cap = date_re.search(name).group(0)\n",
    "    return datetime.datetime.strptime(cap, \"%Y-%m-%dT%H-%M-%S\").timestamp()\n",
    "\n",
    "\n",
    "by_item = {}\n",
    "timeseries = []\n",
    "\n",
    "for snapshot in sorted(glob.glob(\"bliz-ah/*\")):\n",
    "    with open(snapshot, \"rb\") as f:\n",
    "        entries = pickle.load(f).values()\n",
    "        timeseries.extend(\n",
    "            [\n",
    "                {\"timestamp\": _timestamp_from_name(snapshot), \"item_name\": items.get_name(item_id), **auction_summary(item_data)}\n",
    "                for (item_id, item_data) in zip(desired_ids, entries)\n",
    "            ]\n",
    "        )\n",
    "        for (item_id, item_data) in zip(desired_ids, entries):\n",
    "            name = items.get_name(item_id)\n",
    "            by_item[name] = by_item.get(name, []) + [{\"timestamp\": date_re.search(snapshot).group(0), \"item_name\": items.get_name(item_id), **auction_summary(item_data)}]\n",
    "\n",
    "def timeseries_of(key, default=np.nan):\n",
    "    def _timeseries_of(item_name):\n",
    "        return np.array([v.get(key, default) for v in by_item[item_name]])\n",
    "    return _timeseries_of\n",
    "\n",
    "def omit_outliers(series, sigma=2, window=5):\n",
    "    mavg = [np.average(w) for w in sliding_window(window, series)]\n",
    "    std = np.std(mavg)\n",
    "    return np.array([x if np.abs(x) < sigma*std else np.nan for x in mavg])\n",
    "\n",
    "def avg_finite(arr):\n",
    "    return np.average(arr[np.isfinite(arr)])"
   ]
  },
  {
   "cell_type": "code",
   "execution_count": 18,
   "id": "81d62533-0dd5-4148-bfc2-4bad4c40f8a8",
   "metadata": {},
   "outputs": [],
   "source": [
    "import plotly.express as px\n",
    "for yvalue in [\"num\", \"min\", \"p50\", \"d_num\", \"d_min\", \"d_p50\"]:\n",
    "    df = pd.DataFrame(timeseries)\n",
    "    df = df.sort_values(by=\"timestamp\")\n",
    "\n",
    "    if yvalue.startswith(\"d_\"):\n",
    "        dfg = df.pivot(index=\"timestamp\", columns=\"item_name\", values=yvalue[2:])\n",
    "        dfg = dfg.diff().div(dfg.index.to_series().diff(), axis=0)\n",
    "    else:\n",
    "        dfg = df.pivot(index=\"timestamp\", columns=\"item_name\", values=yvalue)\n",
    "\n",
    "    fig = px.scatter(dfg, title=yvalue, log_y=False)\n",
    "    fig.write_html(f\"{yvalue}.html\")"
   ]
  },
  {
   "cell_type": "code",
   "execution_count": 19,
   "id": "38080de5-a5e7-4583-97c8-63d8f16d4e0f",
   "metadata": {},
   "outputs": [],
   "source": [
    "def min_series(x):\n",
    "    return omit_outliers(timeseries_of(\"avg_sell\")(x), sigma=0.5, window=10)\n",
    "\n",
    "wild_magic_pot = avg_finite(min_series(\"potion of wild magic\") - (2*min_series(\"lichbloom\") + min_series(\"pygmy oil\") + np.array(1.8)))\n",
    "speed_pot = avg_finite(min_series(\"potion of speed\") - (2*min_series(\"adder's tongue\") + min_series(\"pygmy oil\") + np.array(1.8)))\n",
    "wyrm = avg_finite(2*min_series(\"flask of the frost wyrm\") - (5*min_series(\"icethorn\") + 5*min_series(\"lichbloom\") + min_series(\"frost lotus\") + np.array(5)))\n",
    "rage = avg_finite(2*min_series(\"flask of endless rage\") - (5*min_series(\"goldclover\") + 7*min_series(\"lichbloom\") + min_series(\"frost lotus\") + np.array(5)))\n",
    "indestructible = avg_finite(2*min_series(\"indestructible potion\") - (2*min_series(\"icethorn\") + np.array(1.8)))"
   ]
  },
  {
   "cell_type": "code",
   "execution_count": 20,
   "id": "d4a1788a-10cf-45ad-b5e8-80aeee9f2a6a",
   "metadata": {},
   "outputs": [],
   "source": [
    "def item_infos(items):\n",
    "    return pd.DataFrame([item_info(i) for i in items])"
   ]
  },
  {
   "cell_type": "code",
   "execution_count": 21,
   "id": "01e07bbf-7a8f-4a32-a005-40951c05f54f",
   "metadata": {
    "tags": []
   },
   "outputs": [
    {
     "data": {
      "text/html": [
       "<style>.itables table td {\n",
       "    text-overflow: ellipsis;\n",
       "    overflow: hidden;\n",
       "}\n",
       "\n",
       ".itables table th {\n",
       "    text-overflow: ellipsis;\n",
       "    overflow: hidden;\n",
       "}\n",
       "\n",
       ".itables thead input {\n",
       "    width: 100%;\n",
       "    padding: 3px;\n",
       "    box-sizing: border-box;\n",
       "}\n",
       "\n",
       ".itables tfoot input {\n",
       "    width: 100%;\n",
       "    padding: 3px;\n",
       "    box-sizing: border-box;\n",
       "}\n",
       "</style>\n",
       "<div class=\"itables\">\n",
       "<table id=\"adfa2ebf-e24b-4551-9cbe-89b272af5af3\" class=\"display nowrap\"style=\"table-layout:auto;width:auto;margin:auto;caption-side:bottom\"><thead>\n",
       "    <tr style=\"text-align: right;\">\n",
       "      \n",
       "      <th>id</th>\n",
       "      <th>name</th>\n",
       "      <th>num_auctions</th>\n",
       "      <th>quantity</th>\n",
       "      <th>weight_sell</th>\n",
       "      <th>avg_sell</th>\n",
       "      <th>max</th>\n",
       "      <th>p80</th>\n",
       "      <th>p50</th>\n",
       "      <th>p20</th>\n",
       "      <th>wp80</th>\n",
       "      <th>wp50</th>\n",
       "      <th>wp20</th>\n",
       "      <th>min</th>\n",
       "      <th>realm_market_value</th>\n",
       "      <th>realm_historical</th>\n",
       "      <th>region_historical</th>\n",
       "      <th>region_avg_sale_price</th>\n",
       "      <th>sale_pct</th>\n",
       "      <th>sold_per_day</th>\n",
       "      <th>headroom</th>\n",
       "      <th>market_skew_pct</th>\n",
       "      <th>auction_skew_pct</th>\n",
       "    </tr>\n",
       "  </thead><tbody><tr><td>Loading... (need <a href=https://mwouts.github.io/itables/troubleshooting.html>help</a>?)</td></tr></tbody></table>\n",
       "<link rel=\"stylesheet\" type=\"text/css\" href=\"https://cdn.datatables.net/1.13.1/css/jquery.dataTables.min.css\">\n",
       "<script type=\"module\">\n",
       "    // Import jquery and DataTable\n",
       "    import 'https://code.jquery.com/jquery-3.6.0.min.js';\n",
       "    import dt from 'https://cdn.datatables.net/1.12.1/js/jquery.dataTables.mjs';\n",
       "    dt($);\n",
       "\n",
       "    // Define the table data\n",
       "    const data = [[46376, \"flask of the frost wyrm\", 84, 216, 140.489232, 33.912799, 250.0, 12.4999, 12.4999, 12.48, 250.0, 182.9999, 12.4999, 12.4799, 14.9464, 12.4998, 9.5098, 7.3057, 55.4, 1978, 3354, 19.57, -99.99], [46377, \"flask of endless rage\", 106, 620, 249.848964, 85.071017, 300.0, 280.0, 14.3998, 13.7499, 299.958, 290.0, 280.0, 13.68, 14.8007, 13.9844, 9.9241, 7.3993, 60.6, 1636, 2079, 5.84, -99.99], [46379, \"flask of stoneblood\", 63, 103, 42.333903, 25.403086, 75.0, 17.9999, 14.9998, 14.95, 75.0, 44.9997, 14.9998, 14.9498, 17.4133, 14.9881, 11.2424, 8.4865, 50.7, 728, 1332, 16.18, -99.99], [41163, \"titanium bar\", 56, 375, 81.380721, 63.481386, 190.0, 90.0, 47.499, 47.499, 95.0, 48.499, 47.499, 17.9998, 10.9774, 8.2498, 8.0253, 5.2759, 58.0, 1404, 2045, 33.06, -99.98], [40093, \"indestructible potion\", 39, 110, 60.204134, 15.807105, 100.0, 23.9979, 6.9993, 3.9999, 100.0, 100.0, 6.9993, 3.9999, 5.17, 4.6256, 3.0596, 2.2758, 49.0, 1668, 3294, 11.77, -99.99], [35627, \"eternal shadow\", 194, 890, 44.229488, 20.971823, 90.0, 22.501, 22.501, 4.4996, 80.0, 22.501, 22.501, 3.7597, 5.6846, 3.5466, 2.7734, 1.645, 66.4, 3254, 4010, 60.28, -99.99], [6358, \"oily blackmouth\", 21, 107, 7.491021, 3.330314, 14.71, 6.5, 1.0498, 0.7777, 12.0, 6.6195, 2.5596, 0.459, 0.6204, 0.5, 0.518, 1.3197, 59.5, 547, 812, 24.08, -99.99], [44332, \"elixir of mighty thoughts\", 7, 35, 35.166251, 14.8532, 51.868, 29.75, 5.1864, 3.9938, 51.868, 51.868, 5.1864, 3.9938, 2.8733, 2.5934, 2.8586, 2.4269, 56.3, 276, 455, 10.79, -99.99], [33470, \"frostweave cloth\", 299, 3247, 13.780173, 8.133003, 23.118, 15.77, 8.407, 0.7967, 15.77, 14.756, 13.792, 0.0, 0.5792, 0.4944, 0.4152, 0.36, 85.3, 26405, 27708, 17.15, -100.0], [8153, \"wildvine\", 15, 37, 8.0759, 3.29322, 19.2876, 3.2994, 1.5494, 1.0997, 19.2876, 3.2985, 1.5494, 0.9894, 1.0964, 1.3713, 0.777, 0.6679, 45.7, 233, 472, -20.05, -99.99], [14256, \"felcloth\", 7, 10, 3.23472, 2.058343, 5.9796, 1.4048, 1.4048, 1.4048, 5.9796, 1.4048, 1.4048, 1.4048, 2.6221, 3.2382, 2.2, 1.2729, 42.9, 86, 190, -19.03, -99.99], [858, \"lesser healing potion\", 17, 86, 1.049543, 0.358876, 1.416, 0.354, 0.0717, 0.0699, 1.416, 1.416, 0.2956, 0.0699, 0.1281, 0.0358, 0.0405, 0.0714, 37.0, 278, 665, 257.82, -99.99], [33448, \"runic mana potion\", 12, 71, 18.336761, 11.832333, 39.998, 9.999, 9.999, 9.999, 39.998, 9.999, 9.999, 2.0, 1.3483, 1.2998, 1.0435, 1.1135, 81.6, 2260, 2698, 3.73, -99.99], [22446, \"greater planar essence\", 46, 88, 84.610525, 45.953678, 219.995, 65.9991, 21.9998, 21.9993, 109.996, 65.9991, 21.9993, 21.9989, 16.0299, 9.9998, 8.7763, 5.8982, 60.7, 786, 1206, 60.3, -99.99], [21877, \"netherweave cloth\", 125, 1784, 7.940566, 5.90283, 15.0, 8.0, 7.996, 0.3997, 8.5, 7.996, 6.998, 0.1994, 0.2073, 0.2333, 0.1796, 0.1503, 83.7, 17544, 19176, -11.14, -99.99], [1710, \"greater healing potion\", 3, 21, 24.255843, 13.541567, 31.482, 31.482, 7.0, 2.1427, 31.482, 31.482, 7.0, 2.1427, 1.4775, 0.4987, 0.4992, 0.516, 58.4, 336, 554, 196.27, -99.99], [37705, \"crystallized water\", 77, 460, 14.584165, 9.767696, 18.888, 18.888, 8.327, 1.87, 18.888, 18.888, 8.328, 1.3361, 0.5806, 0.7299, 0.5091, 0.351, 69.6, 1963, 2360, -20.45, -99.98], [8831, \"purple lotus\", 18, 168, 18.23802, 11.771667, 25.622, 21.2483, 14.0833, 3.4755, 25.622, 18.2799, 14.0833, 1.25, 1.5943, 1.7308, 0.9999, 0.7536, 52.7, 522, 822, -7.89, -99.99], [2453, \"bruiseweed\", 21, 223, 11.367332, 7.91851, 19.0, 14.0, 7.0, 2.7995, 15.0, 14.0, 7.0, 0.9399, 0.4975, 0.4816, 0.3789, 0.2876, 52.5, 1213, 2087, 3.3, -99.98], [22445, \"arcane dust\", 147, 1469, 63.179444, 41.361629, 84.394, 84.394, 42.197, 8.4394, 84.394, 84.388, 42.197, 3.4997, 2.6463, 1.9884, 1.6965, 1.1066, 66.6, 4622, 5470, 33.09, -99.99], [36904, \"tiger lily\", 17, 156, 6.151853, 3.239218, 10.0, 9.0, 0.9898, 0.3996, 9.998, 9.0, 2.3928, 0.1997, 0.4013, 0.4995, 0.3713, 0.4265, 84.7, 20298, 23808, -19.66, -100.0], [37702, \"crystallized fire\", 64, 356, 21.71489, 16.549592, 31.8392, 28.999, 14.496, 3.9799, 28.999, 23.877, 14.496, 2.8987, 3.061, 2.9998, 2.159, 1.6401, 56.5, 952, 1328, 2.04, -99.99], [13446, \"major healing potion\", 6, 50, 4.380848, 2.691133, 6.438, 4.5584, 1.9512, 0.9507, 6.438, 4.5584, 1.9512, 0.3171, 0.3495, 0.4995, 0.3975, 0.3015, 51.6, 320, 570, -30.03, -99.99], [40211, \"potion of speed\", 55, 871, 131.406354, 110.852482, 139.998, 139.998, 139.998, 35.0, 139.998, 139.998, 139.998, 6.9995, 3.9647, 4.9997, 4.6898, 3.9707, 72.2, 8130, 10389, -20.7, -99.98], [40212, \"potion of wild magic\", 100, 348, 31.940698, 24.35859, 34.998, 34.998, 34.998, 6.9995, 34.998, 34.998, 34.998, 6.9995, 7.303, 7.4, 5.7619, 4.761, 59.3, 3214, 5071, -1.31, -99.99], [36905, \"lichbloom\", 118, 2255, 21.433575, 20.697426, 25.0, 24.658, 19.0, 18.996, 24.658, 19.0, 18.996, 0.9498, 1.426, 1.2999, 1.4354, 1.2524, 76.1, 20205, 24295, 9.7, -99.99], [40195, \"pygmy oil\", 3, 3, 2.0, 2.0, 2.0, 2.0, 2.0, 2.0, 2.0, 2.0, 2.0, 2.0, 1.3407, 1.8799, 1.8033, 1.766, 68.9, 3080, 4467, -28.68, -99.99], [36903, \"adder's tongue\", 186, 3666, 14.305583, 14.12062, 15.598, 15.594, 14.0, 14.0, 15.594, 14.0, 14.0, 0.6928, 0.9052, 1.05, 0.836, 0.8387, 81.2, 32037, 35788, -13.79, -99.99], [18256, \"imbued vial\", 8, 20, 7.42116, 5.598, 10.2372, 10.2368, 7.036, 2.5594, 10.2372, 7.0364, 7.036, 2.5594, 2.4963, 2.2637, 1.5399, 0.6405, 24.1, 67, 258, 10.28, -99.99], [36906, \"icethorn\", 107, 2030, 16.618248, 16.094696, 21.1, 17.988, 16.0, 15.994, 17.988, 16.0, 15.994, 1.0799, 0.9796, 0.9937, 0.9086, 0.8355, 74.6, 22231, 27770, -1.42, -99.99], [36908, \"frost lotus\", 35, 196, 157.663074, 62.284954, 249.998, 135.5988, 25.0, 10.3, 249.998, 189.996, 37.9984, 9.4997, 7.6294, 2.9003, 1.5492, 1.2506, 59.0, 3381, 5534, 163.06, -99.99], [40411, \"enchanted vial\", 9999, 9999, 5.0, 5.0, 5.0, 5.0, 5.0, 5.0, 5.0, 5.0, 5.0, 5.0, 4.435, 2.9, 3.8531, 1.5696, 27.0, 22, -9917, 52.93, -99.99], [36901, \"goldclover\", 25, 314, 7.357133, 5.016524, 7.992, 7.992, 7.982, 0.7992, 7.992, 7.986, 7.982, 0.3989, 0.5636, 0.6503, 0.4221, 0.4306, 84.5, 20521, 23971, -13.33, -99.99], [37704, \"crystallized life\", 33, 113, 8.214143, 4.343921, 12.592, 7.5552, 2.5178, 1.2585, 12.586, 8.8102, 2.5196, 1.2582, 1.0997, 1.3794, 1.3981, 1.857, 54.9, 824, 1387, -20.28, -99.99], [35625, \"eternal life\", 31, 272, 220.950355, 115.983274, 320.0, 255.602, 38.9991, 15.99, 260.0, 255.602, 191.7, 10.6, 10.2408, 15.36, 13.8071, 20.1119, 67.7, 3632, 5092, -33.33, -99.99], [37921, \"deadnettle\", 41, 681, 11.003191, 9.662346, 11.998, 11.992, 11.99, 5.3982, 11.992, 11.99, 10.1847, 1.1994, 0.3819, 0.5713, 0.4044, 0.4216, 80.1, 13036, 15593, -33.15, -99.97], [44325, \"elixir of accuracy\", 9999, 9999, 2.0, 2.0, 2.0, 2.0, 2.0, 2.0, 2.0, 2.0, 2.0, 2.0, 2.6827, 2.7596, 1.8599, 1.2437, 48.9, 176, -9639, -2.79, -99.99], [22447, \"lesser planar essence\", 11, 30, 86.27649, 75.208973, 222.749, 70.0, 70.0, 44.9999, 70.0, 70.0, 50.0, 44.5499, 5.3002, 4.0674, 2.902, 2.0426, 44.3, 423, 924, 30.31, -99.92], [36860, \"eternal fire\", 87, 273, 239.453507, 87.526755, 559.9759, 139.995, 38.4155, 27.9987, 559.9759, 139.995, 38.4155, 23.0, 26.2005, 20.8659, 19.1486, 15.333, 56.3, 1039, 1572, 25.57, -99.99], [35622, \"eternal water\", 135, 301, 101.345748, 38.627934, 300.0, 37.7132, 24.7999, 6.9898, 124.749, 110.0, 18.8563, 5.4997, 3.0278, 2.4998, 2.4058, 1.9668, 57.2, 1879, 2983, 21.12, -99.98], [41285, \"chaotic skyflare diamond\", 9999, 9999, 24.0, 24.0, 24.0, 24.0, 24.0, 24.0, 24.0, 24.0, 24.0, 24.0, 81.9776, 33.9995, 34.7735, 18.8347, 48.8, 171, -9648, 141.11, -100.0], [41266, \"skyflare diamond\", 6, 7, 37.142857, 33.333333, 60.0, 28.0, 28.0, 28.0, 60.0, 28.0, 28.0, 28.0, 23.7248, 16.0, 16.2871, 10.7759, 44.3, 239, 532, 48.28, -99.99], [40048, \"potent monarch topaz\", 8, 8, 71.943625, 71.943625, 85.5098, 85.5098, 85.5098, 50.0, 85.5098, 85.5098, 50.0, 48.0, 39.9594, 44.9999, 23.8416, 16.6059, 25.5, 43, 160, -11.2, -99.99], [36930, \"monarch topaz\", 80, 101, 89.155347, 21.621602, 398.9924, 20.9997, 18.9999, 8.9997, 39.0998, 18.9999, 9.0, 8.9996, 17.2251, 17.8484, 11.8518, 8.4062, 62.3, 436, 598, -3.49, -99.99], [39998, \"runed scarlet ruby\", 21, 21, 182.378933, 182.378933, 202.2279, 202.2279, 200.2056, 140.0, 202.2279, 200.2056, 140.0, 125.3476, 124.9781, 124.9998, 93.4154, 76.7938, 61.1, 232, 358, -0.02, -99.99], [36918, \"scarlet ruby\", 75, 84, 160.137669, 95.727717, 762.7482, 84.9997, 84.7496, 83.9996, 110.5496, 84.7499, 83.9996, 70.0, 85.6875, 82.1747, 73.4402, 64.2928, 61.7, 321, 436, 4.27, -99.99], [40026, \"purified twilight opal\", 10, 10, 64.31992, 64.31992, 98.0, 98.0, 49.9999, 49.8, 98.0, 49.9999, 49.8, 49.7999, 42.7843, 25.0, 25.0, 17.0596, 51.3, 144, 270, 71.14, -99.99], [36927, \"twilight opal\", 79, 102, 44.993486, 23.389195, 202.8042, 27.999, 13.9999, 13.7999, 63.2028, 15.9499, 13.9997, 13.7998, 10.1037, 9.4999, 7.5958, 5.6033, 59.9, 383, 537, 6.36, -99.99], [40211, \"potion of speed\", 55, 871, 131.406354, 110.852482, 139.998, 139.998, 139.998, 35.0, 139.998, 139.998, 139.998, 6.9995, 3.9647, 4.9997, 4.6898, 3.9707, 72.2, 8130, 10389, -20.7, -99.98], [40212, \"potion of wild magic\", 100, 348, 31.940698, 24.35859, 34.998, 34.998, 34.998, 6.9995, 34.998, 34.998, 34.998, 6.9995, 7.303, 7.4, 5.7619, 4.761, 59.3, 3214, 5071, -1.31, -99.99], [36905, \"lichbloom\", 118, 2255, 21.433575, 20.697426, 25.0, 24.658, 19.0, 18.996, 24.658, 19.0, 18.996, 0.9498, 1.426, 1.2999, 1.4354, 1.2524, 76.1, 20205, 24295, 9.7, -99.99], [33470, \"frostweave cloth\", 299, 3247, 13.780173, 8.133003, 23.118, 15.77, 8.407, 0.7967, 15.77, 14.756, 13.792, 0.0, 0.5792, 0.4944, 0.4152, 0.36, 85.3, 26405, 27708, 17.15, -100.0], [34054, \"infinite dust\", 299, 3724, 49.489652, 36.912505, 68.0, 57.782, 33.996, 14.443, 57.786, 57.778, 28.894, 2.8882, 1.8042, 1.9961, 1.495, 1.1671, 69.8, 23428, 29840, -9.61, -99.98], [34055, \"greater cosmic essence\", 80, 165, 67.798974, 41.874276, 203.029, 40.6058, 40.6052, 20.3028, 40.6058, 40.6054, 40.6044, 20.3022, 18.3656, 19.4998, 16.4079, 13.849, 59.3, 2325, 3755, -5.82, -99.99], [34052, \"dream shard\", 74, 133, 84.842811, 45.802592, 155.9946, 42.9998, 25.9989, 23.0, 129.995, 123.9984, 25.9988, 21.5, 21.4284, 21.5996, 17.0339, 13.701, 55.1, 1300, 2226, -0.79, -99.99], [41611, \"eternal belt buckle\", 28, 28, 103.392646, 103.392646, 199.9996, 199.9996, 60.0, 59.9998, 199.9996, 60.0, 59.9998, 59.9995, 56.0817, 59.9998, 42.6495, 26.6285, 62.0, 248, 372, -6.53, -99.99], [37663, \"titansteel bar\", 27, 71, 1975.068796, 425.696611, 3540.248, 135.0123, 135.0, 130.0125, 3540.248, 2800.0, 135.0, 128.7598, 137.7502, 139.0746, 115.9962, 106.5243, 79.0, 442, 488, -0.95, -99.99], [45085, \"titansteel spellblade\", 3, 3, 1699.666567, 1699.666567, 1898.9998, 1898.9998, 1600.0, 1599.9999, 1898.9998, 1600.0, 1599.9999, 1599.9999, 1390.0121, 1697.9999, 1187.1665, 923.9091, 29.5, 10, 30, -18.14, -99.99], [4338, \"mageweave cloth\", 84, 1628, 31.486357, 30.775336, 49.996, 29.998, 29.998, 29.996, 29.998, 29.998, 29.996, 6.2244, 0.6655, 0.6093, 0.4679, 0.4183, 65.3, 8433, 11286, 9.22, -99.91], [2835, \"rough stone\", 438, 8696, 0.243219, 0.243012, 3.0, 0.074, 0.074, 0.074, 0.074, 0.074, 0.074, 0.012, 0.0186, 0.0483, 0.0095, 0.0176, 56.3, 6311, 2513, -61.49, -99.99], [2840, \"copper bar\", 10, 148, 20.821636, 16.23422, 31.0, 30.04, 20.0, 6.978, 30.04, 20.0, 17.958, 0.9999, 0.7251, 0.4919, 0.4572, 0.662, 61.1, 5019, 8066, 47.41, -99.99], [2836, \"coarse stone\", 20, 285, 5.204092, 4.182685, 8.908, 6.0, 4.4, 1.4988, 8.198, 5.5, 2.998, 0.171, 0.0891, 0.1305, 0.0855, 0.1528, 68.5, 4453, 6215, -31.72, -99.98], [2589, \"linen cloth\", 232, 4542, 2.539999, 2.495179, 6.3172, 2.958, 2.498, 2.448, 2.958, 2.498, 2.448, 0.0748, 0.0813, 0.048, 0.0224, 0.0657, 69.0, 14870, 17008, 69.38, -99.99], [2841, \"bronze bar\", 57, 615, 43.403056, 33.368402, 100.0, 42.499, 21.0, 17.4995, 60.0, 42.0, 21.0, 2.5, 1.8169, 1.1499, 1.1032, 1.2983, 60.3, 3932, 5905, 58.01, -99.99], [2838, \"heavy stone\", 12, 126, 18.293436, 10.007717, 21.9999, 19.9999, 16.998, 0.8498, 21.9999, 16.998, 16.998, 0.8498, 0.4024, 0.4625, 0.3694, 0.3464, 57.9, 3636, 6153, -12.99, -99.98], [1206, \"moss agate\", 9, 21, 481.706381, 122.872489, 993.198, 26.7, 8.9, 8.6774, 993.198, 26.7, 8.9, 8.0, 13.37, 14.9997, 9.9999, 9.6121, 60.9, 761, 1228, -10.86, -99.99], [2592, \"wool cloth\", 33, 586, 6.632055, 6.043682, 7.83, 7.83, 6.6, 3.152, 7.83, 7.83, 6.498, 0.6304, 0.258, 0.2475, 0.4202, 0.5578, 81.1, 8743, 10194, 4.24, -99.98], [2319, \"medium leather\", 15, 250, 9.512886, 8.360573, 11.99, 10.526, 10.0, 7.1072, 10.526, 10.0, 9.0, 1.3329, 0.4645, 0.2999, 0.2809, 0.5118, 60.6, 4618, 7370, 54.88, -99.97], [3859, \"steel bar\", 31, 469, 48.269972, 37.817413, 50.51, 50.508, 50.508, 2.0, 50.508, 50.508, 50.508, 1.9998, 2.5941, 2.0613, 1.25, 0.9118, 42.1, 1436, 2941, 25.85, -99.99], [7912, \"solid stone\", 63, 930, 5.529374, 4.323171, 50.0, 4.806, 4.806, 0.5739, 5.062, 4.806, 0.5739, 0.0286, 0.0412, 0.1796, 0.1205, 0.1175, 59.3, 8925, 14120, -77.06, -99.99], [3860, \"mithril bar\", 96, 1755, 91.97518, 84.53756, 145.198, 145.198, 58.0, 57.888, 145.198, 59.6, 57.888, 2.8942, 3.9637, 3.9146, 2.9499, 2.6707, 70.2, 6143, 6995, 1.25, -99.99], [4338, \"mageweave cloth\", 84, 1628, 31.486357, 30.775336, 49.996, 29.998, 29.998, 29.996, 29.998, 29.998, 29.996, 6.2244, 0.6655, 0.6093, 0.4679, 0.4183, 65.3, 8433, 11286, 9.22, -99.91], [12365, \"dense stone\", 28, 372, 0.580368, 0.459179, 0.708, 0.692, 0.5933, 0.2076, 0.692, 0.66, 0.4618, 0.0328, 0.0601, 0.0499, 0.05, 0.0796, 59.7, 7457, 12118, 20.44, -99.99], [12359, \"thorium bar\", 42, 243, 26.370508, 10.426038, 39.998, 20.996, 4.7399, 0.9998, 39.996, 23.6995, 16.9642, 0.9998, 1.4473, 1.2194, 1.0941, 0.8478, 70.5, 9038, 12576, 18.69, -99.99], [14047, \"runecloth\", 188, 3526, 18.221352, 17.255552, 29.998, 29.998, 13.115, 10.998, 29.998, 13.115, 12.115, 0.4998, 0.4074, 0.2742, 0.1892, 0.1436, 84.5, 20872, 21174, 48.58, -99.99], [23445, \"fel iron bar\", 17, 182, 96.722487, 62.0345, 120.0, 115.998, 50.0, 17.5986, 120.0, 115.998, 56.999, 8.7993, 4.9117, 3.5097, 3.522, 4.4873, 72.2, 3242, 4308, 39.95, -99.98], [22573, \"mote of earth\", 22, 150, 2.051453, 1.726359, 5.0, 3.0, 1.563, 0.4623, 3.0, 1.563, 1.4997, 0.15, 0.4172, 0.2746, 0.258, 0.2749, 50.0, 1468, 2786, 51.93, -100.0], [22574, \"mote of fire\", 20, 39, 8.004395, 4.184445, 16.0, 2.7995, 2.7995, 2.4999, 11.6965, 10.0, 2.7995, 2.4, 1.4323, 0.9745, 1.1417, 1.3856, 54.3, 918, 1651, 46.98, -99.98], [21877, \"netherweave cloth\", 125, 1784, 7.940566, 5.90283, 15.0, 8.0, 7.996, 0.3997, 8.5, 7.996, 6.998, 0.1994, 0.2073, 0.2333, 0.1796, 0.1503, 83.7, 17544, 19176, -11.14, -99.99], [23446, \"adamantite bar\", 69, 619, 142.586759, 89.603036, 198.986, 190.0, 97.505, 11.4072, 195.028, 129.3409, 97.505, 9.7504, 3.5406, 2.924, 2.6372, 2.5383, 62.4, 1938, 2486, 21.09, -99.97], [36916, \"cobalt bar\", 145, 1894, 46.269413, 33.966062, 82.0, 50.0, 47.9799, 4.7996, 50.0, 50.0, 23.997, 2.3995, 2.0597, 1.5968, 1.4396, 1.2229, 74.3, 9938, 11481, 28.99, -99.99], [33470, \"frostweave cloth\", 299, 3247, 13.780173, 8.133003, 23.118, 15.77, 8.407, 0.7967, 15.77, 14.756, 13.792, 0.0, 0.5792, 0.4944, 0.4152, 0.36, 85.3, 26405, 27708, 17.15, -100.0], [37705, \"crystallized water\", 77, 460, 14.584165, 9.767696, 18.888, 18.888, 8.327, 1.87, 18.888, 18.888, 8.328, 1.3361, 0.5806, 0.7299, 0.5091, 0.351, 69.6, 1963, 2360, -20.45, -99.98], [37701, \"crystallized earth\", 93, 197, 3.770079, 1.504312, 7.097, 1.1031, 0.7092, 0.6414, 7.097, 4.5388, 0.6992, 0.6408, 0.796, 0.9987, 0.7485, 0.6941, 68.0, 1591, 2142, -20.3, -99.99], [37702, \"crystallized fire\", 64, 356, 21.71489, 16.549592, 31.8392, 28.999, 14.496, 3.9799, 28.999, 23.877, 14.496, 2.8987, 3.061, 2.9998, 2.159, 1.6401, 56.5, 952, 1328, 2.04, -99.99], [33568, \"borean leather\", 62, 1056, 9.099554, 8.035571, 11.998, 8.8939, 8.8939, 8.0, 9.998, 8.8939, 8.8939, 0.4449, 0.4253, 0.3911, 0.4366, 0.444, 82.1, 21995, 25734, 8.74, -99.99], [35627, \"eternal shadow\", 194, 890, 44.229488, 20.971823, 90.0, 22.501, 22.501, 4.4996, 80.0, 22.501, 22.501, 3.7597, 5.6846, 3.5466, 2.7734, 1.645, 66.4, 3254, 4010, 60.28, -99.99], [36913, \"saronite bar\", 62, 786, 39.704642, 26.302405, 55.0, 40.0, 39.998, 2.5999, 41.5, 39.998, 39.998, 2.5999, 2.0739, 1.8427, 1.7008, 1.6463, 72.0, 10368, 13614, 12.55, -99.99]];\n",
       "\n",
       "    // Define the dt_args\n",
       "    let dt_args = {\"order\": []};\n",
       "    dt_args[\"data\"] = data;\n",
       "\n",
       "    $(document).ready(function () {\n",
       "        \n",
       "        $('#adfa2ebf-e24b-4551-9cbe-89b272af5af3').DataTable(dt_args);\n",
       "    });\n",
       "</script>\n",
       "</div>\n"
      ],
      "text/plain": [
       "<IPython.core.display.HTML object>"
      ]
     },
     "metadata": {},
     "output_type": "display_data"
    }
   ],
   "source": [
    "ii = item_infos(_names)\n",
    "show(ii)"
   ]
  },
  {
   "cell_type": "code",
   "execution_count": 22,
   "id": "ccda2fdb-6443-4266-b099-34ff19bed63b",
   "metadata": {},
   "outputs": [
    {
     "data": {
      "text/plain": [
       "{'market': {'profit': -1.6827,\n",
       "  'recipe': ([potion of speed],\n",
       "   2*[adder's tongue] + [imbued vial] + [pygmy oil]),\n",
       "  'input_price_method': <function crafting.gold.<locals>._gold(item_inf)>,\n",
       "  'output_price_method': <function crafting.gold.<locals>._gold(item_inf)>,\n",
       "  'input_breakdown': {\"[adder's tongue]\": {'count': 2,\n",
       "    'price': 0.9052,\n",
       "    'total': 1.8104},\n",
       "   '[imbued vial]': {'count': 1, 'price': 2.4963, 'total': 2.4963},\n",
       "   '[pygmy oil]': {'count': 1, 'price': 1.3407, 'total': 1.3407},\n",
       "   'TOTAL': 5.6474},\n",
       "  'output_breakdown': {'[potion of speed]': {'count': 1,\n",
       "    'price': 3.9647,\n",
       "    'total': 3.9647},\n",
       "   'TOTAL': 3.9647}},\n",
       " 'flip': {'profit': 1.0545,\n",
       "  'recipe': ([potion of speed],\n",
       "   2*[adder's tongue] + [imbued vial] + [pygmy oil]),\n",
       "  'input_price_method': <function crafting.gold.<locals>._gold(item_inf)>,\n",
       "  'output_price_method': <function crafting.gold.<locals>._gold(item_inf)>,\n",
       "  'input_breakdown': {\"[adder's tongue]\": {'count': 2,\n",
       "    'price': 0.6928,\n",
       "    'total': 1.3856},\n",
       "   '[imbued vial]': {'count': 1, 'price': 2.5594, 'total': 2.5594},\n",
       "   '[pygmy oil]': {'count': 1, 'price': 2.0, 'total': 2.0},\n",
       "   'TOTAL': 5.945},\n",
       "  'output_breakdown': {'[potion of speed]': {'count': 1,\n",
       "    'price': 6.9995,\n",
       "    'total': 6.9995},\n",
       "   'TOTAL': 6.9995}},\n",
       " 'hold': {'profit': -1.9803000000000002,\n",
       "  'recipe': ([potion of speed],\n",
       "   2*[adder's tongue] + [imbued vial] + [pygmy oil]),\n",
       "  'input_price_method': <function crafting.gold.<locals>._gold(item_inf)>,\n",
       "  'output_price_method': <function crafting.gold.<locals>._gold(item_inf)>,\n",
       "  'input_breakdown': {\"[adder's tongue]\": {'count': 2,\n",
       "    'price': 0.6928,\n",
       "    'total': 1.3856},\n",
       "   '[imbued vial]': {'count': 1, 'price': 2.5594, 'total': 2.5594},\n",
       "   '[pygmy oil]': {'count': 1, 'price': 2.0, 'total': 2.0},\n",
       "   'TOTAL': 5.945},\n",
       "  'output_breakdown': {'[potion of speed]': {'count': 1,\n",
       "    'price': 3.9647,\n",
       "    'total': 3.9647},\n",
       "   'TOTAL': 3.9647}}}"
      ]
     },
     "execution_count": 22,
     "metadata": {},
     "output_type": "execute_result"
    }
   ],
   "source": [
    "approaches(\"potion of speed\")"
   ]
  },
  {
   "cell_type": "code",
   "execution_count": 23,
   "id": "5a14ec53-997c-41df-8d89-4c8c81e3426c",
   "metadata": {},
   "outputs": [
    {
     "data": {
      "text/plain": [
       "{'id': 41595,\n",
       " 'name': 'spellweave',\n",
       " 'num_auctions': 16,\n",
       " 'quantity': 16,\n",
       " 'weight_sell': 198.18715,\n",
       " 'avg_sell': 198.18715,\n",
       " 'max': 199.9999,\n",
       " 'p80': 197.9998,\n",
       " 'p50': 197.9997,\n",
       " 'p20': 197.9995,\n",
       " 'wp80': 197.9998,\n",
       " 'wp50': 197.9997,\n",
       " 'wp20': 197.9995,\n",
       " 'min': 197.9993,\n",
       " 'realm_market_value': 154.8928,\n",
       " 'realm_historical': 170.9999,\n",
       " 'region_historical': 109.9998,\n",
       " 'region_avg_sale_price': 79.8551,\n",
       " 'sale_pct': 58.0,\n",
       " 'sold_per_day': 189,\n",
       " 'headroom': 309,\n",
       " 'market_skew_pct': -9.42,\n",
       " 'auction_skew_pct': -99.99}"
      ]
     },
     "execution_count": 23,
     "metadata": {},
     "output_type": "execute_result"
    }
   ],
   "source": [
    "item_info(item_name=\"spellweave\")"
   ]
  },
  {
   "cell_type": "code",
   "execution_count": 24,
   "id": "a7052301-fd00-4f93-bca3-308bd3d5bdbf",
   "metadata": {},
   "outputs": [
    {
     "data": {
      "text/plain": [
       "{'id': 41511,\n",
       " 'name': 'bolt of imbued frostweave',\n",
       " 'num_auctions': 30,\n",
       " 'quantity': 49,\n",
       " 'weight_sell': 131.74813469387757,\n",
       " 'avg_sell': 24.556553333333333,\n",
       " 'max': 300.998,\n",
       " 'p80': 15.0499,\n",
       " 'p50': 15.0499,\n",
       " 'p20': 15.0,\n",
       " 'wp80': 300.998,\n",
       " 'wp50': 15.0499,\n",
       " 'wp20': 15.0,\n",
       " 'min': 15.0,\n",
       " 'realm_market_value': 16.407,\n",
       " 'realm_historical': 15.254,\n",
       " 'region_historical': 12.4553,\n",
       " 'region_avg_sale_price': 7.8691,\n",
       " 'sale_pct': 45.3,\n",
       " 'sold_per_day': 367,\n",
       " 'headroom': 761,\n",
       " 'market_skew_pct': 7.56,\n",
       " 'auction_skew_pct': -99.99}"
      ]
     },
     "execution_count": 24,
     "metadata": {},
     "output_type": "execute_result"
    }
   ],
   "source": [
    "item_info(item_name=\"bolt of imbued frostweave\")"
   ]
  },
  {
   "cell_type": "code",
   "execution_count": 25,
   "id": "08da074c-34f0-41d2-a1f5-f39c06f6c182",
   "metadata": {},
   "outputs": [
    {
     "data": {
      "text/plain": [
       "{'id': 43102,\n",
       " 'name': 'frozen orb',\n",
       " 'num_auctions': 24,\n",
       " 'quantity': 34,\n",
       " 'weight_sell': 231.64608235294116,\n",
       " 'avg_sell': 100.6653,\n",
       " 'max': 700.0,\n",
       " 'p80': 70.9899,\n",
       " 'p50': 64.9998,\n",
       " 'p20': 62.0,\n",
       " 'wp80': 700.0,\n",
       " 'wp50': 70.9899,\n",
       " 'wp20': 63.0,\n",
       " 'min': 60.0,\n",
       " 'realm_market_value': 70.9495,\n",
       " 'realm_historical': 70.9997,\n",
       " 'region_historical': 67.0017,\n",
       " 'region_avg_sale_price': 58.6907,\n",
       " 'sale_pct': 84.2,\n",
       " 'sold_per_day': 514,\n",
       " 'headroom': 576,\n",
       " 'market_skew_pct': -0.07,\n",
       " 'auction_skew_pct': -99.99}"
      ]
     },
     "execution_count": 25,
     "metadata": {},
     "output_type": "execute_result"
    }
   ],
   "source": [
    "item_info(item_name=\"frozen orb\")"
   ]
  },
  {
   "cell_type": "code",
   "execution_count": null,
   "id": "54215d1f-3f22-4c20-ba4d-6c6b95d6f882",
   "metadata": {},
   "outputs": [],
   "source": []
  }
 ],
 "metadata": {
  "kernelspec": {
   "display_name": "Python 3",
   "language": "python",
   "name": "python3"
  },
  "language_info": {
   "codemirror_mode": {
    "name": "ipython",
    "version": 3
   },
   "file_extension": ".py",
   "mimetype": "text/x-python",
   "name": "python",
   "nbconvert_exporter": "python",
   "pygments_lexer": "ipython3",
   "version": "3.8.8"
  }
 },
 "nbformat": 4,
 "nbformat_minor": 5
}
